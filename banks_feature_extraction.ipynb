{
  "nbformat": 4,
  "nbformat_minor": 0,
  "metadata": {
    "kernelspec": {
      "display_name": "Python 3",
      "language": "python",
      "name": "python3"
    },
    "language_info": {
      "codemirror_mode": {
        "name": "ipython",
        "version": 3
      },
      "file_extension": ".py",
      "mimetype": "text/x-python",
      "name": "python",
      "nbconvert_exporter": "python",
      "pygments_lexer": "ipython3",
      "version": "3.6.9"
    },
    "colab": {
      "name": "banks_feature_extraction",
      "provenance": [],
      "collapsed_sections": []
    }
  },
  "cells": [
    {
      "cell_type": "markdown",
      "metadata": {
        "id": "ofea3mnXy_OQ"
      },
      "source": [
        "Ниже выписаны мои наблюдения для твитов. Ниже произведена попытка их имплементировать.\n",
        "* повы вклад дает +\n",
        "* повы ипотек дает -\n",
        "* повы кредит дает -\n",
        "* сни ипотек дает +\n",
        "* сни кредит дает +\n",
        "* санкц дает -\n",
        "* города дают 0\n",
        "* конструкция \"как (можно/легко) (взять/узнать/получить/оформить)\" дает 0\n",
        "* http://... - idf высокий. значит надо исключить слова с оригинальной частью ссылки. можно оставить http, оно указывает на 0\n",
        "* пунктуация, ники пользователей, стоп слова и цифры дают достаточно высокий idf, их исключаем, они не оказывают влияние на тональность"
      ]
    },
    {
      "cell_type": "markdown",
      "metadata": {
        "id": "hyZq6zun5Lyl"
      },
      "source": [
        "План разбивается на следующие этапы:\n",
        "1.   Загрузить корпус\n",
        "2.   Во время загрузки избавиться от ссылок, пунктуации, чисел и ников + стоп-слов\n",
        "3. Для устранения омонимии провести лемматизацию с помощью spacy\n",
        "4. Написать функцию, определяющую наличие городов в твите (куда вставить?)\n",
        "5. Проверить точность выделения признаков с помощью метрики Хи-квадрат\n",
        "\n"
      ]
    },
    {
      "cell_type": "markdown",
      "metadata": {
        "id": "uvyBofOw0Qb-"
      },
      "source": [
        "\n",
        "\n",
        "---\n",
        "\n",
        "\n",
        "\n",
        "---\n",
        "\n"
      ]
    },
    {
      "cell_type": "code",
      "metadata": {
        "id": "fclRK319Lj8p",
        "colab": {
          "base_uri": "https://localhost:8080/"
        },
        "collapsed": true,
        "outputId": "17dcb203-8392-4384-8219-0955413860d4"
      },
      "source": [
        "from google.colab import drive\n",
        "drive.mount('/content/drive')"
      ],
      "execution_count": 104,
      "outputs": [
        {
          "output_type": "stream",
          "name": "stdout",
          "text": [
            "Drive already mounted at /content/drive; to attempt to forcibly remount, call drive.mount(\"/content/drive\", force_remount=True).\n"
          ]
        }
      ]
    },
    {
      "cell_type": "code",
      "metadata": {
        "id": "wMbvvFkg7iCJ"
      },
      "source": [
        "from lxml import etree"
      ],
      "execution_count": 105,
      "outputs": []
    },
    {
      "cell_type": "code",
      "metadata": {
        "id": "Tq3bY8e77iC_"
      },
      "source": [
        "from typing import List, Tuple"
      ],
      "execution_count": 106,
      "outputs": []
    },
    {
      "cell_type": "code",
      "metadata": {
        "id": "GrphPQuELSYe"
      },
      "source": [
        "import string, re"
      ],
      "execution_count": 107,
      "outputs": []
    },
    {
      "cell_type": "code",
      "metadata": {
        "id": "8Qnfm2I3PbKS",
        "colab": {
          "base_uri": "https://localhost:8080/",
          "height": 938
        },
        "collapsed": true,
        "outputId": "fcecd57a-c9f8-47c9-89e7-47c25309ccfa"
      },
      "source": [
        "%pip install spacy-udpipe"
      ],
      "execution_count": 108,
      "outputs": [
        {
          "output_type": "stream",
          "name": "stdout",
          "text": [
            "Requirement already satisfied: spacy-udpipe in /usr/local/lib/python3.7/dist-packages (1.0.0)\n",
            "Requirement already satisfied: spacy<4.0.0,>=3.0.0 in /usr/local/lib/python3.7/dist-packages (from spacy-udpipe) (3.1.3)\n",
            "Requirement already satisfied: ufal.udpipe>=1.2.0 in /usr/local/lib/python3.7/dist-packages (from spacy-udpipe) (1.2.0.3)\n",
            "Requirement already satisfied: wasabi<1.1.0,>=0.8.1 in /usr/local/lib/python3.7/dist-packages (from spacy<4.0.0,>=3.0.0->spacy-udpipe) (0.8.2)\n",
            "Requirement already satisfied: jinja2 in /usr/local/lib/python3.7/dist-packages (from spacy<4.0.0,>=3.0.0->spacy-udpipe) (2.11.3)\n",
            "Collecting pydantic!=1.8,!=1.8.1,<1.9.0,>=1.7.4\n",
            "  Using cached pydantic-1.8.2-cp37-cp37m-manylinux2014_x86_64.whl (10.1 MB)\n",
            "Requirement already satisfied: preshed<3.1.0,>=3.0.2 in /usr/local/lib/python3.7/dist-packages (from spacy<4.0.0,>=3.0.0->spacy-udpipe) (3.0.5)\n",
            "Requirement already satisfied: numpy>=1.15.0 in /usr/local/lib/python3.7/dist-packages (from spacy<4.0.0,>=3.0.0->spacy-udpipe) (1.19.5)\n",
            "Requirement already satisfied: cymem<2.1.0,>=2.0.2 in /usr/local/lib/python3.7/dist-packages (from spacy<4.0.0,>=3.0.0->spacy-udpipe) (2.0.5)\n",
            "Requirement already satisfied: catalogue<2.1.0,>=2.0.6 in /usr/local/lib/python3.7/dist-packages (from spacy<4.0.0,>=3.0.0->spacy-udpipe) (2.0.6)\n",
            "Requirement already satisfied: murmurhash<1.1.0,>=0.28.0 in /usr/local/lib/python3.7/dist-packages (from spacy<4.0.0,>=3.0.0->spacy-udpipe) (1.0.5)\n",
            "Requirement already satisfied: requests<3.0.0,>=2.13.0 in /usr/local/lib/python3.7/dist-packages (from spacy<4.0.0,>=3.0.0->spacy-udpipe) (2.23.0)\n",
            "Requirement already satisfied: tqdm<5.0.0,>=4.38.0 in /usr/local/lib/python3.7/dist-packages (from spacy<4.0.0,>=3.0.0->spacy-udpipe) (4.62.3)\n",
            "Requirement already satisfied: setuptools in /usr/local/lib/python3.7/dist-packages (from spacy<4.0.0,>=3.0.0->spacy-udpipe) (57.4.0)\n",
            "Requirement already satisfied: thinc<8.1.0,>=8.0.9 in /usr/local/lib/python3.7/dist-packages (from spacy<4.0.0,>=3.0.0->spacy-udpipe) (8.0.10)\n",
            "Requirement already satisfied: packaging>=20.0 in /usr/local/lib/python3.7/dist-packages (from spacy<4.0.0,>=3.0.0->spacy-udpipe) (21.0)\n",
            "Requirement already satisfied: blis<0.8.0,>=0.4.0 in /usr/local/lib/python3.7/dist-packages (from spacy<4.0.0,>=3.0.0->spacy-udpipe) (0.4.1)\n",
            "Requirement already satisfied: srsly<3.0.0,>=2.4.1 in /usr/local/lib/python3.7/dist-packages (from spacy<4.0.0,>=3.0.0->spacy-udpipe) (2.4.1)\n",
            "Requirement already satisfied: spacy-legacy<3.1.0,>=3.0.8 in /usr/local/lib/python3.7/dist-packages (from spacy<4.0.0,>=3.0.0->spacy-udpipe) (3.0.8)\n",
            "Collecting typer<0.5.0,>=0.3.0\n",
            "  Using cached typer-0.4.0-py3-none-any.whl (27 kB)\n",
            "Requirement already satisfied: pathy>=0.3.5 in /usr/local/lib/python3.7/dist-packages (from spacy<4.0.0,>=3.0.0->spacy-udpipe) (0.6.0)\n",
            "Requirement already satisfied: typing-extensions<4.0.0.0,>=3.7.4 in /usr/local/lib/python3.7/dist-packages (from spacy<4.0.0,>=3.0.0->spacy-udpipe) (3.7.4.3)\n",
            "Requirement already satisfied: zipp>=0.5 in /usr/local/lib/python3.7/dist-packages (from catalogue<2.1.0,>=2.0.6->spacy<4.0.0,>=3.0.0->spacy-udpipe) (3.6.0)\n",
            "Requirement already satisfied: pyparsing>=2.0.2 in /usr/local/lib/python3.7/dist-packages (from packaging>=20.0->spacy<4.0.0,>=3.0.0->spacy-udpipe) (2.4.7)\n",
            "Requirement already satisfied: smart-open<6.0.0,>=5.0.0 in /usr/local/lib/python3.7/dist-packages (from pathy>=0.3.5->spacy<4.0.0,>=3.0.0->spacy-udpipe) (5.2.1)\n",
            "Requirement already satisfied: chardet<4,>=3.0.2 in /usr/local/lib/python3.7/dist-packages (from requests<3.0.0,>=2.13.0->spacy<4.0.0,>=3.0.0->spacy-udpipe) (3.0.4)\n",
            "Requirement already satisfied: certifi>=2017.4.17 in /usr/local/lib/python3.7/dist-packages (from requests<3.0.0,>=2.13.0->spacy<4.0.0,>=3.0.0->spacy-udpipe) (2021.5.30)\n",
            "Requirement already satisfied: urllib3!=1.25.0,!=1.25.1,<1.26,>=1.21.1 in /usr/local/lib/python3.7/dist-packages (from requests<3.0.0,>=2.13.0->spacy<4.0.0,>=3.0.0->spacy-udpipe) (1.24.3)\n",
            "Requirement already satisfied: idna<3,>=2.5 in /usr/local/lib/python3.7/dist-packages (from requests<3.0.0,>=2.13.0->spacy<4.0.0,>=3.0.0->spacy-udpipe) (2.10)\n",
            "Requirement already satisfied: click<9.0.0,>=7.1.1 in /usr/local/lib/python3.7/dist-packages (from typer<0.5.0,>=0.3.0->spacy<4.0.0,>=3.0.0->spacy-udpipe) (7.1.2)\n",
            "Requirement already satisfied: MarkupSafe>=0.23 in /usr/local/lib/python3.7/dist-packages (from jinja2->spacy<4.0.0,>=3.0.0->spacy-udpipe) (2.0.1)\n",
            "Installing collected packages: typer, pydantic\n",
            "  Attempting uninstall: typer\n",
            "    Found existing installation: typer 0.2.1\n",
            "    Uninstalling typer-0.2.1:\n",
            "      Successfully uninstalled typer-0.2.1\n",
            "  Attempting uninstall: pydantic\n",
            "    Found existing installation: pydantic 1.4\n",
            "    Uninstalling pydantic-1.4:\n",
            "      Successfully uninstalled pydantic-1.4\n",
            "\u001b[31mERROR: pip's dependency resolver does not currently take into account all the packages that are installed. This behaviour is the source of the following dependency conflicts.\n",
            "toponym 0.5.1 requires pydantic==1.4, but you have pydantic 1.8.2 which is incompatible.\n",
            "toponym 0.5.1 requires typer==0.2.1, but you have typer 0.4.0 which is incompatible.\n",
            "flashgeotext 0.4.0 requires loguru<0.6.0,>=0.5.3, but you have loguru 0.4.1 which is incompatible.\u001b[0m\n",
            "Successfully installed pydantic-1.8.2 typer-0.4.0\n"
          ]
        },
        {
          "output_type": "display_data",
          "data": {
            "application/vnd.colab-display-data+json": {
              "pip_warning": {
                "packages": [
                  "pydantic"
                ]
              }
            }
          },
          "metadata": {}
        }
      ]
    },
    {
      "cell_type": "code",
      "metadata": {
        "id": "WR6R1g6uQaJM"
      },
      "source": [
        "import spacy_udpipe"
      ],
      "execution_count": 109,
      "outputs": []
    },
    {
      "cell_type": "code",
      "metadata": {
        "id": "qq_pmJ17V9aU",
        "colab": {
          "base_uri": "https://localhost:8080/"
        },
        "collapsed": true,
        "outputId": "6ebb0a28-b861-40e8-ecf8-b75d9be4208b"
      },
      "source": [
        "%pip install pymorphy2==0.8"
      ],
      "execution_count": 110,
      "outputs": [
        {
          "output_type": "stream",
          "name": "stdout",
          "text": [
            "Requirement already satisfied: pymorphy2==0.8 in /usr/local/lib/python3.7/dist-packages (0.8)\n",
            "Requirement already satisfied: dawg-python>=0.7 in /usr/local/lib/python3.7/dist-packages (from pymorphy2==0.8) (0.7.2)\n",
            "Requirement already satisfied: pymorphy2-dicts<3.0,>=2.4 in /usr/local/lib/python3.7/dist-packages (from pymorphy2==0.8) (2.4.393442.3710985)\n",
            "Requirement already satisfied: docopt>=0.6 in /usr/local/lib/python3.7/dist-packages (from pymorphy2==0.8) (0.6.2)\n"
          ]
        }
      ]
    },
    {
      "cell_type": "code",
      "metadata": {
        "id": "GwPO10FKQrBT",
        "colab": {
          "base_uri": "https://localhost:8080/"
        },
        "collapsed": true,
        "outputId": "04b54561-5dba-4fd3-f974-6a297989e10a"
      },
      "source": [
        "spacy_udpipe.download(\"ru-syntagrus\") \n",
        "nlp = spacy_udpipe.load(\"ru-syntagrus\")"
      ],
      "execution_count": 111,
      "outputs": [
        {
          "output_type": "stream",
          "name": "stdout",
          "text": [
            "Already downloaded a model for the 'ru-syntagrus' language\n"
          ]
        }
      ]
    },
    {
      "cell_type": "markdown",
      "metadata": {
        "id": "Eo0iTeDquhT9"
      },
      "source": [
        "\n",
        "\n",
        "---\n",
        "Функция для нахождения названий городов\n"
      ]
    },
    {
      "cell_type": "code",
      "metadata": {
        "colab": {
          "base_uri": "https://localhost:8080/",
          "height": 401
        },
        "collapsed": true,
        "id": "CJuxMuBca2ld",
        "outputId": "4ce9ca25-7c83-4b61-b9c8-578a5fe1f41d"
      },
      "source": [
        "%pip install flashgeotext"
      ],
      "execution_count": 112,
      "outputs": [
        {
          "output_type": "stream",
          "name": "stdout",
          "text": [
            "Requirement already satisfied: flashgeotext in /usr/local/lib/python3.7/dist-packages (0.4.0)\n",
            "Collecting loguru<0.6.0,>=0.5.3\n",
            "  Using cached loguru-0.5.3-py3-none-any.whl (57 kB)\n",
            "Requirement already satisfied: flashtext<3.0,>=2.7 in /usr/local/lib/python3.7/dist-packages (from flashgeotext) (2.7)\n",
            "Requirement already satisfied: pydantic<2.0,>=1.8 in /usr/local/lib/python3.7/dist-packages (from flashgeotext) (1.8.2)\n",
            "Requirement already satisfied: typing-extensions>=3.7.4.3 in /usr/local/lib/python3.7/dist-packages (from pydantic<2.0,>=1.8->flashgeotext) (3.7.4.3)\n",
            "Installing collected packages: loguru\n",
            "  Attempting uninstall: loguru\n",
            "    Found existing installation: loguru 0.4.1\n",
            "    Uninstalling loguru-0.4.1:\n",
            "      Successfully uninstalled loguru-0.4.1\n",
            "\u001b[31mERROR: pip's dependency resolver does not currently take into account all the packages that are installed. This behaviour is the source of the following dependency conflicts.\n",
            "toponym 0.5.1 requires loguru==0.4.1, but you have loguru 0.5.3 which is incompatible.\n",
            "toponym 0.5.1 requires pydantic==1.4, but you have pydantic 1.8.2 which is incompatible.\n",
            "toponym 0.5.1 requires typer==0.2.1, but you have typer 0.4.0 which is incompatible.\u001b[0m\n",
            "Successfully installed loguru-0.5.3\n"
          ]
        },
        {
          "output_type": "display_data",
          "data": {
            "application/vnd.colab-display-data+json": {
              "pip_warning": {
                "packages": [
                  "loguru"
                ]
              }
            }
          },
          "metadata": {}
        }
      ]
    },
    {
      "cell_type": "code",
      "metadata": {
        "id": "cN5FYaada-5b"
      },
      "source": [
        "import flashgeotext"
      ],
      "execution_count": 113,
      "outputs": []
    },
    {
      "cell_type": "code",
      "metadata": {
        "id": "52yj0PTNfhmj"
      },
      "source": [
        "import json"
      ],
      "execution_count": 114,
      "outputs": []
    },
    {
      "cell_type": "code",
      "metadata": {
        "colab": {
          "base_uri": "https://localhost:8080/",
          "height": 643
        },
        "collapsed": true,
        "id": "boexukYkpEt0",
        "outputId": "89249920-c49a-4e53-cb61-4876581befdf"
      },
      "source": [
        "%pip install toponym"
      ],
      "execution_count": 115,
      "outputs": [
        {
          "output_type": "stream",
          "name": "stdout",
          "text": [
            "Requirement already satisfied: toponym in /usr/local/lib/python3.7/dist-packages (0.5.1)\n",
            "Collecting loguru==0.4.1\n",
            "  Using cached loguru-0.4.1-py3-none-any.whl (54 kB)\n",
            "Collecting pydantic==1.4\n",
            "  Using cached pydantic-1.4-cp37-cp37m-manylinux2010_x86_64.whl (7.5 MB)\n",
            "Requirement already satisfied: safer==2.0.5 in /usr/local/lib/python3.7/dist-packages (from toponym) (2.0.5)\n",
            "Collecting typer==0.2.1\n",
            "  Using cached typer-0.2.1-py3-none-any.whl (20 kB)\n",
            "Requirement already satisfied: click<7.2.0,>=7.1.1 in /usr/local/lib/python3.7/dist-packages (from typer==0.2.1->toponym) (7.1.2)\n",
            "Installing collected packages: typer, pydantic, loguru\n",
            "  Attempting uninstall: typer\n",
            "    Found existing installation: typer 0.4.0\n",
            "    Uninstalling typer-0.4.0:\n",
            "      Successfully uninstalled typer-0.4.0\n",
            "  Attempting uninstall: pydantic\n",
            "    Found existing installation: pydantic 1.8.2\n",
            "    Uninstalling pydantic-1.8.2:\n",
            "      Successfully uninstalled pydantic-1.8.2\n",
            "  Attempting uninstall: loguru\n",
            "    Found existing installation: loguru 0.5.3\n",
            "    Uninstalling loguru-0.5.3:\n",
            "      Successfully uninstalled loguru-0.5.3\n",
            "\u001b[31mERROR: pip's dependency resolver does not currently take into account all the packages that are installed. This behaviour is the source of the following dependency conflicts.\n",
            "thinc 8.0.10 requires pydantic!=1.8,!=1.8.1,<1.9.0,>=1.7.4, but you have pydantic 1.4 which is incompatible.\n",
            "spacy 3.1.3 requires pydantic!=1.8,!=1.8.1,<1.9.0,>=1.7.4, but you have pydantic 1.4 which is incompatible.\n",
            "spacy 3.1.3 requires typer<0.5.0,>=0.3.0, but you have typer 0.2.1 which is incompatible.\n",
            "pathy 0.6.0 requires typer<1.0.0,>=0.3.0, but you have typer 0.2.1 which is incompatible.\n",
            "flashgeotext 0.4.0 requires loguru<0.6.0,>=0.5.3, but you have loguru 0.4.1 which is incompatible.\n",
            "flashgeotext 0.4.0 requires pydantic<2.0,>=1.8, but you have pydantic 1.4 which is incompatible.\u001b[0m\n",
            "Successfully installed loguru-0.4.1 pydantic-1.4 typer-0.2.1\n"
          ]
        },
        {
          "output_type": "display_data",
          "data": {
            "application/vnd.colab-display-data+json": {
              "pip_warning": {
                "packages": [
                  "loguru",
                  "pydantic"
                ]
              }
            }
          },
          "metadata": {}
        }
      ]
    },
    {
      "cell_type": "code",
      "metadata": {
        "id": "_yrCz29CpBIq"
      },
      "source": [
        "from toponym.recipes import Recipes\n",
        "from toponym.toponym import Toponym\n",
        "recipes = Recipes()\n",
        "recipes.load_from_language(language=\"russian\")"
      ],
      "execution_count": 116,
      "outputs": []
    },
    {
      "cell_type": "code",
      "metadata": {
        "colab": {
          "base_uri": "https://localhost:8080/"
        },
        "collapsed": true,
        "id": "gS7GKdbcf1zF",
        "outputId": "511202f6-1120-452c-c600-7d7bd094ef81"
      },
      "source": [
        "list_of_cities = []\n",
        "with open('/content/drive/MyDrive/Colab Notebooks/russian-cities.json', 'r', encoding=\"utf8\") as f:\n",
        "    data = json.load(f)\n",
        "    for num in range(len(data)):\n",
        "      list_of_cities.append(data[num]['name'])\n",
        "\n",
        "dict_of_cities = dict()\n",
        "for city in list_of_cities:\n",
        "    t = Toponym(input_word=city, recipes=recipes)\n",
        "    t.build()\n",
        "    t_low = Toponym(input_word=city.lower(), recipes=recipes)\n",
        "    t_low.build()\n",
        "    both = t_low.list_toponyms() + t.list_toponyms()\n",
        "    dict_of_cities[city] = both\n",
        "print(dict_of_cities)"
      ],
      "execution_count": 117,
      "outputs": [
        {
          "output_type": "stream",
          "name": "stderr",
          "text": [
            "2021-10-06 07:22:36.413 | WARNING  | toponym.recipes:__getitem__:30 - No word_ending found. Using _default\n",
            "2021-10-06 07:22:36.416 | WARNING  | toponym.recipes:__getitem__:30 - No word_ending found. Using _default\n",
            "2021-10-06 07:22:36.427 | WARNING  | toponym.recipes:__getitem__:30 - No word_ending found. Using _default\n",
            "2021-10-06 07:22:36.429 | WARNING  | toponym.recipes:__getitem__:30 - No word_ending found. Using _default\n",
            "2021-10-06 07:22:36.447 | WARNING  | toponym.recipes:__getitem__:30 - No word_ending found. Using _default\n",
            "2021-10-06 07:22:36.449 | WARNING  | toponym.recipes:__getitem__:30 - No word_ending found. Using _default\n",
            "2021-10-06 07:22:36.463 | WARNING  | toponym.recipes:__getitem__:30 - No word_ending found. Using _default\n",
            "2021-10-06 07:22:36.465 | WARNING  | toponym.recipes:__getitem__:30 - No word_ending found. Using _default\n",
            "2021-10-06 07:22:36.469 | WARNING  | toponym.recipes:__getitem__:30 - No word_ending found. Using _default\n",
            "2021-10-06 07:22:36.470 | WARNING  | toponym.recipes:__getitem__:30 - No word_ending found. Using _default\n",
            "2021-10-06 07:22:36.478 | WARNING  | toponym.recipes:__getitem__:30 - No word_ending found. Using _default\n",
            "2021-10-06 07:22:36.480 | WARNING  | toponym.recipes:__getitem__:30 - No word_ending found. Using _default\n",
            "2021-10-06 07:22:36.483 | WARNING  | toponym.recipes:__getitem__:30 - No word_ending found. Using _default\n",
            "2021-10-06 07:22:36.485 | WARNING  | toponym.recipes:__getitem__:30 - No word_ending found. Using _default\n",
            "2021-10-06 07:22:36.519 | WARNING  | toponym.recipes:__getitem__:30 - No word_ending found. Using _default\n",
            "2021-10-06 07:22:36.523 | WARNING  | toponym.recipes:__getitem__:30 - No word_ending found. Using _default\n",
            "2021-10-06 07:22:36.527 | WARNING  | toponym.recipes:__getitem__:30 - No word_ending found. Using _default\n",
            "2021-10-06 07:22:36.529 | WARNING  | toponym.recipes:__getitem__:30 - No word_ending found. Using _default\n",
            "2021-10-06 07:22:36.556 | WARNING  | toponym.recipes:__getitem__:30 - No word_ending found. Using _default\n",
            "2021-10-06 07:22:36.559 | WARNING  | toponym.recipes:__getitem__:30 - No word_ending found. Using _default\n",
            "2021-10-06 07:22:36.565 | WARNING  | toponym.recipes:__getitem__:30 - No word_ending found. Using _default\n",
            "2021-10-06 07:22:36.568 | WARNING  | toponym.recipes:__getitem__:30 - No word_ending found. Using _default\n",
            "2021-10-06 07:22:36.574 | WARNING  | toponym.recipes:__getitem__:30 - No word_ending found. Using _default\n",
            "2021-10-06 07:22:36.578 | WARNING  | toponym.recipes:__getitem__:30 - No word_ending found. Using _default\n",
            "2021-10-06 07:22:36.590 | WARNING  | toponym.recipes:__getitem__:30 - No word_ending found. Using _default\n",
            "2021-10-06 07:22:36.592 | WARNING  | toponym.recipes:__getitem__:30 - No word_ending found. Using _default\n",
            "2021-10-06 07:22:36.608 | WARNING  | toponym.recipes:__getitem__:30 - No word_ending found. Using _default\n",
            "2021-10-06 07:22:36.609 | WARNING  | toponym.recipes:__getitem__:30 - No word_ending found. Using _default\n",
            "2021-10-06 07:22:36.633 | WARNING  | toponym.recipes:__getitem__:30 - No word_ending found. Using _default\n",
            "2021-10-06 07:22:36.635 | WARNING  | toponym.recipes:__getitem__:30 - No word_ending found. Using _default\n",
            "2021-10-06 07:22:36.646 | WARNING  | toponym.recipes:__getitem__:30 - No word_ending found. Using _default\n",
            "2021-10-06 07:22:36.649 | WARNING  | toponym.recipes:__getitem__:30 - No word_ending found. Using _default\n",
            "2021-10-06 07:22:36.658 | WARNING  | toponym.recipes:__getitem__:30 - No word_ending found. Using _default\n",
            "2021-10-06 07:22:36.660 | WARNING  | toponym.recipes:__getitem__:30 - No word_ending found. Using _default\n",
            "2021-10-06 07:22:36.663 | WARNING  | toponym.recipes:__getitem__:30 - No word_ending found. Using _default\n",
            "2021-10-06 07:22:36.665 | WARNING  | toponym.recipes:__getitem__:30 - No word_ending found. Using _default\n",
            "2021-10-06 07:22:36.676 | WARNING  | toponym.recipes:__getitem__:30 - No word_ending found. Using _default\n",
            "2021-10-06 07:22:36.679 | WARNING  | toponym.recipes:__getitem__:30 - No word_ending found. Using _default\n",
            "2021-10-06 07:22:36.685 | WARNING  | toponym.recipes:__getitem__:30 - No word_ending found. Using _default\n",
            "2021-10-06 07:22:36.688 | WARNING  | toponym.recipes:__getitem__:30 - No word_ending found. Using _default\n",
            "2021-10-06 07:22:36.696 | WARNING  | toponym.recipes:__getitem__:30 - No word_ending found. Using _default\n",
            "2021-10-06 07:22:36.698 | WARNING  | toponym.recipes:__getitem__:30 - No word_ending found. Using _default\n",
            "2021-10-06 07:22:36.718 | WARNING  | toponym.recipes:__getitem__:30 - No word_ending found. Using _default\n",
            "2021-10-06 07:22:36.720 | WARNING  | toponym.recipes:__getitem__:30 - No word_ending found. Using _default\n",
            "2021-10-06 07:22:36.739 | WARNING  | toponym.recipes:__getitem__:30 - No word_ending found. Using _default\n",
            "2021-10-06 07:22:36.741 | WARNING  | toponym.recipes:__getitem__:30 - No word_ending found. Using _default\n",
            "2021-10-06 07:22:36.748 | WARNING  | toponym.recipes:__getitem__:30 - No word_ending found. Using _default\n",
            "2021-10-06 07:22:36.750 | WARNING  | toponym.recipes:__getitem__:30 - No word_ending found. Using _default\n",
            "2021-10-06 07:22:36.753 | WARNING  | toponym.recipes:__getitem__:30 - No word_ending found. Using _default\n",
            "2021-10-06 07:22:36.756 | WARNING  | toponym.recipes:__getitem__:30 - No word_ending found. Using _default\n",
            "2021-10-06 07:22:36.767 | WARNING  | toponym.recipes:__getitem__:30 - No word_ending found. Using _default\n",
            "2021-10-06 07:22:36.769 | WARNING  | toponym.recipes:__getitem__:30 - No word_ending found. Using _default\n",
            "2021-10-06 07:22:36.777 | WARNING  | toponym.recipes:__getitem__:30 - No word_ending found. Using _default\n",
            "2021-10-06 07:22:36.779 | WARNING  | toponym.recipes:__getitem__:30 - No word_ending found. Using _default\n",
            "2021-10-06 07:22:36.783 | WARNING  | toponym.recipes:__getitem__:30 - No word_ending found. Using _default\n",
            "2021-10-06 07:22:36.786 | WARNING  | toponym.recipes:__getitem__:30 - No word_ending found. Using _default\n",
            "2021-10-06 07:22:36.789 | WARNING  | toponym.recipes:__getitem__:30 - No word_ending found. Using _default\n",
            "2021-10-06 07:22:36.791 | WARNING  | toponym.recipes:__getitem__:30 - No word_ending found. Using _default\n",
            "2021-10-06 07:22:36.803 | WARNING  | toponym.recipes:__getitem__:30 - No word_ending found. Using _default\n",
            "2021-10-06 07:22:36.806 | WARNING  | toponym.recipes:__getitem__:30 - No word_ending found. Using _default\n",
            "2021-10-06 07:22:36.811 | WARNING  | toponym.recipes:__getitem__:30 - No word_ending found. Using _default\n",
            "2021-10-06 07:22:36.814 | WARNING  | toponym.recipes:__getitem__:30 - No word_ending found. Using _default\n",
            "2021-10-06 07:22:36.829 | WARNING  | toponym.recipes:__getitem__:30 - No word_ending found. Using _default\n",
            "2021-10-06 07:22:36.832 | WARNING  | toponym.recipes:__getitem__:30 - No word_ending found. Using _default\n",
            "2021-10-06 07:22:36.839 | WARNING  | toponym.recipes:__getitem__:30 - No word_ending found. Using _default\n",
            "2021-10-06 07:22:36.841 | WARNING  | toponym.recipes:__getitem__:30 - No word_ending found. Using _default\n",
            "2021-10-06 07:22:36.853 | WARNING  | toponym.recipes:__getitem__:30 - No word_ending found. Using _default\n",
            "2021-10-06 07:22:36.856 | WARNING  | toponym.recipes:__getitem__:30 - No word_ending found. Using _default\n",
            "2021-10-06 07:22:36.861 | WARNING  | toponym.recipes:__getitem__:30 - No word_ending found. Using _default\n",
            "2021-10-06 07:22:36.863 | WARNING  | toponym.recipes:__getitem__:30 - No word_ending found. Using _default\n",
            "2021-10-06 07:22:36.866 | WARNING  | toponym.recipes:__getitem__:30 - No word_ending found. Using _default\n",
            "2021-10-06 07:22:36.868 | WARNING  | toponym.recipes:__getitem__:30 - No word_ending found. Using _default\n",
            "2021-10-06 07:22:36.872 | WARNING  | toponym.recipes:__getitem__:30 - No word_ending found. Using _default\n",
            "2021-10-06 07:22:36.875 | WARNING  | toponym.recipes:__getitem__:30 - No word_ending found. Using _default\n",
            "2021-10-06 07:22:36.878 | WARNING  | toponym.recipes:__getitem__:30 - No word_ending found. Using _default\n",
            "2021-10-06 07:22:36.881 | WARNING  | toponym.recipes:__getitem__:30 - No word_ending found. Using _default\n",
            "2021-10-06 07:22:36.894 | WARNING  | toponym.recipes:__getitem__:30 - No word_ending found. Using _default\n",
            "2021-10-06 07:22:36.897 | WARNING  | toponym.recipes:__getitem__:30 - No word_ending found. Using _default\n",
            "2021-10-06 07:22:36.906 | WARNING  | toponym.recipes:__getitem__:30 - No word_ending found. Using _default\n",
            "2021-10-06 07:22:36.909 | WARNING  | toponym.recipes:__getitem__:30 - No word_ending found. Using _default\n",
            "2021-10-06 07:22:36.928 | WARNING  | toponym.recipes:__getitem__:30 - No word_ending found. Using _default\n",
            "2021-10-06 07:22:36.930 | WARNING  | toponym.recipes:__getitem__:30 - No word_ending found. Using _default\n",
            "2021-10-06 07:22:36.944 | WARNING  | toponym.recipes:__getitem__:30 - No word_ending found. Using _default\n",
            "2021-10-06 07:22:36.947 | WARNING  | toponym.recipes:__getitem__:30 - No word_ending found. Using _default\n",
            "2021-10-06 07:22:36.959 | WARNING  | toponym.recipes:__getitem__:30 - No word_ending found. Using _default\n",
            "2021-10-06 07:22:36.960 | WARNING  | toponym.recipes:__getitem__:30 - No word_ending found. Using _default\n",
            "2021-10-06 07:22:36.976 | WARNING  | toponym.recipes:__getitem__:30 - No word_ending found. Using _default\n",
            "2021-10-06 07:22:36.978 | WARNING  | toponym.recipes:__getitem__:30 - No word_ending found. Using _default\n",
            "2021-10-06 07:22:36.981 | WARNING  | toponym.recipes:__getitem__:30 - No word_ending found. Using _default\n",
            "2021-10-06 07:22:36.983 | WARNING  | toponym.recipes:__getitem__:30 - No word_ending found. Using _default\n",
            "2021-10-06 07:22:36.995 | WARNING  | toponym.recipes:__getitem__:30 - No word_ending found. Using _default\n",
            "2021-10-06 07:22:36.997 | WARNING  | toponym.recipes:__getitem__:30 - No word_ending found. Using _default\n",
            "2021-10-06 07:22:37.004 | WARNING  | toponym.recipes:__getitem__:30 - No word_ending found. Using _default\n",
            "2021-10-06 07:22:37.007 | WARNING  | toponym.recipes:__getitem__:30 - No word_ending found. Using _default\n",
            "2021-10-06 07:22:37.023 | WARNING  | toponym.recipes:__getitem__:30 - No word_ending found. Using _default\n",
            "2021-10-06 07:22:37.025 | WARNING  | toponym.recipes:__getitem__:30 - No word_ending found. Using _default\n",
            "2021-10-06 07:22:37.028 | WARNING  | toponym.recipes:__getitem__:30 - No word_ending found. Using _default\n",
            "2021-10-06 07:22:37.032 | WARNING  | toponym.recipes:__getitem__:30 - No word_ending found. Using _default\n",
            "2021-10-06 07:22:37.046 | WARNING  | toponym.recipes:__getitem__:30 - No word_ending found. Using _default\n",
            "2021-10-06 07:22:37.048 | WARNING  | toponym.recipes:__getitem__:30 - No word_ending found. Using _default\n",
            "2021-10-06 07:22:37.066 | WARNING  | toponym.recipes:__getitem__:30 - No word_ending found. Using _default\n",
            "2021-10-06 07:22:37.068 | WARNING  | toponym.recipes:__getitem__:30 - No word_ending found. Using _default\n",
            "2021-10-06 07:22:37.077 | WARNING  | toponym.recipes:__getitem__:30 - No word_ending found. Using _default\n",
            "2021-10-06 07:22:37.079 | WARNING  | toponym.recipes:__getitem__:30 - No word_ending found. Using _default\n",
            "2021-10-06 07:22:37.082 | WARNING  | toponym.recipes:__getitem__:30 - No word_ending found. Using _default\n",
            "2021-10-06 07:22:37.086 | WARNING  | toponym.recipes:__getitem__:30 - No word_ending found. Using _default\n",
            "2021-10-06 07:22:37.098 | WARNING  | toponym.recipes:__getitem__:30 - No word_ending found. Using _default\n",
            "2021-10-06 07:22:37.100 | WARNING  | toponym.recipes:__getitem__:30 - No word_ending found. Using _default\n",
            "2021-10-06 07:22:37.115 | WARNING  | toponym.recipes:__getitem__:30 - No word_ending found. Using _default\n",
            "2021-10-06 07:22:37.117 | WARNING  | toponym.recipes:__getitem__:30 - No word_ending found. Using _default\n",
            "2021-10-06 07:22:37.122 | WARNING  | toponym.recipes:__getitem__:30 - No word_ending found. Using _default\n",
            "2021-10-06 07:22:37.125 | WARNING  | toponym.recipes:__getitem__:30 - No word_ending found. Using _default\n",
            "2021-10-06 07:22:37.138 | WARNING  | toponym.recipes:__getitem__:30 - No word_ending found. Using _default\n",
            "2021-10-06 07:22:37.142 | WARNING  | toponym.recipes:__getitem__:30 - No word_ending found. Using _default\n",
            "2021-10-06 07:22:37.147 | WARNING  | toponym.recipes:__getitem__:30 - No word_ending found. Using _default\n",
            "2021-10-06 07:22:37.149 | WARNING  | toponym.recipes:__getitem__:30 - No word_ending found. Using _default\n",
            "2021-10-06 07:22:37.172 | WARNING  | toponym.recipes:__getitem__:30 - No word_ending found. Using _default\n",
            "2021-10-06 07:22:37.174 | WARNING  | toponym.recipes:__getitem__:30 - No word_ending found. Using _default\n",
            "2021-10-06 07:22:37.182 | WARNING  | toponym.recipes:__getitem__:30 - No word_ending found. Using _default\n",
            "2021-10-06 07:22:37.184 | WARNING  | toponym.recipes:__getitem__:30 - No word_ending found. Using _default\n",
            "2021-10-06 07:22:37.186 | WARNING  | toponym.recipes:__getitem__:30 - No word_ending found. Using _default\n",
            "2021-10-06 07:22:37.189 | WARNING  | toponym.recipes:__getitem__:30 - No word_ending found. Using _default\n",
            "2021-10-06 07:22:37.196 | WARNING  | toponym.recipes:__getitem__:30 - No word_ending found. Using _default\n",
            "2021-10-06 07:22:37.199 | WARNING  | toponym.recipes:__getitem__:30 - No word_ending found. Using _default\n",
            "2021-10-06 07:22:37.210 | WARNING  | toponym.recipes:__getitem__:30 - No word_ending found. Using _default\n",
            "2021-10-06 07:22:37.215 | WARNING  | toponym.recipes:__getitem__:30 - No word_ending found. Using _default\n",
            "2021-10-06 07:22:37.227 | WARNING  | toponym.recipes:__getitem__:30 - No word_ending found. Using _default\n",
            "2021-10-06 07:22:37.229 | WARNING  | toponym.recipes:__getitem__:30 - No word_ending found. Using _default\n",
            "2021-10-06 07:22:37.239 | WARNING  | toponym.recipes:__getitem__:30 - No word_ending found. Using _default\n",
            "2021-10-06 07:22:37.240 | WARNING  | toponym.recipes:__getitem__:30 - No word_ending found. Using _default\n",
            "2021-10-06 07:22:37.254 | WARNING  | toponym.recipes:__getitem__:30 - No word_ending found. Using _default\n",
            "2021-10-06 07:22:37.257 | WARNING  | toponym.recipes:__getitem__:30 - No word_ending found. Using _default\n",
            "2021-10-06 07:22:37.262 | WARNING  | toponym.recipes:__getitem__:30 - No word_ending found. Using _default\n",
            "2021-10-06 07:22:37.264 | WARNING  | toponym.recipes:__getitem__:30 - No word_ending found. Using _default\n",
            "2021-10-06 07:22:37.272 | WARNING  | toponym.recipes:__getitem__:30 - No word_ending found. Using _default\n",
            "2021-10-06 07:22:37.274 | WARNING  | toponym.recipes:__getitem__:30 - No word_ending found. Using _default\n",
            "2021-10-06 07:22:37.286 | WARNING  | toponym.recipes:__getitem__:30 - No word_ending found. Using _default\n",
            "2021-10-06 07:22:37.289 | WARNING  | toponym.recipes:__getitem__:30 - No word_ending found. Using _default\n",
            "2021-10-06 07:22:37.296 | WARNING  | toponym.recipes:__getitem__:30 - No word_ending found. Using _default\n",
            "2021-10-06 07:22:37.297 | WARNING  | toponym.recipes:__getitem__:30 - No word_ending found. Using _default\n",
            "2021-10-06 07:22:37.302 | WARNING  | toponym.recipes:__getitem__:30 - No word_ending found. Using _default\n",
            "2021-10-06 07:22:37.304 | WARNING  | toponym.recipes:__getitem__:30 - No word_ending found. Using _default\n",
            "2021-10-06 07:22:37.309 | WARNING  | toponym.recipes:__getitem__:30 - No word_ending found. Using _default\n",
            "2021-10-06 07:22:37.315 | WARNING  | toponym.recipes:__getitem__:30 - No word_ending found. Using _default\n",
            "2021-10-06 07:22:37.323 | WARNING  | toponym.recipes:__getitem__:30 - No word_ending found. Using _default\n",
            "2021-10-06 07:22:37.330 | WARNING  | toponym.recipes:__getitem__:30 - No word_ending found. Using _default\n"
          ]
        },
        {
          "output_type": "stream",
          "name": "stdout",
          "text": [
            "{'Абаза': ['абаза', 'абазой', 'абазе', 'абази', 'абазы', 'абазу', 'Абазой', 'Абаза', 'Абазу', 'Абази', 'Абазы', 'Абазе'], 'Абакан': ['абаканю', 'абаканя', 'абакане', 'абакана', 'абакану', 'абаканом', 'абакан', 'абаканем', 'Абакану', 'Абаканем', 'Абакане', 'Абаканом', 'Абакан', 'Абакана', 'Абаканю', 'Абаканя'], 'Абдулино': ['абдулинем', 'абдулину', 'абдулиня', 'абдулине', 'абдулино', 'абдулином', 'абдулиню', 'абдулина', 'Абдулиню', 'Абдулину', 'Абдулина', 'Абдулино', 'Абдулином', 'Абдулине', 'Абдулинем', 'Абдулиня'], 'Абинск': ['абинскя', 'абинску', 'абинском', 'абинск', 'абинскю', 'абинскем', 'абинска', 'абинске', 'Абинска', 'Абинскя', 'Абинск', 'Абинском', 'Абинску', 'Абинске', 'Абинскем', 'Абинскю'], 'Агидель': ['агидель', 'агидели', 'агиделью', 'Агидель', 'Агиделью', 'Агидели'], 'Агрыз': ['агрыз', 'агрыза', 'агрызу', 'агрызем', 'агрызом', 'агрызю', 'агрызе', 'агрызя', 'Агрызя', 'Агрыз', 'Агрыза', 'Агрызем', 'Агрызю', 'Агрызе', 'Агрызу', 'Агрызом'], 'Адыгейск': ['адыгейске', 'адыгейскем', 'адыгейскю', 'адыгейску', 'адыгейск', 'адыгейскя', 'адыгейском', 'адыгейска', 'Адыгейска', 'Адыгейскем', 'Адыгейскю', 'Адыгейскя', 'Адыгейском', 'Адыгейску', 'Адыгейске', 'Адыгейск'], 'Азнакаево': ['азнакаеву', 'азнакаеве', 'азнакаевя', 'азнакаевю', 'азнакаева', 'азнакаевом', 'азнакаево', 'азнакаевем', 'Азнакаевом', 'Азнакаева', 'Азнакаевя', 'Азнакаеву', 'Азнакаево', 'Азнакаеве', 'Азнакаевю', 'Азнакаевем'], 'Азов': ['азов', 'азовем', 'азовю', 'азову', 'азовя', 'азове', 'азова', 'азовом', 'Азовя', 'Азову', 'Азова', 'Азовем', 'Азовю', 'Азове', 'Азов', 'Азовом'], 'Ак-Довурак': ['ак-довураку', 'ак-довурака', 'ак-довуракя', 'ак-довурак', 'ак-довуракем', 'ак-довураке', 'ак-довуракю', 'ак-довураком', 'Ак-Довураке', 'Ак-Довураку', 'Ак-Довураком', 'Ак-Довуракя', 'Ак-Довуракем', 'Ак-Довуракю', 'Ак-Довурак', 'Ак-Довурака'], 'Аксай': ['аксая', 'аксаом', 'аксай', 'аксае', 'аксаа', 'аксаю', 'аксаем', 'аксау', 'Аксая', 'Аксаем', 'Аксаом', 'Аксау', 'Аксай', 'Аксаю', 'Аксаа', 'Аксае'], 'Алагир': ['алагир', 'алагиром', 'алагире', 'алагиру', 'алагира', 'алагирем', 'алагирю', 'алагиря', 'Алагире', 'Алагиром', 'Алагиря', 'Алагир', 'Алагира', 'Алагирем', 'Алагиру', 'Алагирю'], 'Алапаевск': ['алапаевскем', 'алапаевске', 'алапаевском', 'алапаевскя', 'алапаевску', 'алапаевскю', 'алапаевск', 'алапаевска', 'Алапаевскя', 'Алапаевскю', 'Алапаевска', 'Алапаевском', 'Алапаевск', 'Алапаевскем', 'Алапаевске', 'Алапаевску'], 'Алатырь': ['алатырь', 'алатырью', 'алатыри', 'Алатырь', 'Алатыри', 'Алатырью'], 'Алдан': ['алданем', 'алданю', 'алдану', 'алданя', 'алдане', 'алдан', 'алданом', 'алдана', 'Алданом', 'Алданем', 'Алдан', 'Алданю', 'Алданя', 'Алдане', 'Алдану', 'Алдана'], 'Алейск': ['алейску', 'алейска', 'алейскю', 'алейском', 'алейскя', 'алейск', 'алейске', 'алейскем', 'Алейскем', 'Алейскю', 'Алейска', 'Алейском', 'Алейск', 'Алейскя', 'Алейске', 'Алейску'], 'Александров': ['александровом', 'александрове', 'александров', 'александрову', 'александровю', 'александрова', 'александровем', 'александровя', 'Александрова', 'Александрову', 'Александровом', 'Александрове', 'Александровю', 'Александровем', 'Александров', 'Александровя'], 'Александровск-Сахалинский': ['александровск-сахалинском', 'александровск-сахалинскего', 'александровск-сахалинского', 'александровск-сахалинским', 'александровск-сахалинскему', 'александровск-сахалинскем', 'александровск-сахалинской', 'александровск-сахалинскый', 'александровск-сахалинский', 'александровск-сахалинскым', 'александровск-сахалинскому', 'Александровск-Сахалинский', 'Александровск-Сахалинским', 'Александровск-Сахалинскому', 'Александровск-Сахалинскем', 'Александровск-Сахалинскым', 'Александровск-Сахалинской', 'Александровск-Сахалинскему', 'Александровск-Сахалинскый', 'Александровск-Сахалинского', 'Александровск-Сахалинском', 'Александровск-Сахалинскего'], 'Александровск': ['александровске', 'александровску', 'александровскя', 'александровск', 'александровскю', 'александровска', 'александровскем', 'александровском', 'Александровска', 'Александровску', 'Александровскю', 'Александровскя', 'Александровском', 'Александровске', 'Александровскем', 'Александровск'], 'Алексеевка': ['алексеевкы', 'алексеевка', 'алексеевкой', 'алексеевке', 'алексеевки', 'алексеевку', 'Алексеевкы', 'Алексеевки', 'Алексеевке', 'Алексеевку', 'Алексеевкой', 'Алексеевка'], 'Алексин': ['алексинем', 'алексин', 'алексином', 'алексиню', 'алексине', 'алексиня', 'алексина', 'алексину', 'Алексиню', 'Алексину', 'Алексина', 'Алексине', 'Алексиня', 'Алексин', 'Алексином', 'Алексинем'], 'Алзамай': ['алзамаю', 'алзамае', 'алзамаа', 'алзамай', 'алзамая', 'алзамаом', 'алзамаем', 'алзамау', 'Алзамау', 'Алзамай', 'Алзамая', 'Алзамаем', 'Алзамаа', 'Алзамаом', 'Алзамаю', 'Алзамае'], 'Алупка': ['алупке', 'алупкой', 'алупка', 'алупку', 'алупкы', 'алупки', 'Алупке', 'Алупка', 'Алупкой', 'Алупкы', 'Алупку', 'Алупки'], 'Алушта': ['алуште', 'алушты', 'алушта', 'алушту', 'алушти', 'алуштой', 'Алушты', 'Алуште', 'Алушти', 'Алуштой', 'Алушта', 'Алушту'], 'Альметьевск': ['альметьевскю', 'альметьевска', 'альметьевскя', 'альметьевске', 'альметьевск', 'альметьевску', 'альметьевском', 'альметьевскем', 'Альметьевскем', 'Альметьевском', 'Альметьевскю', 'Альметьевска', 'Альметьевскя', 'Альметьевск', 'Альметьевску', 'Альметьевске'], 'Амурск': ['амурск', 'амурска', 'амурске', 'амурскя', 'амурскю', 'амурскем', 'амурску', 'амурском', 'Амурскя', 'Амурскем', 'Амурскю', 'Амурску', 'Амурска', 'Амурском', 'Амурске', 'Амурск'], 'Анадырь': ['анадырь', 'анадырью', 'анадыри', 'Анадырью', 'Анадырь', 'Анадыри'], 'Анапа': ['анапы', 'анапу', 'анапе', 'анапи', 'анапой', 'анапа', 'Анапа', 'Анапи', 'Анапой', 'Анапу', 'Анапы', 'Анапе'], 'Ангарск': ['ангарском', 'ангарскем', 'ангарску', 'ангарскя', 'ангарск', 'ангарске', 'ангарскю', 'ангарска', 'Ангарскю', 'Ангарском', 'Ангарск', 'Ангарскя', 'Ангарскем', 'Ангарске', 'Ангарску', 'Ангарска'], 'Андреаполь': ['андреаполь', 'андреаполью', 'андреаполи', 'Андреаполью', 'Андреаполи', 'Андреаполь'], 'Анжеро-Судженск': ['анжеро-судженскю', 'анжеро-судженску', 'анжеро-судженск', 'анжеро-судженска', 'анжеро-судженскя', 'анжеро-судженском', 'анжеро-судженске', 'анжеро-судженскем', 'Анжеро-Судженскя', 'Анжеро-Судженском', 'Анжеро-Судженск', 'Анжеро-Судженску', 'Анжеро-Судженскю', 'Анжеро-Судженскем', 'Анжеро-Судженске', 'Анжеро-Судженска'], 'Анива': ['аниви', 'анивы', 'аниву', 'анивой', 'анива', 'аниве', 'Анива', 'Аниви', 'Анивы', 'Аниву', 'Анивой', 'Аниве'], 'Апатиты': ['апатиты', 'Апатиты'], 'Апрелевка': ['апрелевкой', 'апрелевка', 'апрелевкы', 'апрелевке', 'апрелевку', 'апрелевки', 'Апрелевке', 'Апрелевки', 'Апрелевкой', 'Апрелевкы', 'Апрелевку', 'Апрелевка'], 'Апшеронск': ['апшеронску', 'апшеронском', 'апшеронскем', 'апшеронска', 'апшеронск', 'апшеронскя', 'апшеронске', 'апшеронскю', 'Апшеронскем', 'Апшеронском', 'Апшеронску', 'Апшеронска', 'Апшеронск', 'Апшеронске', 'Апшеронскя', 'Апшеронскю'], 'Арамиль': ['арамиль', 'арамили', 'арамилью', 'Арамиль', 'Арамилью', 'Арамили'], 'Аргун': ['аргуня', 'аргун', 'аргуню', 'аргуну', 'аргуном', 'аргуна', 'аргунем', 'аргуне', 'Аргуню', 'Аргуну', 'Аргуна', 'Аргуне', 'Аргунем', 'Аргуня', 'Аргун', 'Аргуном'], 'Ардатов': ['ардатов', 'ардатовем', 'ардатове', 'ардатова', 'ардатовя', 'ардатову', 'ардатовом', 'ардатовю', 'Ардатовя', 'Ардатов', 'Ардатовом', 'Ардатову', 'Ардатовю', 'Ардатове', 'Ардатовем', 'Ардатова'], 'Ардон': ['ардонем', 'ардоном', 'ардону', 'ардоню', 'ардоне', 'ардона', 'ардон', 'ардоня', 'Ардон', 'Ардоном', 'Ардоню', 'Ардоня', 'Ардонем', 'Ардона', 'Ардону', 'Ардоне'], 'Арзамас': ['арзамасю', 'арзамасем', 'арзамаса', 'арзамасе', 'арзамасом', 'арзамасу', 'арзамася', 'арзамас', 'Арзамасу', 'Арзамася', 'Арзамас', 'Арзамасю', 'Арзамаса', 'Арзамасе', 'Арзамасем', 'Арзамасом'], 'Аркадак': ['аркадаку', 'аркадакем', 'аркадак', 'аркадаком', 'аркадаке', 'аркадака', 'аркадакя', 'аркадакю', 'Аркадаку', 'Аркадак', 'Аркадакя', 'Аркадаком', 'Аркадакю', 'Аркадакем', 'Аркадака', 'Аркадаке'], 'Армавир': ['армавирю', 'армавире', 'армавирем', 'армавира', 'армавир', 'армавиря', 'армавиром', 'армавиру', 'Армавире', 'Армавир', 'Армавирем', 'Армавирю', 'Армавира', 'Армавиром', 'Армавиру', 'Армавиря'], 'Армянск': ['армянск', 'армянском', 'армянскя', 'армянске', 'армянску', 'армянскем', 'армянскю', 'армянска', 'Армянску', 'Армянск', 'Армянскя', 'Армянскем', 'Армянском', 'Армянске', 'Армянскю', 'Армянска'], 'Арсеньев': ['арсеньев', 'арсеньевю', 'арсеньеве', 'арсеньевя', 'арсеньевом', 'арсеньева', 'арсеньеву', 'арсеньевем', 'Арсеньеву', 'Арсеньеве', 'Арсеньева', 'Арсеньевом', 'Арсеньев', 'Арсеньевю', 'Арсеньевя', 'Арсеньевем'], 'Арск': ['арскю', 'арскем', 'арском', 'арска', 'арскя', 'арске', 'арск', 'арску', 'Арском', 'Арск', 'Арске', 'Арска', 'Арскю', 'Арску', 'Арскя', 'Арскем'], 'Артём': ['артёму', 'артёма', 'артём', 'артёмем', 'артёмю', 'артёмом', 'артёмя', 'артёме', 'Артёма', 'Артёме', 'Артёму', 'Артёмем', 'Артёмом', 'Артёмя', 'Артём', 'Артёмю'], 'Артёмовск': ['артёмовскя', 'артёмовскем', 'артёмовску', 'артёмовскю', 'артёмовска', 'артёмовском', 'артёмовске', 'артёмовск', 'Артёмовскя', 'Артёмовскю', 'Артёмовск', 'Артёмовске', 'Артёмовска', 'Артёмовскем', 'Артёмовску', 'Артёмовском'], 'Артёмовский': ['артёмовском', 'артёмовскем', 'артёмовскый', 'артёмовским', 'артёмовскему', 'артёмовский', 'артёмовского', 'артёмовскым', 'артёмовскего', 'артёмовскому', 'артёмовской', 'Артёмовской', 'Артёмовскому', 'Артёмовскему', 'Артёмовскым', 'Артёмовскего', 'Артёмовского', 'Артёмовским', 'Артёмовскем', 'Артёмовскый', 'Артёмовском', 'Артёмовский'], 'Архангельск': ['архангельску', 'архангельскя', 'архангельске', 'архангельском', 'архангельска', 'архангельск', 'архангельскем', 'архангельскю', 'Архангельска', 'Архангельскю', 'Архангельскем', 'Архангельску', 'Архангельскя', 'Архангельск', 'Архангельском', 'Архангельске'], 'Асбест': ['асбестю', 'асбеста', 'асбесту', 'асбестем', 'асбесте', 'асбест', 'асбестом', 'асбестя', 'Асбестом', 'Асбест', 'Асбесту', 'Асбестю', 'Асбеста', 'Асбестем', 'Асбесте', 'Асбестя'], 'Асино': ['асино', 'асиню', 'асинем', 'асину', 'асиня', 'асина', 'асине', 'асином', 'Асина', 'Асиню', 'Асином', 'Асине', 'Асино', 'Асиня', 'Асинем', 'Асину'], 'Астрахань': ['астраханью', 'астрахань', 'астрахани', 'Астраханью', 'Астрахань', 'Астрахани'], 'Аткарск': ['аткарскем', 'аткарск', 'аткарску', 'аткарскю', 'аткарскя', 'аткарска', 'аткарском', 'аткарске', 'Аткарском', 'Аткарскя', 'Аткарска', 'Аткарск', 'Аткарску', 'Аткарскем', 'Аткарскю', 'Аткарске'], 'Ахтубинск': ['ахтубинска', 'ахтубинскя', 'ахтубинскем', 'ахтубинскю', 'ахтубинск', 'ахтубинску', 'ахтубинском', 'ахтубинске', 'Ахтубинскем', 'Ахтубинскю', 'Ахтубинском', 'Ахтубинска', 'Ахтубинскя', 'Ахтубинску', 'Ахтубинск', 'Ахтубинске'], 'Ачинск': ['ачинске', 'ачинска', 'ачинск', 'ачинскем', 'ачинском', 'ачинску', 'ачинскя', 'ачинскю', 'Ачинском', 'Ачинска', 'Ачинскя', 'Ачинск', 'Ачинскю', 'Ачинску', 'Ачинскем', 'Ачинске'], 'Аша': ['аши', 'ашу', 'аша', 'ашы', 'аше', 'ашой', 'Аше', 'Ашой', 'Аши', 'Ашу', 'Аша', 'Ашы'], 'Бабаево': ['бабаева', 'бабаеве', 'бабаевя', 'бабаевем', 'бабаевю', 'бабаеву', 'бабаево', 'бабаевом', 'Бабаевю', 'Бабаевом', 'Бабаево', 'Бабаевем', 'Бабаевя', 'Бабаеву', 'Бабаеве', 'Бабаева'], 'Бабушкин': ['бабушкине', 'бабушкиню', 'бабушкин', 'бабушкина', 'бабушкином', 'бабушкиня', 'бабушкину', 'бабушкинем', 'Бабушкиня', 'Бабушкину', 'Бабушкине', 'Бабушкина', 'Бабушкиню', 'Бабушкин', 'Бабушкином', 'Бабушкинем'], 'Бавлы': ['бавлы', 'Бавлы'], 'Багратионовск': ['багратионовскем', 'багратионовск', 'багратионовскя', 'багратионовском', 'багратионовску', 'багратионовске', 'багратионовскю', 'багратионовска', 'Багратионовска', 'Багратионовскю', 'Багратионовскя', 'Багратионовску', 'Багратионовскем', 'Багратионовск', 'Багратионовском', 'Багратионовске'], 'Байкальск': ['байкальску', 'байкальска', 'байкальскя', 'байкальск', 'байкальском', 'байкальскем', 'байкальске', 'байкальскю', 'Байкальскем', 'Байкальскя', 'Байкальска', 'Байкальскю', 'Байкальском', 'Байкальск', 'Байкальску', 'Байкальске'], 'Баймак': ['баймаку', 'баймак', 'баймаке', 'баймакя', 'баймаком', 'баймака', 'баймакем', 'баймакю', 'Баймак', 'Баймаку', 'Баймака', 'Баймакя', 'Баймакем', 'Баймаке', 'Баймаком', 'Баймакю'], 'Бакал': ['бакалем', 'бакалу', 'бакала', 'бакалю', 'бакал', 'бакале', 'бакалом', 'бакаля', 'Бакалю', 'Бакалу', 'Бакал', 'Бакаля', 'Бакалем', 'Бакалом', 'Бакале', 'Бакала'], 'Баксан': ['баксаном', 'баксана', 'баксану', 'баксан', 'баксанем', 'баксаню', 'баксане', 'баксаня', 'Баксан', 'Баксаном', 'Баксане', 'Баксаню', 'Баксану', 'Баксаня', 'Баксанем', 'Баксана'], 'Балабаново': ['балабанову', 'балабановом', 'балабановю', 'балабаново', 'балабанове', 'балабановем', 'балабанова', 'балабановя', 'Балабанова', 'Балабанову', 'Балабановю', 'Балабаново', 'Балабановем', 'Балабановом', 'Балабановя', 'Балабанове'], 'Балаково': ['балаковом', 'балакова', 'балаковя', 'балаковем', 'балакове', 'балаково', 'балаковю', 'балакову', 'Балаковом', 'Балакову', 'Балаковем', 'Балаковю', 'Балакове', 'Балаково', 'Балакова', 'Балаковя'], 'Балахна': ['балахни', 'балахной', 'балахне', 'балахну', 'балахна', 'балахны', 'Балахну', 'Балахне', 'Балахной', 'Балахни', 'Балахны', 'Балахна'], 'Балашиха': ['балашихой', 'балашихи', 'балашихы', 'балашихе', 'балашиха', 'балашиху', 'Балашихой', 'Балашихы', 'Балашиха', 'Балашихе', 'Балашиху', 'Балашихи'], 'Балашов': ['балашова', 'балашовя', 'балашовем', 'балашове', 'балашовю', 'балашовом', 'балашов', 'балашову', 'Балашовю', 'Балашов', 'Балашове', 'Балашова', 'Балашовя', 'Балашовем', 'Балашовом', 'Балашову'], 'Балей': ['балеом', 'балея', 'балей', 'балеа', 'балее', 'балеу', 'балею', 'балеем', 'Балей', 'Балею', 'Балеа', 'Балее', 'Балеу', 'Балеем', 'Балеом', 'Балея'], 'Балтийск': ['балтийскя', 'балтийска', 'балтийск', 'балтийском', 'балтийске', 'балтийскю', 'балтийску', 'балтийскем', 'Балтийскя', 'Балтийску', 'Балтийскю', 'Балтийскем', 'Балтийск', 'Балтийске', 'Балтийска', 'Балтийском'], 'Барабинск': ['барабинска', 'барабинске', 'барабинскем', 'барабинску', 'барабинск', 'барабинском', 'барабинскю', 'барабинскя', 'Барабинске', 'Барабинска', 'Барабинскю', 'Барабинском', 'Барабинску', 'Барабинскя', 'Барабинскем', 'Барабинск'], 'Барнаул': ['барнауля', 'барнаулем', 'барнаулу', 'барнауле', 'барнаулю', 'барнаул', 'барнаулом', 'барнаула', 'Барнаулу', 'Барнаулю', 'Барнауля', 'Барнаула', 'Барнаул', 'Барнаулом', 'Барнауле', 'Барнаулем'], 'Барыш': ['барышем', 'барыше', 'барышя', 'барышю', 'барыш', 'барышом', 'барыша', 'барышу', 'Барышю', 'Барыше', 'Барышем', 'Барышя', 'Барышом', 'Барыш', 'Барышу', 'Барыша'], 'Батайск': ['батайске', 'батайска', 'батайску', 'батайскем', 'батайскю', 'батайск', 'батайскя', 'батайском', 'Батайскем', 'Батайскю', 'Батайскя', 'Батайска', 'Батайском', 'Батайск', 'Батайске', 'Батайску'], 'Бахчисарай': ['бахчисарау', 'бахчисарая', 'бахчисараю', 'бахчисараем', 'бахчисараом', 'бахчисараа', 'бахчисарае', 'бахчисарай', 'Бахчисарае', 'Бахчисарай', 'Бахчисараа', 'Бахчисарау', 'Бахчисараом', 'Бахчисарая', 'Бахчисараем', 'Бахчисараю'], 'Бежецк': ['бежецка', 'бежецком', 'бежецк', 'бежецкя', 'бежецку', 'бежецке', 'бежецкю', 'бежецкем', 'Бежецком', 'Бежецк', 'Бежецка', 'Бежецкю', 'Бежецкем', 'Бежецку', 'Бежецке', 'Бежецкя'], 'Белая Калитва': ['белую калитву', 'белей калитве', 'белюю калитву', 'белой калитви', 'белой калитвы', 'белая калитва', 'белой калитвой', 'Белой Калитвы', 'Белой Калитви', 'Белая Калитва', 'Белюю Калитву', 'Белой Калитвой', 'Белей Калитве', 'Белую Калитву'], 'Белая Холуница': ['белой холуници', 'белюю холуницу', 'белую холуницу', 'белая холуница', 'белой холуницой', 'белой холуницы', 'белей холунице', 'Белую Холуницу', 'Белая Холуница', 'Белей Холунице', 'Белой Холуницой', 'Белой Холуницы', 'Белюю Холуницу', 'Белой Холуници'], 'Белгород': ['белгородя', 'белгороде', 'белгороду', 'белгородем', 'белгородом', 'белгородю', 'белгорода', 'белгород', 'Белгородю', 'Белгородя', 'Белгородом', 'Белгороде', 'Белгородем', 'Белгород', 'Белгороду', 'Белгорода'], 'Белебей': ['белебеу', 'белебей', 'белебеа', 'белебея', 'белебею', 'белебее', 'белебеом', 'белебеем', 'Белебей', 'Белебеу', 'Белебее', 'Белебеа', 'Белебеом', 'Белебеем', 'Белебея', 'Белебею'], 'Белинский': ['белинском', 'белинскего', 'белинский', 'белинскый', 'белинской', 'белинским', 'белинскому', 'белинскему', 'белинскым', 'белинского', 'белинскем', 'Белинскему', 'Белинскый', 'Белинскому', 'Белинский', 'Белинского', 'Белинском', 'Белинскем', 'Белинскего', 'Белинским', 'Белинской', 'Белинскым'], 'Белово': ['беловя', 'беловом', 'белове', 'белово', 'беловю', 'белову', 'белова', 'беловем', 'Беловем', 'Беловом', 'Беловя', 'Белову', 'Белове', 'Белова', 'Белово', 'Беловю'], 'Белогорск': ['белогорскем', 'белогорске', 'белогорску', 'белогорском', 'белогорскя', 'белогорскю', 'белогорска', 'белогорск', 'Белогорскем', 'Белогорске', 'Белогорском', 'Белогорску', 'Белогорскя', 'Белогорск', 'Белогорска', 'Белогорскю'], 'Белозерск': ['белозерскю', 'белозерск', 'белозерском', 'белозерска', 'белозерскем', 'белозерскя', 'белозерску', 'белозерске', 'Белозерском', 'Белозерска', 'Белозерске', 'Белозерскю', 'Белозерскя', 'Белозерску', 'Белозерск', 'Белозерскем'], 'Белокуриха': ['белокурихе', 'белокуриху', 'белокурихи', 'белокурихы', 'белокурихой', 'белокуриха', 'Белокуриха', 'Белокурихы', 'Белокурихе', 'Белокурихи', 'Белокурихой', 'Белокуриху'], 'Беломорск': ['беломорскя', 'беломорску', 'беломорск', 'беломорске', 'беломорском', 'беломорскем', 'беломорскю', 'беломорска', 'Беломорску', 'Беломорск', 'Беломорскя', 'Беломорскем', 'Беломорске', 'Беломорска', 'Беломорском', 'Беломорскю'], 'Белоозёрский': ['белоозёрскым', 'белоозёрском', 'белоозёрского', 'белоозёрским', 'белоозёрской', 'белоозёрскем', 'белоозёрскому', 'белоозёрскему', 'белоозёрскый', 'белоозёрский', 'белоозёрскего', 'Белоозёрского', 'Белоозёрской', 'Белоозёрскему', 'Белоозёрскому', 'Белоозёрскего', 'Белоозёрский', 'Белоозёрскем', 'Белоозёрском', 'Белоозёрским', 'Белоозёрскым', 'Белоозёрскый'], 'Белорецк': ['белорецкем', 'белорецкя', 'белорецке', 'белорецкю', 'белорецку', 'белорецк', 'белорецком', 'белорецка', 'Белорецк', 'Белорецке', 'Белорецкя', 'Белорецку', 'Белорецка', 'Белорецкю', 'Белорецком', 'Белорецкем'], 'Белореченск': ['белореченска', 'белореченском', 'белореченскю', 'белореченске', 'белореченскя', 'белореченску', 'белореченскем', 'белореченск', 'Белореченском', 'Белореченскем', 'Белореченскю', 'Белореченскя', 'Белореченске', 'Белореченску', 'Белореченск', 'Белореченска'], 'Белоусово': ['белоусова', 'белоусовю', 'белоусове', 'белоусовем', 'белоусово', 'белоусовя', 'белоусову', 'белоусовом', 'Белоусова', 'Белоусову', 'Белоусово', 'Белоусовя', 'Белоусовом', 'Белоусовю', 'Белоусове', 'Белоусовем'], 'Белоярский': ['белоярском', 'белоярскем', 'белоярскый', 'белоярского', 'белоярской', 'белоярскым', 'белоярскему', 'белоярскому', 'белоярскего', 'белоярский', 'белоярским', 'Белоярский', 'Белоярскому', 'Белоярским', 'Белоярскем', 'Белоярскему', 'Белоярском', 'Белоярскего', 'Белоярской', 'Белоярскый', 'Белоярскым', 'Белоярского'], 'Белый': ['белим', 'белего', 'белому', 'белом', 'белого', 'белий', 'белем', 'белой', 'белым', 'белему', 'белый', 'Белый', 'Белего', 'Белему', 'Белому', 'Белого', 'Белий', 'Белом', 'Белой', 'Белем', 'Белим', 'Белым'], 'Белёв': ['белёву', 'белёвю', 'белёве', 'белёвя', 'белёв', 'белёвом', 'белёвем', 'белёва', 'Белёву', 'Белёвя', 'Белёвю', 'Белёв', 'Белёвем', 'Белёве', 'Белёва', 'Белёвом'], 'Бердск': ['бердскю', 'бердском', 'бердск', 'бердскя', 'бердска', 'бердскем', 'бердске', 'бердску', 'Бердске', 'Бердск', 'Бердска', 'Бердску', 'Бердскем', 'Бердском', 'Бердскю', 'Бердскя'], 'Березники': ['березники', 'Березники'], 'Берёзовский': ['берёзовского', 'берёзовский', 'берёзовским', 'берёзовскем', 'берёзовскым', 'берёзовской', 'берёзовскый', 'берёзовскему', 'берёзовскому', 'берёзовскего', 'берёзовском', 'Берёзовскому', 'Берёзовскего', 'Берёзовском', 'Берёзовской', 'Берёзовского', 'Берёзовский', 'Берёзовскем', 'Берёзовскым', 'Берёзовским', 'Берёзовскему', 'Берёзовскый'], 'Беслан': ['беслана', 'бесланя', 'беслан', 'бесланю', 'бесланом', 'беслану', 'беслане', 'бесланем', 'Беслану', 'Бесланю', 'Бесланом', 'Беслан', 'Бесланя', 'Беслана', 'Беслане', 'Бесланем'], 'Бийск': ['бийскю', 'бийскем', 'бийскя', 'бийском', 'бийске', 'бийск', 'бийску', 'бийска', 'Бийскя', 'Бийску', 'Бийск', 'Бийскю', 'Бийска', 'Бийске', 'Бийском', 'Бийскем'], 'Бикин': ['бикине', 'бикиню', 'бикиня', 'бикина', 'бикином', 'бикину', 'бикинем', 'бикин', 'Бикиню', 'Бикину', 'Бикина', 'Бикиня', 'Бикин', 'Бикине', 'Бикинем', 'Бикином'], 'Билибино': ['билибина', 'билибине', 'билибину', 'билибиня', 'билибинем', 'билибино', 'билибиню', 'билибином', 'Билибинем', 'Билибино', 'Билибина', 'Билибином', 'Билибину', 'Билибиню', 'Билибиня', 'Билибине'], 'Биробиджан': ['биробиджане', 'биробиджаня', 'биробиджану', 'биробиджана', 'биробиджаном', 'биробиджаню', 'биробиджанем', 'биробиджан', 'Биробиджанем', 'Биробиджаню', 'Биробиджана', 'Биробиджану', 'Биробиджан', 'Биробиджаном', 'Биробиджаня', 'Биробиджане'], 'Бирск': ['бирскем', 'бирскю', 'бирску', 'бирске', 'бирскя', 'бирском', 'бирск', 'бирска', 'Бирскю', 'Бирскем', 'Бирском', 'Бирскя', 'Бирск', 'Бирске', 'Бирска', 'Бирску'], 'Бирюсинск': ['бирюсинскя', 'бирюсинске', 'бирюсинск', 'бирюсинска', 'бирюсинску', 'бирюсинскю', 'бирюсинском', 'бирюсинскем', 'Бирюсинска', 'Бирюсинске', 'Бирюсинскю', 'Бирюсинск', 'Бирюсинском', 'Бирюсинску', 'Бирюсинскя', 'Бирюсинскем'], 'Бирюч': ['бирюче', 'бирючем', 'бирючу', 'бирюч', 'бирючом', 'бирючя', 'бирюча', 'бирючю', 'Бирючя', 'Бирюче', 'Бирючу', 'Бирюч', 'Бирючем', 'Бирючю', 'Бирюча', 'Бирючом'], 'Благовещенск': ['благовещенск', 'благовещенска', 'благовещенскя', 'благовещенскем', 'благовещенске', 'благовещенску', 'благовещенском', 'благовещенскю', 'Благовещенском', 'Благовещенска', 'Благовещенске', 'Благовещенску', 'Благовещенскем', 'Благовещенскя', 'Благовещенск', 'Благовещенскю'], 'Благодарный': ['благодарного', 'благодарном', 'благодарнего', 'благодарный', 'благодарному', 'благодарний', 'благодарнем', 'благодарнему', 'благодарной', 'благодарным', 'благодарним', 'Благодарной', 'Благодарным', 'Благодарний', 'Благодарним', 'Благодарнему', 'Благодарному', 'Благодарнем', 'Благодарный', 'Благодарного', 'Благодарном', 'Благодарнего'], 'Бобров': ['бобровом', 'боброву', 'бобровя', 'бобров', 'бобровю', 'бобровем', 'боброве', 'боброва', 'Бобровю', 'Боброву', 'Бобровя', 'Боброве', 'Бобровом', 'Боброва', 'Бобров', 'Бобровем'], 'Богданович': ['богдановичем', 'богдановиче', 'богдановичу', 'богдановичю', 'богдановичом', 'богданович', 'богдановичя', 'богдановича', 'Богданович', 'Богдановичю', 'Богдановиче', 'Богдановичом', 'Богдановичу', 'Богдановича', 'Богдановичя', 'Богдановичем'], 'Богородицк': ['богородицкя', 'богородицке', 'богородицка', 'богородицк', 'богородицку', 'богородицком', 'богородицкю', 'богородицкем', 'Богородицке', 'Богородицк', 'Богородицкем', 'Богородицка', 'Богородицку', 'Богородицком', 'Богородицкю', 'Богородицкя'], 'Богородск': ['богородскя', 'богородск', 'богородскю', 'богородске', 'богородску', 'богородском', 'богородскем', 'богородска', 'Богородске', 'Богородскю', 'Богородска', 'Богородском', 'Богородскем', 'Богородску', 'Богородскя', 'Богородск'], 'Боготол': ['боготолем', 'боготоле', 'боготоля', 'боготола', 'боготолом', 'боготолу', 'боготолю', 'боготол', 'Боготола', 'Боготолом', 'Боготолю', 'Боготолу', 'Боготолем', 'Боготоля', 'Боготол', 'Боготоле'], 'Богучар': ['богучарем', 'богучарю', 'богучару', 'богучаря', 'богучаре', 'богучара', 'богучар', 'богучаром', 'Богучар', 'Богучара', 'Богучаром', 'Богучаря', 'Богучарем', 'Богучару', 'Богучарю', 'Богучаре'], 'Бодайбо': ['бодайбо', 'бодайба', 'бодайбу', 'бодайбом', 'бодайбем', 'бодайбю', 'бодайбя', 'бодайбе', 'Бодайбу', 'Бодайба', 'Бодайбо', 'Бодайбем', 'Бодайбю', 'Бодайбя', 'Бодайбе', 'Бодайбом'], 'Бокситогорск': ['бокситогорске', 'бокситогорск', 'бокситогорска', 'бокситогорскя', 'бокситогорскем', 'бокситогорску', 'бокситогорскю', 'бокситогорском', 'Бокситогорскя', 'Бокситогорскем', 'Бокситогорскю', 'Бокситогорску', 'Бокситогорском', 'Бокситогорске', 'Бокситогорска', 'Бокситогорск'], 'Болгар': ['болгаре', 'болгарю', 'болгаром', 'болгару', 'болгарем', 'болгар', 'болгаря', 'болгара', 'Болгаре', 'Болгарем', 'Болгар', 'Болгарю', 'Болгаром', 'Болгару', 'Болгаря', 'Болгара'], 'Бологое': ['бологему', 'бологим', 'бологого', 'бологем', 'бологому', 'бологее', 'бологего', 'бологым', 'бологое', 'бологом', 'Бологым', 'Бологего', 'Бологому', 'Бологого', 'Бологему', 'Бологим', 'Бологее', 'Бологом', 'Бологем', 'Бологое'], 'Болотное': ['болотнему', 'болотном', 'болотнего', 'болотнем', 'болотное', 'болотного', 'болотному', 'болотнее', 'болотным', 'болотним', 'Болотным', 'Болотном', 'Болотним', 'Болотнему', 'Болотнем', 'Болотнее', 'Болотному', 'Болотное', 'Болотнего', 'Болотного'], 'Болохово': ['болохове', 'болоховю', 'болохова', 'болохову', 'болоховя', 'болоховем', 'болоховом', 'болохово', 'Болоховем', 'Болохове', 'Болоховя', 'Болоховю', 'Болохово', 'Болоховом', 'Болохову', 'Болохова'], 'Болхов': ['болховом', 'болховю', 'болхову', 'болхове', 'болховя', 'болховем', 'болхова', 'болхов', 'Болхову', 'Болховя', 'Болхов', 'Болхове', 'Болховем', 'Болховю', 'Болхова', 'Болховом'], 'Большой Камень': ['большому камени', 'большого камени', 'большого камень', 'большего камень', 'большый камень', 'большом камени', 'больший камень', 'большему камени', 'большим каменью', 'большем камени', 'большым каменью', 'большего камени', 'большой камень', 'Большым Каменью', 'Большой Камень', 'Большому Камени', 'Большим Каменью', 'Большем Камени', 'Большый Камень', 'Большом Камени', 'Больший Камень', 'Большого Камени', 'Большему Камени', 'Большего Камень', 'Большого Камень', 'Большего Камени'], 'Бор': ['бора', 'бором', 'борю', 'бору', 'борем', 'боря', 'боре', 'бор', 'Бор', 'Бора', 'Бором', 'Бору', 'Боре', 'Борем', 'Боря', 'Борю'], 'Борзя': ['борзи', 'борзе', 'борзей', 'борзя', 'борзёй', 'борзю', 'Борзю', 'Борзе', 'Борзя', 'Борзи', 'Борзёй', 'Борзей'], 'Борисоглебск': ['борисоглебск', 'борисоглебску', 'борисоглебском', 'борисоглебскю', 'борисоглебска', 'борисоглебскя', 'борисоглебске', 'борисоглебскем', 'Борисоглебскю', 'Борисоглебску', 'Борисоглебске', 'Борисоглебском', 'Борисоглебскем', 'Борисоглебска', 'Борисоглебск', 'Борисоглебскя'], 'Боровичи': ['боровичи', 'Боровичи'], 'Боровск': ['боровскю', 'боровске', 'боровск', 'боровску', 'боровска', 'боровском', 'боровскем', 'боровскя', 'Боровска', 'Боровскем', 'Боровску', 'Боровскя', 'Боровскю', 'Боровском', 'Боровске', 'Боровск'], 'Бородино': ['бородина', 'бородино', 'бородином', 'бородине', 'бородиню', 'бородину', 'бородинем', 'бородиня', 'Бородином', 'Бородиню', 'Бородине', 'Бородиня', 'Бородино', 'Бородина', 'Бородину', 'Бородинем'], 'Братск': ['братском', 'братскю', 'братска', 'братске', 'братску', 'братск', 'братскя', 'братскем', 'Братском', 'Братскя', 'Братск', 'Братскем', 'Братску', 'Братскю', 'Братска', 'Братске'], 'Бронницы': ['бронницы', 'Бронницы'], 'Брянск': ['брянскя', 'брянска', 'брянску', 'брянске', 'брянскем', 'брянск', 'брянскю', 'брянском', 'Брянском', 'Брянскю', 'Брянскя', 'Брянску', 'Брянскем', 'Брянск', 'Брянске', 'Брянска'], 'Бугульма': ['бугульма', 'бугульми', 'бугульмой', 'бугульму', 'бугульмы', 'бугульме', 'Бугульме', 'Бугульму', 'Бугульмой', 'Бугульма', 'Бугульми', 'Бугульмы'], 'Бугуруслан': ['бугурусланю', 'бугуруслана', 'бугурусланя', 'бугуруслане', 'бугуруслану', 'бугурусланем', 'бугурусланом', 'бугуруслан', 'Бугуруслан', 'Бугуруслана', 'Бугурусланом', 'Бугурусланю', 'Бугуруслану', 'Бугуруслане', 'Бугурусланем', 'Бугурусланя'], 'Будённовск': ['будённовскю', 'будённовскем', 'будённовске', 'будённовск', 'будённовску', 'будённовскя', 'будённовска', 'будённовском', 'Будённовскем', 'Будённовск', 'Будённовске', 'Будённовску', 'Будённовскю', 'Будённовска', 'Будённовском', 'Будённовскя'], 'Бузулук': ['бузулукя', 'бузулук', 'бузулуке', 'бузулуку', 'бузулука', 'бузулукем', 'бузулукю', 'бузулуком', 'Бузулукем', 'Бузулука', 'Бузулуку', 'Бузулукю', 'Бузулуке', 'Бузулук', 'Бузулукя', 'Бузулуком'], 'Буинск': ['буинском', 'буинске', 'буинск', 'буинску', 'буинскя', 'буинскю', 'буинскем', 'буинска', 'Буинску', 'Буинске', 'Буинска', 'Буинском', 'Буинскем', 'Буинскя', 'Буинск', 'Буинскю'], 'Буй': ['буе', 'буа', 'буй', 'буем', 'буом', 'бую', 'буу', 'буя', 'Буа', 'Буя', 'Буем', 'Бую', 'Буу', 'Буе', 'Буй', 'Буом'], 'Буйнакск': ['буйнакскем', 'буйнакском', 'буйнакске', 'буйнакска', 'буйнакскю', 'буйнакску', 'буйнакск', 'буйнакскя', 'Буйнакскя', 'Буйнакскем', 'Буйнакском', 'Буйнакск', 'Буйнакска', 'Буйнакскю', 'Буйнакску', 'Буйнакске'], 'Бутурлиновка': ['бутурлиновкы', 'бутурлиновкой', 'бутурлиновке', 'бутурлиновку', 'бутурлиновка', 'бутурлиновки', 'Бутурлиновки', 'Бутурлиновку', 'Бутурлиновкы', 'Бутурлиновке', 'Бутурлиновкой', 'Бутурлиновка'], 'Валдай': ['валдаем', 'валдае', 'валдая', 'валдаа', 'валдай', 'валдаом', 'валдаю', 'валдау', 'Валдаа', 'Валдае', 'Валдаем', 'Валдаю', 'Валдаом', 'Валдай', 'Валдая', 'Валдау'], 'Валуйки': ['валуйки', 'Валуйки'], 'Велиж': ['велижем', 'велиже', 'велиж', 'велижа', 'велижом', 'велижю', 'велижя', 'велижу', 'Велижом', 'Велижу', 'Велиже', 'Велижю', 'Велижем', 'Велижа', 'Велижя', 'Велиж'], 'Великие Луки': ['великим луки', 'великих луки', 'великими луки', 'великые луки', 'великых луки', 'великие луки', 'великыми луки', 'великым луки', 'Великые Луки', 'Великими Луки', 'Великих Луки', 'Великым Луки', 'Великие Луки', 'Великим Луки', 'Великых Луки', 'Великыми Луки'], 'Великий Новгород': ['великий новгорода', 'великым новгородем', 'великем новгороде', 'великом новгороде', 'великего новгородя', 'великым новгородом', 'великому новгороду', 'великий новгород', 'великему новгородю', 'великему новгороду', 'великой новгородя', 'великого новгородя', 'великой новгорода', 'великый новгорода', 'великего новгорода', 'великого новгорода', 'великий новгородя', 'великому новгородю', 'великим новгородем', 'великим новгородом', 'великый новгородя', 'Великый Новгорода', 'Великему Новгороду', 'Великего Новгородя', 'Великим Новгородем', 'Великий Новгородя', 'Великой Новгородя', 'Великом Новгороде', 'Великего Новгорода', 'Великому Новгороду', 'Великого Новгорода', 'Великому Новгородю', 'Великему Новгородю', 'Великым Новгородем', 'Великий Новгорода', 'Великым Новгородом', 'Великого Новгородя', 'Великый Новгородя', 'Великой Новгорода', 'Великем Новгороде', 'Великий Новгород', 'Великим Новгородом'], 'Великий Устюг': ['великом устюге', 'великый устюга', 'великим устюгем', 'великему устюгу', 'великего устюгя', 'великому устюгю', 'великего устюга', 'великому устюгу', 'великой устюга', 'великого устюга', 'великий устюгя', 'великым устюгом', 'великым устюгем', 'великем устюге', 'великий устюга', 'великой устюгя', 'великого устюгя', 'великий устюг', 'великему устюгю', 'великый устюгя', 'великим устюгом', 'Великый Устюга', 'Великым Устюгом', 'Великий Устюгя', 'Великого Устюга', 'Великим Устюгом', 'Великего Устюгя', 'Великему Устюгу', 'Великым Устюгем', 'Великому Устюгу', 'Великим Устюгем', 'Великий Устюга', 'Великом Устюге', 'Великому Устюгю', 'Великый Устюгя', 'Великой Устюга', 'Великем Устюге', 'Великого Устюгя', 'Великий Устюг', 'Великему Устюгю', 'Великего Устюга', 'Великой Устюгя'], 'Вельск': ['вельском', 'вельска', 'вельску', 'вельск', 'вельскем', 'вельскю', 'вельске', 'вельскя', 'Вельску', 'Вельскем', 'Вельска', 'Вельскя', 'Вельскю', 'Вельск', 'Вельском', 'Вельске'], 'Венёв': ['венёва', 'венёву', 'венёвя', 'венёвем', 'венёв', 'венёвом', 'венёвю', 'венёве', 'Венёвом', 'Венёва', 'Венёв', 'Венёвю', 'Венёве', 'Венёву', 'Венёвя', 'Венёвем'], 'Верещагино': ['верещагино', 'верещагиню', 'верещагине', 'верещагинем', 'верещагина', 'верещагином', 'верещагину', 'верещагиня', 'Верещагино', 'Верещагина', 'Верещагину', 'Верещагиню', 'Верещагине', 'Верещагином', 'Верещагинем', 'Верещагиня'], 'Верея': ['верею', 'вереи', 'верее', 'вереей', 'верея', 'Верее', 'Верея', 'Вереи', 'Верею', 'Вереей'], 'Верхнеуральск': ['верхнеуральском', 'верхнеуральскю', 'верхнеуральскем', 'верхнеуральскя', 'верхнеуральске', 'верхнеуральска', 'верхнеуральск', 'верхнеуральску', 'Верхнеуральска', 'Верхнеуральскя', 'Верхнеуральск', 'Верхнеуральске', 'Верхнеуральску', 'Верхнеуральском', 'Верхнеуральскю', 'Верхнеуральскем'], 'Верхний Тагил': ['верхний тагила', 'верхнем тагиле', 'верхний тагиля', 'верхным тагилем', 'верхнему тагилу', 'верхной тагиля', 'верхним тагилом', 'верхнему тагилю', 'верхной тагила', 'верхного тагиля', 'верхный тагиля', 'верхнего тагиля', 'верхного тагила', 'верхнего тагила', 'верхным тагилом', 'верхному тагилу', 'верхним тагилем', 'верхном тагиле', 'верхний тагил', 'верхный тагила', 'верхному тагилю', 'Верхный Тагиля', 'Верхного Тагиля', 'Верхном Тагиле', 'Верхнего Тагиля', 'Верхному Тагилю', 'Верхнем Тагиле', 'Верхнему Тагилу', 'Верхнему Тагилю', 'Верхным Тагилом', 'Верхним Тагилем', 'Верхный Тагила', 'Верхным Тагилем', 'Верхним Тагилом', 'Верхного Тагила', 'Верхной Тагила', 'Верхний Тагиля', 'Верхной Тагиля', 'Верхному Тагилу', 'Верхний Тагил', 'Верхний Тагила', 'Верхнего Тагила'], 'Верхний Уфалей': ['верхного уфалеа', 'верхний уфалея', 'верхнему уфалеу', 'верхнего уфалеа', 'верхний уфалеа', 'верхный уфалеа', 'верхным уфалеем', 'верхнего уфалея', 'верхному уфалею', 'верхнему уфалею', 'верхный уфалея', 'верхним уфалеем', 'верхнем уфалее', 'верхной уфалеа', 'верхний уфалей', 'верхного уфалея', 'верхному уфалеу', 'верхним уфалеом', 'верхной уфалея', 'верхным уфалеом', 'верхном уфалее', 'Верхнему Уфалею', 'Верхному Уфалею', 'Верхного Уфалея', 'Верхнему Уфалеу', 'Верхний Уфалея', 'Верхным Уфалеем', 'Верхный Уфалея', 'Верхним Уфалеем', 'Верхный Уфалеа', 'Верхнего Уфалеа', 'Верхному Уфалеу', 'Верхнего Уфалея', 'Верхным Уфалеом', 'Верхном Уфалее', 'Верхной Уфалеа', 'Верхним Уфалеом', 'Верхного Уфалеа', 'Верхной Уфалея', 'Верхний Уфалей', 'Верхний Уфалеа', 'Верхнем Уфалее'], 'Верхняя Пышма': ['верхную пышму', 'верхней пышме', 'верхнюю пышму', 'верхной пышми', 'верхной пышмы', 'верхной пышмой', 'верхняя пышма', 'Верхняя Пышма', 'Верхной Пышмы', 'Верхней Пышме', 'Верхной Пышмой', 'Верхной Пышми', 'Верхнюю Пышму', 'Верхную Пышму'], 'Верхняя Салда': ['верхную салду', 'верхнюю салду', 'верхной салдой', 'верхняя салда', 'верхней салде', 'верхной салди', 'верхной салды', 'Верхной Салды', 'Верхней Салде', 'Верхняя Салда', 'Верхной Салдой', 'Верхной Салди', 'Верхную Салду', 'Верхнюю Салду'], 'Верхняя Тура': ['верхняя тура', 'верхнюю туру', 'верхной турой', 'верхной тури', 'верхней туре', 'верхной туры', 'верхную туру', 'Верхной Туры', 'Верхной Турой', 'Верхняя Тура', 'Верхнюю Туру', 'Верхной Тури', 'Верхней Туре', 'Верхную Туру'], 'Верхотурье': ['верхотурьем', 'верхотурьу', 'верхотурье', 'верхотурья', 'верхотурьа', 'верхотурьом', 'верхотурью', 'верхотурьо', 'Верхотурьу', 'Верхотурьо', 'Верхотурье', 'Верхотурьом', 'Верхотурья', 'Верхотурью', 'Верхотурьа', 'Верхотурьем'], 'Верхоянск': ['верхоянскем', 'верхоянском', 'верхоянск', 'верхоянске', 'верхоянску', 'верхоянска', 'верхоянскю', 'верхоянскя', 'Верхоянскю', 'Верхоянске', 'Верхоянску', 'Верхоянскя', 'Верхоянскем', 'Верхоянск', 'Верхоянском', 'Верхоянска'], 'Весьегонск': ['весьегонска', 'весьегонск', 'весьегонском', 'весьегонскя', 'весьегонске', 'весьегонскем', 'весьегонскю', 'весьегонску', 'Весьегонскю', 'Весьегонскя', 'Весьегонскем', 'Весьегонску', 'Весьегонском', 'Весьегонска', 'Весьегонск', 'Весьегонске'], 'Ветлуга': ['ветлугу', 'ветлуга', 'ветлугы', 'ветлуге', 'ветлуги', 'ветлугой', 'Ветлугы', 'Ветлуге', 'Ветлуга', 'Ветлугой', 'Ветлугу', 'Ветлуги'], 'Видное': ['виднему', 'виднего', 'видное', 'видним', 'видным', 'виднем', 'видного', 'видном', 'виднее', 'видному', 'Виднему', 'Виднее', 'Видным', 'Виднем', 'Видному', 'Видное', 'Видном', 'Видного', 'Видним', 'Виднего'], 'Вилюйск': ['вилюйску', 'вилюйск', 'вилюйскем', 'вилюйском', 'вилюйскя', 'вилюйске', 'вилюйска', 'вилюйскю', 'Вилюйск', 'Вилюйска', 'Вилюйскю', 'Вилюйску', 'Вилюйске', 'Вилюйскем', 'Вилюйском', 'Вилюйскя'], 'Вилючинск': ['вилючинске', 'вилючинск', 'вилючинскю', 'вилючинска', 'вилючинском', 'вилючинску', 'вилючинскя', 'вилючинскем', 'Вилючинск', 'Вилючинске', 'Вилючинском', 'Вилючинску', 'Вилючинскя', 'Вилючинска', 'Вилючинскем', 'Вилючинскю'], 'Вихоревка': ['вихоревка', 'вихоревке', 'вихоревку', 'вихоревкой', 'вихоревкы', 'вихоревки', 'Вихоревка', 'Вихоревкой', 'Вихоревки', 'Вихоревку', 'Вихоревке', 'Вихоревкы'], 'Вичуга': ['вичуга', 'вичуге', 'вичугой', 'вичугу', 'вичуги', 'вичугы', 'Вичугу', 'Вичуги', 'Вичуге', 'Вичуга', 'Вичугы', 'Вичугой'], 'Владивосток': ['владивостокя', 'владивостоку', 'владивостокю', 'владивосток', 'владивостоком', 'владивостоке', 'владивостока', 'владивостокем', 'Владивостокя', 'Владивостокю', 'Владивостоку', 'Владивостокем', 'Владивостоком', 'Владивосток', 'Владивостоке', 'Владивостока'], 'Владикавказ': ['владикавказя', 'владикавказю', 'владикавказ', 'владикавказом', 'владикавказу', 'владикавказа', 'владикавказем', 'владикавказе', 'Владикавказу', 'Владикавказом', 'Владикавказю', 'Владикавказя', 'Владикавказ', 'Владикавказа', 'Владикавказе', 'Владикавказем'], 'Владимир': ['владимире', 'владимиру', 'владимирем', 'владимира', 'владимирю', 'владимир', 'владимиря', 'владимиром', 'Владимирем', 'Владимир', 'Владимире', 'Владимирю', 'Владимиря', 'Владимиру', 'Владимира', 'Владимиром'], 'Волгоград': ['волгоградом', 'волгограда', 'волгоград', 'волгоградю', 'волгограду', 'волгограде', 'волгоградем', 'волгоградя', 'Волгоград', 'Волгоградом', 'Волгоградем', 'Волгограду', 'Волгограда', 'Волгоградю', 'Волгограде', 'Волгоградя'], 'Волгодонск': ['волгодонска', 'волгодонску', 'волгодонскю', 'волгодонске', 'волгодонскя', 'волгодонскем', 'волгодонском', 'волгодонск', 'Волгодонску', 'Волгодонском', 'Волгодонскя', 'Волгодонск', 'Волгодонска', 'Волгодонскю', 'Волгодонскем', 'Волгодонске'], 'Волгореченск': ['волгореченскем', 'волгореченску', 'волгореченск', 'волгореченскя', 'волгореченском', 'волгореченска', 'волгореченске', 'волгореченскю', 'Волгореченскем', 'Волгореченскя', 'Волгореченске', 'Волгореченскю', 'Волгореченска', 'Волгореченск', 'Волгореченском', 'Волгореченску'], 'Волжск': ['волжска', 'волжскем', 'волжске', 'волжск', 'волжском', 'волжскю', 'волжскя', 'волжску', 'Волжскя', 'Волжскю', 'Волжску', 'Волжска', 'Волжскем', 'Волжск', 'Волжске', 'Волжском'], 'Волжский': ['волжскему', 'волжскего', 'волжскем', 'волжском', 'волжской', 'волжскый', 'волжским', 'волжскым', 'волжского', 'волжский', 'волжскому', 'Волжскый', 'Волжский', 'Волжского', 'Волжскего', 'Волжским', 'Волжскем', 'Волжской', 'Волжском', 'Волжскому', 'Волжскему', 'Волжскым'], 'Вологда': ['вологди', 'вологда', 'вологде', 'вологдой', 'вологду', 'вологды', 'Вологду', 'Вологда', 'Вологды', 'Вологди', 'Вологде', 'Вологдой'], 'Володарск': ['володарскю', 'володарска', 'володарскя', 'володарскем', 'володарске', 'володарску', 'володарском', 'володарск', 'Володарск', 'Володарскем', 'Володарском', 'Володарскю', 'Володарскя', 'Володарску', 'Володарска', 'Володарске'], 'Волоколамск': ['волоколамск', 'волоколамска', 'волоколамскя', 'волоколамску', 'волоколамскем', 'волоколамском', 'волоколамскю', 'волоколамске', 'Волоколамскя', 'Волоколамскю', 'Волоколамском', 'Волоколамскем', 'Волоколамске', 'Волоколамска', 'Волоколамску', 'Волоколамск'], 'Волосово': ['волосовем', 'волосову', 'волосова', 'волосовю', 'волосовом', 'волосовя', 'волосове', 'волосово', 'Волосове', 'Волосово', 'Волосова', 'Волосовем', 'Волосовя', 'Волосовом', 'Волосову', 'Волосовю'], 'Волхов': ['волхове', 'волховом', 'волхову', 'волховем', 'волховя', 'волховю', 'волхова', 'волхов', 'Волховя', 'Волхова', 'Волхову', 'Волховю', 'Волховом', 'Волхов', 'Волховем', 'Волхове'], 'Волчанск': ['волчанска', 'волчанске', 'волчанскя', 'волчанскю', 'волчанскем', 'волчанск', 'волчанском', 'волчанску', 'Волчанскя', 'Волчанску', 'Волчанска', 'Волчанскю', 'Волчанском', 'Волчанске', 'Волчанск', 'Волчанскем'], 'Вольск': ['вольску', 'вольскю', 'вольска', 'вольскем', 'вольском', 'вольск', 'вольскя', 'вольске', 'Вольскем', 'Вольск', 'Вольска', 'Вольском', 'Вольске', 'Вольскя', 'Вольскю', 'Вольску'], 'Воркута': ['воркуты', 'воркути', 'воркуте', 'воркута', 'воркутой', 'воркуту', 'Воркуте', 'Воркуту', 'Воркутой', 'Воркуты', 'Воркута', 'Воркути'], 'Воронеж': ['воронежу', 'воронежю', 'воронежа', 'воронеже', 'воронеж', 'воронежом', 'воронежя', 'воронежем', 'Воронежя', 'Воронежу', 'Воронежем', 'Воронеже', 'Воронежю', 'Воронежа', 'Воронеж', 'Воронежом'], 'Ворсма': ['ворсме', 'ворсми', 'ворсмой', 'ворсму', 'ворсма', 'ворсмы', 'Ворсму', 'Ворсме', 'Ворсмой', 'Ворсми', 'Ворсма', 'Ворсмы'], 'Воскресенск': ['воскресенску', 'воскресенскя', 'воскресенск', 'воскресенскем', 'воскресенскю', 'воскресенском', 'воскресенска', 'воскресенске', 'Воскресенску', 'Воскресенскя', 'Воскресенске', 'Воскресенск', 'Воскресенскем', 'Воскресенском', 'Воскресенскю', 'Воскресенска'], 'Воткинск': ['воткинскя', 'воткинскю', 'воткинска', 'воткинску', 'воткинск', 'воткинске', 'воткинскем', 'воткинском', 'Воткинскю', 'Воткинскем', 'Воткинска', 'Воткинск', 'Воткинску', 'Воткинске', 'Воткинскя', 'Воткинском'], 'Всеволожск': ['всеволожску', 'всеволожске', 'всеволожск', 'всеволожскю', 'всеволожском', 'всеволожскем', 'всеволожска', 'всеволожскя', 'Всеволожск', 'Всеволожском', 'Всеволожскю', 'Всеволожска', 'Всеволожске', 'Всеволожскя', 'Всеволожску', 'Всеволожскем'], 'Вуктыл': ['вуктыля', 'вуктыле', 'вуктыла', 'вуктылю', 'вуктылу', 'вуктыл', 'вуктылом', 'вуктылем', 'Вуктылем', 'Вуктылю', 'Вуктыле', 'Вуктылом', 'Вуктыл', 'Вуктыля', 'Вуктылу', 'Вуктыла'], 'Выборг': ['выборгом', 'выборгю', 'выборгу', 'выборгя', 'выборге', 'выборгем', 'выборг', 'выборга', 'Выборгу', 'Выборг', 'Выборга', 'Выборгом', 'Выборге', 'Выборгем', 'Выборгя', 'Выборгю'], 'Выкса': ['выксой', 'выкса', 'выксу', 'выксе', 'выксы', 'выкси', 'Выксу', 'Выксе', 'Выкси', 'Выксой', 'Выкса', 'Выксы'], 'Высоковск': ['высоковскю', 'высоковском', 'высоковска', 'высоковске', 'высоковскя', 'высоковск', 'высоковскем', 'высоковску', 'Высоковске', 'Высоковском', 'Высоковскю', 'Высоковску', 'Высоковска', 'Высоковскем', 'Высоковск', 'Высоковскя'], 'Высоцк': ['высоцкя', 'высоцкю', 'высоцкем', 'высоцк', 'высоцка', 'высоцком', 'высоцке', 'высоцку', 'Высоцка', 'Высоцк', 'Высоцкю', 'Высоцкя', 'Высоцкем', 'Высоцке', 'Высоцком', 'Высоцку'], 'Вытегра': ['вытегре', 'вытегры', 'вытегри', 'вытегрой', 'вытегра', 'вытегру', 'Вытегре', 'Вытегры', 'Вытегрой', 'Вытегру', 'Вытегра', 'Вытегри'], 'Вышний Волочёк': ['вышним волочёкем', 'вышний волочёкя', 'вышному волочёкю', 'вышний волочёк', 'вышный волочёкя', 'вышнего волочёкя', 'вышный волочёка', 'вышной волочёкя', 'вышного волочёка', 'вышнему волочёкю', 'вышнего волочёка', 'вышном волочёке', 'вышному волочёку', 'вышного волочёкя', 'вышнем волочёке', 'вышним волочёком', 'вышнему волочёку', 'вышний волочёка', 'вышной волочёка', 'вышным волочёкем', 'вышным волочёком', 'Вышним Волочёкем', 'Вышним Волочёком', 'Вышному Волочёкю', 'Вышной Волочёкя', 'Вышнему Волочёку', 'Вышний Волочёк', 'Вышного Волочёка', 'Вышний Волочёкя', 'Вышний Волочёка', 'Вышнего Волочёка', 'Вышный Волочёкя', 'Вышный Волочёка', 'Вышнего Волочёкя', 'Вышнем Волочёке', 'Вышнему Волочёкю', 'Вышной Волочёка', 'Вышным Волочёком', 'Вышным Волочёкем', 'Вышному Волочёку', 'Вышного Волочёкя', 'Вышном Волочёке'], 'Вяземский': ['вяземским', 'вяземскому', 'вяземскему', 'вяземский', 'вяземскым', 'вяземскый', 'вяземской', 'вяземскем', 'вяземском', 'вяземского', 'вяземскего', 'Вяземскому', 'Вяземского', 'Вяземскего', 'Вяземскым', 'Вяземскем', 'Вяземскему', 'Вяземским', 'Вяземской', 'Вяземскый', 'Вяземском', 'Вяземский'], 'Вязники': ['вязники', 'Вязники'], 'Вязьма': ['вязьми', 'вязьме', 'вязьму', 'вязьмой', 'вязьма', 'вязьмы', 'Вязьмы', 'Вязьма', 'Вязьмой', 'Вязьми', 'Вязьме', 'Вязьму'], 'Вятские Поляны': ['вятских поляны', 'вятские поляны', 'вятскых поляны', 'вятскыми поляны', 'вятскым поляны', 'вятскые поляны', 'вятским поляны', 'вятскими поляны', 'Вятских Поляны', 'Вятскые Поляны', 'Вятскым Поляны', 'Вятскых Поляны', 'Вятскыми Поляны', 'Вятскими Поляны', 'Вятские Поляны', 'Вятским Поляны'], 'Гаврилов Посад': ['гаврилову посадю', 'гавриловя посада', 'гаврилову посаду', 'гавриловем посадем', 'гавриловем посадом', 'гавриловом посадем', 'гавриловю посаду', 'гавриловом посадом', 'гаврилова посадя', 'гаврилов посад', 'гавриловя посадя', 'гаврилове посаде', 'гавриловю посадю', 'гаврилова посада', 'Гавриловом Посадем', 'Гавриловю Посадю', 'Гаврилов Посад', 'Гаврилова Посада', 'Гавриловю Посаду', 'Гавриловя Посадя', 'Гавриловем Посадем', 'Гаврилове Посаде', 'Гавриловя Посада', 'Гавриловом Посадом', 'Гавриловем Посадом', 'Гаврилова Посадя', 'Гаврилову Посадю', 'Гаврилову Посаду'], 'Гаврилов-Ям': ['гаврилов-ямом', 'гаврилов-яме', 'гаврилов-ямю', 'гаврилов-яму', 'гаврилов-ямя', 'гаврилов-яма', 'гаврилов-ямем', 'гаврилов-ям', 'Гаврилов-Яму', 'Гаврилов-Ямя', 'Гаврилов-Ям', 'Гаврилов-Ямю', 'Гаврилов-Ямом', 'Гаврилов-Яме', 'Гаврилов-Ямем', 'Гаврилов-Яма'], 'Гагарин': ['гагарин', 'гагариню', 'гагарина', 'гагаринем', 'гагариня', 'гагарином', 'гагарину', 'гагарине', 'Гагаринем', 'Гагариня', 'Гагарина', 'Гагарине', 'Гагарином', 'Гагариню', 'Гагарину', 'Гагарин'], 'Гаджиево': ['гаджиевя', 'гаджиева', 'гаджиево', 'гаджиевю', 'гаджиеву', 'гаджиеве', 'гаджиевом', 'гаджиевем', 'Гаджиева', 'Гаджиево', 'Гаджиевя', 'Гаджиеве', 'Гаджиеву', 'Гаджиевю', 'Гаджиевом', 'Гаджиевем'], 'Гай': ['гаом', 'гау', 'гай', 'гаа', 'гаем', 'гая', 'гае', 'гаю', 'Гае', 'Гаем', 'Гай', 'Гаом', 'Гая', 'Гаю', 'Гау', 'Гаа'], 'Галич': ['галичом', 'галиче', 'галич', 'галичя', 'галичем', 'галича', 'галичю', 'галичу', 'Галича', 'Галич', 'Галичя', 'Галичем', 'Галиче', 'Галичю', 'Галичу', 'Галичом'], 'Гатчина': ['гатчине', 'гатчини', 'гатчины', 'гатчиной', 'гатчину', 'гатчина', 'Гатчины', 'Гатчина', 'Гатчиной', 'Гатчини', 'Гатчину', 'Гатчине'], 'Гвардейск': ['гвардейскю', 'гвардейска', 'гвардейскем', 'гвардейске', 'гвардейском', 'гвардейск', 'гвардейску', 'гвардейскя', 'Гвардейске', 'Гвардейска', 'Гвардейском', 'Гвардейскем', 'Гвардейскю', 'Гвардейску', 'Гвардейскя', 'Гвардейск'], 'Гдов': ['гдове', 'гдов', 'гдова', 'гдовя', 'гдовом', 'гдовю', 'гдовем', 'гдову', 'Гдовю', 'Гдов', 'Гдовем', 'Гдова', 'Гдове', 'Гдовом', 'Гдовя', 'Гдову'], 'Геленджик': ['геленджикя', 'геленджикем', 'геленджику', 'геленджикю', 'геленджика', 'геленджик', 'геленджике', 'геленджиком', 'Геленджика', 'Геленджику', 'Геленджик', 'Геленджике', 'Геленджикя', 'Геленджикем', 'Геленджикю', 'Геленджиком'], 'Георгиевск': ['георгиевском', 'георгиевску', 'георгиевскя', 'георгиевске', 'георгиевска', 'георгиевскем', 'георгиевск', 'георгиевскю', 'Георгиевскем', 'Георгиевску', 'Георгиевскю', 'Георгиевске', 'Георгиевскя', 'Георгиевском', 'Георгиевск', 'Георгиевска'], 'Глазов': ['глазове', 'глазовом', 'глазова', 'глазов', 'глазовя', 'глазовю', 'глазовем', 'глазову', 'Глазовем', 'Глазовом', 'Глазову', 'Глазовю', 'Глазове', 'Глазов', 'Глазовя', 'Глазова'], 'Голицыно': ['голицыно', 'голицынем', 'голицыном', 'голицыне', 'голицыню', 'голицыну', 'голицыня', 'голицына', 'Голицыню', 'Голицыно', 'Голицыне', 'Голицыня', 'Голицынем', 'Голицыном', 'Голицына', 'Голицыну'], 'Горбатов': ['горбатовем', 'горбатовом', 'горбатову', 'горбатовя', 'горбатове', 'горбатова', 'горбатов', 'горбатовю', 'Горбатовю', 'Горбатов', 'Горбатовом', 'Горбатову', 'Горбатовем', 'Горбатовя', 'Горбатове', 'Горбатова'], 'Горно-Алтайск': ['горно-алтайском', 'горно-алтайскем', 'горно-алтайск', 'горно-алтайскя', 'горно-алтайске', 'горно-алтайска', 'горно-алтайскю', 'горно-алтайску', 'Горно-Алтайскю', 'Горно-Алтайск', 'Горно-Алтайску', 'Горно-Алтайскем', 'Горно-Алтайскя', 'Горно-Алтайска', 'Горно-Алтайске', 'Горно-Алтайском'], 'Горнозаводск': ['горнозаводскя', 'горнозаводскем', 'горнозаводском', 'горнозаводскю', 'горнозаводска', 'горнозаводску', 'горнозаводск', 'горнозаводске', 'Горнозаводск', 'Горнозаводском', 'Горнозаводскем', 'Горнозаводскю', 'Горнозаводскя', 'Горнозаводска', 'Горнозаводску', 'Горнозаводске'], 'Горняк': ['горняком', 'горнякя', 'горнякем', 'горняка', 'горняке', 'горнякю', 'горняк', 'горняку', 'Горнякя', 'Горняка', 'Горнякю', 'Горняком', 'Горняке', 'Горняк', 'Горнякем', 'Горняку'], 'Городец': ['городеце', 'городецю', 'городецу', 'городецем', 'городец', 'городеца', 'городеця', 'городецом', 'Городецу', 'Городецю', 'Городецом', 'Городеця', 'Городеца', 'Городеце', 'Городецем', 'Городец'], 'Городище': ['городищо', 'городище', 'городищю', 'городищом', 'городищем', 'городищу', 'городища', 'городищя', 'Городища', 'Городищом', 'Городищо', 'Городище', 'Городищю', 'Городищем', 'Городищу', 'Городищя'], 'Городовиковск': ['городовиковске', 'городовиковскем', 'городовиковск', 'городовиковском', 'городовиковскя', 'городовиковску', 'городовиковска', 'городовиковскю', 'Городовиковском', 'Городовиковск', 'Городовиковске', 'Городовиковскю', 'Городовиковскя', 'Городовиковска', 'Городовиковскем', 'Городовиковску'], 'Гороховец': ['гороховеца', 'гороховеця', 'гороховец', 'гороховецу', 'гороховецю', 'гороховецом', 'гороховеце', 'гороховецем', 'Гороховеца', 'Гороховецю', 'Гороховеця', 'Гороховецем', 'Гороховец', 'Гороховецом', 'Гороховеце', 'Гороховецу'], 'Горячий Ключ': ['горячого ключя', 'горячый ключа', 'горячим ключом', 'горячой ключя', 'горячой ключа', 'горячым ключем', 'горячему ключю', 'горячому ключу', 'горячего ключя', 'горячим ключем', 'горячий ключя', 'горячом ключе', 'горячым ключом', 'горячему ключу', 'горячего ключа', 'горячий ключа', 'горячому ключю', 'горячый ключя', 'горячий ключ', 'горячого ключа', 'горячем ключе', 'Горячим Ключем', 'Горячим Ключом', 'Горячому Ключю', 'Горячий Ключ', 'Горячого Ключя', 'Горячому Ключу', 'Горячего Ключя', 'Горячему Ключю', 'Горячий Ключа', 'Горячему Ключу', 'Горячый Ключа', 'Горячым Ключом', 'Горячой Ключа', 'Горячом Ключе', 'Горячой Ключя', 'Горячого Ключа', 'Горячий Ключя', 'Горячем Ключе', 'Горячым Ключем', 'Горячый Ключя', 'Горячего Ключа'], 'Грайворон': ['грайворонем', 'грайвороня', 'грайворону', 'грайворона', 'грайвороню', 'грайворон', 'грайвороне', 'грайвороном', 'Грайвороном', 'Грайворону', 'Грайвороня', 'Грайворон', 'Грайвороню', 'Грайворона', 'Грайвороне', 'Грайворонем'], 'Гремячинск': ['гремячинску', 'гремячинскем', 'гремячинском', 'гремячинске', 'гремячинскя', 'гремячинск', 'гремячинскю', 'гремячинска', 'Гремячинска', 'Гремячинске', 'Гремячинску', 'Гремячинск', 'Гремячинскем', 'Гремячинском', 'Гремячинскя', 'Гремячинскю'], 'Грозный': ['грозным', 'грознему', 'грознего', 'грозному', 'грозного', 'грозной', 'грозний', 'грозном', 'грозним', 'грозный', 'грознем', 'Грозный', 'Грозним', 'Грознего', 'Грозным', 'Грозной', 'Грознему', 'Грозному', 'Грозного', 'Грозний', 'Грозном', 'Грознем'], 'Грязи': ['грязи', 'Грязи'], 'Грязовец': ['грязовеце', 'грязовецом', 'грязовецю', 'грязовецу', 'грязовеца', 'грязовеця', 'грязовецем', 'грязовец', 'Грязовецу', 'Грязовец', 'Грязовецем', 'Грязовеця', 'Грязовеца', 'Грязовецом', 'Грязовеце', 'Грязовецю'], 'Губаха': ['губахой', 'губаха', 'губахы', 'губаху', 'губахи', 'губахе', 'Губахой', 'Губахе', 'Губаху', 'Губахы', 'Губаха', 'Губахи'], 'Губкин': ['губкином', 'губкин', 'губкина', 'губкинем', 'губкину', 'губкиню', 'губкиня', 'губкине', 'Губкином', 'Губкина', 'Губкин', 'Губкиню', 'Губкинем', 'Губкину', 'Губкине', 'Губкиня'], 'Губкинский': ['губкинскому', 'губкинском', 'губкинскым', 'губкинскем', 'губкинскему', 'губкинскый', 'губкинского', 'губкинскего', 'губкинский', 'губкинской', 'губкинским', 'Губкинском', 'Губкинскому', 'Губкинскему', 'Губкинскый', 'Губкинского', 'Губкинским', 'Губкинскем', 'Губкинскым', 'Губкинской', 'Губкинскего', 'Губкинский'], 'Гудермес': ['гудермесу', 'гудермесом', 'гудермесю', 'гудермеса', 'гудермесе', 'гудермес', 'гудермесем', 'гудермеся', 'Гудермеся', 'Гудермесу', 'Гудермесом', 'Гудермесем', 'Гудермеса', 'Гудермесе', 'Гудермес', 'Гудермесю'], 'Гуково': ['гукове', 'гуковю', 'гукова', 'гуково', 'гуковом', 'гуковя', 'гуковем', 'гукову', 'Гукова', 'Гуковю', 'Гуковем', 'Гукове', 'Гуковя', 'Гуковом', 'Гукову', 'Гуково'], 'Гулькевичи': ['гулькевичи', 'Гулькевичи'], 'Гурьевск': ['гурьевском', 'гурьевскя', 'гурьевске', 'гурьевска', 'гурьевску', 'гурьевскем', 'гурьевскю', 'гурьевск', 'Гурьевск', 'Гурьевска', 'Гурьевскю', 'Гурьевском', 'Гурьевске', 'Гурьевскем', 'Гурьевскя', 'Гурьевску'], 'Гусев': ['гусева', 'гусеву', 'гусевю', 'гусевем', 'гусев', 'гусеве', 'гусевом', 'гусевя', 'Гусевем', 'Гусевя', 'Гусевом', 'Гусева', 'Гусеву', 'Гусев', 'Гусевю', 'Гусеве'], 'Гусиноозёрск': ['гусиноозёрскя', 'гусиноозёрскю', 'гусиноозёрск', 'гусиноозёрском', 'гусиноозёрску', 'гусиноозёрске', 'гусиноозёрскем', 'гусиноозёрска', 'Гусиноозёрску', 'Гусиноозёрск', 'Гусиноозёрскю', 'Гусиноозёрскя', 'Гусиноозёрске', 'Гусиноозёрска', 'Гусиноозёрском', 'Гусиноозёрскем'], 'Гусь-Хрустальный': ['гусь-хрустальнем', 'гусь-хрустальной', 'гусь-хрустальнему', 'гусь-хрустальним', 'гусь-хрустальному', 'гусь-хрустальным', 'гусь-хрустальний', 'гусь-хрустального', 'гусь-хрустальном', 'гусь-хрустальнего', 'гусь-хрустальный', 'Гусь-Хрустальному', 'Гусь-Хрустальном', 'Гусь-Хрустального', 'Гусь-Хрустальним', 'Гусь-Хрустальний', 'Гусь-Хрустальнему', 'Гусь-Хрустальный', 'Гусь-Хрустальнем', 'Гусь-Хрустальным', 'Гусь-Хрустальной', 'Гусь-Хрустальнего'], 'Давлеканово': ['давлеканова', 'давлекановом', 'давлекановю', 'давлеканову', 'давлеканове', 'давлекановем', 'давлеканово', 'давлекановя', 'Давлеканову', 'Давлеканова', 'Давлекановя', 'Давлекановю', 'Давлекановом', 'Давлекановем', 'Давлеканово', 'Давлеканове'], 'Дагестанские Огни': ['дагестанских огни', 'дагестанскых огни', 'дагестанским огни', 'дагестанскыми огни', 'дагестанскые огни', 'дагестанскими огни', 'дагестанскым огни', 'дагестанские огни', 'Дагестанских Огни', 'Дагестанские Огни', 'Дагестанским Огни', 'Дагестанскых Огни', 'Дагестанскими Огни', 'Дагестанскым Огни', 'Дагестанскыми Огни', 'Дагестанскые Огни'], 'Далматово': ['далматовем', 'далматовом', 'далматову', 'далматове', 'далматовя', 'далматовю', 'далматова', 'далматово', 'Далматовю', 'Далматовя', 'Далматово', 'Далматовем', 'Далматову', 'Далматова', 'Далматовом', 'Далматове'], 'Дальнегорск': ['дальнегорск', 'дальнегорскю', 'дальнегорске', 'дальнегорскем', 'дальнегорском', 'дальнегорскя', 'дальнегорска', 'дальнегорску', 'Дальнегорскю', 'Дальнегорске', 'Дальнегорску', 'Дальнегорска', 'Дальнегорском', 'Дальнегорскя', 'Дальнегорскем', 'Дальнегорск'], 'Дальнереченск': ['дальнереченскя', 'дальнереченскем', 'дальнереченске', 'дальнереченску', 'дальнереченск', 'дальнереченскю', 'дальнереченском', 'дальнереченска', 'Дальнереченск', 'Дальнереченскю', 'Дальнереченска', 'Дальнереченском', 'Дальнереченску', 'Дальнереченскя', 'Дальнереченскем', 'Дальнереченске'], 'Данилов': ['данилове', 'данилову', 'даниловом', 'данилов', 'данилова', 'даниловю', 'даниловя', 'даниловем', 'Даниловю', 'Даниловем', 'Данилова', 'Даниловя', 'Данилове', 'Данилов', 'Даниловом', 'Данилову'], 'Данков': ['данковем', 'данкову', 'данкова', 'данков', 'данкове', 'данковя', 'данковом', 'данковю', 'Данкова', 'Данковом', 'Данкове', 'Данкову', 'Данковя', 'Данков', 'Данковем', 'Данковю'], 'Дегтярск': ['дегтярска', 'дегтярске', 'дегтярском', 'дегтярскя', 'дегтярску', 'дегтярскем', 'дегтярскю', 'дегтярск', 'Дегтярскю', 'Дегтярск', 'Дегтярске', 'Дегтярскя', 'Дегтярском', 'Дегтярску', 'Дегтярска', 'Дегтярскем'], 'Дедовск': ['дедовск', 'дедовске', 'дедовском', 'дедовскю', 'дедовска', 'дедовскем', 'дедовску', 'дедовскя', 'Дедовскю', 'Дедовском', 'Дедовск', 'Дедовску', 'Дедовска', 'Дедовскем', 'Дедовске', 'Дедовскя'], 'Демидов': ['демидове', 'демидова', 'демидов', 'демидовю', 'демидовем', 'демидовя', 'демидову', 'демидовом', 'Демидове', 'Демидовю', 'Демидовом', 'Демидовем', 'Демидовя', 'Демидову', 'Демидова', 'Демидов'], 'Дербент': ['дербенте', 'дербентем', 'дербентю', 'дербент', 'дербента', 'дербентом', 'дербентя', 'дербенту', 'Дербентя', 'Дербенте', 'Дербент', 'Дербента', 'Дербентю', 'Дербентом', 'Дербенту', 'Дербентем'], 'Десногорск': ['десногорске', 'десногорскю', 'десногорском', 'десногорска', 'десногорскем', 'десногорск', 'десногорску', 'десногорскя', 'Десногорску', 'Десногорскем', 'Десногорском', 'Десногорска', 'Десногорск', 'Десногорскя', 'Десногорскю', 'Десногорске'], 'Джанкой': ['джанкой', 'джанким', 'джанкый', 'джанком', 'джанкого', 'джанкему', 'джанкому', 'джанкем', 'джанкым', 'джанкий', 'джанкего', 'Джанким', 'Джанкого', 'Джанкый', 'Джанком', 'Джанкем', 'Джанкему', 'Джанкой', 'Джанкому', 'Джанкий', 'Джанкым', 'Джанкего'], 'Дзержинск': ['дзержинскя', 'дзержинска', 'дзержинску', 'дзержинск', 'дзержинскем', 'дзержинске', 'дзержинскю', 'дзержинском', 'Дзержинска', 'Дзержинскю', 'Дзержинске', 'Дзержинску', 'Дзержинск', 'Дзержинском', 'Дзержинскем', 'Дзержинскя'], 'Дзержинский': ['дзержинскый', 'дзержинскего', 'дзержинскем', 'дзержинскому', 'дзержинским', 'дзержинского', 'дзержинской', 'дзержинскым', 'дзержинскему', 'дзержинский', 'дзержинском', 'Дзержинскым', 'Дзержинским', 'Дзержинскему', 'Дзержинскего', 'Дзержинского', 'Дзержинском', 'Дзержинскый', 'Дзержинский', 'Дзержинскем', 'Дзержинскому', 'Дзержинской'], 'Дивногорск': ['дивногорскем', 'дивногорске', 'дивногорскя', 'дивногорскю', 'дивногорску', 'дивногорск', 'дивногорском', 'дивногорска', 'Дивногорск', 'Дивногорска', 'Дивногорске', 'Дивногорском', 'Дивногорскю', 'Дивногорску', 'Дивногорскя', 'Дивногорскем'], 'Дигора': ['дигора', 'дигорой', 'дигори', 'дигоры', 'дигоре', 'дигору', 'Дигори', 'Дигора', 'Дигору', 'Дигоре', 'Дигорой', 'Дигоры'], 'Димитровград': ['димитровградя', 'димитровградю', 'димитровграде', 'димитровграда', 'димитровграду', 'димитровградом', 'димитровградем', 'димитровград', 'Димитровграде', 'Димитровградя', 'Димитровградем', 'Димитровграду', 'Димитровградю', 'Димитровград', 'Димитровграда', 'Димитровградом'], 'Дмитриев': ['дмитриевем', 'дмитриев', 'дмитриеву', 'дмитриева', 'дмитриевя', 'дмитриеве', 'дмитриевю', 'дмитриевом', 'Дмитриевем', 'Дмитриевю', 'Дмитриевя', 'Дмитриева', 'Дмитриевом', 'Дмитриеве', 'Дмитриеву', 'Дмитриев'], 'Дмитров': ['дмитровом', 'дмитровю', 'дмитрову', 'дмитров', 'дмитровя', 'дмитрове', 'дмитровем', 'дмитрова', 'Дмитровя', 'Дмитровю', 'Дмитрове', 'Дмитровем', 'Дмитрову', 'Дмитрова', 'Дмитров', 'Дмитровом'], 'Дмитровск': ['дмитровском', 'дмитровска', 'дмитровск', 'дмитровскем', 'дмитровску', 'дмитровскя', 'дмитровске', 'дмитровскю', 'Дмитровске', 'Дмитровскя', 'Дмитровскем', 'Дмитровскю', 'Дмитровска', 'Дмитровск', 'Дмитровском', 'Дмитровску'], 'Дно': ['днем', 'дню', 'дно', 'дном', 'дня', 'дне', 'дну', 'дна', 'Дно', 'Дне', 'Дна', 'Дня', 'Дню', 'Дном', 'Дну', 'Днем'], 'Добрянка': ['добрянкы', 'добрянка', 'добрянкой', 'добрянки', 'добрянку', 'добрянке', 'Добрянки', 'Добрянкой', 'Добрянке', 'Добрянкы', 'Добрянка', 'Добрянку'], 'Долгопрудный': ['долгопрудный', 'долгопрудном', 'долгопрудний', 'долгопрудного', 'долгопрудному', 'долгопрудним', 'долгопрудным', 'долгопруднем', 'долгопруднего', 'долгопруднему', 'долгопрудной', 'Долгопрудного', 'Долгопрудным', 'Долгопрудной', 'Долгопрудном', 'Долгопрудному', 'Долгопрудний', 'Долгопруднего', 'Долгопрудним', 'Долгопруднем', 'Долгопруднему', 'Долгопрудный'], 'Долинск': ['долинском', 'долинску', 'долинска', 'долинскю', 'долинск', 'долинскя', 'долинске', 'долинскем', 'Долинскю', 'Долинска', 'Долинске', 'Долинску', 'Долинск', 'Долинскя', 'Долинском', 'Долинскем'], 'Домодедово': ['домодедову', 'домодедовем', 'домодедова', 'домодедово', 'домодедовю', 'домодедовя', 'домодедовом', 'домодедове', 'Домодедово', 'Домодедовя', 'Домодедову', 'Домодедовем', 'Домодедовом', 'Домодедова', 'Домодедовю', 'Домодедове'], 'Донецк': ['донецке', 'донецкя', 'донецкем', 'донецк', 'донецку', 'донецка', 'донецком', 'донецкю', 'Донецкем', 'Донецкя', 'Донецк', 'Донецком', 'Донецку', 'Донецка', 'Донецке', 'Донецкю'], 'Донской': ['донскый', 'донским', 'донскего', 'донской', 'донском', 'донскем', 'донскым', 'донскему', 'донский', 'донского', 'донскому', 'Донском', 'Донского', 'Донскым', 'Донскему', 'Донскем', 'Донскому', 'Донскый', 'Донской', 'Донский', 'Донским', 'Донскего'], 'Дорогобуж': ['дорогобуже', 'дорогобужа', 'дорогобужем', 'дорогобужом', 'дорогобуж', 'дорогобужя', 'дорогобужю', 'дорогобужу', 'Дорогобужу', 'Дорогобужю', 'Дорогобуж', 'Дорогобужом', 'Дорогобуже', 'Дорогобужя', 'Дорогобужем', 'Дорогобужа'], 'Дрезна': ['дрезни', 'дрезной', 'дрезну', 'дрезна', 'дрезны', 'дрезне', 'Дрезной', 'Дрезна', 'Дрезни', 'Дрезне', 'Дрезны', 'Дрезну'], 'Дубна': ['дубной', 'дубны', 'дубни', 'дубну', 'дубна', 'дубне', 'Дубны', 'Дубне', 'Дубна', 'Дубну', 'Дубни', 'Дубной'], 'Дубовка': ['дубовка', 'дубовки', 'дубовке', 'дубовку', 'дубовкы', 'дубовкой', 'Дубовку', 'Дубовкы', 'Дубовке', 'Дубовкой', 'Дубовка', 'Дубовки'], 'Дудинка': ['дудинкой', 'дудинку', 'дудинкы', 'дудинке', 'дудинки', 'дудинка', 'Дудинку', 'Дудинки', 'Дудинкой', 'Дудинкы', 'Дудинка', 'Дудинке'], 'Духовщина': ['духовщиной', 'духовщины', 'духовщину', 'духовщина', 'духовщини', 'духовщине', 'Духовщиной', 'Духовщине', 'Духовщина', 'Духовщину', 'Духовщини', 'Духовщины'], 'Дюртюли': ['дюртюли', 'Дюртюли'], 'Дятьково': ['дятькова', 'дятьковом', 'дятьковем', 'дятьковю', 'дятькову', 'дятьково', 'дятькове', 'дятьковя', 'Дятькову', 'Дятьковем', 'Дятькова', 'Дятьково', 'Дятьковя', 'Дятьковю', 'Дятькове', 'Дятьковом'], 'Евпатория': ['евпаторию', 'евпатории', 'евпаторией', 'евпатория', 'Евпатории', 'Евпатория', 'Евпаторию', 'Евпаторией'], 'Егорьевск': ['егорьевске', 'егорьевску', 'егорьевскем', 'егорьевскю', 'егорьевскя', 'егорьевск', 'егорьевском', 'егорьевска', 'Егорьевск', 'Егорьевскя', 'Егорьевском', 'Егорьевскем', 'Егорьевска', 'Егорьевскю', 'Егорьевску', 'Егорьевске'], 'Ейск': ['ейском', 'ейску', 'ейскем', 'ейск', 'ейске', 'ейска', 'ейскя', 'ейскю', 'Ейском', 'Ейске', 'Ейскю', 'Ейскем', 'Ейску', 'Ейска', 'Ейскя', 'Ейск'], 'Екатеринбург': ['екатеринбургю', 'екатеринбургем', 'екатеринбурга', 'екатеринбургя', 'екатеринбургом', 'екатеринбург', 'екатеринбургу', 'екатеринбурге', 'Екатеринбург', 'Екатеринбургем', 'Екатеринбурга', 'Екатеринбургю', 'Екатеринбургя', 'Екатеринбургу', 'Екатеринбургом', 'Екатеринбурге'], 'Елабуга': ['елабугу', 'елабугы', 'елабуге', 'елабуги', 'елабуга', 'елабугой', 'Елабугой', 'Елабуги', 'Елабуга', 'Елабуге', 'Елабугы', 'Елабугу'], 'Елец': ['елецю', 'елец', 'елецем', 'елецу', 'елецом', 'елеце', 'елеця', 'елеца', 'Елеця', 'Елецю', 'Елецем', 'Елец', 'Елецом', 'Елеца', 'Елеце', 'Елецу'], 'Елизово': ['елизовю', 'елизовя', 'елизова', 'елизове', 'елизовом', 'елизово', 'елизовем', 'елизову', 'Елизовю', 'Елизове', 'Елизовом', 'Елизову', 'Елизова', 'Елизовя', 'Елизово', 'Елизовем'], 'Ельня': ['ельнёй', 'ельней', 'ельни', 'ельне', 'ельню', 'ельня', 'Ельнёй', 'Ельней', 'Ельню', 'Ельне', 'Ельни', 'Ельня'], 'Еманжелинск': ['еманжелинску', 'еманжелинска', 'еманжелинск', 'еманжелинскя', 'еманжелинскем', 'еманжелинском', 'еманжелинскю', 'еманжелинске', 'Еманжелинском', 'Еманжелинскю', 'Еманжелинскем', 'Еманжелинскя', 'Еманжелинска', 'Еманжелинск', 'Еманжелинску', 'Еманжелинске'], 'Емва': ['емва', 'емве', 'емву', 'емвой', 'емвы', 'емви', 'Емвой', 'Емвы', 'Емву', 'Емви', 'Емве', 'Емва'], 'Енисейск': ['енисейску', 'енисейском', 'енисейска', 'енисейске', 'енисейскю', 'енисейскя', 'енисейск', 'енисейскем', 'Енисейскем', 'Енисейскя', 'Енисейске', 'Енисейском', 'Енисейска', 'Енисейск', 'Енисейску', 'Енисейскю'], 'Ермолино': ['ермолине', 'ермолину', 'ермолина', 'ермолином', 'ермолиню', 'ермолиня', 'ермолино', 'ермолинем', 'Ермолино', 'Ермолина', 'Ермолинем', 'Ермолиня', 'Ермолине', 'Ермолиню', 'Ермолином', 'Ермолину'], 'Ершов': ['ершове', 'ершовю', 'ершовем', 'ершову', 'ершовя', 'ершовом', 'ершова', 'ершов', 'Ершовю', 'Ершову', 'Ершов', 'Ершовем', 'Ершовом', 'Ершове', 'Ершова', 'Ершовя'], 'Ессентуки': ['ессентуки', 'Ессентуки'], 'Ефремов': ['ефремовем', 'ефремову', 'ефремова', 'ефремове', 'ефремовя', 'ефремовом', 'ефремов', 'ефремовю', 'Ефремовом', 'Ефремовю', 'Ефремова', 'Ефремовя', 'Ефремов', 'Ефремовем', 'Ефремове', 'Ефремову'], 'Железноводск': ['железноводскем', 'железноводскя', 'железноводске', 'железноводскю', 'железноводск', 'железноводску', 'железноводском', 'железноводска', 'Железноводском', 'Железноводскем', 'Железноводску', 'Железноводскя', 'Железноводска', 'Железноводскю', 'Железноводск', 'Железноводске'], 'Железногорск-Илимский': ['железногорск-илимского', 'железногорск-илимскый', 'железногорск-илимским', 'железногорск-илимскем', 'железногорск-илимской', 'железногорск-илимском', 'железногорск-илимскего', 'железногорск-илимскому', 'железногорск-илимскым', 'железногорск-илимский', 'железногорск-илимскему', 'Железногорск-Илимскему', 'Железногорск-Илимскый', 'Железногорск-Илимского', 'Железногорск-Илимскому', 'Железногорск-Илимскем', 'Железногорск-Илимском', 'Железногорск-Илимской', 'Железногорск-Илимский', 'Железногорск-Илимскым', 'Железногорск-Илимскего', 'Железногорск-Илимским'], 'Железногорск': ['железногорском', 'железногорске', 'железногорскя', 'железногорска', 'железногорск', 'железногорскю', 'железногорску', 'железногорскем', 'Железногорскю', 'Железногорск', 'Железногорску', 'Железногорске', 'Железногорскем', 'Железногорска', 'Железногорском', 'Железногорскя'], 'Жердевка': ['жердевки', 'жердевка', 'жердевке', 'жердевку', 'жердевкой', 'жердевкы', 'Жердевкой', 'Жердевки', 'Жердевкы', 'Жердевке', 'Жердевку', 'Жердевка'], 'Жигулёвск': ['жигулёвскем', 'жигулёвскя', 'жигулёвску', 'жигулёвском', 'жигулёвске', 'жигулёвск', 'жигулёвска', 'жигулёвскю', 'Жигулёвском', 'Жигулёвске', 'Жигулёвска', 'Жигулёвскю', 'Жигулёвску', 'Жигулёвск', 'Жигулёвскем', 'Жигулёвскя'], 'Жиздра': ['жиздра', 'жиздру', 'жиздре', 'жиздри', 'жиздры', 'жиздрой', 'Жиздре', 'Жиздры', 'Жиздра', 'Жиздри', 'Жиздру', 'Жиздрой'], 'Жирновск': ['жирновском', 'жирновскя', 'жирновску', 'жирновска', 'жирновскю', 'жирновскем', 'жирновске', 'жирновск', 'Жирновску', 'Жирновскем', 'Жирновске', 'Жирновскю', 'Жирновска', 'Жирновск', 'Жирновскя', 'Жирновском'], 'Жуков': ['жукова', 'жуковем', 'жуковом', 'жукове', 'жуковю', 'жукову', 'жуковя', 'жуков', 'Жукова', 'Жуковем', 'Жуковю', 'Жуков', 'Жуковом', 'Жукове', 'Жуковя', 'Жукову'], 'Жуковка': ['жуковку', 'жуковке', 'жуковка', 'жуковкой', 'жуковкы', 'жуковки', 'Жуковки', 'Жуковке', 'Жуковка', 'Жуковкой', 'Жуковку', 'Жуковкы'], 'Жуковский': ['жуковскего', 'жуковского', 'жуковскому', 'жуковскым', 'жуковскему', 'жуковской', 'жуковскем', 'жуковскый', 'жуковский', 'жуковском', 'жуковским', 'Жуковскему', 'Жуковского', 'Жуковскым', 'Жуковский', 'Жуковскем', 'Жуковскый', 'Жуковскому', 'Жуковском', 'Жуковскего', 'Жуковской', 'Жуковским'], 'Завитинск': ['завитинску', 'завитинскя', 'завитинскем', 'завитинска', 'завитинскю', 'завитинском', 'завитинске', 'завитинск', 'Завитинске', 'Завитинском', 'Завитинска', 'Завитинск', 'Завитинскем', 'Завитинскю', 'Завитинску', 'Завитинскя'], 'Заводоуковск': ['заводоуковскю', 'заводоуковску', 'заводоуковскя', 'заводоуковскем', 'заводоуковском', 'заводоуковске', 'заводоуковск', 'заводоуковска', 'Заводоуковск', 'Заводоуковске', 'Заводоуковскем', 'Заводоуковскя', 'Заводоуковска', 'Заводоуковску', 'Заводоуковском', 'Заводоуковскю'], 'Заволжск': ['заволжскем', 'заволжском', 'заволжскя', 'заволжску', 'заволжске', 'заволжск', 'заволжска', 'заволжскю', 'Заволжскя', 'Заволжске', 'Заволжскю', 'Заволжска', 'Заволжску', 'Заволжском', 'Заволжск', 'Заволжскем'], 'Заволжье': ['заволжьем', 'заволжью', 'заволжьом', 'заволжьа', 'заволжьо', 'заволжья', 'заволжье', 'заволжьу', 'Заволжью', 'Заволжьу', 'Заволжье', 'Заволжья', 'Заволжьом', 'Заволжьем', 'Заволжьа', 'Заволжьо'], 'Задонск': ['задонска', 'задонск', 'задонскю', 'задонскя', 'задонске', 'задонску', 'задонскем', 'задонском', 'Задонском', 'Задонскя', 'Задонскем', 'Задонска', 'Задонске', 'Задонскю', 'Задонску', 'Задонск'], 'Заинск': ['заинскем', 'заинском', 'заинска', 'заинск', 'заинскю', 'заинске', 'заинскя', 'заинску', 'Заинску', 'Заинскя', 'Заинск', 'Заинском', 'Заинске', 'Заинска', 'Заинскю', 'Заинскем'], 'Закаменск': ['закаменском', 'закаменскем', 'закаменске', 'закаменск', 'закаменску', 'закаменскю', 'закаменска', 'закаменскя', 'Закаменск', 'Закаменска', 'Закаменскем', 'Закаменском', 'Закаменскя', 'Закаменску', 'Закаменскю', 'Закаменске'], 'Заозёрный': ['заозёрной', 'заозёрный', 'заозёрном', 'заозёрнему', 'заозёрнего', 'заозёрний', 'заозёрного', 'заозёрным', 'заозёрним', 'заозёрнем', 'заозёрному', 'Заозёрным', 'Заозёрним', 'Заозёрний', 'Заозёрной', 'Заозёрному', 'Заозёрном', 'Заозёрного', 'Заозёрнему', 'Заозёрный', 'Заозёрнем', 'Заозёрнего'], 'Заозёрск': ['заозёрску', 'заозёрском', 'заозёрскем', 'заозёрск', 'заозёрскя', 'заозёрске', 'заозёрскю', 'заозёрска', 'Заозёрскем', 'Заозёрску', 'Заозёрском', 'Заозёрска', 'Заозёрскю', 'Заозёрск', 'Заозёрске', 'Заозёрскя'], 'Западная Двина': ['западной двини', 'западнюю двину', 'западную двину', 'западной двины', 'западная двина', 'западной двиной', 'западней двине', 'Западная Двина', 'Западную Двину', 'Западной Двины', 'Западной Двиной', 'Западнюю Двину', 'Западной Двини', 'Западней Двине'], 'Заполярный': ['заполярной', 'заполярнему', 'заполярного', 'заполярным', 'заполярним', 'заполярном', 'заполярнего', 'заполярному', 'заполярний', 'заполярный', 'заполярнем', 'Заполярним', 'Заполярном', 'Заполярной', 'Заполярного', 'Заполярнего', 'Заполярний', 'Заполярным', 'Заполярнем', 'Заполярному', 'Заполярный', 'Заполярнему'], 'Зарайск': ['зарайскя', 'зарайск', 'зарайскем', 'зарайскю', 'зарайском', 'зарайска', 'зарайску', 'зарайске', 'Зарайском', 'Зарайску', 'Зарайска', 'Зарайске', 'Зарайскю', 'Зарайскем', 'Зарайскя', 'Зарайск'], 'Заречный': ['заречным', 'заречной', 'заречному', 'заречнем', 'заречнего', 'заречный', 'заречний', 'заречним', 'заречнему', 'заречного', 'заречном', 'Заречний', 'Заречнему', 'Заречной', 'Заречному', 'Заречнего', 'Заречним', 'Заречном', 'Заречнем', 'Заречный', 'Заречного', 'Заречным'], 'Заринск': ['заринскем', 'заринск', 'заринскя', 'заринску', 'заринскю', 'заринском', 'заринске', 'заринска', 'Заринскю', 'Заринскя', 'Заринскем', 'Заринск', 'Заринске', 'Заринска', 'Заринском', 'Заринску'], 'Звенигово': ['звениговя', 'звенигову', 'звениговем', 'звенигово', 'звенигове', 'звенигова', 'звениговю', 'звениговом', 'Звенигове', 'Звенигово', 'Звениговю', 'Звениговя', 'Звенигова', 'Звениговом', 'Звенигову', 'Звениговем'], 'Звенигород': ['звенигорода', 'звенигородом', 'звенигородя', 'звенигородю', 'звенигороду', 'звенигородем', 'звенигород', 'звенигороде', 'Звенигородю', 'Звенигородом', 'Звенигородя', 'Звенигородем', 'Звенигород', 'Звенигороду', 'Звенигорода', 'Звенигороде'], 'Зверево': ['зверево', 'зверевю', 'зверева', 'зверевем', 'зверевя', 'звереву', 'зверевом', 'звереве', 'Зверево', 'Зверева', 'Зверевем', 'Зверевя', 'Звереву', 'Зверевом', 'Зверевю', 'Звереве'], 'Зеленогорск': ['зеленогорскю', 'зеленогорском', 'зеленогорску', 'зеленогорск', 'зеленогорске', 'зеленогорскя', 'зеленогорскем', 'зеленогорска', 'Зеленогорском', 'Зеленогорскем', 'Зеленогорск', 'Зеленогорскю', 'Зеленогорску', 'Зеленогорскя', 'Зеленогорска', 'Зеленогорске'], 'Зеленоградск': ['зеленоградску', 'зеленоградском', 'зеленоградскю', 'зеленоградске', 'зеленоградск', 'зеленоградскя', 'зеленоградскем', 'зеленоградска', 'Зеленоградскя', 'Зеленоградске', 'Зеленоградскем', 'Зеленоградском', 'Зеленоградск', 'Зеленоградску', 'Зеленоградска', 'Зеленоградскю'], 'Зеленодольск': ['зеленодольскю', 'зеленодольскем', 'зеленодольском', 'зеленодольск', 'зеленодольску', 'зеленодольскя', 'зеленодольске', 'зеленодольска', 'Зеленодольскем', 'Зеленодольскя', 'Зеленодольска', 'Зеленодольском', 'Зеленодольске', 'Зеленодольску', 'Зеленодольскю', 'Зеленодольск'], 'Зеленокумск': ['зеленокумску', 'зеленокумскем', 'зеленокумскя', 'зеленокумскю', 'зеленокумск', 'зеленокумском', 'зеленокумска', 'зеленокумске', 'Зеленокумск', 'Зеленокумскя', 'Зеленокумском', 'Зеленокумске', 'Зеленокумска', 'Зеленокумскю', 'Зеленокумску', 'Зеленокумскем'], 'Зерноград': ['зерноградем', 'зернограда', 'зерноградя', 'зерноград', 'зернограду', 'зерноградю', 'зерноградом', 'зернограде', 'Зерноград', 'Зерноградом', 'Зернограда', 'Зерноградем', 'Зерноградю', 'Зернограде', 'Зернограду', 'Зерноградя'], 'Зея': ['зея', 'зее', 'зеи', 'зеей', 'зею', 'Зеи', 'Зею', 'Зее', 'Зея', 'Зеей'], 'Зима': ['зиму', 'зимы', 'зима', 'зимой', 'зиме', 'зими', 'Зими', 'Зима', 'Зиме', 'Зимой', 'Зимы', 'Зиму'], 'Златоуст': ['златоуст', 'златоуста', 'златоустем', 'златоустя', 'златоустю', 'златоусте', 'златоусту', 'златоустом', 'Златоуст', 'Златоустю', 'Златоуста', 'Златоусту', 'Златоустем', 'Златоусте', 'Златоустя', 'Златоустом'], 'Злынка': ['злынке', 'злынку', 'злынки', 'злынка', 'злынкой', 'злынкы', 'Злынкой', 'Злынки', 'Злынке', 'Злынку', 'Злынка', 'Злынкы'], 'Змеиногорск': ['змеиногорске', 'змеиногорска', 'змеиногорскя', 'змеиногорску', 'змеиногорском', 'змеиногорскем', 'змеиногорскю', 'змеиногорск', 'Змеиногорск', 'Змеиногорскя', 'Змеиногорскю', 'Змеиногорску', 'Змеиногорска', 'Змеиногорскем', 'Змеиногорском', 'Змеиногорске'], 'Знаменск': ['знаменскю', 'знаменску', 'знаменск', 'знаменске', 'знаменскя', 'знаменском', 'знаменскем', 'знаменска', 'Знаменскя', 'Знаменске', 'Знаменска', 'Знаменском', 'Знаменск', 'Знаменскю', 'Знаменскем', 'Знаменску'], 'Зубцов': ['зубцовем', 'зубцову', 'зубцова', 'зубцовя', 'зубцов', 'зубцовом', 'зубцове', 'зубцовю', 'Зубцовом', 'Зубцова', 'Зубцовя', 'Зубцов', 'Зубцове', 'Зубцовю', 'Зубцову', 'Зубцовем'], 'Зуевка': ['зуевкой', 'зуевке', 'зуевки', 'зуевку', 'зуевка', 'зуевкы', 'Зуевка', 'Зуевкы', 'Зуевке', 'Зуевкой', 'Зуевки', 'Зуевку'], 'Ивангород': ['ивангорода', 'ивангородем', 'ивангороде', 'ивангородю', 'ивангород', 'ивангородом', 'ивангородя', 'ивангороду', 'Ивангородю', 'Ивангород', 'Ивангорода', 'Ивангородом', 'Ивангородя', 'Ивангородем', 'Ивангороду', 'Ивангороде'], 'Иваново': ['иванову', 'иванова', 'ивановю', 'ивановя', 'ивановем', 'иванове', 'ивановом', 'иваново', 'Иванову', 'Иванова', 'Ивановя', 'Ивановем', 'Ивановю', 'Иваново', 'Иванове', 'Ивановом'], 'Ивантеевка': ['ивантеевке', 'ивантеевку', 'ивантеевка', 'ивантеевки', 'ивантеевкы', 'ивантеевкой', 'Ивантеевка', 'Ивантеевкы', 'Ивантеевкой', 'Ивантеевку', 'Ивантеевки', 'Ивантеевке'], 'Ивдель': ['ивделью', 'ивдель', 'ивдели', 'Ивдель', 'Ивдели', 'Ивделью'], 'Игарка': ['игарки', 'игарка', 'игаркы', 'игарке', 'игаркой', 'игарку', 'Игаркы', 'Игарке', 'Игаркой', 'Игарку', 'Игарки', 'Игарка'], 'Ижевск': ['ижевскю', 'ижевске', 'ижевска', 'ижевском', 'ижевскем', 'ижевску', 'ижевскя', 'ижевск', 'Ижевску', 'Ижевскю', 'Ижевске', 'Ижевскя', 'Ижевска', 'Ижевском', 'Ижевскем', 'Ижевск'], 'Избербаш': ['избербаше', 'избербашем', 'избербаша', 'избербашю', 'избербашом', 'избербаш', 'избербашя', 'избербашу', 'Избербашом', 'Избербаше', 'Избербаша', 'Избербашем', 'Избербашу', 'Избербашя', 'Избербашю', 'Избербаш'], 'Изобильный': ['изобильному', 'изобильного', 'изобильный', 'изобильнему', 'изобильний', 'изобильным', 'изобильном', 'изобильной', 'изобильнем', 'изобильнего', 'изобильним', 'Изобильнем', 'Изобильнего', 'Изобильный', 'Изобильний', 'Изобильного', 'Изобильним', 'Изобильном', 'Изобильному', 'Изобильнему', 'Изобильной', 'Изобильным'], 'Иланский': ['иланский', 'иланскому', 'иланскем', 'иланскему', 'иланском', 'иланским', 'иланскего', 'иланскый', 'иланской', 'иланского', 'иланскым', 'Иланском', 'Иланскый', 'Иланской', 'Иланскем', 'Иланскым', 'Иланскому', 'Иланскего', 'Иланским', 'Иланскему', 'Иланского', 'Иланский'], 'Инза': ['инза', 'инзы', 'инзи', 'инзе', 'инзой', 'инзу', 'Инзи', 'Инзу', 'Инзой', 'Инза', 'Инзе', 'Инзы'], 'Иннополис': ['иннополисом', 'иннополисе', 'иннополису', 'иннополисем', 'иннополися', 'иннополис', 'иннополисю', 'иннополиса', 'Иннополися', 'Иннополисем', 'Иннополис', 'Иннополисю', 'Иннополиса', 'Иннополисом', 'Иннополисе', 'Иннополису'], 'Инсар': ['инсару', 'инсарем', 'инсаря', 'инсар', 'инсаре', 'инсарю', 'инсара', 'инсаром', 'Инсару', 'Инсара', 'Инсаря', 'Инсаром', 'Инсарем', 'Инсарю', 'Инсар', 'Инсаре'], 'Инта': ['инту', 'интой', 'инте', 'инты', 'инти', 'инта', 'Интой', 'Инте', 'Инти', 'Инты', 'Инту', 'Инта'], 'Ипатово': ['ипатово', 'ипатову', 'ипатовем', 'ипатова', 'ипатовом', 'ипатове', 'ипатовя', 'ипатовю', 'Ипатовом', 'Ипатова', 'Ипатовя', 'Ипатове', 'Ипатовем', 'Ипатовю', 'Ипатову', 'Ипатово'], 'Ирбит': ['ирбитем', 'ирбит', 'ирбитю', 'ирбите', 'ирбитом', 'ирбитя', 'ирбиту', 'ирбита', 'Ирбита', 'Ирбитя', 'Ирбиту', 'Ирбитем', 'Ирбит', 'Ирбитом', 'Ирбитю', 'Ирбите'], 'Иркутск': ['иркутске', 'иркутскю', 'иркутскя', 'иркутск', 'иркутска', 'иркутскем', 'иркутску', 'иркутском', 'Иркутскя', 'Иркутск', 'Иркутскю', 'Иркутска', 'Иркутске', 'Иркутскем', 'Иркутску', 'Иркутском'], 'Исилькуль': ['исилькули', 'исилькуль', 'исилькулью', 'Исилькули', 'Исилькулью', 'Исилькуль'], 'Искитим': ['искитимом', 'искитиму', 'искитимем', 'искитим', 'искитиме', 'искитима', 'искитимю', 'искитимя', 'Искитима', 'Искитиму', 'Искитимя', 'Искитимем', 'Искитимю', 'Искитимом', 'Искитим', 'Искитиме'], 'Истра': ['истра', 'истру', 'истрой', 'истры', 'истре', 'истри', 'Истру', 'Истрой', 'Истра', 'Истры', 'Истре', 'Истри'], 'Ишим': ['ишим', 'ишиме', 'ишима', 'ишиму', 'ишимом', 'ишимя', 'ишимем', 'ишимю', 'Ишима', 'Ишиме', 'Ишимя', 'Ишимю', 'Ишим', 'Ишиму', 'Ишимом', 'Ишимем'], 'Ишимбай': ['ишимбая', 'ишимбаю', 'ишимбай', 'ишимбае', 'ишимбаом', 'ишимбаем', 'ишимбау', 'ишимбаа', 'Ишимбай', 'Ишимбае', 'Ишимбаю', 'Ишимбаа', 'Ишимбаом', 'Ишимбау', 'Ишимбаем', 'Ишимбая'], 'Йошкар-Ола': ['йошкар-ола', 'йошкар-олу', 'йошкар-оле', 'йошкар-оли', 'йошкар-олы', 'йошкар-олой', 'Йошкар-Олой', 'Йошкар-Оли', 'Йошкар-Олы', 'Йошкар-Ола', 'Йошкар-Оле', 'Йошкар-Олу'], 'Кадников': ['кадникову', 'кадникова', 'кадниковом', 'кадникове', 'кадников', 'кадниковем', 'кадниковя', 'кадниковю', 'Кадникову', 'Кадникова', 'Кадниковом', 'Кадникове', 'Кадниковем', 'Кадниковя', 'Кадников', 'Кадниковю'], 'Казань': ['казань', 'казани', 'казанью', 'Казани', 'Казанью', 'Казань'], 'Калач-на-Дону': ['калач-на-дону', 'Калач-на-Дону'], 'Калач': ['калачя', 'калача', 'калач', 'калачом', 'калачю', 'калачем', 'калаче', 'калачу', 'Калачю', 'Калача', 'Калачя', 'Калачем', 'Калачом', 'Калаче', 'Калач', 'Калачу'], 'Калачинск': ['калачинскем', 'калачинска', 'калачинском', 'калачинске', 'калачинск', 'калачинскю', 'калачинскя', 'калачинску', 'Калачинскем', 'Калачинску', 'Калачинска', 'Калачинск', 'Калачинскя', 'Калачинскю', 'Калачинском', 'Калачинске'], 'Калининград': ['калининградем', 'калининград', 'калининграду', 'калининграда', 'калининградю', 'калининграде', 'калининградя', 'калининградом', 'Калининграда', 'Калининградя', 'Калининград', 'Калининградом', 'Калининградю', 'Калининградем', 'Калининграду', 'Калининграде'], 'Калининск': ['калининскем', 'калининска', 'калининск', 'калининску', 'калининскю', 'калининске', 'калининском', 'калининскя', 'Калининскя', 'Калининске', 'Калининскем', 'Калининска', 'Калининску', 'Калининском', 'Калининск', 'Калининскю'], 'Калтан': ['калтане', 'калтаном', 'калтаню', 'калтана', 'калтанем', 'калтану', 'калтаня', 'калтан', 'Калтаню', 'Калтану', 'Калтан', 'Калтаня', 'Калтане', 'Калтанем', 'Калтана', 'Калтаном'], 'Калуга': ['калугу', 'калуги', 'калуга', 'калугой', 'калуге', 'калугы', 'Калугой', 'Калуге', 'Калуги', 'Калуга', 'Калугы', 'Калугу'], 'Калязин': ['калязиню', 'калязине', 'калязину', 'калязина', 'калязинем', 'калязиня', 'калязин', 'калязином', 'Калязиню', 'Калязина', 'Калязинем', 'Калязином', 'Калязине', 'Калязин', 'Калязину', 'Калязиня'], 'Камбарка': ['камбарки', 'камбаркой', 'камбарку', 'камбарка', 'камбарке', 'камбаркы', 'Камбарку', 'Камбарке', 'Камбарки', 'Камбаркой', 'Камбаркы', 'Камбарка'], 'Каменка': ['каменку', 'каменки', 'каменкы', 'каменка', 'каменке', 'каменкой', 'Каменке', 'Каменкы', 'Каменку', 'Каменка', 'Каменки', 'Каменкой'], 'Каменногорск': ['каменногорске', 'каменногорскем', 'каменногорска', 'каменногорскю', 'каменногорску', 'каменногорск', 'каменногорскя', 'каменногорском', 'Каменногорске', 'Каменногорском', 'Каменногорскем', 'Каменногорск', 'Каменногорску', 'Каменногорскю', 'Каменногорска', 'Каменногорскя'], 'Каменск-Уральский': ['каменск-уральскым', 'каменск-уральскый', 'каменск-уральскому', 'каменск-уральского', 'каменск-уральским', 'каменск-уральский', 'каменск-уральскего', 'каменск-уральскему', 'каменск-уральской', 'каменск-уральскем', 'каменск-уральском', 'Каменск-Уральскем', 'Каменск-Уральского', 'Каменск-Уральским', 'Каменск-Уральский', 'Каменск-Уральском', 'Каменск-Уральскым', 'Каменск-Уральской', 'Каменск-Уральскому', 'Каменск-Уральскый', 'Каменск-Уральскего', 'Каменск-Уральскему'], 'Каменск-Шахтинский': ['каменск-шахтинским', 'каменск-шахтинской', 'каменск-шахтинскому', 'каменск-шахтинскего', 'каменск-шахтинском', 'каменск-шахтинскый', 'каменск-шахтинского', 'каменск-шахтинский', 'каменск-шахтинскым', 'каменск-шахтинскем', 'каменск-шахтинскему', 'Каменск-Шахтинскего', 'Каменск-Шахтинский', 'Каменск-Шахтинского', 'Каменск-Шахтинскому', 'Каменск-Шахтинском', 'Каменск-Шахтинскем', 'Каменск-Шахтинскым', 'Каменск-Шахтинской', 'Каменск-Шахтинскему', 'Каменск-Шахтинским', 'Каменск-Шахтинскый'], 'Камень-на-Оби': ['камень-на-оби', 'Камень-на-Оби'], 'Камешково': ['камешкова', 'камешковю', 'камешковем', 'камешковя', 'камешкове', 'камешково', 'камешкову', 'камешковом', 'Камешково', 'Камешкове', 'Камешкову', 'Камешковю', 'Камешковем', 'Камешковя', 'Камешкова', 'Камешковом'], 'Камызяк': ['камызякя', 'камызякю', 'камызяке', 'камызяк', 'камызяком', 'камызяку', 'камызякем', 'камызяка', 'Камызякю', 'Камызяк', 'Камызякем', 'Камызяке', 'Камызяку', 'Камызяка', 'Камызякя', 'Камызяком'], 'Камышин': ['камышин', 'камышиню', 'камышине', 'камышиня', 'камышинем', 'камышина', 'камышину', 'камышином', 'Камышинем', 'Камышине', 'Камышин', 'Камышиня', 'Камышином', 'Камышиню', 'Камышину', 'Камышина'], 'Камышлов': ['камышловем', 'камышловю', 'камышлова', 'камышловом', 'камышловя', 'камышлову', 'камышлове', 'камышлов', 'Камышлов', 'Камышловом', 'Камышлове', 'Камышлову', 'Камышлова', 'Камышловю', 'Камышловем', 'Камышловя'], 'Канаш': ['канаш', 'канаше', 'канашем', 'канашом', 'канаша', 'канашя', 'канашу', 'канашю', 'Канашу', 'Канашю', 'Канашем', 'Канаша', 'Канаш', 'Канашом', 'Канашя', 'Канаше'], 'Кандалакша': ['кандалакша', 'кандалакшы', 'кандалакшу', 'кандалакшой', 'кандалакше', 'кандалакши', 'Кандалакши', 'Кандалакша', 'Кандалакшы', 'Кандалакшой', 'Кандалакше', 'Кандалакшу'], 'Канск': ['канску', 'канск', 'канска', 'канскя', 'канскем', 'канскю', 'канском', 'канске', 'Канск', 'Канскем', 'Канска', 'Канске', 'Канскя', 'Канскю', 'Канском', 'Канску'], 'Карабаново': ['карабановя', 'карабановем', 'карабаново', 'карабанова', 'карабанове', 'карабанову', 'карабановом', 'карабановю', 'Карабановя', 'Карабановем', 'Карабаново', 'Карабановю', 'Карабанова', 'Карабановом', 'Карабанову', 'Карабанове'], 'Карабаш': ['карабашу', 'карабашя', 'карабашю', 'карабаше', 'карабаша', 'карабаш', 'карабашем', 'карабашом', 'Карабашом', 'Карабаша', 'Карабашю', 'Карабаш', 'Карабашем', 'Карабашу', 'Карабашя', 'Карабаше'], 'Карабулак': ['карабулаку', 'карабулаке', 'карабулакю', 'карабулака', 'карабулакя', 'карабулаком', 'карабулакем', 'карабулак', 'Карабулакя', 'Карабулакю', 'Карабулак', 'Карабулаке', 'Карабулака', 'Карабулаком', 'Карабулаку', 'Карабулакем'], 'Карасук': ['карасукя', 'карасукем', 'карасуку', 'карасука', 'карасукю', 'карасуком', 'карасук', 'карасуке', 'Карасукя', 'Карасука', 'Карасукю', 'Карасуком', 'Карасук', 'Карасукем', 'Карасуку', 'Карасуке'], 'Карачаевск': ['карачаевскю', 'карачаевскем', 'карачаевск', 'карачаевска', 'карачаевском', 'карачаевску', 'карачаевскя', 'карачаевске', 'Карачаевска', 'Карачаевск', 'Карачаевску', 'Карачаевске', 'Карачаевскю', 'Карачаевском', 'Карачаевскем', 'Карачаевскя'], 'Карачев': ['карачевем', 'карачева', 'карачев', 'карачевю', 'карачевом', 'карачеве', 'карачевя', 'карачеву', 'Карачеве', 'Карачев', 'Карачевем', 'Карачевю', 'Карачеву', 'Карачевом', 'Карачевя', 'Карачева'], 'Каргат': ['каргату', 'каргата', 'каргатя', 'каргате', 'каргатем', 'каргат', 'каргатом', 'каргатю', 'Каргатом', 'Каргатю', 'Каргатя', 'Каргата', 'Каргату', 'Каргатем', 'Каргате', 'Каргат'], 'Каргополь': ['каргополью', 'каргополь', 'каргополи', 'Каргополи', 'Каргополь', 'Каргополью'], 'Карпинск': ['карпинскя', 'карпинска', 'карпинск', 'карпинскем', 'карпинске', 'карпинскю', 'карпинску', 'карпинском', 'Карпинск', 'Карпинска', 'Карпинску', 'Карпинскю', 'Карпинскем', 'Карпинском', 'Карпинскя', 'Карпинске'], 'Карталы': ['карталы', 'Карталы'], 'Касимов': ['касимову', 'касимовем', 'касимова', 'касимовя', 'касимове', 'касимовю', 'касимов', 'касимовом', 'Касимовем', 'Касимовом', 'Касимове', 'Касимова', 'Касимовя', 'Касимовю', 'Касимову', 'Касимов'], 'Касли': ['касли', 'Касли'], 'Каспийск': ['каспийске', 'каспийскем', 'каспийску', 'каспийска', 'каспийском', 'каспийскя', 'каспийск', 'каспийскю', 'Каспийскем', 'Каспийске', 'Каспийску', 'Каспийск', 'Каспийскю', 'Каспийскя', 'Каспийском', 'Каспийска'], 'Катав-Ивановск': ['катав-ивановска', 'катав-ивановском', 'катав-ивановскя', 'катав-ивановске', 'катав-ивановску', 'катав-ивановск', 'катав-ивановскем', 'катав-ивановскю', 'Катав-Ивановскем', 'Катав-Ивановском', 'Катав-Ивановску', 'Катав-Ивановскя', 'Катав-Ивановскю', 'Катав-Ивановске', 'Катав-Ивановск', 'Катав-Ивановска'], 'Катайск': ['катайск', 'катайскю', 'катайску', 'катайске', 'катайскя', 'катайска', 'катайском', 'катайскем', 'Катайску', 'Катайскю', 'Катайском', 'Катайска', 'Катайск', 'Катайскя', 'Катайске', 'Катайскем'], 'Качканар': ['качканаре', 'качканара', 'качканару', 'качканарем', 'качканар', 'качканаря', 'качканарю', 'качканаром', 'Качканара', 'Качканар', 'Качканаря', 'Качканаром', 'Качканару', 'Качканарем', 'Качканаре', 'Качканарю'], 'Кашин': ['кашинем', 'кашину', 'кашине', 'кашина', 'кашиню', 'кашиня', 'кашином', 'кашин', 'Кашину', 'Кашиня', 'Кашиню', 'Кашине', 'Кашин', 'Кашином', 'Кашинем', 'Кашина'], 'Кашира': ['кашира', 'кашири', 'каширой', 'каширу', 'кашире', 'каширы', 'Кашира', 'Каширу', 'Каширы', 'Каширой', 'Кашире', 'Кашири'], 'Кедровый': ['кедровего', 'кедровему', 'кедровий', 'кедровем', 'кедровим', 'кедровый', 'кедрового', 'кедровому', 'кедровой', 'кедровом', 'кедровым', 'Кедровего', 'Кедровой', 'Кедровом', 'Кедровому', 'Кедровым', 'Кедровем', 'Кедровим', 'Кедровый', 'Кедровий', 'Кедрового', 'Кедровему'], 'Кемерово': ['кемеровю', 'кемеровем', 'кемеровя', 'кемеровом', 'кемерову', 'кемерово', 'кемерова', 'кемерове', 'Кемеровю', 'Кемеровом', 'Кемерово', 'Кемерову', 'Кемеровя', 'Кемерова', 'Кемеровем', 'Кемерове'], 'Кемь': ['кемью', 'кеми', 'кемь', 'Кемью', 'Кемь', 'Кеми'], 'Керчь': ['керчь', 'керчью', 'керчи', 'Керчи', 'Керчь', 'Керчью'], 'Кизел': ['кизелом', 'кизелу', 'кизелем', 'кизела', 'кизел', 'кизеле', 'кизеля', 'кизелю', 'Кизеле', 'Кизелу', 'Кизел', 'Кизеля', 'Кизелом', 'Кизелем', 'Кизела', 'Кизелю'], 'Кизилюрт': ['кизилюрт', 'кизилюрту', 'кизилюрта', 'кизилюртом', 'кизилюртя', 'кизилюртю', 'кизилюрте', 'кизилюртем', 'Кизилюрту', 'Кизилюртом', 'Кизилюрт', 'Кизилюрта', 'Кизилюртя', 'Кизилюртем', 'Кизилюрте', 'Кизилюртю'], 'Кизляр': ['кизляру', 'кизляре', 'кизляром', 'кизлярю', 'кизляря', 'кизляра', 'кизлярем', 'кизляр', 'Кизлярю', 'Кизляря', 'Кизляром', 'Кизляре', 'Кизляру', 'Кизлярем', 'Кизляра', 'Кизляр'], 'Кимовск': ['кимовскем', 'кимовском', 'кимовску', 'кимовск', 'кимовска', 'кимовскю', 'кимовске', 'кимовскя', 'Кимовск', 'Кимовском', 'Кимовскем', 'Кимовске', 'Кимовскя', 'Кимовска', 'Кимовскю', 'Кимовску'], 'Кимры': ['кимры', 'Кимры'], 'Кингисепп': ['кингисеппе', 'кингисеппу', 'кингисеппя', 'кингисеппом', 'кингисеппю', 'кингисепп', 'кингисеппем', 'кингисеппа', 'Кингисеппе', 'Кингисеппя', 'Кингисеппем', 'Кингисеппу', 'Кингисеппом', 'Кингисепп', 'Кингисеппа', 'Кингисеппю'], 'Кинель': ['кинель', 'кинели', 'кинелью', 'Кинелью', 'Кинель', 'Кинели'], 'Кинешма': ['кинешмой', 'кинешмы', 'кинешма', 'кинешму', 'кинешме', 'кинешми', 'Кинешми', 'Кинешмы', 'Кинешму', 'Кинешмой', 'Кинешме', 'Кинешма'], 'Киреевск': ['киреевском', 'киреевскем', 'киреевску', 'киреевска', 'киреевскя', 'киреевск', 'киреевске', 'киреевскю', 'Киреевскя', 'Киреевском', 'Киреевска', 'Киреевску', 'Киреевскем', 'Киреевск', 'Киреевскю', 'Киреевске'], 'Киренск': ['киренска', 'киренскя', 'киренскю', 'киренском', 'киренскем', 'киренску', 'киренске', 'киренск', 'Киренске', 'Киренск', 'Киренскю', 'Киренску', 'Киренскя', 'Киренском', 'Киренска', 'Киренскем'], 'Киржач': ['киржачом', 'киржачем', 'киржаче', 'киржача', 'киржачя', 'киржачу', 'киржачю', 'киржач', 'Киржачу', 'Киржача', 'Киржачом', 'Киржач', 'Киржаче', 'Киржачю', 'Киржачя', 'Киржачем'], 'Кириллов': ['кирилловю', 'кириллову', 'кирилловом', 'кириллове', 'кирилловем', 'кирилловя', 'кириллова', 'кириллов', 'Кирилловю', 'Кириллове', 'Кириллов', 'Кирилловя', 'Кириллова', 'Кириллову', 'Кирилловем', 'Кирилловом'], 'Кириши': ['кириши', 'Кириши'], 'Киров': ['кирове', 'кировю', 'кирова', 'кирову', 'кировя', 'кировом', 'киров', 'кировем', 'Кирову', 'Кирова', 'Кировом', 'Кирове', 'Кировю', 'Кировя', 'Киров', 'Кировем'], 'Кировград': ['кировград', 'кировградом', 'кировграде', 'кировграду', 'кировграда', 'кировградя', 'кировградем', 'кировградю', 'Кировградом', 'Кировградя', 'Кировградем', 'Кировград', 'Кировградю', 'Кировграде', 'Кировграда', 'Кировграду'], 'Кирово-Чепецк': ['кирово-чепецком', 'кирово-чепецкя', 'кирово-чепецкю', 'кирово-чепецку', 'кирово-чепецкем', 'кирово-чепецке', 'кирово-чепецк', 'кирово-чепецка', 'Кирово-Чепецкю', 'Кирово-Чепецкя', 'Кирово-Чепецку', 'Кирово-Чепецка', 'Кирово-Чепецком', 'Кирово-Чепецкем', 'Кирово-Чепецке', 'Кирово-Чепецк'], 'Кировск': ['кировскю', 'кировска', 'кировск', 'кировске', 'кировскем', 'кировском', 'кировску', 'кировскя', 'Кировскю', 'Кировскем', 'Кировск', 'Кировском', 'Кировскя', 'Кировске', 'Кировску', 'Кировска'], 'Кирс': ['кирсе', 'кирсю', 'кирся', 'кирсом', 'кирс', 'кирса', 'кирсем', 'кирсу', 'Кирсю', 'Кирсом', 'Кирсу', 'Кирсе', 'Кирсем', 'Кирса', 'Кирся', 'Кирс'], 'Кирсанов': ['кирсановем', 'кирсанове', 'кирсановом', 'кирсановю', 'кирсанова', 'кирсанову', 'кирсановя', 'кирсанов', 'Кирсанове', 'Кирсановем', 'Кирсановя', 'Кирсановом', 'Кирсанов', 'Кирсановю', 'Кирсанову', 'Кирсанова'], 'Киселёвск': ['киселёвскем', 'киселёвске', 'киселёвском', 'киселёвск', 'киселёвску', 'киселёвскю', 'киселёвска', 'киселёвскя', 'Киселёвск', 'Киселёвска', 'Киселёвску', 'Киселёвске', 'Киселёвском', 'Киселёвскем', 'Киселёвскю', 'Киселёвскя'], 'Кисловодск': ['кисловодскем', 'кисловодскю', 'кисловодска', 'кисловодску', 'кисловодске', 'кисловодск', 'кисловодском', 'кисловодскя', 'Кисловодскю', 'Кисловодском', 'Кисловодску', 'Кисловодск', 'Кисловодскем', 'Кисловодска', 'Кисловодскя', 'Кисловодске'], 'Клин': ['клин', 'клину', 'клинем', 'клином', 'клина', 'клиню', 'клиня', 'клине', 'Клиню', 'Клин', 'Клине', 'Клином', 'Клину', 'Клинем', 'Клиня', 'Клина'], 'Клинцы': ['клинцы', 'Клинцы'], 'Княгинино': ['княгинино', 'княгининю', 'княгинине', 'княгининем', 'княгинину', 'княгининя', 'княгинином', 'княгинина', 'Княгинином', 'Княгининя', 'Княгинина', 'Княгинину', 'Княгининем', 'Княгинине', 'Княгининю', 'Княгинино'], 'Ковдор': ['ковдорю', 'ковдоря', 'ковдору', 'ковдорем', 'ковдор', 'ковдора', 'ковдоре', 'ковдором', 'Ковдор', 'Ковдоре', 'Ковдору', 'Ковдорем', 'Ковдоря', 'Ковдора', 'Ковдором', 'Ковдорю'], 'Ковров': ['ковровом', 'коврове', 'ковровю', 'коврова', 'ковров', 'ковровя', 'ковровем', 'коврову', 'Коврове', 'Коврова', 'Ковровем', 'Ковровом', 'Ковров', 'Ковровя', 'Коврову', 'Ковровю'], 'Ковылкино': ['ковылкинем', 'ковылкину', 'ковылкина', 'ковылкиня', 'ковылкиню', 'ковылкине', 'ковылкином', 'ковылкино', 'Ковылкиню', 'Ковылкина', 'Ковылкином', 'Ковылкине', 'Ковылкинем', 'Ковылкиня', 'Ковылкино', 'Ковылкину'], 'Когалым': ['когалым', 'когалыме', 'когалыма', 'когалымя', 'когалымем', 'когалыму', 'когалымом', 'когалымю', 'Когалыма', 'Когалым', 'Когалымом', 'Когалымя', 'Когалымем', 'Когалымю', 'Когалыме', 'Когалыму'], 'Кодинск': ['кодинском', 'кодинскю', 'кодинске', 'кодинску', 'кодинскя', 'кодинск', 'кодинска', 'кодинскем', 'Кодинском', 'Кодинскю', 'Кодинска', 'Кодинску', 'Кодинске', 'Кодинскя', 'Кодинск', 'Кодинскем'], 'Козельск': ['козельскем', 'козельскю', 'козельском', 'козельску', 'козельск', 'козельске', 'козельска', 'козельскя', 'Козельском', 'Козельске', 'Козельску', 'Козельск', 'Козельскю', 'Козельска', 'Козельскя', 'Козельскем'], 'Козловка': ['козловкы', 'козловку', 'козловка', 'козловкой', 'козловке', 'козловки', 'Козловку', 'Козловкой', 'Козловки', 'Козловке', 'Козловка', 'Козловкы'], 'Козьмодемьянск': ['козьмодемьянскя', 'козьмодемьянск', 'козьмодемьянска', 'козьмодемьянском', 'козьмодемьянске', 'козьмодемьянскем', 'козьмодемьянску', 'козьмодемьянскю', 'Козьмодемьянскя', 'Козьмодемьянскю', 'Козьмодемьянск', 'Козьмодемьянске', 'Козьмодемьянскем', 'Козьмодемьянску', 'Козьмодемьянска', 'Козьмодемьянском'], 'Кола': ['коле', 'колы', 'кола', 'колой', 'колу', 'коли', 'Коли', 'Колой', 'Кола', 'Колы', 'Колу', 'Коле'], 'Кологрив': ['кологриву', 'кологриве', 'кологривом', 'кологривю', 'кологривем', 'кологривя', 'кологрива', 'кологрив', 'Кологрива', 'Кологривем', 'Кологривом', 'Кологривя', 'Кологрив', 'Кологриве', 'Кологриву', 'Кологривю'], 'Коломна': ['коломна', 'коломни', 'коломной', 'коломны', 'коломне', 'коломну', 'Коломны', 'Коломне', 'Коломной', 'Коломну', 'Коломни', 'Коломна'], 'Колпашево': ['колпашевем', 'колпашево', 'колпашеву', 'колпашевю', 'колпашевом', 'колпашева', 'колпашевя', 'колпашеве', 'Колпашево', 'Колпашевя', 'Колпашеве', 'Колпашеву', 'Колпашевом', 'Колпашева', 'Колпашевем', 'Колпашевю'], 'Кольчугино': ['кольчугиню', 'кольчугине', 'кольчугино', 'кольчугина', 'кольчугинем', 'кольчугином', 'кольчугиня', 'кольчугину', 'Кольчугиню', 'Кольчугино', 'Кольчугине', 'Кольчугиня', 'Кольчугином', 'Кольчугинем', 'Кольчугину', 'Кольчугина'], 'Коммунар': ['коммунар', 'коммунарю', 'коммунарем', 'коммунаря', 'коммунаром', 'коммунару', 'коммунаре', 'коммунара', 'Коммунаром', 'Коммунарю', 'Коммунаря', 'Коммунару', 'Коммунара', 'Коммунаре', 'Коммунарем', 'Коммунар'], 'Комсомольск-на-Амуре': ['комсомольск-на-амуре', 'комсомольск-на-амурю', 'комсомольск-на-амуро', 'комсомольск-на-амуря', 'комсомольск-на-амура', 'комсомольск-на-амурем', 'комсомольск-на-амуром', 'комсомольск-на-амуру', 'Комсомольск-на-Амурем', 'Комсомольск-на-Амуром', 'Комсомольск-на-Амура', 'Комсомольск-на-Амуря', 'Комсомольск-на-Амуру', 'Комсомольск-на-Амуро', 'Комсомольск-на-Амуре', 'Комсомольск-на-Амурю'], 'Комсомольск': ['комсомольскем', 'комсомольском', 'комсомольскю', 'комсомольск', 'комсомольскя', 'комсомольска', 'комсомольску', 'комсомольске', 'Комсомольск', 'Комсомольскя', 'Комсомольском', 'Комсомольскем', 'Комсомольске', 'Комсомольскю', 'Комсомольску', 'Комсомольска'], 'Конаково': ['конакова', 'конакове', 'конаковю', 'конаковом', 'конаковем', 'конакову', 'конаковя', 'конаково', 'Конаковю', 'Конаково', 'Конакову', 'Конаковом', 'Конакове', 'Конаковем', 'Конаковя', 'Конакова'], 'Кондопога': ['кондопогы', 'кондопогой', 'кондопогу', 'кондопоге', 'кондопоги', 'кондопога', 'Кондопогой', 'Кондопоги', 'Кондопогу', 'Кондопоге', 'Кондопогы', 'Кондопога'], 'Кондрово': ['кондрово', 'кондровя', 'кондрова', 'кондровом', 'кондровю', 'кондрове', 'кондровем', 'кондрову', 'Кондрову', 'Кондровом', 'Кондровя', 'Кондрово', 'Кондрова', 'Кондровю', 'Кондрове', 'Кондровем'], 'Константиновск': ['константиновска', 'константиновскем', 'константиновске', 'константиновску', 'константиновскя', 'константиновскю', 'константиновском', 'константиновск', 'Константиновск', 'Константиновскю', 'Константиновскем', 'Константиновскя', 'Константиновске', 'Константиновском', 'Константиновска', 'Константиновску'], 'Копейск': ['копейском', 'копейскю', 'копейскем', 'копейску', 'копейск', 'копейска', 'копейскя', 'копейске', 'Копейск', 'Копейском', 'Копейскя', 'Копейскю', 'Копейска', 'Копейске', 'Копейску', 'Копейскем'], 'Кораблино': ['кораблина', 'кораблиню', 'кораблине', 'кораблинем', 'кораблином', 'кораблину', 'кораблино', 'кораблиня', 'Кораблинем', 'Кораблином', 'Кораблина', 'Кораблино', 'Кораблине', 'Кораблину', 'Кораблиню', 'Кораблиня'], 'Кореновск': ['кореновскя', 'кореновскем', 'кореновскю', 'кореновск', 'кореновском', 'кореновска', 'кореновску', 'кореновске', 'Кореновск', 'Кореновскю', 'Кореновском', 'Кореновскем', 'Кореновске', 'Кореновску', 'Кореновскя', 'Кореновска'], 'Коркино': ['коркине', 'коркино', 'коркина', 'коркиню', 'коркинем', 'коркиня', 'коркину', 'коркином', 'Коркинем', 'Коркино', 'Коркиню', 'Коркина', 'Коркином', 'Коркиня', 'Коркину', 'Коркине'], 'Королёв': ['королёвю', 'королёве', 'королёвем', 'королёвя', 'королёвом', 'королёву', 'королёв', 'королёва', 'Королёвом', 'Королёвю', 'Королёве', 'Королёвем', 'Королёв', 'Королёва', 'Королёвя', 'Королёву'], 'Короча': ['корочу', 'короче', 'корочи', 'короча', 'корочы', 'корочой', 'Корочы', 'Корочу', 'Короча', 'Корочой', 'Корочи', 'Короче'], 'Корсаков': ['корсакове', 'корсаковем', 'корсаков', 'корсаковом', 'корсаковя', 'корсакова', 'корсаковю', 'корсакову', 'Корсаковом', 'Корсаков', 'Корсакову', 'Корсакова', 'Корсаковю', 'Корсаковем', 'Корсаковя', 'Корсакове'], 'Коряжма': ['коряжме', 'коряжмы', 'коряжму', 'коряжми', 'коряжмой', 'коряжма', 'Коряжми', 'Коряжме', 'Коряжма', 'Коряжмы', 'Коряжмой', 'Коряжму'], 'Костерёво': ['костерёво', 'костерёве', 'костерёвя', 'костерёвю', 'костерёва', 'костерёвом', 'костерёву', 'костерёвем', 'Костерёво', 'Костерёва', 'Костерёве', 'Костерёвом', 'Костерёву', 'Костерёвем', 'Костерёвю', 'Костерёвя'], 'Костомукша': ['костомукшы', 'костомукшой', 'костомукши', 'костомукша', 'костомукшу', 'костомукше', 'Костомукше', 'Костомукшой', 'Костомукшы', 'Костомукши', 'Костомукша', 'Костомукшу'], 'Кострома': ['костроми', 'костромой', 'костромы', 'кострому', 'кострома', 'костроме', 'Костроми', 'Кострома', 'Костроме', 'Костромы', 'Кострому', 'Костромой'], 'Котельники': ['котельники', 'Котельники'], 'Котельниково': ['котельниково', 'котельниковом', 'котельникова', 'котельникове', 'котельниковя', 'котельникову', 'котельниковем', 'котельниковю', 'Котельниково', 'Котельникове', 'Котельникова', 'Котельниковю', 'Котельниковя', 'Котельниковом', 'Котельниковем', 'Котельникову'], 'Котельнич': ['котельничом', 'котельничю', 'котельнич', 'котельнича', 'котельничу', 'котельниче', 'котельничя', 'котельничем', 'Котельничю', 'Котельничем', 'Котельнич', 'Котельниче', 'Котельничом', 'Котельничя', 'Котельничу', 'Котельнича'], 'Котлас': ['котласу', 'котласа', 'котласем', 'котлася', 'котласю', 'котлас', 'котласом', 'котласе', 'Котлася', 'Котласем', 'Котласю', 'Котласом', 'Котласе', 'Котласа', 'Котлас', 'Котласу'], 'Котово': ['котове', 'котовю', 'котовом', 'котово', 'котовем', 'котова', 'котову', 'котовя', 'Котове', 'Котовя', 'Котово', 'Котовю', 'Котову', 'Котовем', 'Котовом', 'Котова'], 'Котовск': ['котовскю', 'котовском', 'котовскя', 'котовска', 'котовске', 'котовску', 'котовскем', 'котовск', 'Котовскю', 'Котовскем', 'Котовскя', 'Котовском', 'Котовске', 'Котовска', 'Котовск', 'Котовску'], 'Кохма': ['кохму', 'кохмы', 'кохма', 'кохме', 'кохми', 'кохмой', 'Кохмы', 'Кохму', 'Кохмой', 'Кохми', 'Кохма', 'Кохме'], 'Красавино': ['красавином', 'красавинем', 'красавиню', 'красавину', 'красавине', 'красавино', 'красавина', 'красавиня', 'Красавина', 'Красавинем', 'Красавиня', 'Красавино', 'Красавином', 'Красавину', 'Красавиню', 'Красавине'], 'Красноармейск': ['красноармейска', 'красноармейску', 'красноармейскю', 'красноармейскем', 'красноармейском', 'красноармейске', 'красноармейскя', 'красноармейск', 'Красноармейскю', 'Красноармейска', 'Красноармейску', 'Красноармейском', 'Красноармейскем', 'Красноармейскя', 'Красноармейске', 'Красноармейск'], 'Красновишерск': ['красновишерскем', 'красновишерску', 'красновишерска', 'красновишерскя', 'красновишерском', 'красновишерскю', 'красновишерск', 'красновишерске', 'Красновишерском', 'Красновишерске', 'Красновишерска', 'Красновишерску', 'Красновишерскю', 'Красновишерскя', 'Красновишерскем', 'Красновишерск'], 'Красногорск': ['красногорске', 'красногорскем', 'красногорска', 'красногорск', 'красногорском', 'красногорскя', 'красногорскю', 'красногорску', 'Красногорскя', 'Красногорскем', 'Красногорска', 'Красногорск', 'Красногорске', 'Красногорскю', 'Красногорском', 'Красногорску'], 'Краснодар': ['краснодарю', 'краснодар', 'краснодаря', 'краснодаре', 'краснодарем', 'краснодаром', 'краснодара', 'краснодару', 'Краснодару', 'Краснодар', 'Краснодарем', 'Краснодаром', 'Краснодаре', 'Краснодаря', 'Краснодарю', 'Краснодара'], 'Краснозаводск': ['краснозаводскем', 'краснозаводска', 'краснозаводском', 'краснозаводске', 'краснозаводскю', 'краснозаводскя', 'краснозаводску', 'краснозаводск', 'Краснозаводск', 'Краснозаводскю', 'Краснозаводска', 'Краснозаводском', 'Краснозаводскя', 'Краснозаводскем', 'Краснозаводску', 'Краснозаводске'], 'Краснознаменск': ['краснознаменскем', 'краснознаменску', 'краснознаменске', 'краснознаменском', 'краснознаменска', 'краснознаменск', 'краснознаменскя', 'краснознаменскю', 'Краснознаменск', 'Краснознаменском', 'Краснознаменскя', 'Краснознаменску', 'Краснознаменскем', 'Краснознаменске', 'Краснознаменска', 'Краснознаменскю'], 'Краснокаменск': ['краснокаменском', 'краснокаменскем', 'краснокаменскю', 'краснокаменскя', 'краснокаменску', 'краснокаменске', 'краснокаменск', 'краснокаменска', 'Краснокаменск', 'Краснокаменскя', 'Краснокаменскю', 'Краснокаменскем', 'Краснокаменску', 'Краснокаменска', 'Краснокаменском', 'Краснокаменске'], 'Краснокамск': ['краснокамском', 'краснокамскя', 'краснокамск', 'краснокамска', 'краснокамскем', 'краснокамске', 'краснокамску', 'краснокамскю', 'Краснокамскем', 'Краснокамска', 'Краснокамском', 'Краснокамск', 'Краснокамскя', 'Краснокамске', 'Краснокамску', 'Краснокамскю'], 'Красноперекопск': ['красноперекопск', 'красноперекопску', 'красноперекопскем', 'красноперекопскю', 'красноперекопскя', 'красноперекопском', 'красноперекопске', 'красноперекопска', 'Красноперекопском', 'Красноперекопскем', 'Красноперекопске', 'Красноперекопскю', 'Красноперекопска', 'Красноперекопскя', 'Красноперекопск', 'Красноперекопску'], 'Краснослободск': ['краснослободскю', 'краснослободска', 'краснослободском', 'краснослободск', 'краснослободскем', 'краснослободске', 'краснослободскя', 'краснослободску', 'Краснослободску', 'Краснослободском', 'Краснослободскем', 'Краснослободске', 'Краснослободск', 'Краснослободскя', 'Краснослободска', 'Краснослободскю'], 'Краснотурьинск': ['краснотурьинскем', 'краснотурьинск', 'краснотурьинску', 'краснотурьинска', 'краснотурьинском', 'краснотурьинскю', 'краснотурьинске', 'краснотурьинскя', 'Краснотурьинску', 'Краснотурьинскю', 'Краснотурьинске', 'Краснотурьинскем', 'Краснотурьинскя', 'Краснотурьинском', 'Краснотурьинск', 'Краснотурьинска'], 'Красноуральск': ['красноуральске', 'красноуральска', 'красноуральскем', 'красноуральскя', 'красноуральском', 'красноуральск', 'красноуральскю', 'красноуральску', 'Красноуральскя', 'Красноуральскем', 'Красноуральска', 'Красноуральску', 'Красноуральском', 'Красноуральске', 'Красноуральскю', 'Красноуральск'], 'Красноуфимск': ['красноуфимске', 'красноуфимском', 'красноуфимск', 'красноуфимску', 'красноуфимскю', 'красноуфимска', 'красноуфимскем', 'красноуфимскя', 'Красноуфимскем', 'Красноуфимска', 'Красноуфимску', 'Красноуфимском', 'Красноуфимске', 'Красноуфимскю', 'Красноуфимск', 'Красноуфимскя'], 'Красноярск': ['красноярскя', 'красноярскю', 'красноярском', 'красноярске', 'красноярска', 'красноярску', 'красноярск', 'красноярскем', 'Красноярску', 'Красноярскю', 'Красноярск', 'Красноярскя', 'Красноярскем', 'Красноярском', 'Красноярске', 'Красноярска'], 'Красный Кут': ['красной кутя', 'красним кутем', 'красной кута', 'краснему кутю', 'красним кутом', 'красному куту', 'красный кутя', 'красного кутя', 'красным кутом', 'красного кута', 'краснего кутя', 'краснему куту', 'красный кут', 'красном куте', 'красний кута', 'красному кутю', 'краснего кута', 'красный кута', 'красний кутя', 'краснем куте', 'красным кутем', 'Красного Кутя', 'Краснему Кутю', 'Красний Кутя', 'Краснему Куту', 'Красным Кутем', 'Красному Кутю', 'Краснего Кута', 'Красный Кута', 'Красной Кутя', 'Краснего Кутя', 'Краснем Куте', 'Красной Кута', 'Красного Кута', 'Красный Кут', 'Красному Куту', 'Красным Кутом', 'Красним Кутем', 'Красним Кутом', 'Красний Кута', 'Красном Куте', 'Красный Кутя'], 'Красный Сулин': ['краснего сулина', 'красному сулиню', 'краснему сулину', 'красной сулина', 'красном сулине', 'красним сулином', 'красний сулиня', 'краснем сулине', 'красний сулина', 'красный сулин', 'красним сулинем', 'красного сулиня', 'красного сулина', 'красному сулину', 'красным сулином', 'красной сулиня', 'красным сулинем', 'красный сулина', 'красный сулиня', 'краснего сулиня', 'краснему сулиню', 'Красном Сулине', 'Красному Сулину', 'Краснему Сулиню', 'Красный Сулина', 'Красним Сулином', 'Красного Сулиня', 'Краснего Сулиня', 'Красной Сулиня', 'Красного Сулина', 'Красным Сулинем', 'Красный Сулин', 'Красный Сулиня', 'Красний Сулиня', 'Красним Сулинем', 'Красным Сулином', 'Краснему Сулину', 'Краснего Сулина', 'Красному Сулиню', 'Красной Сулина', 'Красний Сулина', 'Краснем Сулине'], 'Красный Холм': ['красным холмом', 'красного холмя', 'красный холма', 'красный холм', 'красним холмом', 'красний холма', 'красний холмя', 'красному холмю', 'краснего холмя', 'краснего холма', 'красной холмя', 'красной холма', 'красным холмем', 'красного холма', 'красним холмем', 'красному холму', 'красный холмя', 'краснему холму', 'краснем холме', 'красном холме', 'краснему холмю', 'Краснему Холму', 'Красний Холма', 'Красном Холме', 'Красного Холма', 'Красный Холма', 'Краснего Холма', 'Красного Холмя', 'Красным Холмом', 'Красный Холм', 'Красной Холмя', 'Красним Холмем', 'Красному Холмю', 'Красным Холмем', 'Красной Холма', 'Красный Холмя', 'Красним Холмом', 'Красний Холмя', 'Краснему Холмю', 'Краснего Холмя', 'Красному Холму', 'Краснем Холме'], 'Кремёнки': ['кремёнки', 'Кремёнки'], 'Кропоткин': ['кропоткиню', 'кропоткин', 'кропоткину', 'кропоткинем', 'кропоткином', 'кропоткиня', 'кропоткине', 'кропоткина', 'Кропоткинем', 'Кропоткиня', 'Кропоткину', 'Кропоткином', 'Кропоткина', 'Кропоткиню', 'Кропоткине', 'Кропоткин'], 'Крымск': ['крымска', 'крымску', 'крымск', 'крымскя', 'крымском', 'крымске', 'крымскю', 'крымскем', 'Крымскем', 'Крымском', 'Крымскя', 'Крымскю', 'Крымске', 'Крымска', 'Крымску', 'Крымск'], 'Кстово': ['кстове', 'кстовом', 'кстову', 'кстова', 'кстовя', 'кстовем', 'кстово', 'кстовю', 'Кстовя', 'Кстовом', 'Кстово', 'Кстове', 'Кстову', 'Кстовю', 'Кстовем', 'Кстова'], 'Кубинка': ['кубинки', 'кубинку', 'кубинкой', 'кубинка', 'кубинкы', 'кубинке', 'Кубинка', 'Кубинку', 'Кубинке', 'Кубинкы', 'Кубинкой', 'Кубинки'], 'Кувандык': ['кувандыкем', 'кувандыка', 'кувандыку', 'кувандык', 'кувандыком', 'кувандыкю', 'кувандыкя', 'кувандыке', 'Кувандыке', 'Кувандыкю', 'Кувандыку', 'Кувандыком', 'Кувандыкем', 'Кувандыка', 'Кувандыкя', 'Кувандык'], 'Кувшиново': ['кувшиновом', 'кувшинова', 'кувшиновем', 'кувшинову', 'кувшинове', 'кувшиновя', 'кувшиново', 'кувшиновю', 'Кувшиново', 'Кувшинову', 'Кувшинове', 'Кувшиновя', 'Кувшиновем', 'Кувшинова', 'Кувшиновом', 'Кувшиновю'], 'Кудрово': ['кудровю', 'кудрове', 'кудровом', 'кудрово', 'кудровя', 'кудровем', 'кудрову', 'кудрова', 'Кудрова', 'Кудрову', 'Кудровя', 'Кудрово', 'Кудровю', 'Кудровом', 'Кудрове', 'Кудровем'], 'Кудымкар': ['кудымкар', 'кудымкаря', 'кудымкару', 'кудымкара', 'кудымкаре', 'кудымкарем', 'кудымкарю', 'кудымкаром', 'Кудымкаре', 'Кудымкара', 'Кудымкарю', 'Кудымкаря', 'Кудымкару', 'Кудымкарем', 'Кудымкаром', 'Кудымкар'], 'Кузнецк': ['кузнецком', 'кузнецка', 'кузнецкю', 'кузнецке', 'кузнецкя', 'кузнецку', 'кузнецк', 'кузнецкем', 'Кузнецка', 'Кузнецкем', 'Кузнецке', 'Кузнецку', 'Кузнецкя', 'Кузнецком', 'Кузнецкю', 'Кузнецк'], 'Куйбышев': ['куйбышевя', 'куйбышева', 'куйбышевем', 'куйбышевом', 'куйбышеву', 'куйбышев', 'куйбышеве', 'куйбышевю', 'Куйбышеве', 'Куйбышевю', 'Куйбышевя', 'Куйбышева', 'Куйбышевем', 'Куйбышеву', 'Куйбышевом', 'Куйбышев'], 'Кукмор': ['кукмора', 'кукмором', 'кукмору', 'кукморем', 'кукмор', 'кукморе', 'кукморя', 'кукморю', 'Кукмора', 'Кукморя', 'Кукмор', 'Кукморю', 'Кукморе', 'Кукмору', 'Кукморем', 'Кукмором'], 'Кулебаки': ['кулебаки', 'Кулебаки'], 'Кумертау': ['кумертау', 'Кумертау'], 'Кунгур': ['кунгурю', 'кунгуру', 'кунгуря', 'кунгуре', 'кунгуром', 'кунгур', 'кунгура', 'кунгурем', 'Кунгура', 'Кунгуром', 'Кунгурю', 'Кунгуря', 'Кунгуре', 'Кунгур', 'Кунгурем', 'Кунгуру'], 'Купино': ['купиню', 'купиня', 'купину', 'купине', 'купино', 'купином', 'купина', 'купинем', 'Купина', 'Купинем', 'Купино', 'Купиню', 'Купине', 'Купиня', 'Купином', 'Купину'], 'Курган': ['курганем', 'кургане', 'кургана', 'курганю', 'курганя', 'курган', 'кургану', 'курганом', 'Курганю', 'Курган', 'Курганем', 'Курганом', 'Курганя', 'Кургана', 'Кургану', 'Кургане'], 'Курганинск': ['курганинскя', 'курганинскю', 'курганинском', 'курганинска', 'курганинскем', 'курганинск', 'курганинску', 'курганинске', 'Курганинска', 'Курганинскю', 'Курганинске', 'Курганинск', 'Курганинскя', 'Курганинском', 'Курганинску', 'Курганинскем'], 'Курильск': ['курильск', 'курильска', 'курильске', 'курильску', 'курильскем', 'курильскю', 'курильском', 'курильскя', 'Курильск', 'Курильскем', 'Курильскю', 'Курильска', 'Курильскя', 'Курильском', 'Курильску', 'Курильске'], 'Курлово': ['курлово', 'курлову', 'курловем', 'курлове', 'курловя', 'курлова', 'курловю', 'курловом', 'Курловом', 'Курловем', 'Курлове', 'Курловю', 'Курловя', 'Курлова', 'Курлово', 'Курлову'], 'Куровское': ['куровскому', 'куровскым', 'куровским', 'куровском', 'куровское', 'куровского', 'куровскее', 'куровскем', 'куровскего', 'куровскему', 'Куровскем', 'Куровским', 'Куровскому', 'Куровское', 'Куровскее', 'Куровском', 'Куровскему', 'Куровскым', 'Куровскего', 'Куровского'], 'Курск': ['курску', 'курск', 'курска', 'курскем', 'курском', 'курскя', 'курске', 'курскю', 'Курскя', 'Курску', 'Курскем', 'Курска', 'Курском', 'Курск', 'Курскю', 'Курске'], 'Куртамыш': ['куртамышом', 'куртамышу', 'куртамышем', 'куртамыш', 'куртамыша', 'куртамышю', 'куртамыше', 'куртамышя', 'Куртамышом', 'Куртамышю', 'Куртамыша', 'Куртамыше', 'Куртамышем', 'Куртамышя', 'Куртамыш', 'Куртамышу'], 'Курчалой': ['курчалого', 'курчалему', 'курчалий', 'курчалем', 'курчалим', 'курчалой', 'курчалым', 'курчалего', 'курчалом', 'курчалому', 'курчалый', 'Курчалом', 'Курчалому', 'Курчалем', 'Курчалий', 'Курчалым', 'Курчалим', 'Курчалему', 'Курчалой', 'Курчалого', 'Курчалего', 'Курчалый'], 'Курчатов': ['курчатова', 'курчатовю', 'курчатовом', 'курчатову', 'курчатов', 'курчатове', 'курчатовя', 'курчатовем', 'Курчатовем', 'Курчатове', 'Курчатовом', 'Курчатова', 'Курчатовю', 'Курчатовя', 'Курчатов', 'Курчатову'], 'Куса': ['кусы', 'кусой', 'куса', 'куси', 'кусу', 'кусе', 'Куси', 'Куса', 'Кусы', 'Кусе', 'Кусой', 'Кусу'], 'Кушва': ['кушву', 'кушва', 'кушви', 'кушвой', 'кушвы', 'кушве', 'Кушви', 'Кушвы', 'Кушву', 'Кушве', 'Кушва', 'Кушвой'], 'Кызыл': ['кызыля', 'кызылю', 'кызыла', 'кызылом', 'кызыле', 'кызылем', 'кызылу', 'кызыл', 'Кызыла', 'Кызыл', 'Кызылем', 'Кызылом', 'Кызыле', 'Кызылу', 'Кызыля', 'Кызылю'], 'Кыштым': ['кыштым', 'кыштыму', 'кыштымем', 'кыштымом', 'кыштыме', 'кыштыма', 'кыштымя', 'кыштымю', 'Кыштымом', 'Кыштым', 'Кыштымю', 'Кыштыма', 'Кыштымем', 'Кыштыме', 'Кыштымя', 'Кыштыму'], 'Кяхта': ['кяхту', 'кяхты', 'кяхтой', 'кяхти', 'кяхте', 'кяхта', 'Кяхтой', 'Кяхты', 'Кяхти', 'Кяхту', 'Кяхта', 'Кяхте'], 'Лабинск': ['лабинску', 'лабинскя', 'лабинске', 'лабинска', 'лабинск', 'лабинском', 'лабинскем', 'лабинскю', 'Лабинскю', 'Лабинске', 'Лабинску', 'Лабинскя', 'Лабинскем', 'Лабинска', 'Лабинск', 'Лабинском'], 'Лабытнанги': ['лабытнанги', 'Лабытнанги'], 'Лагань': ['лагань', 'лаганью', 'лагани', 'Лаганью', 'Лагани', 'Лагань'], 'Ладушкин': ['ладушкина', 'ладушкине', 'ладушкину', 'ладушкиню', 'ладушкиня', 'ладушкинем', 'ладушкин', 'ладушкином', 'Ладушкина', 'Ладушкину', 'Ладушкином', 'Ладушкинем', 'Ладушкиня', 'Ладушкине', 'Ладушкиню', 'Ладушкин'], 'Лаишево': ['лаишево', 'лаишеве', 'лаишевом', 'лаишева', 'лаишевя', 'лаишевем', 'лаишевю', 'лаишеву', 'Лаишевя', 'Лаишевем', 'Лаишеву', 'Лаишевю', 'Лаишево', 'Лаишеве', 'Лаишевом', 'Лаишева'], 'Лакинск': ['лакинскю', 'лакинску', 'лакинском', 'лакинскя', 'лакинске', 'лакинска', 'лакинскем', 'лакинск', 'Лакинскя', 'Лакинскю', 'Лакинском', 'Лакинске', 'Лакинскем', 'Лакинску', 'Лакинск', 'Лакинска'], 'Лангепас': ['лангепасю', 'лангепасу', 'лангепас', 'лангепасем', 'лангепася', 'лангепаса', 'лангепасом', 'лангепасе', 'Лангепасем', 'Лангепас', 'Лангепаса', 'Лангепасе', 'Лангепася', 'Лангепасю', 'Лангепасом', 'Лангепасу'], 'Лахденпохья': ['лахденпохьих', 'лахденпохья', 'лахденпохье', 'лахденпохьей', 'лахденпохьи', 'лахденпохью', 'Лахденпохья', 'Лахденпохью', 'Лахденпохье', 'Лахденпохьих', 'Лахденпохьей', 'Лахденпохьи'], 'Лебедянь': ['лебедянью', 'лебедяни', 'лебедянь', 'Лебедянью', 'Лебедянь', 'Лебедяни'], 'Лениногорск': ['лениногорскя', 'лениногорску', 'лениногорскем', 'лениногорск', 'лениногорскю', 'лениногорска', 'лениногорском', 'лениногорске', 'Лениногорске', 'Лениногорскем', 'Лениногорскя', 'Лениногорском', 'Лениногорску', 'Лениногорска', 'Лениногорскю', 'Лениногорск'], 'Ленинск-Кузнецкий': ['ленинск-кузнецкый', 'ленинск-кузнецкему', 'ленинск-кузнецкого', 'ленинск-кузнецкым', 'ленинск-кузнецком', 'ленинск-кузнецким', 'ленинск-кузнецкий', 'ленинск-кузнецкем', 'ленинск-кузнецкего', 'ленинск-кузнецкой', 'ленинск-кузнецкому', 'Ленинск-Кузнецкего', 'Ленинск-Кузнецкый', 'Ленинск-Кузнецкого', 'Ленинск-Кузнецкым', 'Ленинск-Кузнецкий', 'Ленинск-Кузнецкем', 'Ленинск-Кузнецкой', 'Ленинск-Кузнецкему', 'Ленинск-Кузнецким', 'Ленинск-Кузнецком', 'Ленинск-Кузнецкому'], 'Ленинск': ['ленинскем', 'ленинску', 'ленинска', 'ленинске', 'ленинскя', 'ленинском', 'ленинскю', 'ленинск', 'Ленинскя', 'Ленинску', 'Ленинск', 'Ленинскем', 'Ленинском', 'Ленинскю', 'Ленинске', 'Ленинска'], 'Ленск': ['ленскем', 'ленскя', 'ленском', 'ленскю', 'ленск', 'ленска', 'ленску', 'ленске', 'Ленскем', 'Ленске', 'Ленск', 'Ленскю', 'Ленском', 'Ленску', 'Ленскя', 'Ленска'], 'Лермонтов': ['лермонтовем', 'лермонтовя', 'лермонтове', 'лермонтову', 'лермонтовю', 'лермонтова', 'лермонтовом', 'лермонтов', 'Лермонтовом', 'Лермонтове', 'Лермонтову', 'Лермонтова', 'Лермонтов', 'Лермонтовя', 'Лермонтовем', 'Лермонтовю'], 'Лесной': ['лесной', 'лесном', 'лесним', 'лесному', 'лесного', 'лесным', 'лесный', 'леснего', 'леснему', 'лесний', 'леснем', 'Лесним', 'Лесный', 'Лесной', 'Леснего', 'Леснему', 'Лесний', 'Лесному', 'Лесном', 'Леснем', 'Лесного', 'Лесным'], 'Лесозаводск': ['лесозаводск', 'лесозаводскем', 'лесозаводском', 'лесозаводске', 'лесозаводску', 'лесозаводскя', 'лесозаводскю', 'лесозаводска', 'Лесозаводску', 'Лесозаводскем', 'Лесозаводскю', 'Лесозаводскя', 'Лесозаводск', 'Лесозаводске', 'Лесозаводска', 'Лесозаводском'], 'Лесосибирск': ['лесосибирскем', 'лесосибирскя', 'лесосибирск', 'лесосибирске', 'лесосибирском', 'лесосибирска', 'лесосибирскю', 'лесосибирску', 'Лесосибирске', 'Лесосибирскем', 'Лесосибирскю', 'Лесосибирска', 'Лесосибирскя', 'Лесосибирском', 'Лесосибирску', 'Лесосибирск'], 'Ливны': ['ливны', 'Ливны'], 'Ликино-Дулёво': ['ликино-дулёву', 'ликино-дулёвя', 'ликино-дулёво', 'ликино-дулёвом', 'ликино-дулёве', 'ликино-дулёвем', 'ликино-дулёвю', 'ликино-дулёва', 'Ликино-Дулёве', 'Ликино-Дулёвем', 'Ликино-Дулёву', 'Ликино-Дулёвю', 'Ликино-Дулёва', 'Ликино-Дулёвя', 'Ликино-Дулёвом', 'Ликино-Дулёво'], 'Липецк': ['липецкя', 'липецке', 'липецкю', 'липецком', 'липецку', 'липецка', 'липецк', 'липецкем', 'Липецка', 'Липецк', 'Липецкем', 'Липецку', 'Липецке', 'Липецкя', 'Липецком', 'Липецкю'], 'Липки': ['липки', 'Липки'], 'Лиски': ['лиски', 'Лиски'], 'Лихославль': ['лихославль', 'лихославлью', 'лихославли', 'Лихославль', 'Лихославлью', 'Лихославли'], 'Лобня': ['лобней', 'лобнёй', 'лобни', 'лобня', 'лобне', 'лобню', 'Лобней', 'Лобни', 'Лобнёй', 'Лобня', 'Лобню', 'Лобне'], 'Лодейное Поле': ['лодейнее пола', 'лодейнее поло', 'лодейному полу', 'лодейным полом', 'лодейного поля', 'лодейном поле', 'лодейное поле', 'лодейнее поля', 'лодейнем поле', 'лодейному полю', 'лодейнее поле', 'лодейное поло', 'лодейным полем', 'лодейнему полу', 'лодейнего поля', 'лодейное пола', 'лодейного пола', 'лодейнему полю', 'лодейним полем', 'лодейним полом', 'лодейное поля', 'лодейнего пола', 'Лодейное Поле', 'Лодейнем Поле', 'Лодейнее Пола', 'Лодейнее Поле', 'Лодейнее Поло', 'Лодейное Пола', 'Лодейному Полю', 'Лодейным Полем', 'Лодейное Поло', 'Лодейное Поля', 'Лодейним Полем', 'Лодейнего Поля', 'Лодейнего Пола', 'Лодейнему Полу', 'Лодейным Полом', 'Лодейним Полом', 'Лодейному Полу', 'Лодейном Поле', 'Лодейнее Поля', 'Лодейного Поля', 'Лодейнему Полю', 'Лодейного Пола'], 'Лосино-Петровский': ['лосино-петровскему', 'лосино-петровскый', 'лосино-петровский', 'лосино-петровскего', 'лосино-петровскем', 'лосино-петровскому', 'лосино-петровского', 'лосино-петровскым', 'лосино-петровским', 'лосино-петровской', 'лосино-петровском', 'Лосино-Петровскым', 'Лосино-Петровскему', 'Лосино-Петровским', 'Лосино-Петровскому', 'Лосино-Петровский', 'Лосино-Петровской', 'Лосино-Петровскый', 'Лосино-Петровскем', 'Лосино-Петровскего', 'Лосино-Петровского', 'Лосино-Петровском'], 'Луга': ['лугы', 'лугой', 'лугу', 'луге', 'луги', 'луга', 'Луге', 'Луги', 'Лугу', 'Лугы', 'Луга', 'Лугой'], 'Луза': ['лузи', 'лузе', 'луза', 'лузой', 'лузу', 'лузы', 'Лузой', 'Лузе', 'Луза', 'Лузи', 'Лузу', 'Лузы'], 'Лукоянов': ['лукоянову', 'лукояновя', 'лукояновом', 'лукоянова', 'лукоянове', 'лукояновю', 'лукояновем', 'лукоянов', 'Лукояновем', 'Лукоянова', 'Лукоянов', 'Лукояновя', 'Лукоянове', 'Лукояновю', 'Лукояновом', 'Лукоянову'], 'Луховицы': ['луховицы', 'Луховицы'], 'Лысково': ['лысковя', 'лысковем', 'лысково', 'лыскову', 'лыскова', 'лысковю', 'лыскове', 'лысковом', 'Лыскову', 'Лысково', 'Лыскове', 'Лысковю', 'Лысковом', 'Лыскова', 'Лысковем', 'Лысковя'], 'Лысьва': ['лысьву', 'лысьве', 'лысьвой', 'лысьва', 'лысьвы', 'лысьви', 'Лысьвой', 'Лысьва', 'Лысьву', 'Лысьве', 'Лысьвы', 'Лысьви'], 'Лыткарино': ['лыткариню', 'лыткарино', 'лыткаринем', 'лыткарина', 'лыткарине', 'лыткарину', 'лыткариня', 'лыткарином', 'Лыткарином', 'Лыткариня', 'Лыткариню', 'Лыткаринем', 'Лыткарина', 'Лыткарино', 'Лыткарину', 'Лыткарине'], 'Льгов': ['льговю', 'льговя', 'льгове', 'льгова', 'льговом', 'льговем', 'льгов', 'льгову', 'Льговю', 'Льгове', 'Льговя', 'Льговем', 'Льговом', 'Льгову', 'Льгова', 'Льгов'], 'Любань': ['любань', 'любани', 'любанью', 'Любанью', 'Любани', 'Любань'], 'Люберцы': ['люберцы', 'Люберцы'], 'Любим': ['любимем', 'любимом', 'любиме', 'любимя', 'любимю', 'любим', 'любиму', 'любима', 'Любим', 'Любима', 'Любимем', 'Любимом', 'Любимю', 'Любиме', 'Любиму', 'Любимя'], 'Людиново': ['людинову', 'людиновю', 'людинове', 'людиновем', 'людинова', 'людиновом', 'людиново', 'людиновя', 'Людиновя', 'Людиново', 'Людинову', 'Людинове', 'Людиновю', 'Людинова', 'Людиновом', 'Людиновем'], 'Лянтор': ['лянторю', 'лянтором', 'лянторем', 'лянтору', 'лянтор', 'лянторя', 'лянторе', 'лянтора', 'Лянторем', 'Лянтор', 'Лянтору', 'Лянтора', 'Лянторю', 'Лянторя', 'Лянторе', 'Лянтором'], 'Магадан': ['магаданя', 'магаданю', 'магаданом', 'магадану', 'магадана', 'магаданем', 'магадане', 'магадан', 'Магаданю', 'Магаданя', 'Магадан', 'Магадане', 'Магаданом', 'Магадану', 'Магадана', 'Магаданем'], 'Магас': ['магасем', 'магаса', 'магас', 'магасу', 'магасом', 'магася', 'магасе', 'магасю', 'Магасем', 'Магаса', 'Магася', 'Магасю', 'Магас', 'Магасом', 'Магасу', 'Магасе'], 'Магнитогорск': ['магнитогорском', 'магнитогорску', 'магнитогорскя', 'магнитогорскю', 'магнитогорскем', 'магнитогорска', 'магнитогорске', 'магнитогорск', 'Магнитогорскю', 'Магнитогорск', 'Магнитогорску', 'Магнитогорска', 'Магнитогорском', 'Магнитогорскя', 'Магнитогорске', 'Магнитогорскем'], 'Майкоп': ['майкопя', 'майкопа', 'майкоп', 'майкопом', 'майкопе', 'майкопем', 'майкопю', 'майкопу', 'Майкопю', 'Майкоп', 'Майкопом', 'Майкопа', 'Майкопу', 'Майкопем', 'Майкопе', 'Майкопя'], 'Майский': ['майскем', 'майскый', 'майский', 'майскым', 'майским', 'майскего', 'майском', 'майскому', 'майского', 'майскему', 'майской', 'Майского', 'Майскому', 'Майский', 'Майскему', 'Майскем', 'Майскего', 'Майским', 'Майскым', 'Майском', 'Майскый', 'Майской'], 'Макаров': ['макаровом', 'макарова', 'макарове', 'макаров', 'макаровем', 'макаровю', 'макарову', 'макаровя', 'Макарове', 'Макаровя', 'Макаровом', 'Макаровем', 'Макаровю', 'Макарова', 'Макаров', 'Макарову'], 'Макарьев': ['макарьева', 'макарьевю', 'макарьевем', 'макарьеве', 'макарьевом', 'макарьеву', 'макарьевя', 'макарьев', 'Макарьеву', 'Макарьевом', 'Макарьевем', 'Макарьевю', 'Макарьеве', 'Макарьевя', 'Макарьев', 'Макарьева'], 'Макушино': ['макушине', 'макушинем', 'макушиня', 'макушином', 'макушина', 'макушино', 'макушиню', 'макушину', 'Макушином', 'Макушина', 'Макушине', 'Макушину', 'Макушиню', 'Макушино', 'Макушиня', 'Макушинем'], 'Малая Вишера': ['малой вишери', 'малей вишере', 'малая вишера', 'малой вишерой', 'малюю вишеру', 'малой вишеры', 'малую вишеру', 'Малой Вишери', 'Малая Вишера', 'Малой Вишеры', 'Малой Вишерой', 'Малей Вишере', 'Малюю Вишеру', 'Малую Вишеру'], 'Малгобек': ['малгобеком', 'малгобеке', 'малгобеку', 'малгобекю', 'малгобекем', 'малгобека', 'малгобекя', 'малгобек', 'Малгобек', 'Малгобеке', 'Малгобеком', 'Малгобеку', 'Малгобекю', 'Малгобекем', 'Малгобекя', 'Малгобека'], 'Малмыж': ['малмыж', 'малмыжя', 'малмыжем', 'малмыже', 'малмыжом', 'малмыжю', 'малмыжа', 'малмыжу', 'Малмыж', 'Малмыжем', 'Малмыжя', 'Малмыже', 'Малмыжом', 'Малмыжа', 'Малмыжу', 'Малмыжю'], 'Малоархангельск': ['малоархангельскем', 'малоархангельска', 'малоархангельском', 'малоархангельске', 'малоархангельскя', 'малоархангельск', 'малоархангельску', 'малоархангельскю', 'Малоархангельске', 'Малоархангельскя', 'Малоархангельском', 'Малоархангельска', 'Малоархангельскю', 'Малоархангельск', 'Малоархангельскем', 'Малоархангельску'], 'Малоярославец': ['малоярославеце', 'малоярославецом', 'малоярославецю', 'малоярославецу', 'малоярославеця', 'малоярославец', 'малоярославеца', 'малоярославецем', 'Малоярославец', 'Малоярославецом', 'Малоярославеця', 'Малоярославеце', 'Малоярославецу', 'Малоярославеца', 'Малоярославецем', 'Малоярославецю'], 'Мамадыш': ['мамадыша', 'мамадышом', 'мамадышю', 'мамадышу', 'мамадыше', 'мамадыш', 'мамадышем', 'мамадышя', 'Мамадышю', 'Мамадышя', 'Мамадыше', 'Мамадышом', 'Мамадышем', 'Мамадыш', 'Мамадыша', 'Мамадышу'], 'Мамоново': ['мамонову', 'мамоновом', 'мамоновю', 'мамоново', 'мамонове', 'мамоновя', 'мамонова', 'мамоновем', 'Мамоновем', 'Мамонову', 'Мамоновом', 'Мамонове', 'Мамоновя', 'Мамонова', 'Мамоново', 'Мамоновю'], 'Мантурово': ['мантурову', 'мантуровом', 'мантурово', 'мантурове', 'мантуровем', 'мантурова', 'мантуровю', 'мантуровя', 'Мантурову', 'Мантурове', 'Мантуровом', 'Мантурова', 'Мантурово', 'Мантуровю', 'Мантуровя', 'Мантуровем'], 'Мариинск': ['мариинскя', 'мариинскем', 'мариинска', 'мариинскю', 'мариинске', 'мариинску', 'мариинском', 'мариинск', 'Мариинскя', 'Мариинск', 'Мариинска', 'Мариинскем', 'Мариинскю', 'Мариинску', 'Мариинском', 'Мариинске'], 'Мариинский Посад': ['мариинского посадя', 'мариинскем посаде', 'мариинскому посадю', 'мариинского посада', 'мариинскым посадем', 'мариинской посада', 'мариинскый посадя', 'мариинским посадом', 'мариинский посадя', 'мариинский посада', 'мариинскым посадом', 'мариинский посад', 'мариинскый посада', 'мариинскему посаду', 'мариинском посаде', 'мариинским посадем', 'мариинскому посаду', 'мариинскего посадя', 'мариинскего посада', 'мариинскему посадю', 'мариинской посадя', 'Мариинскый Посадя', 'Мариинскому Посаду', 'Мариинскым Посадем', 'Мариинскем Посаде', 'Мариинским Посадом', 'Мариинскего Посада', 'Мариинскего Посадя', 'Мариинскым Посадом', 'Мариинского Посадя', 'Мариинского Посада', 'Мариинский Посад', 'Мариинском Посаде', 'Мариинскый Посада', 'Мариинский Посадя', 'Мариинской Посада', 'Мариинскому Посадю', 'Мариинским Посадем', 'Мариинскему Посаду', 'Мариинской Посадя', 'Мариинскему Посадю', 'Мариинский Посада'], 'Маркс': ['марксу', 'маркса', 'маркся', 'марксе', 'марксю', 'марксем', 'маркс', 'марксом', 'Марксу', 'Маркс', 'Марксю', 'Марксем', 'Маркса', 'Марксе', 'Маркся', 'Марксом'], 'Махачкала': ['махачкалы', 'махачкалу', 'махачкали', 'махачкале', 'махачкала', 'махачкалой', 'Махачкали', 'Махачкалой', 'Махачкалы', 'Махачкале', 'Махачкалу', 'Махачкала'], 'Мглин': ['мглине', 'мглинем', 'мглин', 'мглина', 'мглиню', 'мглином', 'мглиня', 'мглину', 'Мглиня', 'Мглину', 'Мглином', 'Мглиню', 'Мглин', 'Мглине', 'Мглина', 'Мглинем'], 'Мегион': ['мегионю', 'мегионом', 'мегиону', 'мегионе', 'мегион', 'мегионем', 'мегионя', 'мегиона', 'Мегиона', 'Мегионю', 'Мегионом', 'Мегиону', 'Мегионем', 'Мегионе', 'Мегионя', 'Мегион'], 'Медвежьегорск': ['медвежьегорском', 'медвежьегорскю', 'медвежьегорска', 'медвежьегорскя', 'медвежьегорске', 'медвежьегорск', 'медвежьегорскем', 'медвежьегорску', 'Медвежьегорску', 'Медвежьегорске', 'Медвежьегорскя', 'Медвежьегорска', 'Медвежьегорск', 'Медвежьегорском', 'Медвежьегорскю', 'Медвежьегорскем'], 'Медногорск': ['медногорске', 'медногорску', 'медногорск', 'медногорска', 'медногорском', 'медногорскем', 'медногорскю', 'медногорскя', 'Медногорске', 'Медногорска', 'Медногорскя', 'Медногорск', 'Медногорском', 'Медногорскю', 'Медногорскем', 'Медногорску'], 'Медынь': ['медынь', 'медыни', 'медынью', 'Медынь', 'Медыни', 'Медынью'], 'Межгорье': ['межгорьем', 'межгорья', 'межгорью', 'межгорьа', 'межгорье', 'межгорьу', 'межгорьо', 'межгорьом', 'Межгорье', 'Межгорья', 'Межгорьу', 'Межгорьа', 'Межгорьо', 'Межгорьем', 'Межгорьом', 'Межгорью'], 'Междуреченск': ['междуреченскю', 'междуреченск', 'междуреченскем', 'междуреченску', 'междуреченска', 'междуреченске', 'междуреченском', 'междуреченскя', 'Междуреченскя', 'Междуреченске', 'Междуреченскю', 'Междуреченскем', 'Междуреченском', 'Междуреченск', 'Междуреченска', 'Междуреченску'], 'Мезень': ['мезени', 'мезенью', 'мезень', 'Мезень', 'Мезени', 'Мезенью'], 'Меленки': ['меленки', 'Меленки'], 'Мелеуз': ['мелеуза', 'мелеузу', 'мелеузом', 'мелеузе', 'мелеуз', 'мелеузю', 'мелеузем', 'мелеузя', 'Мелеуз', 'Мелеуза', 'Мелеузе', 'Мелеузом', 'Мелеузем', 'Мелеузю', 'Мелеузу', 'Мелеузя'], 'Менделеевск': ['менделеевске', 'менделеевск', 'менделеевскя', 'менделеевска', 'менделеевску', 'менделеевском', 'менделеевскем', 'менделеевскю', 'Менделеевске', 'Менделеевскю', 'Менделеевск', 'Менделеевску', 'Менделеевскя', 'Менделеевскем', 'Менделеевском', 'Менделеевска'], 'Мензелинск': ['мензелинскя', 'мензелинска', 'мензелинску', 'мензелинскю', 'мензелинскем', 'мензелинске', 'мензелинск', 'мензелинском', 'Мензелинскем', 'Мензелинском', 'Мензелинск', 'Мензелинску', 'Мензелинскя', 'Мензелинска', 'Мензелинскю', 'Мензелинске'], 'Мещовск': ['мещовскя', 'мещовскем', 'мещовск', 'мещовску', 'мещовскю', 'мещовске', 'мещовска', 'мещовском', 'Мещовска', 'Мещовскя', 'Мещовску', 'Мещовскем', 'Мещовском', 'Мещовскю', 'Мещовске', 'Мещовск'], 'Миасс': ['миасся', 'миассю', 'миассе', 'миасс', 'миасса', 'миассом', 'миассу', 'миассем', 'Миасся', 'Миасса', 'Миасс', 'Миассе', 'Миассем', 'Миассу', 'Миассом', 'Миассю'], 'Микунь': ['микунь', 'микуни', 'микунью', 'Микунью', 'Микуни', 'Микунь'], 'Миллерово': ['миллерово', 'миллерове', 'миллеровем', 'миллеровом', 'миллеровю', 'миллеровя', 'миллерову', 'миллерова', 'Миллерово', 'Миллерову', 'Миллерове', 'Миллеровем', 'Миллерова', 'Миллеровом', 'Миллеровю', 'Миллеровя'], 'Минеральные Воды': ['минеральных воды', 'минеральным воды', 'минеральные воды', 'минеральними воды', 'минеральним воды', 'минеральние воды', 'минеральних воды', 'минеральными воды', 'Минеральных Воды', 'Минеральних Воды', 'Минеральные Воды', 'Минеральными Воды', 'Минеральними Воды', 'Минеральним Воды', 'Минеральным Воды', 'Минеральние Воды'], 'Минусинск': ['минусинск', 'минусинскю', 'минусинске', 'минусинскем', 'минусинскя', 'минусинском', 'минусинску', 'минусинска', 'Минусинску', 'Минусинскю', 'Минусинском', 'Минусинске', 'Минусинскя', 'Минусинскем', 'Минусинска', 'Минусинск'], 'Миньяр': ['миньяря', 'миньяром', 'миньяр', 'миньяру', 'миньярем', 'миньяра', 'миньярю', 'миньяре', 'Миньяр', 'Миньярем', 'Миньяря', 'Миньяру', 'Миньярю', 'Миньяре', 'Миньяром', 'Миньяра'], 'Мирный': ['мирном', 'мирнем', 'мирной', 'мирному', 'мирным', 'мирный', 'мирнему', 'мирного', 'мирним', 'мирнего', 'мирний', 'Мирнему', 'Мирному', 'Мирный', 'Мирнего', 'Мирной', 'Мирным', 'Мирнем', 'Мирний', 'Мирном', 'Мирним', 'Мирного'], 'Михайлов': ['михайлов', 'михайлове', 'михайловем', 'михайловя', 'михайловом', 'михайловю', 'михайлову', 'михайлова', 'Михайловя', 'Михайлове', 'Михайлова', 'Михайловом', 'Михайлову', 'Михайлов', 'Михайловем', 'Михайловю'], 'Михайловка': ['михайловкы', 'михайловке', 'михайловки', 'михайловку', 'михайловкой', 'михайловка', 'Михайловка', 'Михайловкы', 'Михайловку', 'Михайловки', 'Михайловкой', 'Михайловке'], 'Михайловск': ['михайловском', 'михайловскю', 'михайловску', 'михайловскем', 'михайловск', 'михайловске', 'михайловска', 'михайловскя', 'Михайловска', 'Михайловскю', 'Михайловск', 'Михайловском', 'Михайловскя', 'Михайловске', 'Михайловску', 'Михайловскем'], 'Мичуринск': ['мичуринск', 'мичуринску', 'мичуринскя', 'мичуринскем', 'мичуринска', 'мичуринскю', 'мичуринском', 'мичуринске', 'Мичуринск', 'Мичуринску', 'Мичуринском', 'Мичуринска', 'Мичуринске', 'Мичуринскем', 'Мичуринскю', 'Мичуринскя'], 'Могоча': ['могоче', 'могочи', 'могоча', 'могочу', 'могочой', 'могочы', 'Могоче', 'Могочы', 'Могочу', 'Могоча', 'Могочи', 'Могочой'], 'Можайск': ['можайск', 'можайскем', 'можайскю', 'можайску', 'можайскя', 'можайском', 'можайска', 'можайске', 'Можайскем', 'Можайске', 'Можайском', 'Можайск', 'Можайску', 'Можайска', 'Можайскя', 'Можайскю'], 'Можга': ['можге', 'можга', 'можгой', 'можгы', 'можги', 'можгу', 'Можгу', 'Можгой', 'Можгы', 'Можге', 'Можги', 'Можга'], 'Моздок': ['моздок', 'моздокя', 'моздоку', 'моздокю', 'моздоком', 'моздокем', 'моздоке', 'моздока', 'Моздоке', 'Моздоку', 'Моздокя', 'Моздокю', 'Моздока', 'Моздоком', 'Моздокем', 'Моздок'], 'Мончегорск': ['мончегорске', 'мончегорском', 'мончегорску', 'мончегорскем', 'мончегорска', 'мончегорскю', 'мончегорск', 'мончегорскя', 'Мончегорскю', 'Мончегорскя', 'Мончегорском', 'Мончегорску', 'Мончегорска', 'Мончегорске', 'Мончегорск', 'Мончегорскем'], 'Морозовск': ['морозовскем', 'морозовск', 'морозовскя', 'морозовскю', 'морозовска', 'морозовске', 'морозовску', 'морозовском', 'Морозовскем', 'Морозовскю', 'Морозовску', 'Морозовскя', 'Морозовском', 'Морозовске', 'Морозовска', 'Морозовск'], 'Моршанск': ['моршанску', 'моршанскя', 'моршанскем', 'моршанске', 'моршанском', 'моршанск', 'моршанскю', 'моршанска', 'Моршанск', 'Моршанску', 'Моршанске', 'Моршанскю', 'Моршанском', 'Моршанскем', 'Моршанскя', 'Моршанска'], 'Мосальск': ['мосальскя', 'мосальска', 'мосальску', 'мосальскю', 'мосальск', 'мосальскем', 'мосальске', 'мосальском', 'Мосальскю', 'Мосальск', 'Мосальском', 'Мосальске', 'Мосальскем', 'Мосальску', 'Мосальска', 'Мосальскя'], 'Москва': ['москву', 'москвой', 'москве', 'москви', 'москвы', 'москва', 'Москви', 'Москва', 'Москвой', 'Москвы', 'Москве', 'Москву'], 'Муравленко': ['муравленка', 'муравленке', 'муравленку', 'муравленком', 'муравленко', 'муравленкем', 'муравленкю', 'муравленкя', 'Муравленкя', 'Муравленкю', 'Муравленком', 'Муравленкем', 'Муравленке', 'Муравленку', 'Муравленко', 'Муравленка'], 'Мураши': ['мураши', 'Мураши'], 'Мурино': ['мурину', 'мурина', 'муриня', 'мурином', 'муринем', 'мурино', 'муриню', 'мурине', 'Мурину', 'Мурине', 'Мурина', 'Муринем', 'Мурином', 'Муриня', 'Мурино', 'Муриню'], 'Мурманск': ['мурманскю', 'мурманска', 'мурманск', 'мурманскем', 'мурманском', 'мурманскя', 'мурманску', 'мурманске', 'Мурманск', 'Мурманскю', 'Мурманску', 'Мурманскем', 'Мурманска', 'Мурманске', 'Мурманском', 'Мурманскя'], 'Муром': ['муромю', 'муром', 'муромом', 'мурома', 'мурому', 'муромя', 'муромем', 'муроме', 'Муромю', 'Мурома', 'Муром', 'Муромя', 'Муромем', 'Муроме', 'Муромом', 'Мурому'], 'Мценск': ['мценскя', 'мценскю', 'мценском', 'мценска', 'мценск', 'мценске', 'мценскем', 'мценску', 'Мценске', 'Мценскем', 'Мценскя', 'Мценском', 'Мценску', 'Мценск', 'Мценска', 'Мценскю'], 'Мыски': ['мыски', 'Мыски'], 'Мытищи': ['мытищи', 'Мытищи'], 'Мышкин': ['мышкина', 'мышкину', 'мышкиня', 'мышкином', 'мышкине', 'мышкин', 'мышкинем', 'мышкиню', 'Мышкинем', 'Мышкин', 'Мышкину', 'Мышкином', 'Мышкиня', 'Мышкине', 'Мышкина', 'Мышкиню'], 'Набережные Челны': ['набережние челны', 'набережным челны', 'набережных челны', 'набережними челны', 'набережним челны', 'набережних челны', 'набережными челны', 'набережные челны', 'Набережним Челны', 'Набережние Челны', 'Набережные Челны', 'Набережным Челны', 'Набережными Челны', 'Набережних Челны', 'Набережними Челны', 'Набережных Челны'], 'Навашино': ['навашине', 'навашина', 'навашиню', 'навашино', 'навашином', 'навашинем', 'навашину', 'навашиня', 'Навашине', 'Навашинем', 'Навашиня', 'Навашиню', 'Навашином', 'Навашина', 'Навашину', 'Навашино'], 'Наволоки': ['наволоки', 'Наволоки'], 'Надым': ['надыма', 'надымя', 'надымем', 'надым', 'надымю', 'надымом', 'надыме', 'надыму', 'Надымя', 'Надымем', 'Надымом', 'Надым', 'Надыма', 'Надымю', 'Надыму', 'Надыме'], 'Назарово': ['назаровя', 'назаровем', 'назаровю', 'назаровом', 'назарово', 'назарове', 'назарова', 'назарову', 'Назарова', 'Назаровом', 'Назаровя', 'Назарове', 'Назарову', 'Назаровем', 'Назарово', 'Назаровю'], 'Назрань': ['назранью', 'назрань', 'назрани', 'Назрани', 'Назранью', 'Назрань'], 'Называевск': ['называевскю', 'называевском', 'называевске', 'называевска', 'называевску', 'называевскем', 'называевск', 'называевскя', 'Называевска', 'Называевске', 'Называевскя', 'Называевск', 'Называевскем', 'Называевском', 'Называевскю', 'Называевску'], 'Нальчик': ['нальчика', 'нальчикем', 'нальчике', 'нальчику', 'нальчиком', 'нальчик', 'нальчикя', 'нальчикю', 'Нальчикем', 'Нальчику', 'Нальчике', 'Нальчик', 'Нальчика', 'Нальчиком', 'Нальчикю', 'Нальчикя'], 'Нариманов': ['нариманова', 'наримановя', 'нариманов', 'наримановем', 'наримановом', 'нариманове', 'наримановю', 'нариманову', 'Наримановя', 'Нариманов', 'Нариманове', 'Нариманова', 'Наримановю', 'Нариманову', 'Наримановем', 'Наримановом'], 'Наро-Фоминск': ['наро-фоминскем', 'наро-фоминск', 'наро-фоминску', 'наро-фоминска', 'наро-фоминскя', 'наро-фоминске', 'наро-фоминском', 'наро-фоминскю', 'Наро-Фоминскем', 'Наро-Фоминск', 'Наро-Фоминскя', 'Наро-Фоминске', 'Наро-Фоминском', 'Наро-Фоминскю', 'Наро-Фоминску', 'Наро-Фоминска'], 'Нарткала': ['нарткалы', 'нарткале', 'нарткали', 'нарткала', 'нарткалой', 'нарткалу', 'Нарткале', 'Нарткалу', 'Нарткалы', 'Нарткала', 'Нарткалой', 'Нарткали'], 'Нарьян-Мар': ['нарьян-мара', 'нарьян-мару', 'нарьян-маром', 'нарьян-маря', 'нарьян-марем', 'нарьян-маре', 'нарьян-марю', 'нарьян-мар', 'Нарьян-Мара', 'Нарьян-Мар', 'Нарьян-Маре', 'Нарьян-Мару', 'Нарьян-Марю', 'Нарьян-Марем', 'Нарьян-Маром', 'Нарьян-Маря'], 'Находка': ['находки', 'находкы', 'находка', 'находкой', 'находку', 'находке', 'Находкы', 'Находке', 'Находки', 'Находкой', 'Находку', 'Находка'], 'Невель': ['невель', 'невели', 'невелью', 'Невель', 'Невелью', 'Невели'], 'Невельск': ['невельскем', 'невельску', 'невельска', 'невельском', 'невельск', 'невельске', 'невельскя', 'невельскю', 'Невельску', 'Невельскю', 'Невельском', 'Невельскем', 'Невельска', 'Невельске', 'Невельскя', 'Невельск'], 'Невинномысск': ['невинномысском', 'невинномысске', 'невинномысскю', 'невинномысска', 'невинномысск', 'невинномысскя', 'невинномысскем', 'невинномысску', 'Невинномысска', 'Невинномысске', 'Невинномысску', 'Невинномысском', 'Невинномысскю', 'Невинномысскем', 'Невинномысскя', 'Невинномысск'], 'Невьянск': ['невьянск', 'невьянска', 'невьянске', 'невьянскю', 'невьянскем', 'невьянском', 'невьянскя', 'невьянску', 'Невьянскя', 'Невьянске', 'Невьянск', 'Невьянска', 'Невьянскем', 'Невьянску', 'Невьянскю', 'Невьянском'], 'Нелидово': ['нелидовем', 'нелидово', 'нелидовя', 'нелидовю', 'нелидове', 'нелидову', 'нелидова', 'нелидовом', 'Нелидово', 'Нелидова', 'Нелидовом', 'Нелидовем', 'Нелидовя', 'Нелидовю', 'Нелидове', 'Нелидову'], 'Неман': ['немане', 'немана', 'неману', 'неман', 'неманом', 'неманем', 'неманя', 'неманю', 'Неману', 'Неман', 'Немана', 'Неманя', 'Неманю', 'Немане', 'Неманем', 'Неманом'], 'Нерехта': ['нерехты', 'нерехтой', 'нерехти', 'нерехте', 'нерехту', 'нерехта', 'Нерехтой', 'Нерехти', 'Нерехту', 'Нерехта', 'Нерехте', 'Нерехты'], 'Нерчинск': ['нерчинска', 'нерчинску', 'нерчинскю', 'нерчинскем', 'нерчинске', 'нерчинском', 'нерчинск', 'нерчинскя', 'Нерчинска', 'Нерчинске', 'Нерчинскем', 'Нерчинскя', 'Нерчинск', 'Нерчинском', 'Нерчинску', 'Нерчинскю'], 'Нерюнгри': ['нерюнгри', 'Нерюнгри'], 'Нестеров': ['нестерова', 'нестеровю', 'нестеровя', 'нестеровом', 'нестеров', 'нестеровем', 'нестерове', 'нестерову', 'Нестеровом', 'Нестеровю', 'Нестерову', 'Нестерова', 'Нестеровем', 'Нестеров', 'Нестеровя', 'Нестерове'], 'Нефтегорск': ['нефтегорске', 'нефтегорскю', 'нефтегорска', 'нефтегорскем', 'нефтегорскя', 'нефтегорском', 'нефтегорску', 'нефтегорск', 'Нефтегорск', 'Нефтегорску', 'Нефтегорском', 'Нефтегорскю', 'Нефтегорска', 'Нефтегорске', 'Нефтегорскя', 'Нефтегорскем'], 'Нефтекамск': ['нефтекамску', 'нефтекамска', 'нефтекамскя', 'нефтекамском', 'нефтекамскю', 'нефтекамске', 'нефтекамскем', 'нефтекамск', 'Нефтекамскю', 'Нефтекамскя', 'Нефтекамском', 'Нефтекамск', 'Нефтекамскем', 'Нефтекамску', 'Нефтекамске', 'Нефтекамска'], 'Нефтекумск': ['нефтекумскю', 'нефтекумске', 'нефтекумска', 'нефтекумскем', 'нефтекумскя', 'нефтекумску', 'нефтекумском', 'нефтекумск', 'Нефтекумска', 'Нефтекумск', 'Нефтекумскю', 'Нефтекумском', 'Нефтекумскя', 'Нефтекумскем', 'Нефтекумске', 'Нефтекумску'], 'Нефтеюганск': ['нефтеюганскя', 'нефтеюганск', 'нефтеюганске', 'нефтеюганскю', 'нефтеюганска', 'нефтеюганскем', 'нефтеюганску', 'нефтеюганском', 'Нефтеюганскя', 'Нефтеюганском', 'Нефтеюганска', 'Нефтеюганске', 'Нефтеюганску', 'Нефтеюганскем', 'Нефтеюганск', 'Нефтеюганскю'], 'Нея': ['нее', 'нею', 'неи', 'нея', 'неей', 'Неей', 'Неи', 'Нея', 'Нее', 'Нею'], 'Нижневартовск': ['нижневартовскя', 'нижневартовска', 'нижневартовск', 'нижневартовскю', 'нижневартовску', 'нижневартовскем', 'нижневартовске', 'нижневартовском', 'Нижневартовску', 'Нижневартовскем', 'Нижневартовск', 'Нижневартовске', 'Нижневартовска', 'Нижневартовском', 'Нижневартовскя', 'Нижневартовскю'], 'Нижнекамск': ['нижнекамск', 'нижнекамску', 'нижнекамска', 'нижнекамске', 'нижнекамскя', 'нижнекамскем', 'нижнекамском', 'нижнекамскю', 'Нижнекамск', 'Нижнекамске', 'Нижнекамскю', 'Нижнекамску', 'Нижнекамска', 'Нижнекамском', 'Нижнекамскем', 'Нижнекамскя'], 'Нижнеудинск': ['нижнеудинска', 'нижнеудинску', 'нижнеудинске', 'нижнеудинскя', 'нижнеудинскем', 'нижнеудинском', 'нижнеудинск', 'нижнеудинскю', 'Нижнеудинск', 'Нижнеудинске', 'Нижнеудинску', 'Нижнеудинскю', 'Нижнеудинском', 'Нижнеудинска', 'Нижнеудинскя', 'Нижнеудинскем'], 'Нижние Серги': ['нижным серги', 'нижним серги', 'нижних серги', 'нижние серги', 'нижных серги', 'нижними серги', 'нижные серги', 'нижными серги', 'Нижние Серги', 'Нижних Серги', 'Нижним Серги', 'Нижных Серги', 'Нижными Серги', 'Нижними Серги', 'Нижные Серги', 'Нижным Серги'], 'Нижний Ломов': ['нижном ломове', 'нижним ломовом', 'нижнем ломове', 'нижному ломову', 'нижной ломова', 'нижный ломова', 'нижной ломовя', 'нижный ломовя', 'нижнего ломовя', 'нижний ломова', 'нижний ломов', 'нижному ломовю', 'нижного ломова', 'нижний ломовя', 'нижнему ломовю', 'нижным ломовем', 'нижним ломовем', 'нижнего ломова', 'нижным ломовом', 'нижнему ломову', 'нижного ломовя', 'Нижного Ломовя', 'Нижний Ломова', 'Нижнему Ломовю', 'Нижнем Ломове', 'Нижнему Ломову', 'Нижным Ломовом', 'Нижним Ломовем', 'Нижному Ломову', 'Нижнего Ломова', 'Нижному Ломовю', 'Нижного Ломова', 'Нижным Ломовем', 'Нижном Ломове', 'Нижной Ломова', 'Нижный Ломова', 'Нижний Ломов', 'Нижний Ломовя', 'Нижним Ломовом', 'Нижной Ломовя', 'Нижнего Ломовя', 'Нижный Ломовя'], 'Нижний Новгород': ['нижным новгородем', 'нижной новгородя', 'нижный новгорода', 'нижным новгородом', 'нижному новгородю', 'нижним новгородем', 'нижнему новгороду', 'нижной новгорода', 'нижнего новгорода', 'нижний новгорода', 'нижний новгород', 'нижнего новгородя', 'нижного новгородя', 'нижном новгороде', 'нижный новгородя', 'нижним новгородом', 'нижний новгородя', 'нижного новгорода', 'нижнем новгороде', 'нижному новгороду', 'нижнему новгородю', 'Нижнего Новгорода', 'Нижному Новгородю', 'Нижного Новгородя', 'Нижному Новгороду', 'Нижний Новгородя', 'Нижный Новгорода', 'Нижнем Новгороде', 'Нижним Новгородем', 'Нижной Новгорода', 'Нижним Новгородом', 'Нижным Новгородом', 'Нижнего Новгородя', 'Нижном Новгороде', 'Нижного Новгорода', 'Нижной Новгородя', 'Нижний Новгорода', 'Нижным Новгородем', 'Нижнему Новгороду', 'Нижний Новгород', 'Нижнему Новгородю', 'Нижный Новгородя'], 'Нижний Тагил': ['нижнем тагиле', 'нижного тагиля', 'нижный тагила', 'нижний тагил', 'нижнему тагилу', 'нижной тагила', 'нижный тагиля', 'нижнего тагила', 'нижний тагиля', 'нижнему тагилю', 'нижнего тагиля', 'нижним тагилем', 'нижном тагиле', 'нижного тагила', 'нижному тагилу', 'нижным тагилом', 'нижним тагилом', 'нижным тагилем', 'нижной тагиля', 'нижний тагила', 'нижному тагилю', 'Нижной Тагила', 'Нижного Тагиля', 'Нижной Тагиля', 'Нижным Тагилом', 'Нижнему Тагилю', 'Нижный Тагиля', 'Нижний Тагила', 'Нижным Тагилем', 'Нижний Тагиля', 'Нижнему Тагилу', 'Нижному Тагилу', 'Нижнем Тагиле', 'Нижнего Тагила', 'Нижний Тагил', 'Нижнего Тагиля', 'Нижного Тагила', 'Нижному Тагилю', 'Нижный Тагила', 'Нижним Тагилем', 'Нижном Тагиле', 'Нижним Тагилом'], 'Нижняя Салда': ['нижнюю салду', 'нижной салды', 'нижней салде', 'нижняя салда', 'нижной салдой', 'нижной салди', 'нижную салду', 'Нижней Салде', 'Нижной Салди', 'Нижной Салды', 'Нижную Салду', 'Нижнюю Салду', 'Нижной Салдой', 'Нижняя Салда'], 'Нижняя Тура': ['нижной тури', 'нижной турой', 'нижнюю туру', 'нижной туры', 'нижней туре', 'нижняя тура', 'нижную туру', 'Нижнюю Туру', 'Нижной Турой', 'Нижной Тури', 'Нижней Туре', 'Нижную Туру', 'Нижной Туры', 'Нижняя Тура'], 'Николаевск-на-Амуре': ['николаевск-на-амуре', 'николаевск-на-амуром', 'николаевск-на-амурем', 'николаевск-на-амуру', 'николаевск-на-амуро', 'николаевск-на-амурю', 'николаевск-на-амура', 'николаевск-на-амуря', 'Николаевск-на-Амуру', 'Николаевск-на-Амуро', 'Николаевск-на-Амуром', 'Николаевск-на-Амурю', 'Николаевск-на-Амуря', 'Николаевск-на-Амурем', 'Николаевск-на-Амуре', 'Николаевск-на-Амура'], 'Николаевск': ['николаевску', 'николаевском', 'николаевска', 'николаевскем', 'николаевскя', 'николаевск', 'николаевске', 'николаевскю', 'Николаевска', 'Николаевску', 'Николаевскем', 'Николаевске', 'Николаевскю', 'Николаевск', 'Николаевскя', 'Николаевском'], 'Никольск': ['никольскем', 'никольске', 'никольскю', 'никольском', 'никольск', 'никольскя', 'никольску', 'никольска', 'Никольскем', 'Никольска', 'Никольском', 'Никольске', 'Никольскю', 'Никольску', 'Никольск', 'Никольскя'], 'Никольское': ['никольскем', 'никольское', 'никольскему', 'никольскым', 'никольским', 'никольском', 'никольскего', 'никольскее', 'никольскому', 'никольского', 'Никольскым', 'Никольское', 'Никольскому', 'Никольским', 'Никольскему', 'Никольскем', 'Никольскего', 'Никольского', 'Никольском', 'Никольскее'], 'Новая Ладога': ['новей ладоге', 'новая ладога', 'новюю ладогу', 'новую ладогу', 'новой ладогы', 'новой ладоги', 'новой ладогой', 'Новая Ладога', 'Новой Ладоги', 'Новюю Ладогу', 'Новой Ладогы', 'Новую Ладогу', 'Новой Ладогой', 'Новей Ладоге'], 'Новая Ляля': ['новей ляле', 'новой ляли', 'новюю лялю', 'новая ляля', 'новой лялёй', 'новой лялей', 'новую лялю', 'Новюю Лялю', 'Новая Ляля', 'Новую Лялю', 'Новой Ляли', 'Новой Лялей', 'Новей Ляле', 'Новой Лялёй'], 'Новоалександровск': ['новоалександровскем', 'новоалександровску', 'новоалександровск', 'новоалександровске', 'новоалександровска', 'новоалександровскя', 'новоалександровском', 'новоалександровскю', 'Новоалександровскю', 'Новоалександровске', 'Новоалександровска', 'Новоалександровску', 'Новоалександровск', 'Новоалександровскя', 'Новоалександровском', 'Новоалександровскем'], 'Новоалтайск': ['новоалтайска', 'новоалтайском', 'новоалтайску', 'новоалтайск', 'новоалтайскя', 'новоалтайскю', 'новоалтайске', 'новоалтайскем', 'Новоалтайск', 'Новоалтайске', 'Новоалтайска', 'Новоалтайску', 'Новоалтайскем', 'Новоалтайскю', 'Новоалтайскя', 'Новоалтайском'], 'Новоаннинский': ['новоаннинского', 'новоаннинским', 'новоаннинскего', 'новоаннинскому', 'новоаннинской', 'новоаннинскый', 'новоаннинскему', 'новоаннинскым', 'новоаннинском', 'новоаннинскем', 'новоаннинский', 'Новоаннинскым', 'Новоаннинскый', 'Новоаннинским', 'Новоаннинского', 'Новоаннинскому', 'Новоаннинской', 'Новоаннинскем', 'Новоаннинском', 'Новоаннинскему', 'Новоаннинский', 'Новоаннинскего'], 'Нововоронеж': ['нововоронеж', 'нововоронежю', 'нововоронежом', 'нововоронежа', 'нововоронежем', 'нововоронежя', 'нововоронеже', 'нововоронежу', 'Нововоронежу', 'Нововоронежю', 'Нововоронежем', 'Нововоронеж', 'Нововоронежа', 'Нововоронежя', 'Нововоронеже', 'Нововоронежом'], 'Новодвинск': ['новодвинска', 'новодвинскю', 'новодвинском', 'новодвинску', 'новодвинск', 'новодвинскем', 'новодвинскя', 'новодвинске', 'Новодвинскя', 'Новодвинска', 'Новодвинск', 'Новодвинске', 'Новодвинску', 'Новодвинскем', 'Новодвинском', 'Новодвинскю'], 'Новозыбков': ['новозыбков', 'новозыбковом', 'новозыбкову', 'новозыбковем', 'новозыбковя', 'новозыбкова', 'новозыбкове', 'новозыбковю', 'Новозыбкову', 'Новозыбковом', 'Новозыбковю', 'Новозыбковя', 'Новозыбкова', 'Новозыбкове', 'Новозыбковем', 'Новозыбков'], 'Новокубанск': ['новокубанска', 'новокубанскем', 'новокубанскя', 'новокубанске', 'новокубанском', 'новокубанскю', 'новокубанск', 'новокубанску', 'Новокубанскя', 'Новокубанску', 'Новокубанскю', 'Новокубанском', 'Новокубанске', 'Новокубанска', 'Новокубанскем', 'Новокубанск'], 'Новокузнецк': ['новокузнецка', 'новокузнецком', 'новокузнецке', 'новокузнецкем', 'новокузнецкя', 'новокузнецк', 'новокузнецкю', 'новокузнецку', 'Новокузнецкя', 'Новокузнецк', 'Новокузнецкем', 'Новокузнецком', 'Новокузнецке', 'Новокузнецкю', 'Новокузнецка', 'Новокузнецку'], 'Новокуйбышевск': ['новокуйбышевскя', 'новокуйбышевскем', 'новокуйбышевска', 'новокуйбышевскю', 'новокуйбышевск', 'новокуйбышевску', 'новокуйбышевском', 'новокуйбышевске', 'Новокуйбышевскя', 'Новокуйбышевскю', 'Новокуйбышевске', 'Новокуйбышевскем', 'Новокуйбышевск', 'Новокуйбышевском', 'Новокуйбышевску', 'Новокуйбышевска'], 'Новомичуринск': ['новомичуринске', 'новомичуринск', 'новомичуринску', 'новомичуринскю', 'новомичуринска', 'новомичуринскем', 'новомичуринском', 'новомичуринскя', 'Новомичуринск', 'Новомичуринскю', 'Новомичуринске', 'Новомичуринском', 'Новомичуринска', 'Новомичуринскем', 'Новомичуринскя', 'Новомичуринску'], 'Новомосковск': ['новомосковскем', 'новомосковске', 'новомосковскя', 'новомосковска', 'новомосковскю', 'новомосковском', 'новомосковск', 'новомосковску', 'Новомосковском', 'Новомосковскя', 'Новомосковскем', 'Новомосковску', 'Новомосковска', 'Новомосковске', 'Новомосковскю', 'Новомосковск'], 'Новопавловск': ['новопавловску', 'новопавловске', 'новопавловскя', 'новопавловска', 'новопавловском', 'новопавловскю', 'новопавловск', 'новопавловскем', 'Новопавловском', 'Новопавловскя', 'Новопавловскю', 'Новопавловске', 'Новопавловскем', 'Новопавловска', 'Новопавловск', 'Новопавловску'], 'Новоржев': ['новоржевом', 'новоржевя', 'новоржева', 'новоржеве', 'новоржев', 'новоржевем', 'новоржеву', 'новоржевю', 'Новоржевем', 'Новоржеве', 'Новоржевя', 'Новоржевю', 'Новоржеву', 'Новоржева', 'Новоржев', 'Новоржевом'], 'Новороссийск': ['новороссийску', 'новороссийска', 'новороссийскю', 'новороссийском', 'новороссийске', 'новороссийск', 'новороссийскя', 'новороссийскем', 'Новороссийскем', 'Новороссийска', 'Новороссийске', 'Новороссийскя', 'Новороссийскю', 'Новороссийском', 'Новороссийск', 'Новороссийску'], 'Новосибирск': ['новосибирску', 'новосибирскя', 'новосибирскем', 'новосибирске', 'новосибирск', 'новосибирска', 'новосибирскю', 'новосибирском', 'Новосибирск', 'Новосибирску', 'Новосибирске', 'Новосибирскем', 'Новосибирском', 'Новосибирскя', 'Новосибирскю', 'Новосибирска'], 'Новосиль': ['новосиль', 'новосили', 'новосилью', 'Новосилью', 'Новосили', 'Новосиль'], 'Новосокольники': ['новосокольники', 'Новосокольники'], 'Новотроицк': ['новотроицку', 'новотроицкю', 'новотроицк', 'новотроицкем', 'новотроицке', 'новотроицком', 'новотроицка', 'новотроицкя', 'Новотроицка', 'Новотроицком', 'Новотроицкем', 'Новотроицку', 'Новотроицк', 'Новотроицкя', 'Новотроицке', 'Новотроицкю'], 'Новоузенск': ['новоузенскю', 'новоузенскем', 'новоузенск', 'новоузенску', 'новоузенском', 'новоузенске', 'новоузенска', 'новоузенскя', 'Новоузенска', 'Новоузенскем', 'Новоузенскя', 'Новоузенскю', 'Новоузенске', 'Новоузенску', 'Новоузенск', 'Новоузенском'], 'Новоульяновск': ['новоульяновскем', 'новоульяновском', 'новоульяновскя', 'новоульяновск', 'новоульяновска', 'новоульяновску', 'новоульяновске', 'новоульяновскю', 'Новоульяновскю', 'Новоульяновскем', 'Новоульяновске', 'Новоульяновск', 'Новоульяновскя', 'Новоульяновском', 'Новоульяновска', 'Новоульяновску'], 'Новоуральск': ['новоуральскя', 'новоуральске', 'новоуральск', 'новоуральску', 'новоуральском', 'новоуральскю', 'новоуральска', 'новоуральскем', 'Новоуральску', 'Новоуральске', 'Новоуральскю', 'Новоуральском', 'Новоуральск', 'Новоуральскя', 'Новоуральска', 'Новоуральскем'], 'Новохопёрск': ['новохопёрск', 'новохопёрскя', 'новохопёрскем', 'новохопёрске', 'новохопёрску', 'новохопёрском', 'новохопёрскю', 'новохопёрска', 'Новохопёрскю', 'Новохопёрскя', 'Новохопёрску', 'Новохопёрскем', 'Новохопёрска', 'Новохопёрск', 'Новохопёрском', 'Новохопёрске'], 'Новочебоксарск': ['новочебоксарск', 'новочебоксарске', 'новочебоксарску', 'новочебоксарскем', 'новочебоксарскю', 'новочебоксарском', 'новочебоксарска', 'новочебоксарскя', 'Новочебоксарскя', 'Новочебоксарск', 'Новочебоксарску', 'Новочебоксарска', 'Новочебоксарском', 'Новочебоксарскю', 'Новочебоксарскем', 'Новочебоксарске'], 'Новочеркасск': ['новочеркасск', 'новочеркасска', 'новочеркасскю', 'новочеркасскем', 'новочеркасскя', 'новочеркасске', 'новочеркасском', 'новочеркасску', 'Новочеркасск', 'Новочеркасскя', 'Новочеркасскем', 'Новочеркасском', 'Новочеркасскю', 'Новочеркасска', 'Новочеркасске', 'Новочеркасску'], 'Новошахтинск': ['новошахтинск', 'новошахтинскя', 'новошахтинска', 'новошахтинску', 'новошахтинскем', 'новошахтинскю', 'новошахтинском', 'новошахтинске', 'Новошахтинске', 'Новошахтинскю', 'Новошахтинску', 'Новошахтинскя', 'Новошахтинскем', 'Новошахтинск', 'Новошахтинска', 'Новошахтинском'], 'Новый Оскол': ['новому осколю', 'новой осколя', 'нового осколя', 'нового оскола', 'новый оскол', 'новему осколю', 'новой оскола', 'новего осколя', 'новый оскола', 'новем осколе', 'новего оскола', 'новим осколом', 'новый осколя', 'новом осколе', 'новий осколя', 'новому осколу', 'новым осколом', 'новым осколем', 'новим осколем', 'новий оскола', 'новему осколу', 'Новому Осколу', 'Новому Осколю', 'Новим Осколем', 'Новему Осколю', 'Новой Осколя', 'Новом Осколе', 'Нового Оскола', 'Новего Оскола', 'Новий Оскола', 'Новый Оскол', 'Новему Осколу', 'Новего Осколя', 'Новой Оскола', 'Нового Осколя', 'Новым Осколем', 'Новый Осколя', 'Новым Осколом', 'Новий Осколя', 'Новем Осколе', 'Новим Осколом', 'Новый Оскола'], 'Новый Уренгой': ['нового уренгый', 'новый уренгой', 'новым уренгым', 'новего уренгого', 'новий уренгого', 'новим уренгым', 'новый уренгий', 'новего уренгий', 'новом уренгом', 'нового уренгий', 'новему уренгому', 'новый уренгый', 'новой уренгого', 'новой уренгий', 'новый уренгего', 'новего уренгой', 'новего уренгый', 'новий уренгой', 'новему уренгему', 'новой уренгой', 'новой уренгый', 'новий уренгий', 'нового уренгего', 'новий уренгый', 'новим уренгим', 'новой уренгего', 'новем уренгом', 'новего уренгего', 'новому уренгему', 'новом уренгем', 'новем уренгем', 'новому уренгому', 'новый уренгого', 'новым уренгим', 'нового уренгого', 'новий уренгего', 'нового уренгой', 'Новий Уренгий', 'Новому Уренгому', 'Новой Уренгого', 'Новего Уренгый', 'Новом Уренгем', 'Нового Уренгого', 'Нового Уренгой', 'Новем Уренгом', 'Новем Уренгем', 'Новым Уренгым', 'Нового Уренгый', 'Новый Уренгий', 'Новый Уренгой', 'Новой Уренгой', 'Новой Уренгий', 'Новему Уренгому', 'Новий Уренгего', 'Новой Уренгый', 'Нового Уренгий', 'Новой Уренгего', 'Новый Уренгый', 'Новый Уренгого', 'Новым Уренгим', 'Новего Уренгого', 'Нового Уренгего', 'Новий Уренгого', 'Новий Уренгый', 'Новему Уренгему', 'Новего Уренгего', 'Новего Уренгой', 'Новый Уренгего', 'Новим Уренгым', 'Новом Уренгом', 'Новим Уренгим', 'Новий Уренгой', 'Новего Уренгий', 'Новому Уренгему'], 'Ногинск': ['ногинску', 'ногинскя', 'ногинскю', 'ногинском', 'ногинск', 'ногинска', 'ногинскем', 'ногинске', 'Ногинском', 'Ногинскем', 'Ногинскю', 'Ногинск', 'Ногинскя', 'Ногинска', 'Ногинске', 'Ногинску'], 'Нолинск': ['нолинскя', 'нолинска', 'нолинскю', 'нолинском', 'нолинск', 'нолинску', 'нолинскем', 'нолинске', 'Нолинска', 'Нолинскем', 'Нолинске', 'Нолинск', 'Нолинскю', 'Нолинску', 'Нолинском', 'Нолинскя'], 'Норильск': ['норильскю', 'норильскем', 'норильск', 'норильска', 'норильском', 'норильскя', 'норильску', 'норильске', 'Норильску', 'Норильске', 'Норильск', 'Норильскю', 'Норильскя', 'Норильска', 'Норильскем', 'Норильском'], 'Ноябрьск': ['ноябрьске', 'ноябрьскя', 'ноябрьском', 'ноябрьскем', 'ноябрьску', 'ноябрьскю', 'ноябрьск', 'ноябрьска', 'Ноябрьскю', 'Ноябрьска', 'Ноябрьском', 'Ноябрьскем', 'Ноябрьск', 'Ноябрьске', 'Ноябрьскя', 'Ноябрьску'], 'Нурлат': ['нурлатю', 'нурлатем', 'нурлате', 'нурлату', 'нурлатя', 'нурлат', 'нурлатом', 'нурлата', 'Нурлатом', 'Нурлате', 'Нурлат', 'Нурлатем', 'Нурлату', 'Нурлата', 'Нурлатя', 'Нурлатю'], 'Нытва': ['нытву', 'нытви', 'нытва', 'нытвы', 'нытве', 'нытвой', 'Нытву', 'Нытва', 'Нытве', 'Нытвы', 'Нытви', 'Нытвой'], 'Нюрба': ['нюрбой', 'нюрбе', 'нюрбу', 'нюрби', 'нюрбы', 'нюрба', 'Нюрби', 'Нюрбе', 'Нюрбы', 'Нюрбу', 'Нюрбой', 'Нюрба'], 'Нягань': ['нягань', 'няганью', 'нягани', 'Няганью', 'Нягань', 'Нягани'], 'Нязепетровск': ['нязепетровск', 'нязепетровскем', 'нязепетровском', 'нязепетровске', 'нязепетровскю', 'нязепетровска', 'нязепетровску', 'нязепетровскя', 'Нязепетровска', 'Нязепетровску', 'Нязепетровскем', 'Нязепетровскя', 'Нязепетровском', 'Нязепетровске', 'Нязепетровскю', 'Нязепетровск'], 'Няндома': ['няндомы', 'няндома', 'няндому', 'няндоме', 'няндомой', 'няндоми', 'Няндомы', 'Няндомой', 'Няндома', 'Няндому', 'Няндоми', 'Няндоме'], 'Облучье': ['облучья', 'облучьа', 'облучьем', 'облучью', 'облучье', 'облучьом', 'облучьу', 'облучьо', 'Облучьу', 'Облучью', 'Облучьа', 'Облучьем', 'Облучьо', 'Облучье', 'Облучьом', 'Облучья'], 'Обнинск': ['обнинска', 'обнинск', 'обнинскем', 'обнинскя', 'обнинскю', 'обнинске', 'обнинску', 'обнинском', 'Обнинске', 'Обнинском', 'Обнинскя', 'Обнинску', 'Обнинскю', 'Обнинскем', 'Обнинска', 'Обнинск'], 'Обоянь': ['обояни', 'обоянь', 'обоянью', 'Обоянью', 'Обоянь', 'Обояни'], 'Обь': ['оби', 'обью', 'обь', 'Обь', 'Оби', 'Обью'], 'Одинцово': ['одинцову', 'одинцова', 'одинцовем', 'одинцово', 'одинцовя', 'одинцовом', 'одинцовю', 'одинцове', 'Одинцове', 'Одинцовем', 'Одинцову', 'Одинцова', 'Одинцовю', 'Одинцово', 'Одинцовя', 'Одинцовом'], 'Озёрск': ['озёрском', 'озёрску', 'озёрск', 'озёрскем', 'озёрска', 'озёрскя', 'озёрскю', 'озёрске', 'Озёрска', 'Озёрскем', 'Озёрске', 'Озёрску', 'Озёрском', 'Озёрск', 'Озёрскю', 'Озёрскя'], 'Озёры': ['озёры', 'Озёры'], 'Октябрьск': ['октябрьскем', 'октябрьску', 'октябрьска', 'октябрьскя', 'октябрьске', 'октябрьском', 'октябрьск', 'октябрьскю', 'Октябрьскем', 'Октябрьска', 'Октябрьске', 'Октябрьскя', 'Октябрьску', 'Октябрьск', 'Октябрьскю', 'Октябрьском'], 'Октябрьский': ['октябрьскего', 'октябрьскым', 'октябрьского', 'октябрьскему', 'октябрьскый', 'октябрьском', 'октябрьскем', 'октябрьским', 'октябрьский', 'октябрьскому', 'октябрьской', 'Октябрьскем', 'Октябрьским', 'Октябрьского', 'Октябрьскому', 'Октябрьский', 'Октябрьской', 'Октябрьскый', 'Октябрьскего', 'Октябрьскым', 'Октябрьскему', 'Октябрьском'], 'Окуловка': ['окуловкы', 'окуловки', 'окуловке', 'окуловкой', 'окуловка', 'окуловку', 'Окуловкы', 'Окуловки', 'Окуловкой', 'Окуловку', 'Окуловка', 'Окуловке'], 'Оленегорск': ['оленегорскя', 'оленегорска', 'оленегорску', 'оленегорскю', 'оленегорском', 'оленегорске', 'оленегорскем', 'оленегорск', 'Оленегорскя', 'Оленегорску', 'Оленегорске', 'Оленегорском', 'Оленегорскем', 'Оленегорскю', 'Оленегорск', 'Оленегорска'], 'Олонец': ['олонеця', 'олонецу', 'олонеце', 'олонец', 'олонецем', 'олонецом', 'олонецю', 'олонеца', 'Олонецу', 'Олонец', 'Олонецю', 'Олонеце', 'Олонецем', 'Олонеца', 'Олонеця', 'Олонецом'], 'Олёкминск': ['олёкминскем', 'олёкминске', 'олёкминску', 'олёкминскя', 'олёкминска', 'олёкминскю', 'олёкминском', 'олёкминск', 'Олёкминску', 'Олёкминск', 'Олёкминскю', 'Олёкминска', 'Олёкминскем', 'Олёкминском', 'Олёкминске', 'Олёкминскя'], 'Омск': ['омском', 'омскем', 'омскю', 'омскя', 'омску', 'омск', 'омска', 'омске', 'Омском', 'Омска', 'Омскя', 'Омскем', 'Омску', 'Омск', 'Омске', 'Омскю'], 'Омутнинск': ['омутнинском', 'омутнинска', 'омутнинскя', 'омутнинскю', 'омутнинскем', 'омутнинску', 'омутнинск', 'омутнинске', 'Омутнинскя', 'Омутнинска', 'Омутнинске', 'Омутнинску', 'Омутнинскю', 'Омутнинскем', 'Омутнинск', 'Омутнинском'], 'Онега': ['онеги', 'онегой', 'онеге', 'онега', 'онегы', 'онегу', 'Онегы', 'Онеги', 'Онега', 'Онегой', 'Онеге', 'Онегу'], 'Опочка': ['опочке', 'опочку', 'опочки', 'опочка', 'опочкы', 'опочкой', 'Опочкой', 'Опочкы', 'Опочке', 'Опочку', 'Опочки', 'Опочка'], 'Оренбург': ['оренбурга', 'оренбургя', 'оренбургом', 'оренбургю', 'оренбургем', 'оренбурге', 'оренбург', 'оренбургу', 'Оренбурге', 'Оренбургем', 'Оренбургю', 'Оренбургу', 'Оренбургом', 'Оренбурга', 'Оренбургя', 'Оренбург'], 'Орехово-Зуево': ['орехово-зуевем', 'орехово-зуевом', 'орехово-зуева', 'орехово-зуево', 'орехово-зуевя', 'орехово-зуеву', 'орехово-зуевю', 'орехово-зуеве', 'Орехово-Зуевом', 'Орехово-Зуеву', 'Орехово-Зуевем', 'Орехово-Зуевю', 'Орехово-Зуевя', 'Орехово-Зуево', 'Орехово-Зуева', 'Орехово-Зуеве'], 'Орлов': ['орлове', 'орлов', 'орлова', 'орловя', 'орловем', 'орловом', 'орлову', 'орловю', 'Орловю', 'Орлове', 'Орлов', 'Орловом', 'Орлову', 'Орлова', 'Орловем', 'Орловя'], 'Орск': ['орскем', 'орском', 'орске', 'орска', 'орскя', 'орску', 'орск', 'орскю', 'Орск', 'Орскем', 'Орске', 'Орска', 'Орску', 'Орскя', 'Орском', 'Орскю'], 'Орёл': ['орёлю', 'орёлом', 'орёле', 'орёлу', 'орёля', 'орёл', 'орёла', 'орёлем', 'Орёл', 'Орёлу', 'Орёла', 'Орёле', 'Орёлом', 'Орёлю', 'Орёля', 'Орёлем'], 'Оса': ['осу', 'оси', 'осой', 'осы', 'оса', 'осе', 'Оса', 'Осу', 'Оси', 'Осы', 'Осой', 'Осе'], 'Осинники': ['осинники', 'Осинники'], 'Осташков': ['осташковя', 'осташкова', 'осташков', 'осташкове', 'осташковом', 'осташкову', 'осташковем', 'осташковю', 'Осташков', 'Осташковем', 'Осташковя', 'Осташковом', 'Осташкову', 'Осташкове', 'Осташкова', 'Осташковю'], 'Остров': ['остров', 'островю', 'острову', 'острове', 'островем', 'острова', 'островя', 'островом', 'Островя', 'Островю', 'Островом', 'Остров', 'Острове', 'Острова', 'Острову', 'Островем'], 'Островной': ['островном', 'островнему', 'островной', 'островному', 'островнем', 'островным', 'островный', 'островного', 'островнего', 'островним', 'островний', 'Островном', 'Островным', 'Островнему', 'Островный', 'Островний', 'Островним', 'Островнем', 'Островному', 'Островного', 'Островной', 'Островнего'], 'Острогожск': ['острогожска', 'острогожск', 'острогожскю', 'острогожске', 'острогожску', 'острогожскя', 'острогожском', 'острогожскем', 'Острогожскем', 'Острогожска', 'Острогожском', 'Острогожскю', 'Острогожск', 'Острогожску', 'Острогожскя', 'Острогожске'], 'Отрадное': ['отраднем', 'отрадным', 'отрадное', 'отраднее', 'отрадном', 'отрадному', 'отраднему', 'отраднего', 'отрадним', 'отрадного', 'Отраднее', 'Отраднему', 'Отрадным', 'Отраднем', 'Отрадное', 'Отрадним', 'Отрадному', 'Отрадного', 'Отраднего', 'Отрадном'], 'Отрадный': ['отраднем', 'отрадным', 'отрадном', 'отрадному', 'отрадний', 'отраднему', 'отраднего', 'отрадной', 'отрадним', 'отрадного', 'отрадный', 'Отрадной', 'Отраднем', 'Отраднему', 'Отрадным', 'Отрадный', 'Отрадний', 'Отрадним', 'Отрадному', 'Отрадного', 'Отраднего', 'Отрадном'], 'Оха': ['охи', 'охой', 'оху', 'охы', 'охе', 'оха', 'Оху', 'Охи', 'Охы', 'Охе', 'Охой', 'Оха'], 'Оханск': ['оханском', 'оханска', 'оханске', 'оханск', 'оханскю', 'оханскя', 'оханскем', 'оханску', 'Оханскя', 'Оханскем', 'Оханске', 'Оханском', 'Оханск', 'Оханску', 'Оханска', 'Оханскю'], 'Очёр': ['очёром', 'очёре', 'очёрем', 'очёру', 'очёря', 'очёра', 'очёрю', 'очёр', 'Очёра', 'Очёром', 'Очёре', 'Очёря', 'Очёрю', 'Очёр', 'Очёру', 'Очёрем'], 'Павлово': ['павловю', 'павлове', 'павловя', 'павловем', 'павлову', 'павлова', 'павлово', 'павловом', 'Павлова', 'Павловом', 'Павлово', 'Павлове', 'Павловя', 'Павловю', 'Павловем', 'Павлову'], 'Павловск': ['павловска', 'павловскя', 'павловск', 'павловску', 'павловске', 'павловскем', 'павловскю', 'павловском', 'Павловскем', 'Павловске', 'Павловском', 'Павловска', 'Павловскю', 'Павловску', 'Павловскя', 'Павловск'], 'Павловский Посад': ['павловскый посадя', 'павловским посадем', 'павловской посада', 'павловскым посадом', 'павловскего посада', 'павловским посадом', 'павловскем посаде', 'павловской посадя', 'павловскему посаду', 'павловском посаде', 'павловский посадя', 'павловский посад', 'павловского посада', 'павловскым посадем', 'павловскому посадю', 'павловскему посадю', 'павловский посада', 'павловскый посада', 'павловскего посадя', 'павловскому посаду', 'павловского посадя', 'Павловского Посада', 'Павловской Посада', 'Павловский Посад', 'Павловскый Посада', 'Павловскому Посаду', 'Павловский Посадя', 'Павловского Посадя', 'Павловскым Посадом', 'Павловской Посадя', 'Павловским Посадом', 'Павловском Посаде', 'Павловскего Посада', 'Павловский Посада', 'Павловскего Посадя', 'Павловскему Посаду', 'Павловскым Посадем', 'Павловскому Посадю', 'Павловскему Посадю', 'Павловским Посадем', 'Павловскем Посаде', 'Павловскый Посадя'], 'Палласовка': ['палласовки', 'палласовке', 'палласовкой', 'палласовку', 'палласовка', 'палласовкы', 'Палласовки', 'Палласовка', 'Палласовке', 'Палласовкой', 'Палласовкы', 'Палласовку'], 'Партизанск': ['партизанск', 'партизанскю', 'партизанскя', 'партизанском', 'партизанска', 'партизанску', 'партизанске', 'партизанскем', 'Партизанск', 'Партизанскю', 'Партизанскем', 'Партизанском', 'Партизанску', 'Партизанска', 'Партизанске', 'Партизанскя'], 'Певек': ['певеке', 'певекя', 'певекем', 'певек', 'певеком', 'певекю', 'певека', 'певеку', 'Певек', 'Певекю', 'Певеку', 'Певекем', 'Певеком', 'Певекя', 'Певеке', 'Певека'], 'Пенза': ['пенза', 'пензи', 'пензой', 'пензы', 'пензу', 'пензе', 'Пензи', 'Пензой', 'Пензу', 'Пензы', 'Пенза', 'Пензе'], 'Первомайск': ['первомайскя', 'первомайске', 'первомайском', 'первомайска', 'первомайскю', 'первомайск', 'первомайску', 'первомайскем', 'Первомайска', 'Первомайском', 'Первомайску', 'Первомайскем', 'Первомайскю', 'Первомайске', 'Первомайскя', 'Первомайск'], 'Первоуральск': ['первоуральску', 'первоуральскя', 'первоуральске', 'первоуральска', 'первоуральском', 'первоуральск', 'первоуральскю', 'первоуральскем', 'Первоуральскю', 'Первоуральску', 'Первоуральска', 'Первоуральске', 'Первоуральскя', 'Первоуральском', 'Первоуральск', 'Первоуральскем'], 'Перевоз': ['перевозем', 'перевозом', 'перевозя', 'перевозу', 'перевозю', 'перевоза', 'перевозе', 'перевоз', 'Перевоза', 'Перевозя', 'Перевозу', 'Перевозом', 'Перевозю', 'Перевоз', 'Перевозе', 'Перевозем'], 'Пересвет': ['пересвету', 'пересветю', 'пересвете', 'пересветем', 'пересветя', 'пересветом', 'пересвета', 'пересвет', 'Пересветя', 'Пересвет', 'Пересвету', 'Пересветем', 'Пересвете', 'Пересветом', 'Пересвета', 'Пересветю'], 'Переславль-Залесский': ['переславль-залесскем', 'переславль-залесскего', 'переславль-залесскому', 'переславль-залесскый', 'переславль-залесского', 'переславль-залесскему', 'переславль-залесский', 'переславль-залесским', 'переславль-залесском', 'переславль-залесскым', 'переславль-залесской', 'Переславль-Залесской', 'Переславль-Залесскый', 'Переславль-Залесскему', 'Переславль-Залесский', 'Переславль-Залесским', 'Переславль-Залесскем', 'Переславль-Залесскым', 'Переславль-Залесском', 'Переславль-Залесскому', 'Переславль-Залесского', 'Переславль-Залесскего'], 'Пермь': ['пермь', 'перми', 'пермью', 'Пермью', 'Пермь', 'Перми'], 'Пестово': ['пестову', 'пестове', 'пестовю', 'пестовем', 'пестовом', 'пестовя', 'пестова', 'пестово', 'Пестовя', 'Пестова', 'Пестову', 'Пестовом', 'Пестове', 'Пестово', 'Пестовем', 'Пестовю'], 'Петров Вал': ['петровя вала', 'петровом валом', 'петрова вала', 'петрову валю', 'петровю валу', 'петровем валом', 'петрову валу', 'петрова валя', 'петровю валю', 'петровом валем', 'петров вал', 'петровем валем', 'петровя валя', 'петрове вале', 'Петрову Валу', 'Петровя Вала', 'Петровем Валем', 'Петровом Валем', 'Петрову Валю', 'Петровом Валом', 'Петрова Валя', 'Петрова Вала', 'Петровю Валю', 'Петров Вал', 'Петровю Валу', 'Петрове Вале', 'Петровя Валя', 'Петровем Валом'], 'Петровск-Забайкальский': ['петровск-забайкальскего', 'петровск-забайкальскым', 'петровск-забайкальским', 'петровск-забайкальскем', 'петровск-забайкальскый', 'петровск-забайкальском', 'петровск-забайкальскему', 'петровск-забайкальский', 'петровск-забайкальской', 'петровск-забайкальского', 'петровск-забайкальскому', 'Петровск-Забайкальский', 'Петровск-Забайкальскый', 'Петровск-Забайкальской', 'Петровск-Забайкальскем', 'Петровск-Забайкальского', 'Петровск-Забайкальскему', 'Петровск-Забайкальским', 'Петровск-Забайкальскому', 'Петровск-Забайкальскего', 'Петровск-Забайкальскым', 'Петровск-Забайкальском'], 'Петровск': ['петровске', 'петровскя', 'петровск', 'петровском', 'петровскем', 'петровска', 'петровску', 'петровскю', 'Петровск', 'Петровскю', 'Петровском', 'Петровске', 'Петровску', 'Петровска', 'Петровскем', 'Петровскя'], 'Петрозаводск': ['петрозаводском', 'петрозаводска', 'петрозаводске', 'петрозаводску', 'петрозаводскя', 'петрозаводск', 'петрозаводскем', 'петрозаводскю', 'Петрозаводска', 'Петрозаводску', 'Петрозаводском', 'Петрозаводскем', 'Петрозаводскя', 'Петрозаводске', 'Петрозаводскю', 'Петрозаводск'], 'Петропавловск-Камчатский': ['петропавловск-камчатскый', 'петропавловск-камчатскому', 'петропавловск-камчатский', 'петропавловск-камчатском', 'петропавловск-камчатским', 'петропавловск-камчатскым', 'петропавловск-камчатскему', 'петропавловск-камчатскего', 'петропавловск-камчатской', 'петропавловск-камчатского', 'петропавловск-камчатскем', 'Петропавловск-Камчатскый', 'Петропавловск-Камчатского', 'Петропавловск-Камчатским', 'Петропавловск-Камчатскем', 'Петропавловск-Камчатской', 'Петропавловск-Камчатскего', 'Петропавловск-Камчатскему', 'Петропавловск-Камчатскым', 'Петропавловск-Камчатском', 'Петропавловск-Камчатский', 'Петропавловск-Камчатскому'], 'Петухово': ['петуховем', 'петухова', 'петухову', 'петухово', 'петуховом', 'петуховю', 'петухове', 'петуховя', 'Петухово', 'Петуховем', 'Петуховя', 'Петухову', 'Петуховом', 'Петухова', 'Петухове', 'Петуховю'], 'Петушки': ['петушки', 'Петушки'], 'Печора': ['печоры', 'печора', 'печоре', 'печору', 'печори', 'печорой', 'Печоре', 'Печори', 'Печору', 'Печорой', 'Печора', 'Печоры'], 'Печоры': ['печоры', 'Печоры'], 'Пикалёво': ['пикалёвя', 'пикалёве', 'пикалёвом', 'пикалёва', 'пикалёвем', 'пикалёво', 'пикалёвю', 'пикалёву', 'Пикалёво', 'Пикалёву', 'Пикалёвом', 'Пикалёва', 'Пикалёвя', 'Пикалёвем', 'Пикалёве', 'Пикалёвю'], 'Пионерский': ['пионерскему', 'пионерскым', 'пионерской', 'пионерском', 'пионерского', 'пионерскый', 'пионерскем', 'пионерскому', 'пионерскего', 'пионерским', 'пионерский', 'Пионерской', 'Пионерскего', 'Пионерскый', 'Пионерскым', 'Пионерском', 'Пионерскем', 'Пионерский', 'Пионерскому', 'Пионерским', 'Пионерского', 'Пионерскему'], 'Питкяранта': ['питкярантой', 'питкяранте', 'питкяранты', 'питкяранту', 'питкяранти', 'питкяранта', 'Питкярантой', 'Питкяранти', 'Питкяранта', 'Питкяранте', 'Питкяранту', 'Питкяранты'], 'Плавск': ['плавску', 'плавске', 'плавск', 'плавскем', 'плавска', 'плавскя', 'плавскю', 'плавском', 'Плавском', 'Плавск', 'Плавску', 'Плавска', 'Плавске', 'Плавскем', 'Плавскю', 'Плавскя'], 'Пласт': ['пластем', 'пласта', 'пласту', 'пластю', 'пласт', 'пластом', 'пласте', 'пластя', 'Пластем', 'Пластя', 'Пластом', 'Пласту', 'Пластю', 'Пласт', 'Пласта', 'Пласте'], 'Плёс': ['плёс', 'плёсу', 'плёсю', 'плёсем', 'плёсе', 'плёся', 'плёса', 'плёсом', 'Плёсем', 'Плёсом', 'Плёс', 'Плёсю', 'Плёсе', 'Плёсу', 'Плёся', 'Плёса'], 'Поворино': ['поворином', 'повориню', 'поворино', 'поворинем', 'поворина', 'поворину', 'поворине', 'повориня', 'Поворинем', 'Поворину', 'Поворине', 'Поворином', 'Поворина', 'Повориня', 'Поворино', 'Повориню'], 'Подольск': ['подольскя', 'подольске', 'подольском', 'подольскю', 'подольскем', 'подольск', 'подольска', 'подольску', 'Подольску', 'Подольском', 'Подольскем', 'Подольскю', 'Подольскя', 'Подольске', 'Подольска', 'Подольск'], 'Подпорожье': ['подпорожьем', 'подпорожьу', 'подпорожья', 'подпорожью', 'подпорожьо', 'подпорожьом', 'подпорожьа', 'подпорожье', 'Подпорожье', 'Подпорожьем', 'Подпорожья', 'Подпорожьу', 'Подпорожьом', 'Подпорожью', 'Подпорожьо', 'Подпорожьа'], 'Покачи': ['покачи', 'Покачи'], 'Покров': ['покровем', 'покрову', 'покровю', 'покров', 'покровом', 'покрове', 'покровя', 'покрова', 'Покровем', 'Покровя', 'Покрова', 'Покровю', 'Покрове', 'Покров', 'Покрову', 'Покровом'], 'Покровск': ['покровска', 'покровску', 'покровскем', 'покровске', 'покровскю', 'покровском', 'покровск', 'покровскя', 'Покровскем', 'Покровск', 'Покровске', 'Покровску', 'Покровскю', 'Покровскя', 'Покровском', 'Покровска'], 'Полевской': ['полевском', 'полевский', 'полевскым', 'полевским', 'полевскый', 'полевского', 'полевскому', 'полевскем', 'полевскего', 'полевской', 'полевскему', 'Полевскем', 'Полевский', 'Полевскый', 'Полевскым', 'Полевским', 'Полевской', 'Полевском', 'Полевскому', 'Полевскего', 'Полевскему', 'Полевского'], 'Полесск': ['полесскем', 'полесскю', 'полесске', 'полесском', 'полесска', 'полесску', 'полесскя', 'полесск', 'Полесскя', 'Полесск', 'Полесскем', 'Полесску', 'Полесске', 'Полесском', 'Полесска', 'Полесскю'], 'Полысаево': ['полысаевю', 'полысаевом', 'полысаевем', 'полысаеве', 'полысаеву', 'полысаево', 'полысаевя', 'полысаева', 'Полысаеву', 'Полысаевем', 'Полысаевю', 'Полысаево', 'Полысаевом', 'Полысаеве', 'Полысаева', 'Полысаевя'], 'Полярные Зори': ['полярними зори', 'полярными зори', 'полярние зори', 'полярным зори', 'полярних зори', 'полярных зори', 'полярним зори', 'полярные зори', 'Полярных Зори', 'Полярние Зори', 'Полярные Зори', 'Полярних Зори', 'Полярными Зори', 'Полярними Зори', 'Полярним Зори', 'Полярным Зори'], 'Полярный': ['полярным', 'полярной', 'полярном', 'полярного', 'полярним', 'полярный', 'полярнему', 'полярнем', 'полярнего', 'полярному', 'полярний', 'Полярнему', 'Полярным', 'Полярнем', 'Полярним', 'Полярный', 'Полярной', 'Полярнего', 'Полярного', 'Полярному', 'Полярний', 'Полярном'], 'Поронайск': ['поронайске', 'поронайск', 'поронайска', 'поронайску', 'поронайскем', 'поронайскю', 'поронайскя', 'поронайском', 'Поронайск', 'Поронайску', 'Поронайскя', 'Поронайске', 'Поронайскем', 'Поронайскю', 'Поронайска', 'Поронайском'], 'Порхов': ['порхов', 'порховом', 'порховю', 'порховем', 'порхове', 'порхова', 'порхову', 'порховя', 'Порхову', 'Порховя', 'Порхове', 'Порхова', 'Порхов', 'Порховем', 'Порховю', 'Порховом'], 'Похвистнево': ['похвистнево', 'похвистнева', 'похвистневю', 'похвистневом', 'похвистневу', 'похвистневем', 'похвистневе', 'похвистневя', 'Похвистневом', 'Похвистневе', 'Похвистнево', 'Похвистневем', 'Похвистнева', 'Похвистневя', 'Похвистневю', 'Похвистневу'], 'Почеп': ['почепа', 'почепом', 'почепя', 'почепе', 'почепу', 'почеп', 'почепю', 'почепем', 'Почепе', 'Почепом', 'Почеп', 'Почепю', 'Почепем', 'Почепа', 'Почепу', 'Почепя'], 'Починок': ['починокю', 'починокя', 'починокем', 'починок', 'починоку', 'починока', 'починоке', 'починоком', 'Починоком', 'Починока', 'Починоку', 'Починоке', 'Починокя', 'Починок', 'Починокю', 'Починокем'], 'Пошехонье': ['пошехонью', 'пошехоньо', 'пошехоньа', 'пошехоньу', 'пошехоньом', 'пошехоньем', 'пошехонья', 'пошехонье', 'Пошехонья', 'Пошехоньо', 'Пошехоньа', 'Пошехоньом', 'Пошехонье', 'Пошехонью', 'Пошехоньу', 'Пошехоньем'], 'Правдинск': ['правдинску', 'правдинск', 'правдинскем', 'правдинскю', 'правдинска', 'правдинском', 'правдинскя', 'правдинске', 'Правдинска', 'Правдинскем', 'Правдинскю', 'Правдинском', 'Правдинск', 'Правдинскя', 'Правдинске', 'Правдинску'], 'Приволжск': ['приволжска', 'приволжскя', 'приволжску', 'приволжском', 'приволжскем', 'приволжске', 'приволжск', 'приволжскю', 'Приволжска', 'Приволжскю', 'Приволжском', 'Приволжске', 'Приволжску', 'Приволжскем', 'Приволжскя', 'Приволжск'], 'Приморск': ['приморскем', 'приморском', 'приморске', 'приморска', 'приморскю', 'приморску', 'приморскя', 'приморск', 'Приморскю', 'Приморске', 'Приморском', 'Приморска', 'Приморску', 'Приморск', 'Приморскя', 'Приморскем'], 'Приморско-Ахтарск': ['приморско-ахтарск', 'приморско-ахтарском', 'приморско-ахтарске', 'приморско-ахтарскю', 'приморско-ахтарскя', 'приморско-ахтарска', 'приморско-ахтарскем', 'приморско-ахтарску', 'Приморско-Ахтарска', 'Приморско-Ахтарск', 'Приморско-Ахтарском', 'Приморско-Ахтарскем', 'Приморско-Ахтарску', 'Приморско-Ахтарскю', 'Приморско-Ахтарскя', 'Приморско-Ахтарске'], 'Приозерск': ['приозерска', 'приозерскем', 'приозерскю', 'приозерскя', 'приозерск', 'приозерском', 'приозерску', 'приозерске', 'Приозерску', 'Приозерском', 'Приозерскя', 'Приозерск', 'Приозерске', 'Приозерскем', 'Приозерска', 'Приозерскю'], 'Прокопьевск': ['прокопьевскя', 'прокопьевскем', 'прокопьевск', 'прокопьевском', 'прокопьевска', 'прокопьевску', 'прокопьевскю', 'прокопьевске', 'Прокопьевскя', 'Прокопьевске', 'Прокопьевскем', 'Прокопьевску', 'Прокопьевска', 'Прокопьевскю', 'Прокопьевск', 'Прокопьевском'], 'Пролетарск': ['пролетарску', 'пролетарском', 'пролетарскю', 'пролетарскем', 'пролетарскя', 'пролетарске', 'пролетарска', 'пролетарск', 'Пролетарска', 'Пролетарскя', 'Пролетарск', 'Пролетарску', 'Пролетарском', 'Пролетарскю', 'Пролетарскем', 'Пролетарске'], 'Протвино': ['протвине', 'протвино', 'протвиня', 'протвином', 'протвина', 'протвину', 'протвиню', 'протвинем', 'Протвиня', 'Протвино', 'Протвином', 'Протвинем', 'Протвину', 'Протвиню', 'Протвина', 'Протвине'], 'Прохладный': ['прохладний', 'прохладним', 'прохладном', 'прохладнего', 'прохладный', 'прохладного', 'прохладным', 'прохладнем', 'прохладному', 'прохладной', 'прохладнему', 'Прохладного', 'Прохладний', 'Прохладный', 'Прохладному', 'Прохладнему', 'Прохладным', 'Прохладнего', 'Прохладной', 'Прохладнем', 'Прохладним', 'Прохладном'], 'Псков': ['пскову', 'псковом', 'пскове', 'псковем', 'псковя', 'псков', 'пскова', 'псковю', 'Псков', 'Псковя', 'Пскове', 'Псковем', 'Пскову', 'Пскова', 'Псковю', 'Псковом'], 'Пугачёв': ['пугачёву', 'пугачёвом', 'пугачёвю', 'пугачёвем', 'пугачёв', 'пугачёва', 'пугачёвя', 'пугачёве', 'Пугачёву', 'Пугачёва', 'Пугачёве', 'Пугачёв', 'Пугачёвя', 'Пугачёвю', 'Пугачёвем', 'Пугачёвом'], 'Пудож': ['пудожем', 'пудоже', 'пудожа', 'пудож', 'пудожом', 'пудожу', 'пудожя', 'пудожю', 'Пудожа', 'Пудожю', 'Пудож', 'Пудожу', 'Пудожем', 'Пудожя', 'Пудожом', 'Пудоже'], 'Пустошка': ['пустошки', 'пустошке', 'пустошку', 'пустошкой', 'пустошкы', 'пустошка', 'Пустошки', 'Пустошка', 'Пустошку', 'Пустошкой', 'Пустошкы', 'Пустошке'], 'Пучеж': ['пучежем', 'пучежом', 'пучежа', 'пучежя', 'пучеж', 'пучеже', 'пучежу', 'пучежю', 'Пучежя', 'Пучежем', 'Пучежом', 'Пучеж', 'Пучеже', 'Пучежю', 'Пучежу', 'Пучежа'], 'Пушкино': ['пушкине', 'пушкиню', 'пушкинем', 'пушкина', 'пушкином', 'пушкиня', 'пушкино', 'пушкину', 'Пушкина', 'Пушкину', 'Пушкино', 'Пушкиню', 'Пушкине', 'Пушкиня', 'Пушкином', 'Пушкинем'], 'Пущино': ['пущиню', 'пущино', 'пущине', 'пущиня', 'пущинем', 'пущина', 'пущином', 'пущину', 'Пущино', 'Пущину', 'Пущина', 'Пущином', 'Пущиню', 'Пущиня', 'Пущинем', 'Пущине'], 'Пыталово': ['пыталова', 'пыталовя', 'пыталову', 'пыталово', 'пыталовем', 'пыталовом', 'пыталове', 'пыталовю', 'Пыталовом', 'Пыталове', 'Пыталовем', 'Пыталовя', 'Пыталовю', 'Пыталову', 'Пыталова', 'Пыталово'], 'Пыть-Ях': ['пыть-яхем', 'пыть-яхю', 'пыть-яха', 'пыть-ях', 'пыть-яхе', 'пыть-яху', 'пыть-яхом', 'пыть-яхя', 'Пыть-Яхе', 'Пыть-Яхя', 'Пыть-Яхем', 'Пыть-Ях', 'Пыть-Яхю', 'Пыть-Яху', 'Пыть-Яха', 'Пыть-Яхом'], 'Пятигорск': ['пятигорском', 'пятигорскю', 'пятигорска', 'пятигорскя', 'пятигорскем', 'пятигорске', 'пятигорску', 'пятигорск', 'Пятигорску', 'Пятигорск', 'Пятигорском', 'Пятигорске', 'Пятигорскю', 'Пятигорска', 'Пятигорскя', 'Пятигорскем'], 'Радужный': ['радужним', 'радужнем', 'радужнего', 'радужной', 'радужным', 'радужном', 'радужний', 'радужнему', 'радужному', 'радужный', 'радужного', 'Радужной', 'Радужному', 'Радужным', 'Радужнему', 'Радужним', 'Радужнего', 'Радужнем', 'Радужного', 'Радужном', 'Радужний', 'Радужный'], 'Райчихинск': ['райчихинске', 'райчихинскя', 'райчихинска', 'райчихинском', 'райчихинску', 'райчихинск', 'райчихинскю', 'райчихинскем', 'Райчихинскя', 'Райчихинске', 'Райчихинском', 'Райчихинскю', 'Райчихинскем', 'Райчихинску', 'Райчихинска', 'Райчихинск'], 'Раменское': ['раменскым', 'раменскему', 'раменского', 'раменское', 'раменскем', 'раменскее', 'раменском', 'раменскому', 'раменскего', 'раменским', 'Раменское', 'Раменскего', 'Раменскему', 'Раменскем', 'Раменскым', 'Раменскее', 'Раменском', 'Раменским', 'Раменского', 'Раменскому'], 'Рассказово': ['рассказово', 'рассказовю', 'рассказовя', 'рассказовем', 'рассказове', 'рассказова', 'рассказову', 'рассказовом', 'Рассказову', 'Рассказовем', 'Рассказовю', 'Рассказовя', 'Рассказове', 'Рассказово', 'Рассказова', 'Рассказовом'], 'Ревда': ['ревда', 'ревдой', 'ревду', 'ревде', 'ревды', 'ревди', 'Ревды', 'Ревде', 'Ревдой', 'Ревду', 'Ревда', 'Ревди'], 'Реж': ['реже', 'режя', 'режа', 'реж', 'режу', 'режю', 'режем', 'режом', 'Режу', 'Режа', 'Режом', 'Реже', 'Реж', 'Режем', 'Режя', 'Режю'], 'Реутов': ['реутове', 'реутовя', 'реутову', 'реутовем', 'реутовом', 'реутовю', 'реутов', 'реутова', 'Реутова', 'Реутовом', 'Реутову', 'Реутов', 'Реутовю', 'Реутовем', 'Реутовя', 'Реутове'], 'Ржев': ['ржеву', 'ржев', 'ржевя', 'ржеве', 'ржевем', 'ржевом', 'ржева', 'ржевю', 'Ржевом', 'Ржеву', 'Ржевю', 'Ржев', 'Ржеве', 'Ржевя', 'Ржевем', 'Ржева'], 'Родники': ['родники', 'Родники'], 'Рославль': ['рославли', 'рославль', 'рославлью', 'Рославли', 'Рославлью', 'Рославль'], 'Россошь': ['россошь', 'россошью', 'россоши', 'Россошью', 'Россоши', 'Россошь'], 'Ростов-на-Дону': ['ростов-на-дону', 'Ростов-на-Дону'], 'Ростов': ['ростов', 'ростове', 'ростовом', 'ростова', 'ростову', 'ростовю', 'ростовем', 'ростовя', 'Ростовом', 'Ростовя', 'Ростовем', 'Ростове', 'Ростову', 'Ростовю', 'Ростов', 'Ростова'], 'Рошаль': ['рошали', 'рошаль', 'рошалью', 'Рошалью', 'Рошали', 'Рошаль'], 'Ртищево': ['ртищево', 'ртищевю', 'ртищевом', 'ртищеве', 'ртищеву', 'ртищевем', 'ртищевя', 'ртищева', 'Ртищевю', 'Ртищевем', 'Ртищева', 'Ртищевом', 'Ртищевя', 'Ртищеве', 'Ртищево', 'Ртищеву'], 'Рубцовск': ['рубцовск', 'рубцовскем', 'рубцовске', 'рубцовскя', 'рубцовска', 'рубцовском', 'рубцовскю', 'рубцовску', 'Рубцовска', 'Рубцовском', 'Рубцовскя', 'Рубцовске', 'Рубцовску', 'Рубцовск', 'Рубцовскю', 'Рубцовскем'], 'Рудня': ['рудни', 'руднёй', 'рудня', 'рудне', 'рудней', 'рудню', 'Рудня', 'Руднёй', 'Рудней', 'Рудне', 'Рудню', 'Рудни'], 'Руза': ['рузой', 'рузе', 'рузы', 'рузу', 'руза', 'рузи', 'Рузы', 'Рузи', 'Рузу', 'Рузой', 'Рузе', 'Руза'], 'Рузаевка': ['рузаевку', 'рузаевке', 'рузаевкой', 'рузаевки', 'рузаевкы', 'рузаевка', 'Рузаевки', 'Рузаевка', 'Рузаевку', 'Рузаевке', 'Рузаевкы', 'Рузаевкой'], 'Рыбинск': ['рыбинску', 'рыбинскем', 'рыбинском', 'рыбинск', 'рыбинскя', 'рыбинске', 'рыбинскю', 'рыбинска', 'Рыбинску', 'Рыбинскя', 'Рыбинске', 'Рыбинском', 'Рыбинска', 'Рыбинскю', 'Рыбинскем', 'Рыбинск'], 'Рыбное': ['рыбного', 'рыбное', 'рыбном', 'рыбнее', 'рыбним', 'рыбным', 'рыбнем', 'рыбнему', 'рыбному', 'рыбнего', 'Рыбном', 'Рыбнего', 'Рыбним', 'Рыбнем', 'Рыбнему', 'Рыбным', 'Рыбному', 'Рыбного', 'Рыбное', 'Рыбнее'], 'Рыльск': ['рыльскя', 'рыльске', 'рыльском', 'рыльску', 'рыльскю', 'рыльск', 'рыльскем', 'рыльска', 'Рыльскю', 'Рыльску', 'Рыльска', 'Рыльскя', 'Рыльском', 'Рыльск', 'Рыльскем', 'Рыльске'], 'Ряжск': ['ряжскя', 'ряжском', 'ряжскю', 'ряжске', 'ряжска', 'ряжск', 'ряжскем', 'ряжску', 'Ряжском', 'Ряжскю', 'Ряжскя', 'Ряжскем', 'Ряжск', 'Ряжску', 'Ряжска', 'Ряжске'], 'Рязань': ['рязанью', 'рязань', 'рязани', 'Рязань', 'Рязани', 'Рязанью'], 'Саки': ['саки', 'Саки'], 'Салават': ['салаватя', 'салаватом', 'салаватю', 'салавату', 'салават', 'салавате', 'салаватем', 'салавата', 'Салавату', 'Салаватю', 'Салават', 'Салаватом', 'Салавата', 'Салавате', 'Салаватем', 'Салаватя'], 'Салаир': ['салаире', 'салаир', 'салаиря', 'салаиру', 'салаиром', 'салаирю', 'салаирем', 'салаира', 'Салаир', 'Салаирю', 'Салаиря', 'Салаира', 'Салаире', 'Салаирем', 'Салаиром', 'Салаиру'], 'Салехард': ['салехардю', 'салехарда', 'салехарду', 'салехард', 'салехардя', 'салехарде', 'салехардем', 'салехардом', 'Салехард', 'Салехарде', 'Салехарду', 'Салехардю', 'Салехардя', 'Салехардом', 'Салехарда', 'Салехардем'], 'Сальск': ['сальскя', 'сальскем', 'сальском', 'сальск', 'сальска', 'сальскю', 'сальску', 'сальске', 'Сальскю', 'Сальске', 'Сальска', 'Сальскя', 'Сальск', 'Сальскем', 'Сальску', 'Сальском'], 'Самара': ['самаре', 'самара', 'самарой', 'самары', 'самару', 'самари', 'Самару', 'Самары', 'Самара', 'Самари', 'Самарой', 'Самаре'], 'Санкт-Петербург': ['санкт-петербурга', 'санкт-петербурге', 'санкт-петербург', 'санкт-петербургя', 'санкт-петербургем', 'санкт-петербургю', 'санкт-петербургу', 'санкт-петербургом', 'Санкт-Петербургя', 'Санкт-Петербургом', 'Санкт-Петербурга', 'Санкт-Петербургу', 'Санкт-Петербургю', 'Санкт-Петербург', 'Санкт-Петербурге', 'Санкт-Петербургем'], 'Саранск': ['саранскю', 'саранске', 'саранском', 'саранску', 'саранскем', 'саранск', 'саранскя', 'саранска', 'Саранскем', 'Саранске', 'Саранскю', 'Саранском', 'Саранску', 'Саранск', 'Саранска', 'Саранскя'], 'Сарапул': ['сарапулу', 'сарапул', 'сарапуля', 'сарапулем', 'сарапулю', 'сарапуле', 'сарапула', 'сарапулом', 'Сарапула', 'Сарапулем', 'Сарапуля', 'Сарапулом', 'Сарапул', 'Сарапулю', 'Сарапулу', 'Сарапуле'], 'Саратов': ['саратовю', 'саратову', 'саратов', 'саратове', 'саратова', 'саратовем', 'саратовом', 'саратовя', 'Саратове', 'Саратову', 'Саратова', 'Саратовю', 'Саратов', 'Саратовом', 'Саратовя', 'Саратовем'], 'Саров': ['сарове', 'сарову', 'саровю', 'саровем', 'саровом', 'саровя', 'сарова', 'саров', 'Сарова', 'Сарову', 'Саровем', 'Саровю', 'Сарове', 'Саров', 'Саровя', 'Саровом'], 'Сасово': ['сасове', 'сасово', 'сасовом', 'сасовю', 'сасова', 'сасову', 'сасовем', 'сасовя', 'Сасово', 'Сасову', 'Сасовю', 'Сасовом', 'Сасове', 'Сасовя', 'Сасова', 'Сасовем'], 'Сатка': ['саткы', 'сатку', 'сатки', 'сатка', 'сатке', 'саткой', 'Сатки', 'Сатке', 'Саткой', 'Сатку', 'Сатка', 'Саткы'], 'Сафоново': ['сафонову', 'сафоновя', 'сафоново', 'сафоновом', 'сафонова', 'сафонове', 'сафоновю', 'сафоновем', 'Сафоново', 'Сафоновю', 'Сафоновом', 'Сафоновя', 'Сафонову', 'Сафонове', 'Сафоновем', 'Сафонова'], 'Саяногорск': ['саяногорске', 'саяногорскя', 'саяногорска', 'саяногорску', 'саяногорск', 'саяногорскю', 'саяногорском', 'саяногорскем', 'Саяногорску', 'Саяногорскю', 'Саяногорском', 'Саяногорскя', 'Саяногорскем', 'Саяногорска', 'Саяногорск', 'Саяногорске'], 'Саянск': ['саянске', 'саянск', 'саянскю', 'саянску', 'саянскем', 'саянском', 'саянска', 'саянскя', 'Саянскя', 'Саянску', 'Саянске', 'Саянска', 'Саянском', 'Саянскю', 'Саянскем', 'Саянск'], 'Светлогорск': ['светлогорск', 'светлогорскю', 'светлогорске', 'светлогорском', 'светлогорскем', 'светлогорскя', 'светлогорска', 'светлогорску', 'Светлогорскем', 'Светлогорскя', 'Светлогорском', 'Светлогорска', 'Светлогорскю', 'Светлогорске', 'Светлогорску', 'Светлогорск'], 'Светлоград': ['светлоградю', 'светлоградя', 'светлоградом', 'светлограду', 'светлограде', 'светлоградем', 'светлограда', 'светлоград', 'Светлограду', 'Светлограда', 'Светлоградем', 'Светлоградом', 'Светлограде', 'Светлоградю', 'Светлоград', 'Светлоградя'], 'Светлый': ['светлим', 'светлый', 'светлий', 'светлому', 'светлого', 'светлем', 'светлего', 'светлой', 'светлему', 'светлым', 'светлом', 'Светлом', 'Светлому', 'Светлего', 'Светлий', 'Светлему', 'Светлого', 'Светлый', 'Светлым', 'Светлем', 'Светлим', 'Светлой'], 'Светогорск': ['светогорскю', 'светогорск', 'светогорскем', 'светогорском', 'светогорска', 'светогорске', 'светогорскя', 'светогорску', 'Светогорскю', 'Светогорскем', 'Светогорску', 'Светогорске', 'Светогорска', 'Светогорском', 'Светогорскя', 'Светогорск'], 'Свирск': ['свирскя', 'свирскю', 'свирска', 'свирскем', 'свирск', 'свирске', 'свирском', 'свирску', 'Свирскю', 'Свирске', 'Свирском', 'Свирск', 'Свирскем', 'Свирскя', 'Свирску', 'Свирска'], 'Свободный': ['свободним', 'свободном', 'свободной', 'свободным', 'свободнего', 'свободнему', 'свободному', 'свободный', 'свободного', 'свободнем', 'свободний', 'Свободный', 'Свободному', 'Свободний', 'Свободным', 'Свободним', 'Свободном', 'Свободнему', 'Свободнем', 'Свободнего', 'Свободной', 'Свободного'], 'Себеж': ['себежя', 'себеж', 'себежу', 'себежа', 'себеже', 'себежем', 'себежю', 'себежом', 'Себежем', 'Себеж', 'Себеже', 'Себежа', 'Себежя', 'Себежу', 'Себежом', 'Себежю'], 'Севастополь': ['севастополь', 'севастополью', 'севастополи', 'Севастополью', 'Севастополи', 'Севастополь'], 'Северо-Курильск': ['северо-курильске', 'северо-курильска', 'северо-курильскю', 'северо-курильском', 'северо-курильскя', 'северо-курильск', 'северо-курильску', 'северо-курильскем', 'Северо-Курильска', 'Северо-Курильскем', 'Северо-Курильску', 'Северо-Курильск', 'Северо-Курильскя', 'Северо-Курильске', 'Северо-Курильском', 'Северо-Курильскю'], 'Северобайкальск': ['северобайкальскя', 'северобайкальска', 'северобайкальском', 'северобайкальскю', 'северобайкальске', 'северобайкальскем', 'северобайкальску', 'северобайкальск', 'Северобайкальске', 'Северобайкальскем', 'Северобайкальском', 'Северобайкальскю', 'Северобайкальску', 'Северобайкальскя', 'Северобайкальск', 'Северобайкальска'], 'Северодвинск': ['северодвинску', 'северодвинскем', 'северодвинск', 'северодвинском', 'северодвинске', 'северодвинска', 'северодвинскя', 'северодвинскю', 'Северодвинску', 'Северодвинском', 'Северодвинска', 'Северодвинскя', 'Северодвинскю', 'Северодвинске', 'Северодвинскем', 'Северодвинск'], 'Североморск': ['североморскем', 'североморск', 'североморска', 'североморску', 'североморском', 'североморске', 'североморскю', 'североморскя', 'Североморскю', 'Североморскя', 'Североморск', 'Североморске', 'Североморска', 'Североморскем', 'Североморском', 'Североморску'], 'Североуральск': ['североуральск', 'североуральскю', 'североуральскем', 'североуральскя', 'североуральску', 'североуральска', 'североуральском', 'североуральске', 'Североуральске', 'Североуральскем', 'Североуральск', 'Североуральскю', 'Североуральска', 'Североуральскя', 'Североуральску', 'Североуральском'], 'Северск': ['северске', 'северском', 'северскем', 'северска', 'северскю', 'северскя', 'северск', 'северску', 'Северску', 'Северске', 'Северскю', 'Северска', 'Северск', 'Северскя', 'Северском', 'Северскем'], 'Севск': ['севске', 'севскем', 'севскя', 'севска', 'севску', 'севск', 'севскю', 'севском', 'Севскя', 'Севске', 'Севском', 'Севска', 'Севск', 'Севску', 'Севскем', 'Севскю'], 'Сегежа': ['сегежи', 'сегежы', 'сегеже', 'сегежой', 'сегежа', 'сегежу', 'Сегежи', 'Сегеже', 'Сегежой', 'Сегежа', 'Сегежу', 'Сегежы'], 'Сельцо': ['сельца', 'сельця', 'сельцю', 'сельцу', 'сельцом', 'сельце', 'сельцем', 'сельцо', 'Сельця', 'Сельце', 'Сельца', 'Сельцо', 'Сельцом', 'Сельцем', 'Сельцю', 'Сельцу'], 'Семикаракорск': ['семикаракорску', 'семикаракорске', 'семикаракорскем', 'семикаракорскю', 'семикаракорском', 'семикаракорск', 'семикаракорскя', 'семикаракорска', 'Семикаракорска', 'Семикаракорскю', 'Семикаракорском', 'Семикаракорске', 'Семикаракорск', 'Семикаракорскем', 'Семикаракорскя', 'Семикаракорску'], 'Семилуки': ['семилуки', 'Семилуки'], 'Семёнов': ['семёнову', 'семёновю', 'семёнова', 'семёнов', 'семёновя', 'семёновем', 'семёновом', 'семёнове', 'Семёнова', 'Семёновю', 'Семёновем', 'Семёнове', 'Семёновя', 'Семёнову', 'Семёнов', 'Семёновом'], 'Сенгилей': ['сенгилею', 'сенгилеу', 'сенгилеа', 'сенгилеем', 'сенгилее', 'сенгилей', 'сенгилея', 'сенгилеом', 'Сенгилеа', 'Сенгилеем', 'Сенгилей', 'Сенгилея', 'Сенгилее', 'Сенгилеу', 'Сенгилеом', 'Сенгилею'], 'Серафимович': ['серафимовичом', 'серафимовичем', 'серафимовичу', 'серафимовича', 'серафимовичю', 'серафимович', 'серафимовиче', 'серафимовичя', 'Серафимовичю', 'Серафимовиче', 'Серафимович', 'Серафимовичу', 'Серафимовичом', 'Серафимовичем', 'Серафимовича', 'Серафимовичя'], 'Сергач': ['сергаче', 'сергачу', 'сергачя', 'сергачом', 'сергача', 'сергачем', 'сергачю', 'сергач', 'Сергача', 'Сергачя', 'Сергачом', 'Сергачу', 'Сергачю', 'Сергачем', 'Сергач', 'Сергаче'], 'Сергиев Посад': ['сергиевю посаду', 'сергиевем посадом', 'сергиеву посаду', 'сергиев посад', 'сергиеву посадю', 'сергиева посадя', 'сергиева посада', 'сергиеве посаде', 'сергиевя посадя', 'сергиевем посадем', 'сергиевом посадом', 'сергиевя посада', 'сергиевом посадем', 'сергиевю посадю', 'Сергиеве Посаде', 'Сергиевю Посаду', 'Сергиева Посадя', 'Сергиевем Посадом', 'Сергиеву Посадю', 'Сергиевом Посадем', 'Сергиевом Посадом', 'Сергиеву Посаду', 'Сергиевю Посадю', 'Сергиевя Посадя', 'Сергиев Посад', 'Сергиевем Посадем', 'Сергиевя Посада', 'Сергиева Посада'], 'Сердобск': ['сердобскя', 'сердобску', 'сердобском', 'сердобске', 'сердобскю', 'сердобск', 'сердобскем', 'сердобска', 'Сердобскя', 'Сердобскем', 'Сердобскю', 'Сердобск', 'Сердобске', 'Сердобску', 'Сердобска', 'Сердобском'], 'Серов': ['серову', 'серовю', 'серов', 'серова', 'серовем', 'серове', 'серовом', 'серовя', 'Серов', 'Серовю', 'Серовем', 'Серова', 'Серовя', 'Серове', 'Серову', 'Серовом'], 'Серпухов': ['серпуховю', 'серпухову', 'серпухов', 'серпуховом', 'серпуховем', 'серпуховя', 'серпухове', 'серпухова', 'Серпуховем', 'Серпухову', 'Серпуховом', 'Серпухова', 'Серпуховя', 'Серпухов', 'Серпухове', 'Серпуховю'], 'Сертолово': ['сертолово', 'сертолова', 'сертоловем', 'сертоловю', 'сертолову', 'сертолове', 'сертоловом', 'сертоловя', 'Сертолову', 'Сертоловем', 'Сертолово', 'Сертолове', 'Сертоловом', 'Сертолова', 'Сертоловя', 'Сертоловю'], 'Сибай': ['сибаю', 'сибау', 'сибай', 'сибаем', 'сибае', 'сибаа', 'сибаом', 'сибая', 'Сибаем', 'Сибаом', 'Сибаа', 'Сибая', 'Сибаю', 'Сибае', 'Сибай', 'Сибау'], 'Сим': ['сима', 'симю', 'симем', 'симя', 'сим', 'симу', 'симом', 'симе', 'Сим', 'Симя', 'Сима', 'Симем', 'Симе', 'Симу', 'Симом', 'Симю'], 'Симферополь': ['симферополью', 'симферополи', 'симферополь', 'Симферополью', 'Симферополи', 'Симферополь'], 'Сковородино': ['сковородину', 'сковородином', 'сковородиня', 'сковородина', 'сковородино', 'сковородинем', 'сковородине', 'сковородиню', 'Сковородина', 'Сковородинем', 'Сковородину', 'Сковородиню', 'Сковородином', 'Сковородине', 'Сковородиня', 'Сковородино'], 'Скопин': ['скопином', 'скопине', 'скопин', 'скопиню', 'скопину', 'скопинем', 'скопиня', 'скопина', 'Скопиню', 'Скопине', 'Скопинем', 'Скопина', 'Скопиня', 'Скопину', 'Скопином', 'Скопин'], 'Славгород': ['славгородя', 'славгород', 'славгороде', 'славгородю', 'славгороду', 'славгородом', 'славгородем', 'славгорода', 'Славгородю', 'Славгородя', 'Славгород', 'Славгороду', 'Славгородом', 'Славгороде', 'Славгорода', 'Славгородем'], 'Славск': ['славскем', 'славске', 'славскю', 'славску', 'славска', 'славск', 'славском', 'славскя', 'Славск', 'Славске', 'Славском', 'Славску', 'Славскю', 'Славскя', 'Славска', 'Славскем'], 'Славянск-на-Кубани': ['славянск-на-кубани', 'Славянск-на-Кубани'], 'Сланцы': ['сланцы', 'Сланцы'], 'Слободской': ['слободской', 'слободскего', 'слободскему', 'слободского', 'слободскому', 'слободскым', 'слободскем', 'слободский', 'слободском', 'слободским', 'слободскый', 'Слободскый', 'Слободском', 'Слободского', 'Слободскему', 'Слободскего', 'Слободским', 'Слободскым', 'Слободскем', 'Слободский', 'Слободскому', 'Слободской'], 'Слюдянка': ['слюдянкы', 'слюдянкой', 'слюдянка', 'слюдянку', 'слюдянке', 'слюдянки', 'Слюдянки', 'Слюдянкой', 'Слюдянке', 'Слюдянкы', 'Слюдянка', 'Слюдянку'], 'Смоленск': ['смоленск', 'смоленска', 'смоленскю', 'смоленском', 'смоленскем', 'смоленскя', 'смоленску', 'смоленске', 'Смоленск', 'Смоленском', 'Смоленскем', 'Смоленскю', 'Смоленска', 'Смоленску', 'Смоленскя', 'Смоленске'], 'Снежинск': ['снежинск', 'снежинском', 'снежинскем', 'снежинска', 'снежинскя', 'снежинску', 'снежинске', 'снежинскю', 'Снежинскю', 'Снежинске', 'Снежинска', 'Снежинскя', 'Снежинскем', 'Снежинском', 'Снежинск', 'Снежинску'], 'Снежногорск': ['снежногорске', 'снежногорскя', 'снежногорском', 'снежногорску', 'снежногорска', 'снежногорск', 'снежногорскем', 'снежногорскю', 'Снежногорска', 'Снежногорскя', 'Снежногорску', 'Снежногорскю', 'Снежногорскем', 'Снежногорск', 'Снежногорске', 'Снежногорском'], 'Собинка': ['собинки', 'собинкы', 'собинка', 'собинку', 'собинкой', 'собинке', 'Собинкой', 'Собинки', 'Собинку', 'Собинкы', 'Собинка', 'Собинке'], 'Советск': ['советск', 'советску', 'советске', 'советска', 'советском', 'советскем', 'советскя', 'советскю', 'Советску', 'Советском', 'Советскем', 'Советск', 'Советскю', 'Советска', 'Советскя', 'Советске'], 'Советская Гавань': ['советскей гавани', 'советская гавань', 'советской гаванью', 'советской гавани', 'советскюю гавань', 'советскую гавань', 'Советскюю Гавань', 'Советской Гаванью', 'Советскей Гавани', 'Советскую Гавань', 'Советской Гавани', 'Советская Гавань'], 'Советский': ['советским', 'советскому', 'советскым', 'советскего', 'советского', 'советскему', 'советской', 'советский', 'советском', 'советскем', 'советскый', 'Советскый', 'Советского', 'Советскему', 'Советскым', 'Советскому', 'Советский', 'Советским', 'Советском', 'Советскем', 'Советскего', 'Советской'], 'Сокол': ['соколу', 'соколе', 'соколю', 'соколем', 'соколя', 'соколом', 'сокол', 'сокола', 'Соколя', 'Соколе', 'Сокола', 'Соколу', 'Соколю', 'Соколем', 'Сокол', 'Соколом'], 'Солигалич': ['солигаличя', 'солигаличом', 'солигалича', 'солигаличу', 'солигаличе', 'солигаличем', 'солигаличю', 'солигалич', 'Солигаличя', 'Солигаличем', 'Солигаличом', 'Солигалич', 'Солигаличу', 'Солигаличе', 'Солигалича', 'Солигаличю'], 'Соликамск': ['соликамску', 'соликамском', 'соликамске', 'соликамскю', 'соликамскем', 'соликамскя', 'соликамска', 'соликамск', 'Соликамском', 'Соликамску', 'Соликамске', 'Соликамскем', 'Соликамскю', 'Соликамск', 'Соликамскя', 'Соликамска'], 'Солнечногорск': ['солнечногорске', 'солнечногорск', 'солнечногорску', 'солнечногорска', 'солнечногорском', 'солнечногорскем', 'солнечногорскя', 'солнечногорскю', 'Солнечногорскю', 'Солнечногорск', 'Солнечногорскем', 'Солнечногорска', 'Солнечногорску', 'Солнечногорскя', 'Солнечногорском', 'Солнечногорске'], 'Соль-Илецк': ['соль-илецкя', 'соль-илецке', 'соль-илецка', 'соль-илецкю', 'соль-илецком', 'соль-илецку', 'соль-илецкем', 'соль-илецк', 'Соль-Илецком', 'Соль-Илецка', 'Соль-Илецкя', 'Соль-Илецкю', 'Соль-Илецк', 'Соль-Илецке', 'Соль-Илецкем', 'Соль-Илецку'], 'Сольвычегодск': ['сольвычегодскем', 'сольвычегодскю', 'сольвычегодском', 'сольвычегодск', 'сольвычегодску', 'сольвычегодскя', 'сольвычегодске', 'сольвычегодска', 'Сольвычегодска', 'Сольвычегодском', 'Сольвычегодскя', 'Сольвычегодскем', 'Сольвычегодску', 'Сольвычегодске', 'Сольвычегодскю', 'Сольвычегодск'], 'Сольцы': ['сольцы', 'Сольцы'], 'Сорочинск': ['сорочинск', 'сорочинскем', 'сорочинскя', 'сорочинском', 'сорочинске', 'сорочинскю', 'сорочинска', 'сорочинску', 'Сорочинском', 'Сорочинскю', 'Сорочинск', 'Сорочинска', 'Сорочинскя', 'Сорочинску', 'Сорочинскем', 'Сорочинске'], 'Сорск': ['сорскем', 'сорском', 'сорскя', 'сорске', 'сорск', 'сорскю', 'сорску', 'сорска', 'Сорскю', 'Сорску', 'Сорска', 'Сорск', 'Сорском', 'Сорскя', 'Сорскем', 'Сорске'], 'Сортавала': ['сортавалы', 'сортавале', 'сортавалу', 'сортавали', 'сортавала', 'сортавалой', 'Сортавалы', 'Сортавалу', 'Сортавалой', 'Сортавала', 'Сортавале', 'Сортавали'], 'Сосенский': ['сосенским', 'сосенскый', 'сосенскым', 'сосенском', 'сосенский', 'сосенскему', 'сосенского', 'сосенскего', 'сосенскем', 'сосенскому', 'сосенской', 'Сосенском', 'Сосенскему', 'Сосенскый', 'Сосенскым', 'Сосенской', 'Сосенскего', 'Сосенскем', 'Сосенского', 'Сосенскому', 'Сосенским', 'Сосенский'], 'Сосновка': ['сосновку', 'сосновкы', 'сосновки', 'сосновке', 'сосновкой', 'сосновка', 'Сосновке', 'Сосновка', 'Сосновки', 'Сосновку', 'Сосновкой', 'Сосновкы'], 'Сосновоборск': ['сосновоборскя', 'сосновоборску', 'сосновоборскю', 'сосновоборска', 'сосновоборскем', 'сосновоборске', 'сосновоборск', 'сосновоборском', 'Сосновоборскю', 'Сосновоборск', 'Сосновоборскем', 'Сосновоборском', 'Сосновоборске', 'Сосновоборска', 'Сосновоборску', 'Сосновоборскя'], 'Сосновый Бор': ['сосновому бору', 'сосновому борю', 'сосновый боря', 'сосновим борем', 'сосновый бор', 'сосновий боря', 'сосновым бором', 'сосновом боре', 'сосновего бора', 'сосновый бора', 'сосновему бору', 'сосновим бором', 'сосновему борю', 'сосновий бора', 'соснового бора', 'сосновой бора', 'соснового боря', 'сосновего боря', 'сосновым борем', 'сосновой боря', 'сосновем боре', 'Сосновый Бора', 'Сосновий Бора', 'Сосновему Бору', 'Сосновой Боря', 'Соснового Бора', 'Сосновем Боре', 'Сосновего Боря', 'Соснового Боря', 'Сосновым Борем', 'Сосновом Боре', 'Сосновый Боря', 'Сосновому Бору', 'Сосновой Бора', 'Сосновому Борю', 'Сосновим Бором', 'Сосновего Бора', 'Сосновим Борем', 'Сосновым Бором', 'Сосновий Боря', 'Сосновый Бор', 'Сосновему Борю'], 'Сосногорск': ['сосногорска', 'сосногорском', 'сосногорскю', 'сосногорску', 'сосногорск', 'сосногорске', 'сосногорскем', 'сосногорскя', 'Сосногорска', 'Сосногорскем', 'Сосногорск', 'Сосногорскю', 'Сосногорскя', 'Сосногорске', 'Сосногорском', 'Сосногорску'], 'Сочи': ['сочи', 'Сочи'], 'Спас-Деменск': ['спас-деменске', 'спас-деменск', 'спас-деменскю', 'спас-деменскем', 'спас-деменска', 'спас-деменскя', 'спас-деменску', 'спас-деменском', 'Спас-Деменска', 'Спас-Деменскем', 'Спас-Деменскю', 'Спас-Деменске', 'Спас-Деменскя', 'Спас-Деменск', 'Спас-Деменском', 'Спас-Деменску'], 'Спас-Клепики': ['спас-клепики', 'Спас-Клепики'], 'Спасск-Дальний': ['спасск-дальнего', 'спасск-дальнему', 'спасск-дальном', 'спасск-дальним', 'спасск-дальным', 'спасск-дальнем', 'спасск-дальному', 'спасск-дальной', 'спасск-дального', 'спасск-дальний', 'спасск-дальный', 'Спасск-Дального', 'Спасск-Дальному', 'Спасск-Дальный', 'Спасск-Дальним', 'Спасск-Дальной', 'Спасск-Дальнему', 'Спасск-Дальнего', 'Спасск-Дальным', 'Спасск-Дальном', 'Спасск-Дальний', 'Спасск-Дальнем'], 'Спасск-Рязанский': ['спасск-рязанским', 'спасск-рязанскый', 'спасск-рязанскему', 'спасск-рязанского', 'спасск-рязанский', 'спасск-рязанскому', 'спасск-рязанскем', 'спасск-рязанскего', 'спасск-рязанской', 'спасск-рязанском', 'спасск-рязанскым', 'Спасск-Рязанскем', 'Спасск-Рязанскый', 'Спасск-Рязанском', 'Спасск-Рязанскему', 'Спасск-Рязанским', 'Спасск-Рязанскым', 'Спасск-Рязанского', 'Спасск-Рязанскего', 'Спасск-Рязанский', 'Спасск-Рязанской', 'Спасск-Рязанскому'], 'Спасск': ['спасскя', 'спасскю', 'спасска', 'спасском', 'спасске', 'спасск', 'спасскем', 'спасску', 'Спасском', 'Спасске', 'Спасску', 'Спасскю', 'Спасск', 'Спасскем', 'Спасскя', 'Спасска'], 'Среднеколымск': ['среднеколымска', 'среднеколымскем', 'среднеколымском', 'среднеколымскю', 'среднеколымск', 'среднеколымске', 'среднеколымску', 'среднеколымскя', 'Среднеколымске', 'Среднеколымскем', 'Среднеколымском', 'Среднеколымскя', 'Среднеколымскю', 'Среднеколымска', 'Среднеколымск', 'Среднеколымску'], 'Среднеуральск': ['среднеуральску', 'среднеуральскя', 'среднеуральскю', 'среднеуральска', 'среднеуральском', 'среднеуральск', 'среднеуральске', 'среднеуральскем', 'Среднеуральском', 'Среднеуральска', 'Среднеуральск', 'Среднеуральскю', 'Среднеуральскя', 'Среднеуральскем', 'Среднеуральске', 'Среднеуральску'], 'Сретенск': ['сретенска', 'сретенскю', 'сретенском', 'сретенскем', 'сретенск', 'сретенскя', 'сретенску', 'сретенске', 'Сретенск', 'Сретенску', 'Сретенске', 'Сретенскю', 'Сретенскем', 'Сретенскя', 'Сретенска', 'Сретенском'], 'Ставрополь': ['ставрополь', 'ставрополи', 'ставрополью', 'Ставрополь', 'Ставрополью', 'Ставрополи'], 'Старая Купавна': ['старюю купавну', 'старая купавна', 'старую купавну', 'старой купавны', 'старей купавне', 'старой купавной', 'старой купавни', 'Старой Купавны', 'Старой Купавни', 'Старюю Купавну', 'Старой Купавной', 'Старую Купавну', 'Старая Купавна', 'Старей Купавне'], 'Старая Русса': ['старой руссы', 'старая русса', 'старой русси', 'старой руссой', 'старюю руссу', 'старую руссу', 'старей руссе', 'Старюю Руссу', 'Старой Русси', 'Старую Руссу', 'Старой Руссой', 'Старая Русса', 'Старей Руссе', 'Старой Руссы'], 'Старица': ['старица', 'старице', 'старицой', 'старицу', 'старицы', 'старици', 'Старицу', 'Старица', 'Старицы', 'Старици', 'Старицой', 'Старице'], 'Стародуб': ['стародубе', 'стародуб', 'стародубу', 'стародубом', 'стародубя', 'стародубю', 'стародуба', 'стародубем', 'Стародубем', 'Стародуб', 'Стародуба', 'Стародубом', 'Стародубу', 'Стародубю', 'Стародубя', 'Стародубе'], 'Старый Крым': ['старого крымя', 'старого крыма', 'старим крымом', 'старем крыме', 'старего крыма', 'старом крыме', 'старего крымя', 'старой крымя', 'старему крымю', 'старым крымем', 'старому крымю', 'старым крымом', 'старим крымем', 'старый крымя', 'старий крымя', 'старый крым', 'старему крыму', 'старой крыма', 'старый крыма', 'старому крыму', 'старий крыма', 'Старим Крымом', 'Старим Крымем', 'Старым Крымом', 'Старом Крыме', 'Старему Крымю', 'Старего Крымя', 'Старий Крыма', 'Старый Крымя', 'Старому Крыму', 'Старой Крыма', 'Старый Крым', 'Старый Крыма', 'Старем Крыме', 'Старой Крымя', 'Старему Крыму', 'Старым Крымем', 'Старего Крыма', 'Старого Крымя', 'Старого Крыма', 'Старий Крымя', 'Старому Крымю'], 'Старый Оскол': ['старому осколю', 'старий осколя', 'старым осколом', 'старом осколе', 'старем осколе', 'старий оскола', 'старым осколем', 'старего осколя', 'старый оскола', 'старый осколя', 'старему осколю', 'старого осколя', 'старому осколу', 'старим осколом', 'старой оскола', 'старему осколу', 'старего оскола', 'старим осколем', 'старого оскола', 'старый оскол', 'старой осколя', 'Старему Осколу', 'Старой Осколя', 'Старому Осколю', 'Старий Осколя', 'Старего Осколя', 'Старому Осколу', 'Старый Оскол', 'Старем Осколе', 'Старего Оскола', 'Старий Оскола', 'Старым Осколем', 'Старему Осколю', 'Старой Оскола', 'Старый Осколя', 'Старом Осколе', 'Старым Осколом', 'Старого Оскола', 'Старого Осколя', 'Старый Оскола', 'Старим Осколом', 'Старим Осколем'], 'Стерлитамак': ['стерлитамаком', 'стерлитамака', 'стерлитамакем', 'стерлитамак', 'стерлитамаку', 'стерлитамакя', 'стерлитамаке', 'стерлитамакю', 'Стерлитамакя', 'Стерлитамаку', 'Стерлитамакем', 'Стерлитамаком', 'Стерлитамака', 'Стерлитамак', 'Стерлитамаке', 'Стерлитамакю'], 'Стрежевой': ['стрежевой', 'стрежевего', 'стрежевему', 'стрежевим', 'стрежевий', 'стрежевый', 'стрежевого', 'стрежевом', 'стрежевому', 'стрежевым', 'стрежевем', 'Стрежевий', 'Стрежевой', 'Стрежевему', 'Стрежевым', 'Стрежевом', 'Стрежевем', 'Стрежевый', 'Стрежевого', 'Стрежевому', 'Стрежевим', 'Стрежевего'], 'Строитель': ['строителью', 'строители', 'строитель', 'Строители', 'Строитель', 'Строителью'], 'Струнино': ['струниню', 'струнину', 'струнинем', 'струнином', 'струниня', 'струнина', 'струнино', 'струнине', 'Струнино', 'Струнину', 'Струнином', 'Струниня', 'Струниню', 'Струнинем', 'Струнина', 'Струнине'], 'Ступино': ['ступиню', 'ступину', 'ступина', 'ступино', 'ступиня', 'ступинем', 'ступином', 'ступине', 'Ступине', 'Ступиню', 'Ступиня', 'Ступином', 'Ступино', 'Ступина', 'Ступину', 'Ступинем'], 'Суворов': ['суворова', 'суворове', 'суворов', 'суворовем', 'суворовом', 'суворовю', 'суворову', 'суворовя', 'Суворовю', 'Суворовя', 'Суворова', 'Суворовом', 'Суворовем', 'Суворове', 'Суворов', 'Суворову'], 'Судак': ['судакя', 'судака', 'судакю', 'судаке', 'судакем', 'судаку', 'судаком', 'судак', 'Судак', 'Судакю', 'Судаком', 'Судаке', 'Судакя', 'Судакем', 'Судаку', 'Судака'], 'Суджа': ['суджа', 'суджу', 'судже', 'суджой', 'суджы', 'суджи', 'Суджой', 'Суджа', 'Судже', 'Суджы', 'Суджу', 'Суджи'], 'Судогда': ['судогди', 'судогдой', 'судогда', 'судогду', 'судогды', 'судогде', 'Судогде', 'Судогдой', 'Судогды', 'Судогду', 'Судогда', 'Судогди'], 'Суздаль': ['суздали', 'суздаль', 'суздалью', 'Суздалью', 'Суздаль', 'Суздали'], 'Сунжа': ['сунжой', 'сунжу', 'сунжы', 'сунжа', 'сунжи', 'сунже', 'Сунжы', 'Сунжу', 'Сунже', 'Сунжа', 'Сунжой', 'Сунжи'], 'Суоярви': ['суоярви', 'Суоярви'], 'Сураж': ['суражем', 'суражю', 'суража', 'сураж', 'суражом', 'сураже', 'суражу', 'суражя', 'Суражу', 'Сураже', 'Суражом', 'Суражя', 'Суражем', 'Сураж', 'Суражю', 'Суража'], 'Сургут': ['сургутя', 'сургутем', 'сургутом', 'сургута', 'сургуте', 'сургуту', 'сургут', 'сургутю', 'Сургутю', 'Сургутем', 'Сургута', 'Сургут', 'Сургутя', 'Сургуте', 'Сургуту', 'Сургутом'], 'Суровикино': ['суровикине', 'суровикину', 'суровикинем', 'суровикиня', 'суровикино', 'суровикиню', 'суровикина', 'суровикином', 'Суровикине', 'Суровикиню', 'Суровикином', 'Суровикино', 'Суровикинем', 'Суровикину', 'Суровикиня', 'Суровикина'], 'Сурск': ['сурскя', 'сурском', 'сурскем', 'сурску', 'сурскю', 'сурска', 'сурске', 'сурск', 'Сурску', 'Сурскя', 'Сурска', 'Сурском', 'Сурске', 'Сурскем', 'Сурскю', 'Сурск'], 'Сусуман': ['сусумана', 'сусуманем', 'сусуман', 'сусуману', 'сусуманя', 'сусуманом', 'сусумане', 'сусуманю', 'Сусумана', 'Сусуманя', 'Сусумане', 'Сусуману', 'Сусуманом', 'Сусуман', 'Сусуманем', 'Сусуманю'], 'Сухиничи': ['сухиничи', 'Сухиничи'], 'Сухой Лог': ['сухой лог', 'сухого логя', 'сухему логу', 'сухым логом', 'сухой логя', 'сухый логя', 'сухему логю', 'сухего лога', 'сухий логя', 'сухому логю', 'сухим логом', 'сухом логе', 'сухим логем', 'сухего логя', 'сухий лога', 'сухый лога', 'сухым логем', 'сухого лога', 'сухому логу', 'сухем логе', 'сухой лога', 'Сухой Лог', 'Сухом Логе', 'Сухего Лога', 'Сухым Логем', 'Сухий Лога', 'Сухему Логю', 'Сухого Логя', 'Сухый Логя', 'Сухой Логя', 'Сухего Логя', 'Сухому Логу', 'Сухему Логу', 'Сухим Логем', 'Сухем Логе', 'Сухому Логю', 'Сухый Лога', 'Сухий Логя', 'Сухой Лога', 'Сухого Лога', 'Сухым Логом', 'Сухим Логом'], 'Сызрань': ['сызрань', 'сызрани', 'сызранью', 'Сызрани', 'Сызрань', 'Сызранью'], 'Сыктывкар': ['сыктывкарю', 'сыктывкаром', 'сыктывкара', 'сыктывкарем', 'сыктывкар', 'сыктывкаря', 'сыктывкару', 'сыктывкаре', 'Сыктывкар', 'Сыктывкара', 'Сыктывкарю', 'Сыктывкарем', 'Сыктывкаря', 'Сыктывкаром', 'Сыктывкаре', 'Сыктывкару'], 'Сысерть': ['сысерти', 'сысерть', 'сысертью', 'Сысерть', 'Сысертью', 'Сысерти'], 'Сычёвка': ['сычёвки', 'сычёвкой', 'сычёвке', 'сычёвкы', 'сычёвку', 'сычёвка', 'Сычёвке', 'Сычёвкой', 'Сычёвку', 'Сычёвки', 'Сычёвка', 'Сычёвкы'], 'Сясьстрой': ['сясьстрим', 'сясьстрым', 'сясьстрему', 'сясьстрого', 'сясьстрой', 'сясьстром', 'сясьстрый', 'сясьстрий', 'сясьстрому', 'сясьстрем', 'сясьстрего', 'Сясьстрий', 'Сясьстрем', 'Сясьстрым', 'Сясьстрим', 'Сясьстрего', 'Сясьстрому', 'Сясьстром', 'Сясьстрой', 'Сясьстрему', 'Сясьстрый', 'Сясьстрого'], 'Тавда': ['тавде', 'тавду', 'тавдой', 'тавди', 'тавды', 'тавда', 'Тавды', 'Тавда', 'Тавди', 'Тавдой', 'Тавде', 'Тавду'], 'Таганрог': ['таганрогя', 'таганроге', 'таганрога', 'таганрогем', 'таганрогу', 'таганрогом', 'таганрогю', 'таганрог', 'Таганрог', 'Таганрогом', 'Таганрогю', 'Таганроге', 'Таганрогем', 'Таганрогя', 'Таганрога', 'Таганрогу'], 'Тайга': ['тайга', 'тайгой', 'тайгы', 'тайги', 'тайге', 'тайгу', 'Тайге', 'Тайгу', 'Тайгой', 'Тайга', 'Тайги', 'Тайгы'], 'Тайшет': ['тайшетом', 'тайшетю', 'тайшет', 'тайшета', 'тайшету', 'тайшетем', 'тайшете', 'тайшетя', 'Тайшетем', 'Тайшетом', 'Тайшету', 'Тайшете', 'Тайшет', 'Тайшетю', 'Тайшетя', 'Тайшета'], 'Талдом': ['талдоме', 'талдомом', 'талдому', 'талдома', 'талдомем', 'талдом', 'талдомя', 'талдомю', 'Талдомом', 'Талдом', 'Талдоме', 'Талдомя', 'Талдому', 'Талдомем', 'Талдомю', 'Талдома'], 'Талица': ['талицы', 'талицой', 'талици', 'талица', 'талице', 'талицу', 'Талице', 'Талица', 'Талици', 'Талицой', 'Талицы', 'Талицу'], 'Тамбов': ['тамбов', 'тамбовом', 'тамбовю', 'тамбове', 'тамбовем', 'тамбова', 'тамбову', 'тамбовя', 'Тамбове', 'Тамбовем', 'Тамбовом', 'Тамбовю', 'Тамбову', 'Тамбова', 'Тамбовя', 'Тамбов'], 'Тара': ['тарой', 'таре', 'тары', 'тара', 'тару', 'тари', 'Тары', 'Тарой', 'Тару', 'Тара', 'Тари', 'Таре'], 'Тарко-Сале': ['тарко-салем', 'тарко-сале', 'тарко-салом', 'тарко-сало', 'тарко-салу', 'тарко-саля', 'тарко-салю', 'тарко-сала', 'Тарко-Саля', 'Тарко-Сала', 'Тарко-Салу', 'Тарко-Салом', 'Тарко-Сало', 'Тарко-Сале', 'Тарко-Салем', 'Тарко-Салю'], 'Таруса': ['тарусой', 'тарусы', 'тарусе', 'таруса', 'таруси', 'тарусу', 'Тарусу', 'Таруса', 'Тарусе', 'Тарусой', 'Таруси', 'Тарусы'], 'Татарск': ['татарске', 'татарском', 'татарск', 'татарскю', 'татарскя', 'татарскем', 'татарску', 'татарска', 'Татарскя', 'Татарскю', 'Татарска', 'Татарске', 'Татарску', 'Татарскем', 'Татарск', 'Татарском'], 'Таштагол': ['таштаголем', 'таштаголу', 'таштаголе', 'таштагола', 'таштаголю', 'таштаголом', 'таштагол', 'таштаголя', 'Таштаголу', 'Таштагола', 'Таштаголем', 'Таштаголе', 'Таштаголом', 'Таштаголя', 'Таштаголю', 'Таштагол'], 'Тверь': ['тверь', 'тверью', 'твери', 'Твери', 'Тверь', 'Тверью'], 'Теберда': ['теберды', 'теберди', 'тебердой', 'теберде', 'теберду', 'теберда', 'Теберду', 'Теберда', 'Тебердой', 'Теберды', 'Теберди', 'Теберде'], 'Тейково': ['тейкову', 'тейкове', 'тейковом', 'тейковя', 'тейково', 'тейкова', 'тейковем', 'тейковю', 'Тейкове', 'Тейково', 'Тейковем', 'Тейкову', 'Тейковом', 'Тейковя', 'Тейкова', 'Тейковю'], 'Темников': ['темниковем', 'темниковом', 'темникове', 'темникову', 'темниковю', 'темниковя', 'темников', 'темникова', 'Темникове', 'Темникову', 'Темниковю', 'Темников', 'Темниковя', 'Темникова', 'Темниковом', 'Темниковем'], 'Темрюк': ['темрюком', 'темрюка', 'темрюкю', 'темрюкя', 'темрюке', 'темрюк', 'темрюкем', 'темрюку', 'Темрюкю', 'Темрюкем', 'Темрюкя', 'Темрюку', 'Темрюк', 'Темрюком', 'Темрюке', 'Темрюка'], 'Терек': ['терекя', 'терек', 'терекю', 'тереку', 'терека', 'тереке', 'терекем', 'тереком', 'Терекем', 'Терекя', 'Терека', 'Тереком', 'Тереке', 'Тереку', 'Терекю', 'Терек'], 'Тетюши': ['тетюши', 'Тетюши'], 'Тимашёвск': ['тимашёвскю', 'тимашёвска', 'тимашёвск', 'тимашёвску', 'тимашёвскем', 'тимашёвске', 'тимашёвскя', 'тимашёвском', 'Тимашёвске', 'Тимашёвску', 'Тимашёвска', 'Тимашёвскю', 'Тимашёвскем', 'Тимашёвском', 'Тимашёвск', 'Тимашёвскя'], 'Тихвин': ['тихвину', 'тихвином', 'тихвиня', 'тихвина', 'тихвинем', 'тихвине', 'тихвиню', 'тихвин', 'Тихвином', 'Тихвин', 'Тихвину', 'Тихвинем', 'Тихвине', 'Тихвиня', 'Тихвина', 'Тихвиню'], 'Тихорецк': ['тихорецкю', 'тихорецкя', 'тихорецку', 'тихорецк', 'тихорецком', 'тихорецке', 'тихорецка', 'тихорецкем', 'Тихорецкя', 'Тихорецке', 'Тихорецку', 'Тихорецк', 'Тихорецком', 'Тихорецкю', 'Тихорецкем', 'Тихорецка'], 'Тобольск': ['тобольск', 'тобольскю', 'тобольскем', 'тобольску', 'тобольскя', 'тобольске', 'тобольска', 'тобольском', 'Тобольска', 'Тобольском', 'Тобольскем', 'Тобольскя', 'Тобольск', 'Тобольске', 'Тобольску', 'Тобольскю'], 'Тогучин': ['тогучиню', 'тогучином', 'тогучину', 'тогучиня', 'тогучина', 'тогучин', 'тогучинем', 'тогучине', 'Тогучиня', 'Тогучин', 'Тогучиню', 'Тогучине', 'Тогучинем', 'Тогучином', 'Тогучина', 'Тогучину'], 'Тольятти': ['тольятти', 'Тольятти'], 'Томари': ['томари', 'Томари'], 'Томмот': ['томмотю', 'томмоте', 'томмотом', 'томмота', 'томмотя', 'томмоту', 'томмот', 'томмотем', 'Томмотом', 'Томмоте', 'Томмота', 'Томмотя', 'Томмотю', 'Томмоту', 'Томмотем', 'Томмот'], 'Томск': ['томску', 'томске', 'томскя', 'томском', 'томска', 'томскем', 'томскю', 'томск', 'Томскя', 'Томске', 'Томскю', 'Томска', 'Томском', 'Томскем', 'Томск', 'Томску'], 'Топки': ['топки', 'Топки'], 'Торжок': ['торжоку', 'торжокя', 'торжока', 'торжокю', 'торжок', 'торжоком', 'торжоке', 'торжокем', 'Торжокю', 'Торжоке', 'Торжокя', 'Торжоком', 'Торжоку', 'Торжок', 'Торжокем', 'Торжока'], 'Торопец': ['торопецем', 'торопецу', 'торопеця', 'торопец', 'торопецю', 'торопецом', 'торопеце', 'торопеца', 'Торопецю', 'Торопеце', 'Торопеца', 'Торопецу', 'Торопеця', 'Торопецом', 'Торопецем', 'Торопец'], 'Тосно': ['тосна', 'тосну', 'тосном', 'тосня', 'тосно', 'тосне', 'тоснем', 'тосню', 'Тосном', 'Тосну', 'Тосно', 'Тоснем', 'Тосна', 'Тосня', 'Тосне', 'Тосню'], 'Тотьма': ['тотьми', 'тотьмы', 'тотьмой', 'тотьму', 'тотьма', 'тотьме', 'Тотьма', 'Тотьму', 'Тотьми', 'Тотьмой', 'Тотьмы', 'Тотьме'], 'Троицк': ['троицкя', 'троицке', 'троицк', 'троицком', 'троицка', 'троицкю', 'троицку', 'троицкем', 'Троицк', 'Троицке', 'Троицку', 'Троицкя', 'Троицка', 'Троицкю', 'Троицкем', 'Троицком'], 'Трубчевск': ['трубчевскем', 'трубчевском', 'трубчевску', 'трубчевскя', 'трубчевске', 'трубчевска', 'трубчевскю', 'трубчевск', 'Трубчевск', 'Трубчевску', 'Трубчевскя', 'Трубчевска', 'Трубчевскю', 'Трубчевском', 'Трубчевскем', 'Трубчевске'], 'Трёхгорный': ['трёхгорнему', 'трёхгорним', 'трёхгорному', 'трёхгорного', 'трёхгорным', 'трёхгорной', 'трёхгорном', 'трёхгорнем', 'трёхгорнего', 'трёхгорний', 'трёхгорный', 'Трёхгорном', 'Трёхгорного', 'Трёхгорнего', 'Трёхгорнему', 'Трёхгорнем', 'Трёхгорному', 'Трёхгорним', 'Трёхгорным', 'Трёхгорный', 'Трёхгорний', 'Трёхгорной'], 'Туапсе': ['туапся', 'туапсе', 'туапсо', 'туапсу', 'туапсю', 'туапсом', 'туапсем', 'туапса', 'Туапся', 'Туапса', 'Туапсе', 'Туапсю', 'Туапсем', 'Туапсом', 'Туапсу', 'Туапсо'], 'Туймазы': ['туймазы', 'Туймазы'], 'Тула': ['туле', 'тула', 'тулы', 'тулу', 'тули', 'тулой', 'Тули', 'Туле', 'Тула', 'Тулы', 'Тулу', 'Тулой'], 'Тулун': ['тулуном', 'тулунем', 'тулуня', 'тулуню', 'тулуна', 'тулун', 'тулуне', 'тулуну', 'Тулуну', 'Тулуню', 'Тулунем', 'Тулуном', 'Тулуня', 'Тулуне', 'Тулун', 'Тулуна'], 'Туран': ['туране', 'тураня', 'турана', 'туран', 'тураню', 'туранем', 'тураном', 'турану', 'Туранем', 'Тураню', 'Тураном', 'Турана', 'Туран', 'Туране', 'Тураня', 'Турану'], 'Туринск': ['туринска', 'туринском', 'туринскем', 'туринскю', 'туринску', 'туринск', 'туринскя', 'туринске', 'Туринске', 'Туринск', 'Туринскя', 'Туринскем', 'Туринском', 'Туринска', 'Туринскю', 'Туринску'], 'Тутаев': ['тутаева', 'тутаевом', 'тутаеве', 'тутаеву', 'тутаевя', 'тутаев', 'тутаевем', 'тутаевю', 'Тутаевем', 'Тутаев', 'Тутаеве', 'Тутаевю', 'Тутаевя', 'Тутаевом', 'Тутаева', 'Тутаеву'], 'Тында': ['тынду', 'тында', 'тынды', 'тындой', 'тынди', 'тынде', 'Тынды', 'Тынду', 'Тындой', 'Тынди', 'Тында', 'Тынде'], 'Тырныауз': ['тырныаузу', 'тырныаузе', 'тырныаузем', 'тырныаузя', 'тырныаузом', 'тырныауза', 'тырныаузю', 'тырныауз', 'Тырныауза', 'Тырныауз', 'Тырныаузю', 'Тырныаузу', 'Тырныаузе', 'Тырныаузом', 'Тырныаузя', 'Тырныаузем'], 'Тюкалинск': ['тюкалинске', 'тюкалинска', 'тюкалинскя', 'тюкалинску', 'тюкалинскем', 'тюкалинском', 'тюкалинскю', 'тюкалинск', 'Тюкалинска', 'Тюкалинск', 'Тюкалинскя', 'Тюкалинскю', 'Тюкалинскем', 'Тюкалинском', 'Тюкалинске', 'Тюкалинску'], 'Тюмень': ['тюмени', 'тюменью', 'тюмень', 'Тюмени', 'Тюмень', 'Тюменью'], 'Уварово': ['уваровем', 'уварову', 'уваровя', 'уваровю', 'уварово', 'уварове', 'уваровом', 'уварова', 'Уварово', 'Уваровю', 'Уварову', 'Уваровя', 'Уварове', 'Уваровем', 'Уварова', 'Уваровом'], 'Углегорск': ['углегорскя', 'углегорска', 'углегорскем', 'углегорском', 'углегорске', 'углегорскю', 'углегорску', 'углегорск', 'Углегорску', 'Углегорск', 'Углегорскем', 'Углегорскю', 'Углегорскя', 'Углегорска', 'Углегорском', 'Углегорске'], 'Углич': ['угличе', 'угличя', 'угличю', 'угличем', 'угличу', 'угличом', 'углич', 'углича', 'Угличом', 'Угличе', 'Угличю', 'Углич', 'Угличя', 'Угличем', 'Угличу', 'Углича'], 'Удачный': ['удачним', 'удачнего', 'удачнему', 'удачной', 'удачный', 'удачном', 'удачным', 'удачний', 'удачнем', 'удачного', 'удачному', 'Удачном', 'Удачному', 'Удачний', 'Удачнем', 'Удачный', 'Удачнего', 'Удачным', 'Удачним', 'Удачного', 'Удачной', 'Удачнему'], 'Удомля': ['удомля', 'удомли', 'удомле', 'удомлёй', 'удомлю', 'удомлей', 'Удомлей', 'Удомля', 'Удомли', 'Удомлю', 'Удомле', 'Удомлёй'], 'Ужур': ['ужуре', 'ужурю', 'ужуря', 'ужура', 'ужуру', 'ужурем', 'ужур', 'ужуром', 'Ужуру', 'Ужур', 'Ужуря', 'Ужуром', 'Ужурем', 'Ужура', 'Ужуре', 'Ужурю'], 'Узловая': ['узловую', 'узловой', 'узловая', 'узловюю', 'узловей', 'Узловая', 'Узловой', 'Узловей', 'Узловую', 'Узловюю'], 'Улан-Удэ': ['улан-удэ', 'Улан-Удэ'], 'Ульяновск': ['ульяновскем', 'ульяновскю', 'ульяновском', 'ульяновске', 'ульяновску', 'ульяновска', 'ульяновск', 'ульяновскя', 'Ульяновску', 'Ульяновском', 'Ульяновскю', 'Ульяновск', 'Ульяновска', 'Ульяновске', 'Ульяновскем', 'Ульяновскя'], 'Унеча': ['унечу', 'унечой', 'унеча', 'унечи', 'унече', 'унечы', 'Унечой', 'Унечу', 'Унече', 'Унечи', 'Унеча', 'Унечы'], 'Урай': ['урау', 'урая', 'урай', 'ураом', 'ураа', 'ураем', 'урае', 'ураю', 'Урае', 'Ураем', 'Урай', 'Урау', 'Ураю', 'Урая', 'Ураом', 'Ураа'], 'Урень': ['урень', 'уренью', 'урени', 'Урени', 'Уренью', 'Урень'], 'Уржум': ['уржумем', 'уржум', 'уржуму', 'уржумом', 'уржумя', 'уржуме', 'уржума', 'уржумю', 'Уржум', 'Уржумю', 'Уржума', 'Уржумем', 'Уржумя', 'Уржумом', 'Уржуму', 'Уржуме'], 'Урус-Мартан': ['урус-мартаном', 'урус-мартана', 'урус-мартан', 'урус-мартане', 'урус-мартану', 'урус-мартанем', 'урус-мартаня', 'урус-мартаню', 'Урус-Мартаню', 'Урус-Мартану', 'Урус-Мартанем', 'Урус-Мартан', 'Урус-Мартаня', 'Урус-Мартане', 'Урус-Мартаном', 'Урус-Мартана'], 'Урюпинск': ['урюпинскя', 'урюпинску', 'урюпинском', 'урюпинске', 'урюпинскю', 'урюпинск', 'урюпинска', 'урюпинскем', 'Урюпинском', 'Урюпинскем', 'Урюпинскю', 'Урюпинске', 'Урюпинска', 'Урюпинску', 'Урюпинск', 'Урюпинскя'], 'Усинск': ['усинскем', 'усинск', 'усинска', 'усинском', 'усинску', 'усинскю', 'усинске', 'усинскя', 'Усинскем', 'Усинском', 'Усинску', 'Усинске', 'Усинска', 'Усинскю', 'Усинскя', 'Усинск'], 'Усмань': ['усманью', 'усмани', 'усмань', 'Усманью', 'Усмани', 'Усмань'], 'Усолье-Сибирское': ['усолье-сибирского', 'усолье-сибирскее', 'усолье-сибирскому', 'усолье-сибирское', 'усолье-сибирском', 'усолье-сибирским', 'усолье-сибирскего', 'усолье-сибирскем', 'усолье-сибирскему', 'усолье-сибирскым', 'Усолье-Сибирского', 'Усолье-Сибирскем', 'Усолье-Сибирском', 'Усолье-Сибирскего', 'Усолье-Сибирскее', 'Усолье-Сибирскему', 'Усолье-Сибирскым', 'Усолье-Сибирскому', 'Усолье-Сибирское', 'Усолье-Сибирским'], 'Усолье': ['усольом', 'усолью', 'усолье', 'усолья', 'усольо', 'усольа', 'усольу', 'усольем', 'Усолье', 'Усолью', 'Усольем', 'Усольу', 'Усолья', 'Усольо', 'Усольа', 'Усольом'], 'Уссурийск': ['уссурийскю', 'уссурийску', 'уссурийском', 'уссурийскем', 'уссурийскя', 'уссурийске', 'уссурийска', 'уссурийск', 'Уссурийск', 'Уссурийске', 'Уссурийску', 'Уссурийска', 'Уссурийскя', 'Уссурийскю', 'Уссурийскем', 'Уссурийском'], 'Усть-Джегута': ['усть-джегуте', 'усть-джегуты', 'усть-джегути', 'усть-джегуту', 'усть-джегута', 'усть-джегутой', 'Усть-Джегуте', 'Усть-Джегуты', 'Усть-Джегути', 'Усть-Джегута', 'Усть-Джегуту', 'Усть-Джегутой'], 'Усть-Илимск': ['усть-илимскю', 'усть-илимске', 'усть-илимскем', 'усть-илимска', 'усть-илимскя', 'усть-илимск', 'усть-илимску', 'усть-илимском', 'Усть-Илимскю', 'Усть-Илимска', 'Усть-Илимском', 'Усть-Илимске', 'Усть-Илимску', 'Усть-Илимскя', 'Усть-Илимск', 'Усть-Илимскем'], 'Усть-Катав': ['усть-катава', 'усть-катавя', 'усть-катав', 'усть-катавем', 'усть-катаве', 'усть-катаву', 'усть-катавю', 'усть-катавом', 'Усть-Катавя', 'Усть-Катавю', 'Усть-Катав', 'Усть-Катаву', 'Усть-Катаве', 'Усть-Катавем', 'Усть-Катавом', 'Усть-Катава'], 'Усть-Кут': ['усть-кут', 'усть-кутю', 'усть-кутем', 'усть-кута', 'усть-куту', 'усть-куте', 'усть-кутя', 'усть-кутом', 'Усть-Кутом', 'Усть-Кутя', 'Усть-Кутю', 'Усть-Куту', 'Усть-Кута', 'Усть-Кутем', 'Усть-Куте', 'Усть-Кут'], 'Усть-Лабинск': ['усть-лабинскя', 'усть-лабинска', 'усть-лабинске', 'усть-лабинскю', 'усть-лабинскем', 'усть-лабинску', 'усть-лабинск', 'усть-лабинском', 'Усть-Лабинскем', 'Усть-Лабинска', 'Усть-Лабинску', 'Усть-Лабинск', 'Усть-Лабинскю', 'Усть-Лабинском', 'Усть-Лабинскя', 'Усть-Лабинске'], 'Устюжна': ['устюжну', 'устюжной', 'устюжни', 'устюжны', 'устюжне', 'устюжна', 'Устюжной', 'Устюжна', 'Устюжны', 'Устюжну', 'Устюжне', 'Устюжни'], 'Уфа': ['уфой', 'уфи', 'уфа', 'уфу', 'уфы', 'уфе', 'Уфу', 'Уфе', 'Уфы', 'Уфой', 'Уфи', 'Уфа'], 'Ухта': ['ухты', 'ухте', 'ухтой', 'ухти', 'ухту', 'ухта', 'Ухта', 'Ухты', 'Ухту', 'Ухте', 'Ухти', 'Ухтой'], 'Учалы': ['учалы', 'Учалы'], 'Уяр': ['уярю', 'уяром', 'уяра', 'уярем', 'уяре', 'уяр', 'уяру', 'уяря', 'Уяре', 'Уярем', 'Уяром', 'Уярю', 'Уяря', 'Уяру', 'Уяра', 'Уяр'], 'Фатеж': ['фатеж', 'фатежем', 'фатежя', 'фатежу', 'фатежа', 'фатеже', 'фатежю', 'фатежом', 'Фатежя', 'Фатежем', 'Фатежом', 'Фатежу', 'Фатеже', 'Фатежа', 'Фатеж', 'Фатежю'], 'Феодосия': ['феодосии', 'феодосия', 'феодосией', 'феодосию', 'Феодосия', 'Феодосии', 'Феодосию', 'Феодосией'], 'Фокино': ['фокинем', 'фокиня', 'фокиню', 'фокино', 'фокином', 'фокина', 'фокине', 'фокину', 'Фокину', 'Фокина', 'Фокине', 'Фокином', 'Фокинем', 'Фокиня', 'Фокиню', 'Фокино'], 'Фролово': ['фролове', 'фролову', 'фроловя', 'фролово', 'фроловем', 'фроловю', 'фролова', 'фроловом', 'Фроловю', 'Фролову', 'Фролова', 'Фроловем', 'Фролово', 'Фроловя', 'Фролове', 'Фроловом'], 'Фрязино': ['фрязино', 'фрязине', 'фрязину', 'фрязином', 'фрязинем', 'фрязиню', 'фрязина', 'фрязиня', 'Фрязином', 'Фрязиня', 'Фрязиню', 'Фрязина', 'Фрязине', 'Фрязину', 'Фрязино', 'Фрязинем'], 'Фурманов': ['фурмановю', 'фурмановя', 'фурмановем', 'фурманову', 'фурманов', 'фурманова', 'фурманове', 'фурмановом', 'Фурмановю', 'Фурмановом', 'Фурманова', 'Фурманове', 'Фурманов', 'Фурманову', 'Фурмановя', 'Фурмановем'], 'Хабаровск': ['хабаровску', 'хабаровскем', 'хабаровском', 'хабаровска', 'хабаровске', 'хабаровскю', 'хабаровск', 'хабаровскя', 'Хабаровска', 'Хабаровску', 'Хабаровском', 'Хабаровскя', 'Хабаровске', 'Хабаровск', 'Хабаровскю', 'Хабаровскем'], 'Хадыженск': ['хадыженску', 'хадыженскя', 'хадыженске', 'хадыженскем', 'хадыженском', 'хадыженск', 'хадыженска', 'хадыженскю', 'Хадыженскя', 'Хадыженск', 'Хадыженскем', 'Хадыженска', 'Хадыженску', 'Хадыженском', 'Хадыженске', 'Хадыженскю'], 'Ханты-Мансийск': ['ханты-мансийскем', 'ханты-мансийска', 'ханты-мансийскя', 'ханты-мансийск', 'ханты-мансийске', 'ханты-мансийском', 'ханты-мансийску', 'ханты-мансийскю', 'Ханты-Мансийску', 'Ханты-Мансийске', 'Ханты-Мансийскем', 'Ханты-Мансийска', 'Ханты-Мансийск', 'Ханты-Мансийском', 'Ханты-Мансийскя', 'Ханты-Мансийскю'], 'Харабали': ['харабали', 'Харабали'], 'Харовск': ['харовском', 'харовска', 'харовскю', 'харовске', 'харовску', 'харовскем', 'харовск', 'харовскя', 'Харовском', 'Харовск', 'Харовскем', 'Харовскю', 'Харовску', 'Харовскя', 'Харовска', 'Харовске'], 'Хасавюрт': ['хасавюрте', 'хасавюрту', 'хасавюрт', 'хасавюртю', 'хасавюртем', 'хасавюртом', 'хасавюртя', 'хасавюрта', 'Хасавюрт', 'Хасавюртем', 'Хасавюртом', 'Хасавюртя', 'Хасавюрте', 'Хасавюрту', 'Хасавюрта', 'Хасавюртю'], 'Хвалынск': ['хвалынскя', 'хвалынск', 'хвалынском', 'хвалынскю', 'хвалынскем', 'хвалынска', 'хвалынске', 'хвалынску', 'Хвалынск', 'Хвалынску', 'Хвалынскем', 'Хвалынске', 'Хвалынскя', 'Хвалынска', 'Хвалынскю', 'Хвалынском'], 'Хилок': ['хилока', 'хилокем', 'хилоку', 'хилок', 'хилокя', 'хилоком', 'хилоке', 'хилокю', 'Хилок', 'Хилокю', 'Хилоку', 'Хилокя', 'Хилоком', 'Хилока', 'Хилокем', 'Хилоке'], 'Химки': ['химки', 'Химки'], 'Холм': ['холме', 'холму', 'холм', 'холмя', 'холмю', 'холмом', 'холма', 'холмем', 'Холмя', 'Холмю', 'Холм', 'Холма', 'Холму', 'Холме', 'Холмом', 'Холмем'], 'Холмск': ['холмске', 'холмскем', 'холмск', 'холмску', 'холмском', 'холмска', 'холмскя', 'холмскю', 'Холмск', 'Холмска', 'Холмскем', 'Холмске', 'Холмскю', 'Холмску', 'Холмскя', 'Холмском'], 'Хотьково': ['хотьковом', 'хотькова', 'хотьковю', 'хотькове', 'хотьковем', 'хотькову', 'хотьково', 'хотьковя', 'Хотьковем', 'Хотьково', 'Хотьковом', 'Хотькове', 'Хотькова', 'Хотькову', 'Хотьковя', 'Хотьковю'], 'Цивильск': ['цивильск', 'цивильскем', 'цивильску', 'цивильска', 'цивильском', 'цивильскя', 'цивильске', 'цивильскю', 'Цивильскя', 'Цивильску', 'Цивильскю', 'Цивильском', 'Цивильскем', 'Цивильске', 'Цивильск', 'Цивильска'], 'Цимлянск': ['цимлянскю', 'цимлянск', 'цимлянску', 'цимлянскем', 'цимлянске', 'цимлянскя', 'цимлянска', 'цимлянском', 'Цимлянск', 'Цимлянскю', 'Цимлянска', 'Цимлянскем', 'Цимлянскя', 'Цимлянске', 'Цимлянском', 'Цимлянску'], 'Циолковский': ['циолковскый', 'циолковскего', 'циолковским', 'циолковскему', 'циолковский', 'циолковском', 'циолковскому', 'циолковского', 'циолковскым', 'циолковскем', 'циолковской', 'Циолковский', 'Циолковскый', 'Циолковскего', 'Циолковскому', 'Циолковскему', 'Циолковской', 'Циолковским', 'Циолковском', 'Циолковского', 'Циолковскым', 'Циолковскем'], 'Чадан': ['чаданем', 'чадана', 'чаданю', 'чаданом', 'чадану', 'чаданя', 'чадан', 'чадане', 'Чаданем', 'Чадана', 'Чадану', 'Чадан', 'Чаданю', 'Чаданом', 'Чаданя', 'Чадане'], 'Чайковский': ['чайковском', 'чайковскем', 'чайковского', 'чайковскым', 'чайковскего', 'чайковскый', 'чайковским', 'чайковскому', 'чайковской', 'чайковский', 'чайковскему', 'Чайковскый', 'Чайковскому', 'Чайковскего', 'Чайковским', 'Чайковскему', 'Чайковского', 'Чайковской', 'Чайковскем', 'Чайковскым', 'Чайковском', 'Чайковский'], 'Чапаевск': ['чапаевске', 'чапаевскю', 'чапаевском', 'чапаевска', 'чапаевску', 'чапаевскя', 'чапаевск', 'чапаевскем', 'Чапаевску', 'Чапаевскем', 'Чапаевске', 'Чапаевск', 'Чапаевска', 'Чапаевскю', 'Чапаевском', 'Чапаевскя'], 'Чаплыгин': ['чаплыгину', 'чаплыгинем', 'чаплыгин', 'чаплыгине', 'чаплыгиню', 'чаплыгином', 'чаплыгина', 'чаплыгиня', 'Чаплыгиню', 'Чаплыгином', 'Чаплыгине', 'Чаплыгина', 'Чаплыгиня', 'Чаплыгину', 'Чаплыгин', 'Чаплыгинем'], 'Чебаркуль': ['чебаркули', 'чебаркуль', 'чебаркулью', 'Чебаркуль', 'Чебаркули', 'Чебаркулью'], 'Чебоксары': ['чебоксары', 'Чебоксары'], 'Чегем': ['чегема', 'чегемом', 'чегемю', 'чегем', 'чегеме', 'чегему', 'чегемем', 'чегемя', 'Чегемя', 'Чегем', 'Чегеме', 'Чегему', 'Чегемом', 'Чегема', 'Чегемем', 'Чегемю'], 'Чекалин': ['чекалиня', 'чекалиню', 'чекалину', 'чекалина', 'чекалин', 'чекалином', 'чекалине', 'чекалинем', 'Чекалина', 'Чекалиня', 'Чекалину', 'Чекалине', 'Чекалинем', 'Чекалин', 'Чекалином', 'Чекалиню'], 'Челябинск': ['челябинском', 'челябинскя', 'челябинске', 'челябинскю', 'челябинску', 'челябинск', 'челябинскем', 'челябинска', 'Челябинскю', 'Челябинск', 'Челябинска', 'Челябинскя', 'Челябинске', 'Челябинску', 'Челябинскем', 'Челябинском'], 'Чердынь': ['чердынью', 'чердыни', 'чердынь', 'Чердынь', 'Чердыни', 'Чердынью'], 'Черемхово': ['черемховю', 'черемховем', 'черемхова', 'черемхове', 'черемхово', 'черемховом', 'черемхову', 'черемховя', 'Черемховя', 'Черемховю', 'Черемхова', 'Черемховем', 'Черемхове', 'Черемхову', 'Черемховом', 'Черемхово'], 'Черепаново': ['черепанову', 'черепанова', 'черепановем', 'черепанове', 'черепановю', 'черепановя', 'черепановом', 'черепаново', 'Черепанове', 'Черепановем', 'Черепанова', 'Черепановю', 'Черепановом', 'Черепанову', 'Черепановя', 'Черепаново'], 'Череповец': ['череповецем', 'череповецом', 'череповеце', 'череповеця', 'череповецю', 'череповецу', 'череповец', 'череповеца', 'Череповеца', 'Череповецю', 'Череповец', 'Череповеце', 'Череповецу', 'Череповецом', 'Череповецем', 'Череповеця'], 'Черкесск': ['черкесском', 'черкесскя', 'черкесску', 'черкесск', 'черкесске', 'черкесскем', 'черкесска', 'черкесскю', 'Черкесску', 'Черкесска', 'Черкесск', 'Черкесскю', 'Черкесскя', 'Черкесскем', 'Черкесском', 'Черкесске'], 'Черноголовка': ['черноголовку', 'черноголовке', 'черноголовкой', 'черноголовка', 'черноголовки', 'черноголовкы', 'Черноголовку', 'Черноголовкой', 'Черноголовкы', 'Черноголовки', 'Черноголовке', 'Черноголовка'], 'Черногорск': ['черногорска', 'черногорскя', 'черногорск', 'черногорскем', 'черногорске', 'черногорском', 'черногорску', 'черногорскю', 'Черногорскя', 'Черногорска', 'Черногорск', 'Черногорскю', 'Черногорском', 'Черногорске', 'Черногорску', 'Черногорскем'], 'Чернушка': ['чернушкы', 'чернушка', 'чернушкой', 'чернушки', 'чернушке', 'чернушку', 'Чернушкы', 'Чернушке', 'Чернушки', 'Чернушка', 'Чернушкой', 'Чернушку'], 'Черняховск': ['черняховскя', 'черняховскем', 'черняховском', 'черняховску', 'черняховскю', 'черняховска', 'черняховск', 'черняховске', 'Черняховска', 'Черняховску', 'Черняховск', 'Черняховском', 'Черняховскем', 'Черняховскя', 'Черняховске', 'Черняховскю'], 'Чехов': ['чехов', 'чеховя', 'чехова', 'чехове', 'чехову', 'чеховом', 'чеховю', 'чеховем', 'Чеховю', 'Чеховем', 'Чеховя', 'Чеховом', 'Чехове', 'Чехов', 'Чехова', 'Чехову'], 'Чистополь': ['чистополи', 'чистополь', 'чистополью', 'Чистополи', 'Чистополью', 'Чистополь'], 'Чита': ['читу', 'читой', 'чити', 'читы', 'чите', 'чита', 'Чите', 'Читой', 'Чита', 'Читы', 'Чити', 'Читу'], 'Чкаловск': ['чкаловском', 'чкаловску', 'чкаловскем', 'чкаловска', 'чкаловскя', 'чкаловск', 'чкаловске', 'чкаловскю', 'Чкаловску', 'Чкаловска', 'Чкаловскю', 'Чкаловск', 'Чкаловскя', 'Чкаловске', 'Чкаловском', 'Чкаловскем'], 'Чудово': ['чудове', 'чудовя', 'чудовю', 'чудово', 'чудову', 'чудова', 'чудовом', 'чудовем', 'Чудова', 'Чудове', 'Чудово', 'Чудовем', 'Чудовя', 'Чудовом', 'Чудовю', 'Чудову'], 'Чулым': ['чулымом', 'чулымю', 'чулымем', 'чулым', 'чулымя', 'чулыме', 'чулыму', 'чулыма', 'Чулымю', 'Чулымя', 'Чулымем', 'Чулыму', 'Чулым', 'Чулыма', 'Чулымом', 'Чулыме'], 'Чусовой': ['чусовего', 'чусовим', 'чусовым', 'чусовый', 'чусовом', 'чусового', 'чусовем', 'чусовий', 'чусовой', 'чусовому', 'чусовему', 'Чусовего', 'Чусовом', 'Чусовой', 'Чусовому', 'Чусовый', 'Чусовим', 'Чусовым', 'Чусового', 'Чусовий', 'Чусовем', 'Чусовему'], 'Чухлома': ['чухломы', 'чухломой', 'чухлома', 'чухломи', 'чухломе', 'чухлому', 'Чухломы', 'Чухлому', 'Чухломой', 'Чухлома', 'Чухломе', 'Чухломи'], 'Чёрмоз': ['чёрмозом', 'чёрмозю', 'чёрмозя', 'чёрмоза', 'чёрмозу', 'чёрмозем', 'чёрмозе', 'чёрмоз', 'Чёрмозя', 'Чёрмозем', 'Чёрмозу', 'Чёрмозом', 'Чёрмоз', 'Чёрмоза', 'Чёрмозю', 'Чёрмозе'], 'Шагонар': ['шагонара', 'шагонару', 'шагонарю', 'шагонарем', 'шагонар', 'шагонаря', 'шагонаром', 'шагонаре', 'Шагонарем', 'Шагонара', 'Шагонаре', 'Шагонаром', 'Шагонарю', 'Шагонаря', 'Шагонару', 'Шагонар'], 'Шадринск': ['шадринск', 'шадринском', 'шадринска', 'шадринскя', 'шадринскю', 'шадринску', 'шадринске', 'шадринскем', 'Шадринскя', 'Шадринск', 'Шадринска', 'Шадринском', 'Шадринске', 'Шадринску', 'Шадринскем', 'Шадринскю'], 'Шали': ['шали', 'Шали'], 'Шарыпово': ['шарыпово', 'шарыпову', 'шарыпова', 'шарыповом', 'шарыповем', 'шарыпове', 'шарыповю', 'шарыповя', 'Шарыповя', 'Шарыповом', 'Шарыпово', 'Шарыповю', 'Шарыповем', 'Шарыпове', 'Шарыпова', 'Шарыпову'], 'Шарья': ['шарьи', 'шарье', 'шарью', 'шарья', 'шарьей', 'шарьих', 'Шарье', 'Шарьи', 'Шарьих', 'Шарья', 'Шарью', 'Шарьей'], 'Шатура': ['шатурой', 'шатуре', 'шатура', 'шатури', 'шатуру', 'шатуры', 'Шатури', 'Шатура', 'Шатурой', 'Шатуры', 'Шатуре', 'Шатуру'], 'Шахты': ['шахты', 'Шахты'], 'Шахунья': ['шахуньи', 'шахунье', 'шахуньих', 'шахуньей', 'шахунью', 'шахунья', 'Шахуньи', 'Шахунью', 'Шахуньей', 'Шахунья', 'Шахунье', 'Шахуньих'], 'Шацк': ['шацка', 'шацкем', 'шацкя', 'шацком', 'шацку', 'шацке', 'шацкю', 'шацк', 'Шацкю', 'Шацка', 'Шацкем', 'Шацке', 'Шацк', 'Шацкя', 'Шацку', 'Шацком'], 'Шебекино': ['шебекином', 'шебекино', 'шебекиня', 'шебекиню', 'шебекина', 'шебекинем', 'шебекине', 'шебекину', 'Шебекиня', 'Шебекином', 'Шебекина', 'Шебекинем', 'Шебекиню', 'Шебекине', 'Шебекину', 'Шебекино'], 'Шелехов': ['шелеховем', 'шелеховом', 'шелехов', 'шелехове', 'шелехова', 'шелеховю', 'шелехову', 'шелеховя', 'Шелехов', 'Шелехове', 'Шелеховем', 'Шелеховом', 'Шелехова', 'Шелехову', 'Шелеховю', 'Шелеховя'], 'Шенкурск': ['шенкурске', 'шенкурскю', 'шенкурска', 'шенкурск', 'шенкурскем', 'шенкурском', 'шенкурскя', 'шенкурску', 'Шенкурскю', 'Шенкурск', 'Шенкурска', 'Шенкурском', 'Шенкурску', 'Шенкурскем', 'Шенкурске', 'Шенкурскя'], 'Шилка': ['шилки', 'шилкы', 'шилка', 'шилке', 'шилкой', 'шилку', 'Шилку', 'Шилке', 'Шилкой', 'Шилкы', 'Шилки', 'Шилка'], 'Шимановск': ['шимановском', 'шимановска', 'шимановскя', 'шимановск', 'шимановскем', 'шимановску', 'шимановскю', 'шимановске', 'Шимановскю', 'Шимановска', 'Шимановском', 'Шимановску', 'Шимановскя', 'Шимановскем', 'Шимановск', 'Шимановске'], 'Шиханы': ['шиханы', 'Шиханы'], 'Шлиссельбург': ['шлиссельбургю', 'шлиссельбургом', 'шлиссельбургу', 'шлиссельбурге', 'шлиссельбургем', 'шлиссельбурга', 'шлиссельбургя', 'шлиссельбург', 'Шлиссельбургу', 'Шлиссельбурге', 'Шлиссельбурга', 'Шлиссельбургом', 'Шлиссельбургем', 'Шлиссельбургю', 'Шлиссельбургя', 'Шлиссельбург'], 'Шумерля': ['шумерлёй', 'шумерлю', 'шумерле', 'шумерли', 'шумерля', 'шумерлей', 'Шумерлей', 'Шумерлю', 'Шумерля', 'Шумерлёй', 'Шумерли', 'Шумерле'], 'Шумиха': ['шумиха', 'шумихы', 'шумихи', 'шумиху', 'шумихой', 'шумихе', 'Шумихы', 'Шумихи', 'Шумиха', 'Шумихе', 'Шумиху', 'Шумихой'], 'Шуя': ['шуя', 'шуей', 'шуёй', 'шуе', 'шую', 'шуи', 'Шуи', 'Шуей', 'Шуе', 'Шуёй', 'Шуя', 'Шую'], 'Щигры': ['щигры', 'Щигры'], 'Щучье': ['щучья', 'щучьем', 'щучью', 'щучьо', 'щучье', 'щучьом', 'щучьу', 'щучьа', 'Щучьа', 'Щучью', 'Щучьем', 'Щучьу', 'Щучье', 'Щучьом', 'Щучья', 'Щучьо'], 'Щёкино': ['щёкиню', 'щёкине', 'щёкиня', 'щёкина', 'щёкинем', 'щёкином', 'щёкину', 'щёкино', 'Щёкине', 'Щёкина', 'Щёкином', 'Щёкинем', 'Щёкину', 'Щёкиню', 'Щёкиня', 'Щёкино'], 'Щёлкино': ['щёлкина', 'щёлкину', 'щёлкиню', 'щёлкиня', 'щёлкино', 'щёлкинем', 'щёлкине', 'щёлкином', 'Щёлкином', 'Щёлкиня', 'Щёлкино', 'Щёлкину', 'Щёлкинем', 'Щёлкиню', 'Щёлкине', 'Щёлкина'], 'Щёлково': ['щёлкове', 'щёлковя', 'щёлковем', 'щёлковю', 'щёлково', 'щёлковом', 'щёлкова', 'щёлкову', 'Щёлково', 'Щёлковю', 'Щёлковом', 'Щёлкову', 'Щёлковя', 'Щёлковем', 'Щёлкова', 'Щёлкове'], 'Электрогорск': ['электрогорска', 'электрогорскю', 'электрогорскем', 'электрогорскя', 'электрогорску', 'электрогорском', 'электрогорск', 'электрогорске', 'Электрогорском', 'Электрогорск', 'Электрогорска', 'Электрогорскю', 'Электрогорскя', 'Электрогорске', 'Электрогорскем', 'Электрогорску'], 'Электросталь': ['электросталь', 'электросталью', 'электростали', 'Электросталь', 'Электростали', 'Электросталью'], 'Электроугли': ['электроугли', 'Электроугли'], 'Элиста': ['элисти', 'элиста', 'элисты', 'элисте', 'элистой', 'элисту', 'Элистой', 'Элисти', 'Элисты', 'Элисте', 'Элиста', 'Элисту'], 'Энгельс': ['энгельсю', 'энгелься', 'энгельс', 'энгельсом', 'энгельсу', 'энгельсем', 'энгельса', 'энгельсе', 'Энгельсом', 'Энгельсу', 'Энгелься', 'Энгельса', 'Энгельс', 'Энгельсе', 'Энгельсем', 'Энгельсю'], 'Эртиль': ['эртилью', 'эртили', 'эртиль', 'Эртиль', 'Эртилью', 'Эртили'], 'Югорск': ['югорск', 'югорска', 'югорском', 'югорскем', 'югорскя', 'югорскю', 'югорску', 'югорске', 'Югорскя', 'Югорском', 'Югорску', 'Югорск', 'Югорске', 'Югорскю', 'Югорска', 'Югорскем'], 'Южа': ['юже', 'южу', 'южа', 'южи', 'южы', 'южой', 'Южой', 'Южа', 'Южи', 'Южу', 'Южы', 'Юже'], 'Южно-Сахалинск': ['южно-сахалинску', 'южно-сахалинскем', 'южно-сахалинскя', 'южно-сахалинске', 'южно-сахалинскю', 'южно-сахалинска', 'южно-сахалинском', 'южно-сахалинск', 'Южно-Сахалинскем', 'Южно-Сахалинском', 'Южно-Сахалинск', 'Южно-Сахалинскю', 'Южно-Сахалинскя', 'Южно-Сахалинску', 'Южно-Сахалинске', 'Южно-Сахалинска'], 'Южно-Сухокумск': ['южно-сухокумск', 'южно-сухокумскю', 'южно-сухокумскя', 'южно-сухокумска', 'южно-сухокумске', 'южно-сухокумском', 'южно-сухокумску', 'южно-сухокумскем', 'Южно-Сухокумскем', 'Южно-Сухокумске', 'Южно-Сухокумска', 'Южно-Сухокумскя', 'Южно-Сухокумск', 'Южно-Сухокумску', 'Южно-Сухокумскю', 'Южно-Сухокумском'], 'Южноуральск': ['южноуральскю', 'южноуральском', 'южноуральскя', 'южноуральскем', 'южноуральске', 'южноуральска', 'южноуральск', 'южноуральску', 'Южноуральском', 'Южноуральскю', 'Южноуральске', 'Южноуральску', 'Южноуральск', 'Южноуральскем', 'Южноуральска', 'Южноуральскя'], 'Юрга': ['юрге', 'юрга', 'юргой', 'юргы', 'юргу', 'юрги', 'Юрге', 'Юрги', 'Юргу', 'Юргы', 'Юрга', 'Юргой'], 'Юрьев-Польский': ['юрьев-польскый', 'юрьев-польскым', 'юрьев-польском', 'юрьев-польской', 'юрьев-польскему', 'юрьев-польского', 'юрьев-польским', 'юрьев-польский', 'юрьев-польскому', 'юрьев-польскего', 'юрьев-польскем', 'Юрьев-Польскего', 'Юрьев-Польском', 'Юрьев-Польскому', 'Юрьев-Польскым', 'Юрьев-Польскем', 'Юрьев-Польскему', 'Юрьев-Польским', 'Юрьев-Польского', 'Юрьев-Польской', 'Юрьев-Польский', 'Юрьев-Польскый'], 'Юрьевец': ['юрьевеце', 'юрьевецю', 'юрьевецом', 'юрьевецу', 'юрьевецем', 'юрьевеця', 'юрьевеца', 'юрьевец', 'Юрьевецу', 'Юрьевецем', 'Юрьевеце', 'Юрьевец', 'Юрьевецю', 'Юрьевецом', 'Юрьевеца', 'Юрьевеця'], 'Юрюзань': ['юрюзанью', 'юрюзань', 'юрюзани', 'Юрюзани', 'Юрюзань', 'Юрюзанью'], 'Юхнов': ['юхновю', 'юхновом', 'юхновем', 'юхнове', 'юхнов', 'юхновя', 'юхнова', 'юхнову', 'Юхнова', 'Юхнове', 'Юхновю', 'Юхновом', 'Юхнов', 'Юхновя', 'Юхнову', 'Юхновем'], 'Ядрин': ['ядринем', 'ядрине', 'ядрину', 'ядрин', 'ядрином', 'ядриня', 'ядрина', 'ядриню', 'Ядриня', 'Ядрин', 'Ядринем', 'Ядрином', 'Ядриню', 'Ядрине', 'Ядрину', 'Ядрина'], 'Якутск': ['якутскю', 'якутск', 'якутске', 'якутскем', 'якутску', 'якутскя', 'якутском', 'якутска', 'Якутск', 'Якутске', 'Якутску', 'Якутскем', 'Якутска', 'Якутскя', 'Якутскю', 'Якутском'], 'Ялта': ['ялту', 'ялты', 'ялти', 'ялта', 'ялтой', 'ялте', 'Ялты', 'Ялту', 'Ялти', 'Ялте', 'Ялта', 'Ялтой'], 'Ялуторовск': ['ялуторовскем', 'ялуторовска', 'ялуторовске', 'ялуторовску', 'ялуторовском', 'ялуторовскя', 'ялуторовскю', 'ялуторовск', 'Ялуторовскю', 'Ялуторовскя', 'Ялуторовску', 'Ялуторовскем', 'Ялуторовск', 'Ялуторовском', 'Ялуторовске', 'Ялуторовска'], 'Янаул': ['янауле', 'янаулом', 'янаулю', 'янаулу', 'янаула', 'янаул', 'янаулем', 'янауля', 'Янаулю', 'Янаулу', 'Янаул', 'Янаула', 'Янауле', 'Янауля', 'Янаулем', 'Янаулом'], 'Яранск': ['яранском', 'яранску', 'яранскя', 'яранск', 'яранскем', 'яранска', 'яранске', 'яранскю', 'Яранскю', 'Яранскя', 'Яранском', 'Яранску', 'Яранскем', 'Яранска', 'Яранске', 'Яранск'], 'Яровое': ['яровему', 'яровом', 'яровего', 'яровее', 'ярового', 'яровым', 'яровим', 'яровое', 'яровому', 'яровем', 'Яровего', 'Яровее', 'Яровему', 'Яровому', 'Яровое', 'Яровом', 'Ярового', 'Яровым', 'Яровим', 'Яровем'], 'Ярославль': ['ярославль', 'ярославлью', 'ярославли', 'Ярославлью', 'Ярославль', 'Ярославли'], 'Ярцево': ['ярцевем', 'ярцеве', 'ярцевю', 'ярцевом', 'ярцевя', 'ярцева', 'ярцево', 'ярцеву', 'Ярцевом', 'Ярцеве', 'Ярцевя', 'Ярцево', 'Ярцева', 'Ярцевю', 'Ярцеву', 'Ярцевем'], 'Ясногорск': ['ясногорскю', 'ясногорска', 'ясногорскя', 'ясногорскем', 'ясногорск', 'ясногорску', 'ясногорском', 'ясногорске', 'Ясногорскем', 'Ясногорску', 'Ясногорскя', 'Ясногорске', 'Ясногорск', 'Ясногорскю', 'Ясногорском', 'Ясногорска'], 'Ясный': ['яснего', 'ясному', 'ясного', 'яснему', 'ясным', 'ясний', 'ясним', 'ясной', 'ясный', 'ясном', 'яснем', 'Ясного', 'Ясному', 'Яснем', 'Яснему', 'Яснего', 'Ясним', 'Ясным', 'Ясной', 'Ясный', 'Ясний', 'Ясном'], 'Яхрома': ['яхрома', 'яхромы', 'яхроме', 'яхрому', 'яхроми', 'яхромой', 'Яхроме', 'Яхрома', 'Яхроми', 'Яхрому', 'Яхромы', 'Яхромой']}\n"
          ]
        }
      ]
    },
    {
      "cell_type": "code",
      "metadata": {
        "id": "Rbe8ZrdBnpOa",
        "colab": {
          "base_uri": "https://localhost:8080/"
        },
        "outputId": "bf9da958-c5c4-424f-aadb-acc65e024cbe"
      },
      "source": [
        "from flashgeotext.geotext import GeoText, GeoTextConfiguration\n",
        "from flashgeotext.lookup import LookupData\n",
        "example_text = \"http://t.co/YEVHuvVGA1 Взять кредит тюмень альфа банк. Мнение о кредитной карте втб 24 http://t.co/SBJTcsqjCg. «Райффайзенбанк»: Снижение ключевой ставки ЦБ на заседании в Тюмени в эту пятницу очень маловероятно. Современное состояние кредитного поведения в россии сбербанк http://t.co/EXAX01uR0h. @sawik_shuster @YevhenS Главное чтоб банки СБЕР и ВТБ!!!\"\n",
        "\n",
        "lookup_cities = LookupData(\n",
        "    name=\"Russian_cities\",\n",
        "    data=dict_of_cities,\n",
        "    script=\"cyrillic\")\n",
        "\n",
        "config = GeoTextConfiguration(**{\"use_demo_data\":False})\n",
        "geotext = GeoText(config)\n",
        "geotext.add(lookup_cities)\n",
        "\n",
        "extract = geotext.extract(example_text)\n",
        "print(extract)"
      ],
      "execution_count": 118,
      "outputs": [
        {
          "output_type": "stream",
          "name": "stdout",
          "text": [
            "{'Russian_cities': {'Тюмень': {'count': 2, 'span_info': [(36, 42), (172, 178)], 'found_as': ['тюмень', 'Тюмени']}}}\n"
          ]
        }
      ]
    },
    {
      "cell_type": "markdown",
      "metadata": {
        "id": "eeBClqYfvIK0"
      },
      "source": [
        "\n",
        "\n",
        "---\n",
        "\n",
        "Загрузка и очистка корпуса"
      ]
    },
    {
      "cell_type": "code",
      "metadata": {
        "id": "TfbzzENqQ1fw"
      },
      "source": [
        "def rubbish_deleter(s):\n",
        "  lemmas = []\n",
        "  for token in nlp(s):\n",
        "    if token.is_stop: # проверка на стоп слово\n",
        "      pass\n",
        "    else:\n",
        "      lemmas.append(token.lemma_) # тут слова лемматизируются с помощью spacy\n",
        "  s_lemmd = ' '.join(lemmas)                                                \n",
        "  webs = '((?<=http:\\/\\/)t\\.\\S+\\.?\\S+[\\s^\\v]?)'\n",
        "  nums = '(\\d+[\\s^\\v]?)'\n",
        "  names = '(@\\S+)'\n",
        "  re_webs = re.compile(webs)                                    # Ссылки\n",
        "  re_names = re.compile(names)                                  # Ники\n",
        "  re_pnct = re.compile('[%s]' % re.escape(string.punctuation))  # Пунктуация\n",
        "  re_nums = re.compile(nums)                                    # Числа\n",
        "  s_dewebbed = re_webs.sub(' ', s_lemmd)\n",
        "  s_denamed = re_names.sub('', s_dewebbed)\n",
        "  s_stripped = re_pnct.sub('', s_denamed)\n",
        "  s_denummed = re_nums.sub('', s_stripped)\n",
        "  \n",
        "  return s_denummed"
      ],
      "execution_count": 119,
      "outputs": []
    },
    {
      "cell_type": "code",
      "metadata": {
        "id": "IgiXZ7SX7iF_"
      },
      "source": [
        "def load_sentirueval_2016(file_name: str) -> Tuple[List[str], List[str]]:\n",
        "    texts = []\n",
        "    labels = []\n",
        "    with open(file_name, mode='rb') as fp:\n",
        "        xml_data = fp.read()\n",
        "    root = etree.fromstring(xml_data)\n",
        "    for database in root.getchildren():\n",
        "        if database.tag == 'database':\n",
        "            for table in database.getchildren():\n",
        "                if table.tag != 'table':\n",
        "                    continue\n",
        "                new_text = None\n",
        "                new_label = None\n",
        "                for column in table.getchildren():\n",
        "                    if column.get('name') == 'text':\n",
        "                        new_text = rubbish_deleter(column.text) # дополнено функцией тут\n",
        "                        if new_label is not None:\n",
        "                            break\n",
        "                    elif column.get('name') not in {'id', 'twitid', 'date'}:\n",
        "                        if new_label is None:\n",
        "                            label_candidate = str(column.text).strip()\n",
        "                            if label_candidate in {'0', '1', '-1'}:\n",
        "                                new_label = 'negative' if label_candidate == '-1' else \\\n",
        "                                    ('positive' if label_candidate == '1' else 'neutral')\n",
        "                                if new_text is not None:\n",
        "                                    break\n",
        "                if (new_text is None) or (new_label is None):\n",
        "                    raise ValueError('File `{0}` contains some error!'.format(file_name))\n",
        "                texts.append(new_text)\n",
        "                labels.append(new_label)\n",
        "            break\n",
        "    return texts, labels"
      ],
      "execution_count": 120,
      "outputs": []
    },
    {
      "cell_type": "code",
      "metadata": {
        "id": "UwJe0omSMhh2"
      },
      "source": [
        "fXML_train = '/content/drive/My Drive/Colab Notebooks/bank_train_2016.xml'\n",
        "fXML_test = '/content/drive/My Drive/Colab Notebooks/banks_test_etalon.xml'"
      ],
      "execution_count": 121,
      "outputs": []
    },
    {
      "cell_type": "code",
      "metadata": {
        "id": "faDu3TvX7iKR"
      },
      "source": [
        "texts, labels = load_sentirueval_2016(fXML)\n",
        "texts_test, labels_test = load_sentirueval_2016(fXML_test)"
      ],
      "execution_count": 122,
      "outputs": []
    },
    {
      "cell_type": "code",
      "metadata": {
        "id": "_aAKVRrF7iLO",
        "colab": {
          "base_uri": "https://localhost:8080/"
        },
        "outputId": "796aeeef-ac56-4f1d-d173-6d3abdfbba33"
      },
      "source": [
        "print('Number of texts is {0}, number of labels is {1}.'.format(len(texts), len(labels)))"
      ],
      "execution_count": 123,
      "outputs": [
        {
          "output_type": "stream",
          "name": "stdout",
          "text": [
            "Number of texts is 9392, number of labels is 9392.\n"
          ]
        }
      ]
    },
    {
      "cell_type": "markdown",
      "metadata": {
        "id": "sDbMKTa2ohoP"
      },
      "source": [
        "\n",
        "\n",
        "---\n",
        "\n",
        "Рандомайзер и примеры"
      ]
    },
    {
      "cell_type": "code",
      "metadata": {
        "id": "YcMOI5-y7iNI",
        "colab": {
          "base_uri": "https://localhost:8080/"
        },
        "outputId": "b5cf436e-d21e-4b3a-954b-fd734533049e"
      },
      "source": [
        "import random\n",
        "for idx in random.choices(list(range(len(texts))), k=20):\n",
        "    print('{0} => {1}'.format(labels[idx], texts[idx]))"
      ],
      "execution_count": 124,
      "outputs": [
        {
          "output_type": "stream",
          "name": "stdout",
          "text": [
            "neutral => завод ТМК реструктурировать долг кредит Сбербанк млрдamp  \n",
            "neutral => банк Москва исключать слияние украинский  дочка   Вт Украина \n",
            "neutral => http  Сбербанк шаблон\n",
            "neutral => газпромбанк руководство новосибирска http  газпромбанк  новосибирска\n",
            "neutral => http брать кредит райффайзный банк\n",
            "neutral => платить кредит сбербанк http \n",
            "neutral => Восточно сибирский сбербанк кредит http \n",
            "neutral => RT   Сбербанк ввести специальный режим работа офис подтопить ленинский район ЕАО\n",
            "neutral => сбербанк кредит пенсионер процентный ставка http \n",
            "negative => Евросоюз наказывать Украина Сбербанк банк РФ\n",
            "neutral => вт тольятть кредит http \n",
            "neutral => http вт потребительский кредит под залог недвижимость\n",
            "negative =>  подача претензия просить приложить справка  сотрудник банк уверять  требоваться  основание отказать\n",
            "neutral => вт тольятть кредит http \n",
            "neutral => http можно ли получить кредит пскова альфа банк\n",
            "neutral => какой документ надо жилищный кредит сбербанк http \n",
            "negative =>  fyseoru  финансы Сбербанк август приостановить работа банкомат  слово представитель прессяча    взаимный  читать\n",
            "neutral => http сбербанк кредит страховка\n",
            "neutral => кредит сбербанок http \n",
            "neutral =>  США  санкция   ирония   Сбербанк Россия приступить выпуск банковский карта база российский платежный    http \n"
          ]
        }
      ]
    },
    {
      "cell_type": "code",
      "metadata": {
        "id": "dSXGgsiT7iNs",
        "colab": {
          "base_uri": "https://localhost:8080/"
        },
        "outputId": "2a279341-18ee-4ee7-c072-233d5a74420f"
      },
      "source": [
        "positive_tweets = [texts[idx] for idx in range(len(texts)) if labels[idx] == 'positive']\n",
        "for cur in positive_tweets[:5]: print(cur)\n",
        "negative_tweets = [texts[idx] for idx in range(len(texts)) if labels[idx] == 'negative']\n",
        "for cur in negative_tweets[:5]: print(cur)"
      ],
      "execution_count": 125,
      "outputs": [
        {
          "output_type": "stream",
          "name": "stdout",
          "text": [
            "  главный чтобы банк СБЕР ВТБ   \n",
            "самый выгодный автокредит втб http \n",
            "http легко можно получить денежный кредит ы вт банк\n",
            "снижение процентный ставка кредит недвижимость сбербанк http \n",
            "сбербанк прийти американец просить сфоткаться банкомат  D васто шок фотка полюбому получиться смешной xD\n",
            "    обязательно про сбербанк писать  временами хлестко интерать магазин финт выкручивать \n",
            "   втб сбер точно  вопрос  блокировка операция запрет кредит \n",
            "Канада ввести санкция против Газпромбанк  ВЭБ  Новатэк российский оборонный компания\n",
            "RT   Сбер ВТБ попасть под санкция  жоп\n",
            "RT    Канада ввести санкция против оборонный сырьевой компания банк РФ  среди  частность    Газпромбанк     Внешэк …\n"
          ]
        }
      ]
    },
    {
      "cell_type": "markdown",
      "metadata": {
        "id": "WWKEwvP7tVVa"
      },
      "source": [
        "\n",
        "\n",
        "---\n",
        "\n",
        "Векторизация через Count"
      ]
    },
    {
      "cell_type": "code",
      "metadata": {
        "id": "nht9YJf47iPW"
      },
      "source": [
        "from nltk import word_tokenize\n",
        "from sklearn.feature_extraction.text import CountVectorizer\n",
        "vectorizer = CountVectorizer(lowercase=True, tokenizer=word_tokenize) # создаем экземпляр класса CV"
      ],
      "execution_count": 126,
      "outputs": []
    },
    {
      "cell_type": "code",
      "metadata": {
        "id": "ail6283pJNTt",
        "colab": {
          "base_uri": "https://localhost:8080/"
        },
        "outputId": "dbd3db22-6c0f-4e33-b6df-03543f1dbd38"
      },
      "source": [
        "import nltk\n",
        "nltk.download('punkt')"
      ],
      "execution_count": 127,
      "outputs": [
        {
          "output_type": "stream",
          "name": "stdout",
          "text": [
            "[nltk_data] Downloading package punkt to /root/nltk_data...\n",
            "[nltk_data]   Package punkt is already up-to-date!\n"
          ]
        },
        {
          "output_type": "execute_result",
          "data": {
            "text/plain": [
              "True"
            ]
          },
          "metadata": {},
          "execution_count": 127
        }
      ]
    },
    {
      "cell_type": "code",
      "metadata": {
        "id": "IaITNnmZ7iQ_",
        "colab": {
          "base_uri": "https://localhost:8080/"
        },
        "outputId": "c85b4a49-ad7a-44f5-a068-4a0984e2c64e"
      },
      "source": [
        "vectorizer.fit(texts) # вызываем функцию fit() для обучения словам"
      ],
      "execution_count": 128,
      "outputs": [
        {
          "output_type": "stream",
          "name": "stderr",
          "text": [
            "/usr/local/lib/python3.7/dist-packages/sklearn/feature_extraction/text.py:507: UserWarning: The parameter 'token_pattern' will not be used since 'tokenizer' is not None'\n",
            "  warnings.warn(\"The parameter 'token_pattern' will not be used\"\n"
          ]
        },
        {
          "output_type": "execute_result",
          "data": {
            "text/plain": [
              "CountVectorizer(analyzer='word', binary=False, decode_error='strict',\n",
              "                dtype=<class 'numpy.int64'>, encoding='utf-8', input='content',\n",
              "                lowercase=True, max_df=1.0, max_features=None, min_df=1,\n",
              "                ngram_range=(1, 1), preprocessor=None, stop_words=None,\n",
              "                strip_accents=None, token_pattern='(?u)\\\\b\\\\w\\\\w+\\\\b',\n",
              "                tokenizer=<function word_tokenize at 0x7f258a5f9560>,\n",
              "                vocabulary=None)"
            ]
          },
          "metadata": {},
          "execution_count": 128
        }
      ]
    },
    {
      "cell_type": "code",
      "metadata": {
        "id": "5YJyRaC-7iRc",
        "colab": {
          "base_uri": "https://localhost:8080/"
        },
        "outputId": "350c7228-fc8c-4a6c-ee08-ee044465af45"
      },
      "source": [
        "print(vectorizer.get_feature_names()[0:20])"
      ],
      "execution_count": 129,
      "outputs": [
        {
          "output_type": "stream",
          "name": "stdout",
          "text": [
            "['a', 'abncapital', 'aday', 'admitad', 'ag', 'agrob', 'ajhvf', 'alfa', 'alfabank', 'alfaclick', 'aliexpress', 'amp', 'android', 'api', 'app', 'apple', 'appsall', 'appstore', 'at', 'autofollow']\n"
          ]
        }
      ]
    },
    {
      "cell_type": "code",
      "metadata": {
        "id": "rBeV8qt67iR_",
        "colab": {
          "base_uri": "https://localhost:8080/"
        },
        "outputId": "1f3cc1d1-9bea-4354-af2c-2cbb5910603d"
      },
      "source": [
        "print(len(vectorizer.get_feature_names()))"
      ],
      "execution_count": 130,
      "outputs": [
        {
          "output_type": "stream",
          "name": "stdout",
          "text": [
            "7521\n"
          ]
        }
      ]
    },
    {
      "cell_type": "code",
      "metadata": {
        "id": "sEvQt-A27iT0"
      },
      "source": [
        "X = vectorizer.transform(texts) # вызываем функцию transform() для кодирования твитов как векторов"
      ],
      "execution_count": 131,
      "outputs": []
    },
    {
      "cell_type": "code",
      "metadata": {
        "id": "pFkmf9OM7iU5",
        "collapsed": true,
        "colab": {
          "base_uri": "https://localhost:8080/"
        },
        "outputId": "c2dc8e94-410d-43b3-dc38-7390e8e868e8"
      },
      "source": [
        "print(type(X)) # получаем матрицу для дальнейшего использования"
      ],
      "execution_count": 132,
      "outputs": [
        {
          "output_type": "stream",
          "name": "stdout",
          "text": [
            "<class 'scipy.sparse.csr.csr_matrix'>\n"
          ]
        }
      ]
    },
    {
      "cell_type": "code",
      "metadata": {
        "id": "xW1uwTdL7iVN",
        "colab": {
          "base_uri": "https://localhost:8080/"
        },
        "outputId": "02c19075-9289-4bf7-eab4-559840d18d77"
      },
      "source": [
        "print(texts[0])"
      ],
      "execution_count": 133,
      "outputs": [
        {
          "output_type": "stream",
          "name": "stdout",
          "text": [
            "http брать кредит тюмень альфа банк\n"
          ]
        }
      ]
    },
    {
      "cell_type": "code",
      "metadata": {
        "id": "_4287I9_7iVm",
        "collapsed": true,
        "colab": {
          "base_uri": "https://localhost:8080/"
        },
        "outputId": "17761565-9baa-48ac-fe7c-bfe8b828b388"
      },
      "source": [
        "print(X[0]) # (номер предложения, номер слова) кол-во слова в предложении (вектор слова?)"
      ],
      "execution_count": 134,
      "outputs": [
        {
          "output_type": "stream",
          "name": "stdout",
          "text": [
            "  (0, 172)\t1\n",
            "  (0, 650)\t1\n",
            "  (0, 800)\t1\n",
            "  (0, 982)\t1\n",
            "  (0, 2945)\t1\n",
            "  (0, 6715)\t1\n"
          ]
        }
      ]
    },
    {
      "cell_type": "code",
      "metadata": {
        "id": "Z-guRjOV7iV7",
        "colab": {
          "base_uri": "https://localhost:8080/"
        },
        "outputId": "50af3653-a5e3-4e2b-a379-1fb80b82ec2d"
      },
      "source": [
        "print(vectorizer.get_feature_names()[6321])"
      ],
      "execution_count": 135,
      "outputs": [
        {
          "output_type": "stream",
          "name": "stdout",
          "text": [
            "станция\n"
          ]
        }
      ]
    },
    {
      "cell_type": "markdown",
      "metadata": {
        "id": "D34TQyOBuFKA"
      },
      "source": [
        "\n",
        "\n",
        "---\n",
        "Векторизация через tf-id"
      ]
    },
    {
      "cell_type": "code",
      "metadata": {
        "id": "mMk0M6YH7iXZ"
      },
      "source": [
        "from sklearn.feature_extraction.text import TfidfTransformer # используем трансформер на матрице (после countvectorizer), vectorizer сам по себе "
      ],
      "execution_count": 136,
      "outputs": []
    },
    {
      "cell_type": "code",
      "metadata": {
        "id": "3P28BOfN7iXs"
      },
      "source": [
        "transformer = TfidfTransformer().fit(X)"
      ],
      "execution_count": 137,
      "outputs": []
    },
    {
      "cell_type": "code",
      "metadata": {
        "id": "8YqmfAd77iX9"
      },
      "source": [
        "X_transformed = transformer.transform(X)"
      ],
      "execution_count": 138,
      "outputs": []
    },
    {
      "cell_type": "code",
      "metadata": {
        "id": "HHm053jT7iYS",
        "colab": {
          "base_uri": "https://localhost:8080/"
        },
        "outputId": "5b76b2e1-47ff-4925-9513-dfa550eea44d"
      },
      "source": [
        "print(X_transformed[0]) # (предложение, номер слова) тф"
      ],
      "execution_count": 139,
      "outputs": [
        {
          "output_type": "stream",
          "name": "stdout",
          "text": [
            "  (0, 6715)\t0.7555802916434852\n",
            "  (0, 2945)\t0.2149591146177843\n",
            "  (0, 982)\t0.3995836836356685\n",
            "  (0, 800)\t0.24308982435360857\n",
            "  (0, 650)\t0.3774147538391221\n",
            "  (0, 172)\t0.14727295262579873\n"
          ]
        }
      ]
    },
    {
      "cell_type": "code",
      "metadata": {
        "colab": {
          "base_uri": "https://localhost:8080/"
        },
        "id": "bqoewKSFwDwZ",
        "outputId": "353544ed-bde9-459e-a0d1-168e490845a7"
      },
      "source": [
        "print(X_transformed.shape) # (к-во предложений, к-во слов)"
      ],
      "execution_count": 140,
      "outputs": [
        {
          "output_type": "stream",
          "name": "stdout",
          "text": [
            "(9392, 7521)\n"
          ]
        }
      ]
    },
    {
      "cell_type": "code",
      "metadata": {
        "id": "Yel9hQaM7iZY",
        "collapsed": true,
        "colab": {
          "base_uri": "https://localhost:8080/"
        },
        "outputId": "76d66cad-b235-4b74-dff9-005a9ad055bc"
      },
      "source": [
        "print(vectorizer.get_feature_names()[7199])"
      ],
      "execution_count": 141,
      "outputs": [
        {
          "output_type": "stream",
          "name": "stdout",
          "text": [
            "часный\n"
          ]
        }
      ]
    },
    {
      "cell_type": "code",
      "metadata": {
        "id": "Cpgk4JQd7iaE"
      },
      "source": [
        "# получаем список таплов (слово, его idf)\n",
        "tokens_with_IDF = list(zip(vectorizer.get_feature_names(), transformer.idf_))"
      ],
      "execution_count": 142,
      "outputs": []
    },
    {
      "cell_type": "code",
      "metadata": {
        "id": "w0hV2JB37iam",
        "colab": {
          "base_uri": "https://localhost:8080/"
        },
        "outputId": "a6e450d3-a739-4a30-cfde-98a1aed04cb1"
      },
      "source": [
        "for feature, idf in tokens_with_IDF[0:20]: print('{0:.6f} => {1}'.format(idf, feature))"
      ],
      "execution_count": 143,
      "outputs": [
        {
          "output_type": "stream",
          "name": "stdout",
          "text": [
            "9.049108 => a\n",
            "9.454573 => abncapital\n",
            "9.454573 => aday\n",
            "9.454573 => admitad\n",
            "9.049108 => ag\n",
            "9.049108 => agrob\n",
            "9.454573 => ajhvf\n",
            "9.049108 => alfa\n",
            "7.375131 => alfabank\n",
            "8.761426 => alfaclick\n",
            "9.454573 => aliexpress\n",
            "6.484158 => amp\n",
            "8.355961 => android\n",
            "9.454573 => api\n",
            "9.454573 => app\n",
            "9.049108 => apple\n",
            "9.454573 => appsall\n",
            "9.454573 => appstore\n",
            "8.068278 => at\n",
            "8.201810 => autofollow\n"
          ]
        }
      ]
    },
    {
      "cell_type": "code",
      "metadata": {
        "id": "PHswAAv37icg"
      },
      "source": [
        "sorted_tokens_with_IDF = sorted(tokens_with_IDF, key=lambda it: (-it[1], it[0]))"
      ],
      "execution_count": 144,
      "outputs": []
    },
    {
      "cell_type": "code",
      "metadata": {
        "id": "OeAcz7hF7id_",
        "colab": {
          "base_uri": "https://localhost:8080/"
        },
        "outputId": "ce615392-8f8d-4347-b57a-b5fe029bf434"
      },
      "source": [
        "for feature, idf in sorted_tokens_with_IDF[0:20]: print('{0:.6f} => {1}'.format(idf, feature))"
      ],
      "execution_count": 145,
      "outputs": [
        {
          "output_type": "stream",
          "name": "stdout",
          "text": [
            "9.454573 => abncapital\n",
            "9.454573 => aday\n",
            "9.454573 => admitad\n",
            "9.454573 => ajhvf\n",
            "9.454573 => aliexpress\n",
            "9.454573 => api\n",
            "9.454573 => app\n",
            "9.454573 => appsall\n",
            "9.454573 => appstore\n",
            "9.454573 => autopaymts\n",
            "9.454573 => back\n",
            "9.454573 => bankvtbнадеяться\n",
            "9.454573 => bash\n",
            "9.454573 => basketballtime\n",
            "9.454573 => best\n",
            "9.454573 => bitcoin\n",
            "9.454573 => bitcoiнлат\n",
            "9.454573 => bitlydqeom\n",
            "9.454573 => bitlydqxom\n",
            "9.454573 => biznews\n"
          ]
        }
      ]
    },
    {
      "cell_type": "markdown",
      "metadata": {
        "id": "Dbo9QM3K8Jk4"
      },
      "source": [
        "\n",
        "\n",
        "---\n",
        "\n",
        "Разделяем тренировочную выборку на 80-20, занимаемся ее сортировкой"
      ]
    },
    {
      "cell_type": "code",
      "metadata": {
        "id": "wFHrH5Ot7ifB"
      },
      "source": [
        "from sklearn.feature_selection import SelectPercentile, chi2"
      ],
      "execution_count": 146,
      "outputs": []
    },
    {
      "cell_type": "code",
      "metadata": {
        "id": "eAEywVEM7ifX"
      },
      "source": [
        "selector = SelectPercentile(chi2, percentile=20)"
      ],
      "execution_count": 147,
      "outputs": []
    },
    {
      "cell_type": "code",
      "metadata": {
        "id": "zbUKS2f27igG",
        "colab": {
          "base_uri": "https://localhost:8080/"
        },
        "outputId": "0abb6543-3532-4c4d-d478-3811bbe683f4"
      },
      "source": [
        "selector.fit(X_transformed, labels)"
      ],
      "execution_count": 148,
      "outputs": [
        {
          "output_type": "execute_result",
          "data": {
            "text/plain": [
              "SelectPercentile(percentile=20, score_func=<function chi2 at 0x7f25895eb950>)"
            ]
          },
          "metadata": {},
          "execution_count": 148
        }
      ]
    },
    {
      "cell_type": "code",
      "metadata": {
        "id": "X75gVCHT7ig8"
      },
      "source": [
        "selected_tokens_with_IDF = [tokens_with_IDF[idx] for idx in selector.get_support(indices=True)]"
      ],
      "execution_count": 149,
      "outputs": []
    },
    {
      "cell_type": "code",
      "metadata": {
        "id": "qMBt3vpW7ikF",
        "colab": {
          "base_uri": "https://localhost:8080/"
        },
        "outputId": "a9bc7881-5859-424e-ac74-609eace689aa"
      },
      "source": [
        "print(len(selected_tokens_with_IDF))"
      ],
      "execution_count": 150,
      "outputs": [
        {
          "output_type": "stream",
          "name": "stdout",
          "text": [
            "1504\n"
          ]
        }
      ]
    },
    {
      "cell_type": "markdown",
      "metadata": {
        "id": "-96j9bMqGQEE"
      },
      "source": [
        "покажем 20 features (признаков) из 20% отобранных методом Хи-квадрат (по алфавиту)"
      ]
    },
    {
      "cell_type": "code",
      "metadata": {
        "id": "OdhL5fnh7ilG",
        "collapsed": true,
        "colab": {
          "base_uri": "https://localhost:8080/"
        },
        "outputId": "0946a222-c12b-41ea-fa2c-1e99c8d0581e"
      },
      "source": [
        "for feature, idf in selected_tokens_with_IDF[0:20]: print('{0:.6f} => {1}'.format(idf, feature))"
      ],
      "execution_count": 151,
      "outputs": [
        {
          "output_type": "stream",
          "name": "stdout",
          "text": [
            "7.375131 => alfabank\n",
            "9.049108 => apple\n",
            "9.454573 => appstore\n",
            "8.761426 => awards\n",
            "8.538282 => boerse\n",
            "9.049108 => brkng\n",
            "9.049108 => cash\n",
            "9.049108 => cemitsvetiс\n",
            "9.049108 => cgi\n",
            "9.454573 => come\n",
            "8.355961 => d\n",
            "9.454573 => diabloiii\n",
            "9.049108 => dkk\n",
            "9.454573 => ekb\n",
            "9.454573 => euro\n",
            "9.049108 => ff\n",
            "7.012226 => finance\n",
            "7.439670 => fitch\n",
            "7.508663 => followback\n",
            "9.049108 => followme\n"
          ]
        }
      ]
    },
    {
      "cell_type": "code",
      "metadata": {
        "id": "MQgZVyMc7imZ"
      },
      "source": [
        "selected_and_sorted_tokens_with_IDF = sorted(selected_tokens_with_IDF, key=lambda it: (-it[1], it[0]))"
      ],
      "execution_count": 152,
      "outputs": []
    },
    {
      "cell_type": "markdown",
      "metadata": {
        "id": "sb4b11FfG1iw"
      },
      "source": [
        "покажем 20 features (признаков) из 20% отобранных методом Хи-квадрат (по idf и по алфавиту) "
      ]
    },
    {
      "cell_type": "code",
      "metadata": {
        "id": "fIWweGb77inM",
        "collapsed": true,
        "colab": {
          "base_uri": "https://localhost:8080/"
        },
        "outputId": "5543cd62-2eda-4183-c46e-7b21fc7e0aba"
      },
      "source": [
        "for feature, idf in selected_and_sorted_tokens_with_IDF[0:20]: print('{0:.6f} => {1}'.format(idf, feature))"
      ],
      "execution_count": 153,
      "outputs": [
        {
          "output_type": "stream",
          "name": "stdout",
          "text": [
            "9.454573 => appstore\n",
            "9.454573 => come\n",
            "9.454573 => diabloiii\n",
            "9.454573 => ekb\n",
            "9.454573 => euro\n",
            "9.454573 => gazetaru\n",
            "9.454573 => hsbc\n",
            "9.454573 => httpstcoiypfjojca\n",
            "9.454573 => httpstcosutgdas\n",
            "9.454573 => httpstcotyhbdxwx\n",
            "9.454573 => iosандроид\n",
            "9.454573 => london\n",
            "9.454573 => lthttp\n",
            "9.454573 => magaziнлат\n",
            "9.454573 => mkru\n",
            "9.454573 => moneynews\n",
            "9.454573 => nalexandrowa\n",
            "9.454573 => newzday\n",
            "9.454573 => nskonline\n",
            "9.454573 => picstitch\n"
          ]
        }
      ]
    },
    {
      "cell_type": "markdown",
      "metadata": {
        "id": "I9DVmj42G-jV"
      },
      "source": [
        "покажем 50 наименее важных features (признаков) из 20% отобранных методом Хи-квадрат (по idf и алфавиту)"
      ]
    },
    {
      "cell_type": "code",
      "metadata": {
        "id": "sK0r5Tqn7ioc",
        "collapsed": true,
        "colab": {
          "base_uri": "https://localhost:8080/"
        },
        "outputId": "b1736874-199b-40f6-da2f-6f6f39f4970e"
      },
      "source": [
        "for feature, idf in selected_and_sorted_tokens_with_IDF[-50:]: print('{0:.6f} => {1}'.format(idf, feature))"
      ],
      "execution_count": 154,
      "outputs": [
        {
          "output_type": "stream",
          "name": "stdout",
          "text": [
            "5.272523 => уралсиб\n",
            "5.242445 => условие\n",
            "5.206078 => банкомат\n",
            "5.198960 => наличный\n",
            "5.164113 => работа\n",
            "5.117282 => миллиард\n",
            "5.110767 => российский\n",
            "5.091474 => автокредит\n",
            "4.994428 => клиент\n",
            "4.960334 => бизнес\n",
            "4.938234 => ставка\n",
            "4.911278 => новость\n",
            "4.885030 => райффайзенбанк\n",
            "4.864516 => калькулятор\n",
            "4.815001 => деньги\n",
            "4.810182 => ипотечный\n",
            "4.791134 => ипотека\n",
            "4.772442 => попасть\n",
            "4.740548 => получить\n",
            "4.700983 => оформить\n",
            "4.688134 => …\n",
            "4.650552 => список\n",
            "4.646462 => рубль\n",
            "4.622267 => ввести\n",
            "4.606456 => заявка\n",
            "4.571771 => против\n",
            "4.527319 => новый\n",
            "4.488238 => под\n",
            "4.414379 => год\n",
            "4.398327 => ес\n",
            "4.339578 => сша\n",
            "4.286934 => потребительский\n",
            "4.247823 => онлайн\n",
            "4.212826 => газпромбанк\n",
            "4.210184 => »\n",
            "4.189295 => «\n",
            "3.708370 => брать\n",
            "3.635975 => кредитный\n",
            "3.619762 => сбербанок\n",
            "3.595212 => санкция\n",
            "3.502629 => альфа\n",
            "3.496148 => вт\n",
            "3.476954 => москва\n",
            "3.329889 => карта\n",
            "3.293366 => россельхозбанк\n",
            "3.158385 => rt\n",
            "3.144655 => втб\n",
            "2.256015 => банк\n",
            "1.994946 => кредит\n",
            "1.366779 => http\n"
          ]
        }
      ]
    },
    {
      "cell_type": "markdown",
      "metadata": {
        "id": "zyzh0EN4JwXY"
      },
      "source": [
        "имеет смысл, что ссылки, названия банков и финансовая лексика имеют меньшую значимость, поскольку они часто поовторяются"
      ]
    },
    {
      "cell_type": "markdown",
      "metadata": {
        "id": "y6QbsKEKcHB-"
      },
      "source": [
        "\n",
        "\n",
        "---\n",
        "\n"
      ]
    }
  ]
}
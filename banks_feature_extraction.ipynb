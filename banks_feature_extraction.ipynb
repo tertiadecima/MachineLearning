{
  "nbformat": 4,
  "nbformat_minor": 0,
  "metadata": {
    "kernelspec": {
      "display_name": "Python 3",
      "language": "python",
      "name": "python3"
    },
    "language_info": {
      "codemirror_mode": {
        "name": "ipython",
        "version": 3
      },
      "file_extension": ".py",
      "mimetype": "text/x-python",
      "name": "python",
      "nbconvert_exporter": "python",
      "pygments_lexer": "ipython3",
      "version": "3.6.9"
    },
    "colab": {
      "name": "banks_feature_extraction",
      "provenance": [],
      "collapsed_sections": [],
      "include_colab_link": true
    }
  },
  "cells": [
    {
      "cell_type": "markdown",
      "metadata": {
        "id": "view-in-github",
        "colab_type": "text"
      },
      "source": [
        "<a href=\"https://colab.research.google.com/github/tertiadecima/MachineLearning/blob/master/banks_feature_extraction.ipynb\" target=\"_parent\"><img src=\"https://colab.research.google.com/assets/colab-badge.svg\" alt=\"Open In Colab\"/></a>"
      ]
    },
    {
      "cell_type": "markdown",
      "metadata": {
        "id": "r0DxSCkdHH_R"
      },
      "source": [
        "# **Алгоритм классификации тональности твита на данных соревнования SentiRuEval-2016**"
      ]
    },
    {
      "cell_type": "markdown",
      "metadata": {
        "id": "ofea3mnXy_OQ"
      },
      "source": [
        "Ниже выписаны мои наблюдения для твитов. Ниже произведена попытка их имплементировать.\n",
        "* \"повы вклад\" дает +\n",
        "* \"повы ипотек\" дает -\n",
        "* \"повы кредит\" дает -\n",
        "* \"сни ипотек\" дает +\n",
        "* \"сни кредит\" дает +\n",
        "* \"санкц\" дает -\n",
        "* \"города\" дают 0\n",
        "* конструкция \"как (можно/легко) (взять/узнать/получить/оформить)\" дает 0\n",
        "* http://co. - idf высокий. значит надо исключить слова с оригинальной частью ссылки. \n",
        "* http и другие телеграм ссылки дают 0\n",
        "* пунктуация, ники пользователей, стоп слова и цифры дают достаточно высокий idf, их исключаем, они не оказывают влияние на тональность"
      ]
    },
    {
      "cell_type": "markdown",
      "metadata": {
        "id": "7b6f0OimHZ1L"
      },
      "source": [
        "# Импорты"
      ]
    },
    {
      "cell_type": "code",
      "metadata": {
        "id": "fclRK319Lj8p",
        "colab": {
          "base_uri": "https://localhost:8080/"
        },
        "collapsed": true,
        "outputId": "f300cecd-f176-47d3-8043-9f700d6052db"
      },
      "source": [
        "from google.colab import drive\n",
        "drive.mount('/content/drive')"
      ],
      "execution_count": 1,
      "outputs": [
        {
          "output_type": "stream",
          "name": "stdout",
          "text": [
            "Mounted at /content/drive\n"
          ]
        }
      ]
    },
    {
      "cell_type": "code",
      "metadata": {
        "id": "wMbvvFkg7iCJ"
      },
      "source": [
        "from lxml import etree"
      ],
      "execution_count": 2,
      "outputs": []
    },
    {
      "cell_type": "code",
      "metadata": {
        "id": "Tq3bY8e77iC_"
      },
      "source": [
        "from typing import List, Tuple"
      ],
      "execution_count": 3,
      "outputs": []
    },
    {
      "cell_type": "code",
      "metadata": {
        "id": "GrphPQuELSYe"
      },
      "source": [
        "import string, re"
      ],
      "execution_count": 4,
      "outputs": []
    },
    {
      "cell_type": "code",
      "metadata": {
        "id": "8Qnfm2I3PbKS",
        "colab": {
          "base_uri": "https://localhost:8080/"
        },
        "collapsed": true,
        "outputId": "d1a09217-3f81-4c76-fd53-4150d435ea2a"
      },
      "source": [
        "%pip install spacy-udpipe"
      ],
      "execution_count": 5,
      "outputs": [
        {
          "output_type": "stream",
          "name": "stdout",
          "text": [
            "Collecting spacy-udpipe\n",
            "  Downloading spacy_udpipe-1.0.0-py3-none-any.whl (11 kB)\n",
            "Collecting spacy<4.0.0,>=3.0.0\n",
            "  Downloading spacy-3.2.0-cp37-cp37m-manylinux_2_17_x86_64.manylinux2014_x86_64.whl (6.0 MB)\n",
            "\u001b[K     |████████████████████████████████| 6.0 MB 5.2 MB/s \n",
            "\u001b[?25hCollecting ufal.udpipe>=1.2.0\n",
            "  Downloading ufal.udpipe-1.2.0.3.tar.gz (304 kB)\n",
            "\u001b[K     |████████████████████████████████| 304 kB 39.5 MB/s \n",
            "\u001b[?25hCollecting srsly<3.0.0,>=2.4.1\n",
            "  Downloading srsly-2.4.2-cp37-cp37m-manylinux_2_17_x86_64.manylinux2014_x86_64.whl (451 kB)\n",
            "\u001b[K     |████████████████████████████████| 451 kB 47.7 MB/s \n",
            "\u001b[?25hRequirement already satisfied: murmurhash<1.1.0,>=0.28.0 in /usr/local/lib/python3.7/dist-packages (from spacy<4.0.0,>=3.0.0->spacy-udpipe) (1.0.6)\n",
            "Requirement already satisfied: numpy>=1.15.0 in /usr/local/lib/python3.7/dist-packages (from spacy<4.0.0,>=3.0.0->spacy-udpipe) (1.19.5)\n",
            "Requirement already satisfied: setuptools in /usr/local/lib/python3.7/dist-packages (from spacy<4.0.0,>=3.0.0->spacy-udpipe) (57.4.0)\n",
            "Collecting typer<0.5.0,>=0.3.0\n",
            "  Downloading typer-0.4.0-py3-none-any.whl (27 kB)\n",
            "Requirement already satisfied: requests<3.0.0,>=2.13.0 in /usr/local/lib/python3.7/dist-packages (from spacy<4.0.0,>=3.0.0->spacy-udpipe) (2.23.0)\n",
            "Requirement already satisfied: blis<0.8.0,>=0.4.0 in /usr/local/lib/python3.7/dist-packages (from spacy<4.0.0,>=3.0.0->spacy-udpipe) (0.4.1)\n",
            "Collecting langcodes<4.0.0,>=3.2.0\n",
            "  Downloading langcodes-3.3.0-py3-none-any.whl (181 kB)\n",
            "\u001b[K     |████████████████████████████████| 181 kB 57.9 MB/s \n",
            "\u001b[?25hRequirement already satisfied: tqdm<5.0.0,>=4.38.0 in /usr/local/lib/python3.7/dist-packages (from spacy<4.0.0,>=3.0.0->spacy-udpipe) (4.62.3)\n",
            "Requirement already satisfied: preshed<3.1.0,>=3.0.2 in /usr/local/lib/python3.7/dist-packages (from spacy<4.0.0,>=3.0.0->spacy-udpipe) (3.0.6)\n",
            "Collecting catalogue<2.1.0,>=2.0.6\n",
            "  Downloading catalogue-2.0.6-py3-none-any.whl (17 kB)\n",
            "Collecting pydantic!=1.8,!=1.8.1,<1.9.0,>=1.7.4\n",
            "  Downloading pydantic-1.8.2-cp37-cp37m-manylinux2014_x86_64.whl (10.1 MB)\n",
            "\u001b[K     |████████████████████████████████| 10.1 MB 40.2 MB/s \n",
            "\u001b[?25hCollecting spacy-loggers<2.0.0,>=1.0.0\n",
            "  Downloading spacy_loggers-1.0.1-py3-none-any.whl (7.0 kB)\n",
            "Collecting pathy>=0.3.5\n",
            "  Downloading pathy-0.6.1-py3-none-any.whl (42 kB)\n",
            "\u001b[K     |████████████████████████████████| 42 kB 1.2 MB/s \n",
            "\u001b[?25hCollecting spacy-legacy<3.1.0,>=3.0.8\n",
            "  Downloading spacy_legacy-3.0.8-py2.py3-none-any.whl (14 kB)\n",
            "Collecting thinc<8.1.0,>=8.0.12\n",
            "  Downloading thinc-8.0.13-cp37-cp37m-manylinux_2_17_x86_64.manylinux2014_x86_64.whl (628 kB)\n",
            "\u001b[K     |████████████████████████████████| 628 kB 59.9 MB/s \n",
            "\u001b[?25hRequirement already satisfied: packaging>=20.0 in /usr/local/lib/python3.7/dist-packages (from spacy<4.0.0,>=3.0.0->spacy-udpipe) (21.3)\n",
            "Requirement already satisfied: typing-extensions<4.0.0.0,>=3.7.4 in /usr/local/lib/python3.7/dist-packages (from spacy<4.0.0,>=3.0.0->spacy-udpipe) (3.10.0.2)\n",
            "Requirement already satisfied: cymem<2.1.0,>=2.0.2 in /usr/local/lib/python3.7/dist-packages (from spacy<4.0.0,>=3.0.0->spacy-udpipe) (2.0.6)\n",
            "Requirement already satisfied: wasabi<1.1.0,>=0.8.1 in /usr/local/lib/python3.7/dist-packages (from spacy<4.0.0,>=3.0.0->spacy-udpipe) (0.8.2)\n",
            "Requirement already satisfied: jinja2 in /usr/local/lib/python3.7/dist-packages (from spacy<4.0.0,>=3.0.0->spacy-udpipe) (2.11.3)\n",
            "Requirement already satisfied: zipp>=0.5 in /usr/local/lib/python3.7/dist-packages (from catalogue<2.1.0,>=2.0.6->spacy<4.0.0,>=3.0.0->spacy-udpipe) (3.6.0)\n",
            "Requirement already satisfied: pyparsing!=3.0.5,>=2.0.2 in /usr/local/lib/python3.7/dist-packages (from packaging>=20.0->spacy<4.0.0,>=3.0.0->spacy-udpipe) (3.0.6)\n",
            "Requirement already satisfied: smart-open<6.0.0,>=5.0.0 in /usr/local/lib/python3.7/dist-packages (from pathy>=0.3.5->spacy<4.0.0,>=3.0.0->spacy-udpipe) (5.2.1)\n",
            "Requirement already satisfied: idna<3,>=2.5 in /usr/local/lib/python3.7/dist-packages (from requests<3.0.0,>=2.13.0->spacy<4.0.0,>=3.0.0->spacy-udpipe) (2.10)\n",
            "Requirement already satisfied: urllib3!=1.25.0,!=1.25.1,<1.26,>=1.21.1 in /usr/local/lib/python3.7/dist-packages (from requests<3.0.0,>=2.13.0->spacy<4.0.0,>=3.0.0->spacy-udpipe) (1.24.3)\n",
            "Requirement already satisfied: chardet<4,>=3.0.2 in /usr/local/lib/python3.7/dist-packages (from requests<3.0.0,>=2.13.0->spacy<4.0.0,>=3.0.0->spacy-udpipe) (3.0.4)\n",
            "Requirement already satisfied: certifi>=2017.4.17 in /usr/local/lib/python3.7/dist-packages (from requests<3.0.0,>=2.13.0->spacy<4.0.0,>=3.0.0->spacy-udpipe) (2021.10.8)\n",
            "Requirement already satisfied: click<9.0.0,>=7.1.1 in /usr/local/lib/python3.7/dist-packages (from typer<0.5.0,>=0.3.0->spacy<4.0.0,>=3.0.0->spacy-udpipe) (7.1.2)\n",
            "Requirement already satisfied: MarkupSafe>=0.23 in /usr/local/lib/python3.7/dist-packages (from jinja2->spacy<4.0.0,>=3.0.0->spacy-udpipe) (2.0.1)\n",
            "Building wheels for collected packages: ufal.udpipe\n",
            "  Building wheel for ufal.udpipe (setup.py) ... \u001b[?25l\u001b[?25hdone\n",
            "  Created wheel for ufal.udpipe: filename=ufal.udpipe-1.2.0.3-cp37-cp37m-linux_x86_64.whl size=5626742 sha256=be01f26e1b76fcb6c0df3f397e376b1848d32e99793f6cd0e256036c881cc5d5\n",
            "  Stored in directory: /root/.cache/pip/wheels/b8/b5/8e/3da091629a21ce2d10bf90759d0cb034ba10a5cf7a01e83d64\n",
            "Successfully built ufal.udpipe\n",
            "Installing collected packages: catalogue, typer, srsly, pydantic, thinc, spacy-loggers, spacy-legacy, pathy, langcodes, ufal.udpipe, spacy, spacy-udpipe\n",
            "  Attempting uninstall: catalogue\n",
            "    Found existing installation: catalogue 1.0.0\n",
            "    Uninstalling catalogue-1.0.0:\n",
            "      Successfully uninstalled catalogue-1.0.0\n",
            "  Attempting uninstall: srsly\n",
            "    Found existing installation: srsly 1.0.5\n",
            "    Uninstalling srsly-1.0.5:\n",
            "      Successfully uninstalled srsly-1.0.5\n",
            "  Attempting uninstall: thinc\n",
            "    Found existing installation: thinc 7.4.0\n",
            "    Uninstalling thinc-7.4.0:\n",
            "      Successfully uninstalled thinc-7.4.0\n",
            "  Attempting uninstall: spacy\n",
            "    Found existing installation: spacy 2.2.4\n",
            "    Uninstalling spacy-2.2.4:\n",
            "      Successfully uninstalled spacy-2.2.4\n",
            "Successfully installed catalogue-2.0.6 langcodes-3.3.0 pathy-0.6.1 pydantic-1.8.2 spacy-3.2.0 spacy-legacy-3.0.8 spacy-loggers-1.0.1 spacy-udpipe-1.0.0 srsly-2.4.2 thinc-8.0.13 typer-0.4.0 ufal.udpipe-1.2.0.3\n"
          ]
        }
      ]
    },
    {
      "cell_type": "code",
      "metadata": {
        "id": "WR6R1g6uQaJM"
      },
      "source": [
        "import spacy_udpipe"
      ],
      "execution_count": 6,
      "outputs": []
    },
    {
      "cell_type": "code",
      "metadata": {
        "id": "qq_pmJ17V9aU",
        "colab": {
          "base_uri": "https://localhost:8080/"
        },
        "collapsed": true,
        "outputId": "a5753148-2fb2-43f9-9160-bcae353c7387"
      },
      "source": [
        "%pip install pymorphy2==0.8"
      ],
      "execution_count": 7,
      "outputs": [
        {
          "output_type": "stream",
          "name": "stdout",
          "text": [
            "Collecting pymorphy2==0.8\n",
            "  Downloading pymorphy2-0.8-py2.py3-none-any.whl (46 kB)\n",
            "\u001b[?25l\r\u001b[K     |███████                         | 10 kB 22.3 MB/s eta 0:00:01\r\u001b[K     |██████████████▏                 | 20 kB 28.1 MB/s eta 0:00:01\r\u001b[K     |█████████████████████▎          | 30 kB 12.3 MB/s eta 0:00:01\r\u001b[K     |████████████████████████████▍   | 40 kB 9.6 MB/s eta 0:00:01\r\u001b[K     |████████████████████████████████| 46 kB 1.9 MB/s \n",
            "\u001b[?25hCollecting dawg-python>=0.7\n",
            "  Downloading DAWG_Python-0.7.2-py2.py3-none-any.whl (11 kB)\n",
            "Requirement already satisfied: docopt>=0.6 in /usr/local/lib/python3.7/dist-packages (from pymorphy2==0.8) (0.6.2)\n",
            "Collecting pymorphy2-dicts<3.0,>=2.4\n",
            "  Downloading pymorphy2_dicts-2.4.393442.3710985-py2.py3-none-any.whl (7.1 MB)\n",
            "\u001b[K     |████████████████████████████████| 7.1 MB 11.8 MB/s \n",
            "\u001b[?25hInstalling collected packages: pymorphy2-dicts, dawg-python, pymorphy2\n",
            "Successfully installed dawg-python-0.7.2 pymorphy2-0.8 pymorphy2-dicts-2.4.393442.3710985\n"
          ]
        }
      ]
    },
    {
      "cell_type": "code",
      "metadata": {
        "id": "GwPO10FKQrBT",
        "colab": {
          "base_uri": "https://localhost:8080/"
        },
        "collapsed": true,
        "outputId": "d124b678-540e-47e4-cc67-57253245715e"
      },
      "source": [
        "spacy_udpipe.download(\"ru-syntagrus\") \n",
        "nlp = spacy_udpipe.load(\"ru-syntagrus\")"
      ],
      "execution_count": 8,
      "outputs": [
        {
          "output_type": "stream",
          "name": "stdout",
          "text": [
            "Downloaded pre-trained UDPipe model for 'ru-syntagrus' language\n"
          ]
        }
      ]
    },
    {
      "cell_type": "markdown",
      "metadata": {
        "id": "eeBClqYfvIK0"
      },
      "source": [
        "\n",
        "\n",
        "---\n",
        "\n",
        "# Загрузка, лемматизация и очистка корпуса"
      ]
    },
    {
      "cell_type": "code",
      "metadata": {
        "id": "TfbzzENqQ1fw"
      },
      "source": [
        "def rubbish_deleter(s):\n",
        "  lemmas = []\n",
        "  for token in nlp(s):\n",
        "    if token.is_stop or token.pos_==\"X\": # проверка на стоп слово\n",
        "      pass\n",
        "    else:\n",
        "      lemmas.append(token.lemma_) # тут слова лемматизируются с помощью spacy\n",
        "  s_lemmd = ' '.join(lemmas)                                                \n",
        "  webs = '((?<=http:\\/\\/)t\\.\\S+\\.?\\S+[\\s^\\v]?)'\n",
        "  nums = '(\\d+[\\s^\\v]?)'\n",
        "  names = '(@\\S+)'\n",
        "  re_webs = re.compile(webs)                                    # Ссылки\n",
        "  re_names = re.compile(names)                                  # Ники\n",
        "  re_pnct = re.compile('[%s]' % re.escape(string.punctuation))  # Пунктуация\n",
        "  re_nums = re.compile(nums)                                    # Числа\n",
        "  s_dewebbed = re_webs.sub(' ', s_lemmd)\n",
        "  s_denamed = re_names.sub('', s_dewebbed)\n",
        "  s_stripped = re_pnct.sub('', s_denamed)\n",
        "  s_denummed = re_nums.sub('', s_stripped)\n",
        "  \n",
        "  return s_denummed"
      ],
      "execution_count": 9,
      "outputs": []
    },
    {
      "cell_type": "code",
      "metadata": {
        "id": "IgiXZ7SX7iF_"
      },
      "source": [
        "def load_sentirueval_2016(file_name: str) -> Tuple[List[str], List[str]]:\n",
        "    texts = []\n",
        "    labels = []\n",
        "    with open(file_name, mode='rb') as fp:\n",
        "        xml_data = fp.read()\n",
        "    root = etree.fromstring(xml_data)\n",
        "    for database in root.getchildren():\n",
        "        if database.tag == 'database':\n",
        "            for table in database.getchildren():\n",
        "                if table.tag != 'table':\n",
        "                    continue\n",
        "                new_text = None\n",
        "                new_label = None\n",
        "                for column in table.getchildren():\n",
        "                    if column.get('name') == 'text':\n",
        "                        new_text = rubbish_deleter(column.text) # дополнено функцией тут\n",
        "                        if new_label is not None:\n",
        "                            break\n",
        "                    elif column.get('name') not in {'id', 'twitid', 'date'}:\n",
        "                        if new_label is None:\n",
        "                            label_candidate = str(column.text).strip()\n",
        "                            if label_candidate in {'0', '1', '-1'}:\n",
        "                                new_label = 'negative' if label_candidate == '-1' else \\\n",
        "                                    ('positive' if label_candidate == '1' else 'neutral')\n",
        "                                if new_text is not None:\n",
        "                                    break\n",
        "                if (new_text is None) or (new_label is None):\n",
        "                    raise ValueError('File `{0}` contains some error!'.format(file_name))\n",
        "                texts.append(new_text)\n",
        "                labels.append(new_label)\n",
        "            break\n",
        "    return texts, labels"
      ],
      "execution_count": 10,
      "outputs": []
    },
    {
      "cell_type": "code",
      "metadata": {
        "id": "UwJe0omSMhh2"
      },
      "source": [
        "fXML_train = '/content/drive/My Drive/Colab Notebooks/bank_train_2016.xml'\n",
        "fXML_test = '/content/drive/My Drive/Colab Notebooks/banks_test_etalon.xml'"
      ],
      "execution_count": 11,
      "outputs": []
    },
    {
      "cell_type": "code",
      "metadata": {
        "id": "faDu3TvX7iKR"
      },
      "source": [
        "texts, labels = load_sentirueval_2016(fXML_train)\n",
        "texts_test, labels_test = load_sentirueval_2016(fXML_test)"
      ],
      "execution_count": 12,
      "outputs": []
    },
    {
      "cell_type": "code",
      "metadata": {
        "id": "_aAKVRrF7iLO",
        "colab": {
          "base_uri": "https://localhost:8080/"
        },
        "collapsed": true,
        "outputId": "68f6ee61-a99a-4da4-f833-c6df4bfdca63"
      },
      "source": [
        "print('Number of texts is {0}, number of labels is {1}.'.format(len(texts), len(labels)))"
      ],
      "execution_count": 13,
      "outputs": [
        {
          "output_type": "stream",
          "name": "stdout",
          "text": [
            "Number of texts is 9392, number of labels is 9392.\n"
          ]
        }
      ]
    },
    {
      "cell_type": "markdown",
      "metadata": {
        "id": "WWKEwvP7tVVa"
      },
      "source": [
        "\n",
        "\n",
        "---\n",
        "\n",
        "# Векторизация через Count"
      ]
    },
    {
      "cell_type": "code",
      "metadata": {
        "id": "nht9YJf47iPW"
      },
      "source": [
        "from nltk import word_tokenize\n",
        "from sklearn.feature_extraction.text import CountVectorizer\n",
        "vectorizer = CountVectorizer(lowercase=True, tokenizer=word_tokenize) # создаем экземпляр класса CV"
      ],
      "execution_count": 14,
      "outputs": []
    },
    {
      "cell_type": "code",
      "metadata": {
        "id": "ail6283pJNTt",
        "colab": {
          "base_uri": "https://localhost:8080/"
        },
        "collapsed": true,
        "outputId": "7542d576-c386-4a70-cd20-bbb2a7242a8b"
      },
      "source": [
        "import nltk\n",
        "nltk.download('punkt')"
      ],
      "execution_count": 15,
      "outputs": [
        {
          "output_type": "stream",
          "name": "stdout",
          "text": [
            "[nltk_data] Downloading package punkt to /root/nltk_data...\n",
            "[nltk_data]   Unzipping tokenizers/punkt.zip.\n"
          ]
        },
        {
          "output_type": "execute_result",
          "data": {
            "text/plain": [
              "True"
            ]
          },
          "metadata": {},
          "execution_count": 15
        }
      ]
    },
    {
      "cell_type": "code",
      "metadata": {
        "id": "IaITNnmZ7iQ_",
        "colab": {
          "base_uri": "https://localhost:8080/"
        },
        "collapsed": true,
        "outputId": "ab2edfac-c4f8-4f44-ebe3-0f274d08635f"
      },
      "source": [
        "vectorizer.fit(texts) # вызываем функцию fit() для обучения словам"
      ],
      "execution_count": 16,
      "outputs": [
        {
          "output_type": "stream",
          "name": "stderr",
          "text": [
            "/usr/local/lib/python3.7/dist-packages/sklearn/feature_extraction/text.py:517: UserWarning: The parameter 'token_pattern' will not be used since 'tokenizer' is not None'\n",
            "  \"The parameter 'token_pattern' will not be used\"\n"
          ]
        },
        {
          "output_type": "execute_result",
          "data": {
            "text/plain": [
              "CountVectorizer(tokenizer=<function word_tokenize at 0x7f216beb0d40>)"
            ]
          },
          "metadata": {},
          "execution_count": 16
        }
      ]
    },
    {
      "cell_type": "code",
      "metadata": {
        "id": "5YJyRaC-7iRc",
        "colab": {
          "base_uri": "https://localhost:8080/"
        },
        "collapsed": true,
        "outputId": "50577e94-016d-424b-ab36-49ae62e881fb"
      },
      "source": [
        "print(vectorizer.get_feature_names()[0:20])"
      ],
      "execution_count": 17,
      "outputs": [
        {
          "output_type": "stream",
          "name": "stdout",
          "text": [
            "['a', 'ag', 'agrob', 'alfa', 'alfabank', 'alfaclick', 'aliexpress', 'amp', 'android', 'api', 'apple', 'appsall', 'appstore', 'at', 'autofollow', 'autofollowback', 'awards', 'bandicoot', 'bank', 'banki']\n"
          ]
        },
        {
          "output_type": "stream",
          "name": "stderr",
          "text": [
            "/usr/local/lib/python3.7/dist-packages/sklearn/utils/deprecation.py:87: FutureWarning: Function get_feature_names is deprecated; get_feature_names is deprecated in 1.0 and will be removed in 1.2. Please use get_feature_names_out instead.\n",
            "  warnings.warn(msg, category=FutureWarning)\n"
          ]
        }
      ]
    },
    {
      "cell_type": "code",
      "metadata": {
        "id": "rBeV8qt67iR_",
        "colab": {
          "base_uri": "https://localhost:8080/"
        },
        "collapsed": true,
        "outputId": "a314e3ba-53e0-4ddf-ad3e-810d5f7e93d6"
      },
      "source": [
        "print(len(vectorizer.get_feature_names()))"
      ],
      "execution_count": 18,
      "outputs": [
        {
          "output_type": "stream",
          "name": "stdout",
          "text": [
            "7312\n"
          ]
        },
        {
          "output_type": "stream",
          "name": "stderr",
          "text": [
            "/usr/local/lib/python3.7/dist-packages/sklearn/utils/deprecation.py:87: FutureWarning: Function get_feature_names is deprecated; get_feature_names is deprecated in 1.0 and will be removed in 1.2. Please use get_feature_names_out instead.\n",
            "  warnings.warn(msg, category=FutureWarning)\n"
          ]
        }
      ]
    },
    {
      "cell_type": "code",
      "metadata": {
        "id": "sEvQt-A27iT0"
      },
      "source": [
        "X = vectorizer.transform(texts) # вызываем функцию transform() для кодирования твитов как векторов"
      ],
      "execution_count": 19,
      "outputs": []
    },
    {
      "cell_type": "code",
      "metadata": {
        "id": "pFkmf9OM7iU5",
        "collapsed": true,
        "colab": {
          "base_uri": "https://localhost:8080/"
        },
        "outputId": "7eeb14bd-8b12-433b-bd11-2adc426496ba"
      },
      "source": [
        "print(type(X)) # получаем матрицу для дальнейшего использования"
      ],
      "execution_count": 20,
      "outputs": [
        {
          "output_type": "stream",
          "name": "stdout",
          "text": [
            "<class 'scipy.sparse.csr.csr_matrix'>\n"
          ]
        }
      ]
    },
    {
      "cell_type": "code",
      "metadata": {
        "id": "xW1uwTdL7iVN",
        "colab": {
          "base_uri": "https://localhost:8080/"
        },
        "collapsed": true,
        "outputId": "12233ccd-9077-4991-afd0-b60724d648ae"
      },
      "source": [
        "print(texts[0])"
      ],
      "execution_count": 21,
      "outputs": [
        {
          "output_type": "stream",
          "name": "stdout",
          "text": [
            "http брать кредит тюмень альфа банк\n"
          ]
        }
      ]
    },
    {
      "cell_type": "code",
      "metadata": {
        "id": "_4287I9_7iVm",
        "collapsed": true,
        "colab": {
          "base_uri": "https://localhost:8080/"
        },
        "outputId": "1ac29e42-e09b-49a1-aba6-ea134fa1658e"
      },
      "source": [
        "print(X[0]) # (номер предложения, номер слова) кол-во слова в предложении (вектор слова?)"
      ],
      "execution_count": 22,
      "outputs": [
        {
          "output_type": "stream",
          "name": "stdout",
          "text": [
            "  (0, 115)\t1\n",
            "  (0, 472)\t1\n",
            "  (0, 621)\t1\n",
            "  (0, 802)\t1\n",
            "  (0, 2753)\t1\n",
            "  (0, 6508)\t1\n"
          ]
        }
      ]
    },
    {
      "cell_type": "code",
      "metadata": {
        "id": "Z-guRjOV7iV7",
        "colab": {
          "base_uri": "https://localhost:8080/"
        },
        "collapsed": true,
        "outputId": "5541a6fe-2cf5-4682-f29d-140304c512d5"
      },
      "source": [
        "print(vectorizer.get_feature_names()[6321])"
      ],
      "execution_count": 23,
      "outputs": [
        {
          "output_type": "stream",
          "name": "stdout",
          "text": [
            "телекарта\n"
          ]
        },
        {
          "output_type": "stream",
          "name": "stderr",
          "text": [
            "/usr/local/lib/python3.7/dist-packages/sklearn/utils/deprecation.py:87: FutureWarning: Function get_feature_names is deprecated; get_feature_names is deprecated in 1.0 and will be removed in 1.2. Please use get_feature_names_out instead.\n",
            "  warnings.warn(msg, category=FutureWarning)\n"
          ]
        }
      ]
    },
    {
      "cell_type": "markdown",
      "metadata": {
        "id": "D34TQyOBuFKA"
      },
      "source": [
        "\n",
        "\n",
        "---\n",
        "# Векторизация через tf-id"
      ]
    },
    {
      "cell_type": "code",
      "metadata": {
        "id": "mMk0M6YH7iXZ"
      },
      "source": [
        "from sklearn.feature_extraction.text import TfidfTransformer # используем трансформер на матрице (после countvectorizer), vectorizer сам по себе "
      ],
      "execution_count": 24,
      "outputs": []
    },
    {
      "cell_type": "code",
      "metadata": {
        "id": "3P28BOfN7iXs"
      },
      "source": [
        "transformer = TfidfTransformer().fit(X)"
      ],
      "execution_count": 25,
      "outputs": []
    },
    {
      "cell_type": "code",
      "metadata": {
        "id": "8YqmfAd77iX9"
      },
      "source": [
        "X_transformed = transformer.transform(X)"
      ],
      "execution_count": 26,
      "outputs": []
    },
    {
      "cell_type": "code",
      "metadata": {
        "id": "HHm053jT7iYS",
        "colab": {
          "base_uri": "https://localhost:8080/"
        },
        "collapsed": true,
        "outputId": "1f5e512f-439e-4f82-967f-57c39699ed3c"
      },
      "source": [
        "print(X_transformed[0]) # (предложение, номер слова) тф"
      ],
      "execution_count": 27,
      "outputs": [
        {
          "output_type": "stream",
          "name": "stdout",
          "text": [
            "  (0, 6508)\t0.7538319201702378\n",
            "  (0, 2753)\t0.21446171098236816\n",
            "  (0, 802)\t0.39865906884440105\n",
            "  (0, 621)\t0.2425273277942924\n",
            "  (0, 472)\t0.3765414367390165\n",
            "  (0, 115)\t0.16189996656750633\n"
          ]
        }
      ]
    },
    {
      "cell_type": "code",
      "metadata": {
        "colab": {
          "base_uri": "https://localhost:8080/"
        },
        "id": "bqoewKSFwDwZ",
        "collapsed": true,
        "outputId": "85cec48e-5529-484b-f7d6-31e435d6fd96"
      },
      "source": [
        "print(X_transformed.shape) # (к-во предложений, к-во слов)"
      ],
      "execution_count": 28,
      "outputs": [
        {
          "output_type": "stream",
          "name": "stdout",
          "text": [
            "(9392, 7312)\n"
          ]
        }
      ]
    },
    {
      "cell_type": "code",
      "metadata": {
        "id": "Yel9hQaM7iZY",
        "collapsed": true,
        "colab": {
          "base_uri": "https://localhost:8080/"
        },
        "outputId": "03042b43-7bc1-43c6-9206-a9f0bc7d27a1"
      },
      "source": [
        "print(vectorizer.get_feature_names()[7199])"
      ],
      "execution_count": 29,
      "outputs": [
        {
          "output_type": "stream",
          "name": "stdout",
          "text": [
            "электругой\n"
          ]
        },
        {
          "output_type": "stream",
          "name": "stderr",
          "text": [
            "/usr/local/lib/python3.7/dist-packages/sklearn/utils/deprecation.py:87: FutureWarning: Function get_feature_names is deprecated; get_feature_names is deprecated in 1.0 and will be removed in 1.2. Please use get_feature_names_out instead.\n",
            "  warnings.warn(msg, category=FutureWarning)\n"
          ]
        }
      ]
    },
    {
      "cell_type": "code",
      "metadata": {
        "id": "Cpgk4JQd7iaE",
        "colab": {
          "base_uri": "https://localhost:8080/"
        },
        "collapsed": true,
        "outputId": "87a6ed07-f689-431d-cd3b-b61e2c48af39"
      },
      "source": [
        "# получаем список таплов (слово, его idf)\n",
        "tokens_with_IDF = list(zip(vectorizer.get_feature_names(), transformer.idf_))"
      ],
      "execution_count": 30,
      "outputs": [
        {
          "output_type": "stream",
          "name": "stderr",
          "text": [
            "/usr/local/lib/python3.7/dist-packages/sklearn/utils/deprecation.py:87: FutureWarning: Function get_feature_names is deprecated; get_feature_names is deprecated in 1.0 and will be removed in 1.2. Please use get_feature_names_out instead.\n",
            "  warnings.warn(msg, category=FutureWarning)\n"
          ]
        }
      ]
    },
    {
      "cell_type": "code",
      "metadata": {
        "id": "w0hV2JB37iam",
        "colab": {
          "base_uri": "https://localhost:8080/"
        },
        "outputId": "1f547b89-79d6-46a2-d288-31cfa27e1c46"
      },
      "source": [
        "for feature, idf in tokens_with_IDF[0:20]: print('{0:.6f} => {1}'.format(idf, feature))"
      ],
      "execution_count": 31,
      "outputs": [
        {
          "output_type": "stream",
          "name": "stdout",
          "text": [
            "9.454573 => a\n",
            "9.049108 => ag\n",
            "9.049108 => agrob\n",
            "9.049108 => alfa\n",
            "9.049108 => alfabank\n",
            "9.049108 => alfaclick\n",
            "9.454573 => aliexpress\n",
            "8.355961 => amp\n",
            "8.761426 => android\n",
            "9.454573 => api\n",
            "9.049108 => apple\n",
            "9.454573 => appsall\n",
            "9.454573 => appstore\n",
            "9.454573 => at\n",
            "9.049108 => autofollow\n",
            "8.761426 => autofollowback\n",
            "8.761426 => awards\n",
            "9.049108 => bandicoot\n",
            "9.049108 => bank\n",
            "9.454573 => banki\n"
          ]
        }
      ]
    },
    {
      "cell_type": "code",
      "metadata": {
        "id": "PHswAAv37icg"
      },
      "source": [
        "sorted_tokens_with_IDF = sorted(tokens_with_IDF, key=lambda it: (-it[1], it[0]))"
      ],
      "execution_count": 32,
      "outputs": []
    },
    {
      "cell_type": "code",
      "metadata": {
        "id": "OeAcz7hF7id_",
        "colab": {
          "base_uri": "https://localhost:8080/"
        },
        "collapsed": true,
        "outputId": "0d8778cc-8f4b-4682-cc03-4a9876eef175"
      },
      "source": [
        "for feature, idf in sorted_tokens_with_IDF[0:20]: print('{0:.6f} => {1}'.format(idf, feature))"
      ],
      "execution_count": 33,
      "outputs": [
        {
          "output_type": "stream",
          "name": "stdout",
          "text": [
            "9.454573 => a\n",
            "9.454573 => aliexpress\n",
            "9.454573 => api\n",
            "9.454573 => appsall\n",
            "9.454573 => appstore\n",
            "9.454573 => at\n",
            "9.454573 => banki\n",
            "9.454573 => banking\n",
            "9.454573 => bankvtbнадеяться\n",
            "9.454573 => bitlydqeom\n",
            "9.454573 => bitlydqxom\n",
            "9.454573 => biznews\n",
            "9.454573 => blatt\n",
            "9.454573 => bump\n",
            "9.454573 => callцентр\n",
            "9.454573 => callцентра\n",
            "9.454573 => camp\n",
            "9.454573 => card\n",
            "9.454573 => cash\n",
            "9.454573 => chelyabinsk\n"
          ]
        }
      ]
    },
    {
      "cell_type": "markdown",
      "metadata": {
        "id": "Dbo9QM3K8Jk4"
      },
      "source": [
        "\n",
        "\n",
        "---\n",
        "\n",
        "# Разделяем тренировочную выборку на 80-20, занимаемся ее сортировкой"
      ]
    },
    {
      "cell_type": "code",
      "metadata": {
        "id": "wFHrH5Ot7ifB"
      },
      "source": [
        "from sklearn.feature_selection import SelectPercentile, chi2"
      ],
      "execution_count": 34,
      "outputs": []
    },
    {
      "cell_type": "code",
      "metadata": {
        "id": "eAEywVEM7ifX"
      },
      "source": [
        "selector = SelectPercentile(chi2, percentile=20)"
      ],
      "execution_count": 35,
      "outputs": []
    },
    {
      "cell_type": "code",
      "metadata": {
        "id": "zbUKS2f27igG",
        "colab": {
          "base_uri": "https://localhost:8080/"
        },
        "outputId": "486e130d-9e82-4407-ec0b-bb53c9692e4c"
      },
      "source": [
        "selector.fit(X_transformed, labels)"
      ],
      "execution_count": 36,
      "outputs": [
        {
          "output_type": "execute_result",
          "data": {
            "text/plain": [
              "SelectPercentile(percentile=20, score_func=<function chi2 at 0x7f216b2f4200>)"
            ]
          },
          "metadata": {},
          "execution_count": 36
        }
      ]
    },
    {
      "cell_type": "code",
      "metadata": {
        "id": "X75gVCHT7ig8"
      },
      "source": [
        "selected_tokens_with_IDF = [tokens_with_IDF[idx] for idx in selector.get_support(indices=True)]"
      ],
      "execution_count": 37,
      "outputs": []
    },
    {
      "cell_type": "code",
      "metadata": {
        "id": "qMBt3vpW7ikF",
        "colab": {
          "base_uri": "https://localhost:8080/"
        },
        "outputId": "32092201-4ccf-4c39-c047-d34f159c4ae0"
      },
      "source": [
        "print(len(selected_tokens_with_IDF))"
      ],
      "execution_count": 38,
      "outputs": [
        {
          "output_type": "stream",
          "name": "stdout",
          "text": [
            "1463\n"
          ]
        }
      ]
    },
    {
      "cell_type": "markdown",
      "metadata": {
        "id": "-96j9bMqGQEE"
      },
      "source": [
        "покажем 20 features (признаков) из 20% отобранных методом Хи-квадрат (по алфавиту)"
      ]
    },
    {
      "cell_type": "code",
      "metadata": {
        "id": "OdhL5fnh7ilG",
        "colab": {
          "base_uri": "https://localhost:8080/"
        },
        "outputId": "31df95fe-ffc3-4f78-a576-fb35e7d0090e"
      },
      "source": [
        "for feature, idf in selected_tokens_with_IDF[0:20]: print('{0:.6f} => {1}'.format(idf, feature))"
      ],
      "execution_count": 39,
      "outputs": [
        {
          "output_type": "stream",
          "name": "stdout",
          "text": [
            "9.049108 => apple\n",
            "9.454573 => appstore\n",
            "9.049108 => autofollow\n",
            "8.761426 => awards\n",
            "8.538282 => boerse\n",
            "9.049108 => brkng\n",
            "9.049108 => cemitsvetiс\n",
            "9.049108 => cgi\n",
            "9.454573 => come\n",
            "8.355961 => d\n",
            "9.454573 => diabloiii\n",
            "9.454573 => ekb\n",
            "9.049108 => electron\n",
            "9.049108 => ff\n",
            "8.538282 => ffru\n",
            "7.056678 => finance\n",
            "7.439670 => fitch\n",
            "8.355961 => followback\n",
            "9.049108 => ft\n",
            "7.845135 => ftse\n"
          ]
        }
      ]
    },
    {
      "cell_type": "code",
      "metadata": {
        "id": "MQgZVyMc7imZ"
      },
      "source": [
        "selected_and_sorted_tokens_with_IDF = sorted(selected_tokens_with_IDF, key=lambda it: (-it[1], it[0]))"
      ],
      "execution_count": 40,
      "outputs": []
    },
    {
      "cell_type": "markdown",
      "metadata": {
        "id": "sb4b11FfG1iw"
      },
      "source": [
        "покажем 20 features (признаков) из 20% отобранных методом Хи-квадрат (по idf и по алфавиту) "
      ]
    },
    {
      "cell_type": "code",
      "metadata": {
        "id": "fIWweGb77inM",
        "collapsed": true,
        "colab": {
          "base_uri": "https://localhost:8080/"
        },
        "outputId": "a7bed55a-627c-4b2c-90d7-428fe31fa9e9"
      },
      "source": [
        "for feature, idf in selected_and_sorted_tokens_with_IDF[0:20]: print('{0:.6f} => {1}'.format(idf, feature))"
      ],
      "execution_count": 41,
      "outputs": [
        {
          "output_type": "stream",
          "name": "stdout",
          "text": [
            "9.454573 => appstore\n",
            "9.454573 => come\n",
            "9.454573 => diabloiii\n",
            "9.454573 => ekb\n",
            "9.454573 => hsbc\n",
            "9.454573 => httpstcoiypfjojca\n",
            "9.454573 => httpstcosutgdas\n",
            "9.454573 => httpstcotyhbdxwx\n",
            "9.454573 => iosандроид\n",
            "9.454573 => london\n",
            "9.454573 => lthttp\n",
            "9.454573 => mobile\n",
            "9.454573 => moneynews\n",
            "9.454573 => nalexandrowa\n",
            "9.454573 => play\n",
            "9.454573 => plc\n",
            "9.454573 => portal\n",
            "9.454573 => rdx\n",
            "9.454573 => rmo\n",
            "9.454573 => sb\n"
          ]
        }
      ]
    },
    {
      "cell_type": "markdown",
      "metadata": {
        "id": "I9DVmj42G-jV"
      },
      "source": [
        "покажем 50 наименее важных features (признаков) из 20% отобранных методом Хи-квадрат (по idf и алфавиту)"
      ]
    },
    {
      "cell_type": "code",
      "metadata": {
        "id": "sK0r5Tqn7ioc",
        "colab": {
          "base_uri": "https://localhost:8080/"
        },
        "collapsed": true,
        "outputId": "4c78c8db-2fd0-4476-8e67-c0c206da95e6"
      },
      "source": [
        "for feature, idf in selected_and_sorted_tokens_with_IDF[-50:]: print('{0:.6f} => {1}'.format(idf, feature))"
      ],
      "execution_count": 42,
      "outputs": [
        {
          "output_type": "stream",
          "name": "stdout",
          "text": [
            "5.272523 => уралсиб\n",
            "5.242445 => условие\n",
            "5.206078 => банкомат\n",
            "5.198960 => наличный\n",
            "5.164113 => работа\n",
            "5.117282 => миллиард\n",
            "5.110767 => российский\n",
            "5.091474 => автокредит\n",
            "4.994428 => клиент\n",
            "4.960334 => бизнес\n",
            "4.938234 => ставка\n",
            "4.911278 => новость\n",
            "4.885030 => райффайзенбанк\n",
            "4.864516 => калькулятор\n",
            "4.815001 => деньги\n",
            "4.810182 => ипотечный\n",
            "4.791134 => ипотека\n",
            "4.772442 => попасть\n",
            "4.740548 => получить\n",
            "4.700983 => оформить\n",
            "4.688134 => …\n",
            "4.650552 => список\n",
            "4.646462 => рубль\n",
            "4.622267 => ввести\n",
            "4.606456 => заявка\n",
            "4.571771 => против\n",
            "4.527319 => новый\n",
            "4.488238 => под\n",
            "4.414379 => год\n",
            "4.398327 => ес\n",
            "4.339578 => сша\n",
            "4.286934 => потребительский\n",
            "4.247823 => онлайн\n",
            "4.212826 => газпромбанк\n",
            "4.210184 => »\n",
            "4.189295 => «\n",
            "3.814440 => rt\n",
            "3.708370 => брать\n",
            "3.633007 => кредитный\n",
            "3.619762 => сбербанок\n",
            "3.595212 => санкция\n",
            "3.502629 => альфа\n",
            "3.496148 => вт\n",
            "3.476954 => москва\n",
            "3.329889 => карта\n",
            "3.293366 => россельхозбанк\n",
            "3.146474 => втб\n",
            "2.256015 => банк\n",
            "1.994946 => кредит\n",
            "1.506011 => http\n"
          ]
        }
      ]
    },
    {
      "cell_type": "markdown",
      "metadata": {
        "id": "sXQ3zYTVhnfv"
      },
      "source": [
        "\n",
        "\n",
        "---\n",
        "\n",
        "\n",
        "# Logistic Regression (без поиска)\n"
      ]
    },
    {
      "cell_type": "code",
      "metadata": {
        "id": "pKjUbq9GzjDB"
      },
      "source": [
        "import time"
      ],
      "execution_count": 43,
      "outputs": []
    },
    {
      "cell_type": "code",
      "metadata": {
        "id": "CZ1bY-cF3Am0"
      },
      "source": [
        "from sklearn.linear_model import LogisticRegression"
      ],
      "execution_count": 44,
      "outputs": []
    },
    {
      "cell_type": "code",
      "metadata": {
        "id": "amxAcxE33Am-"
      },
      "source": [
        "cls = LogisticRegression(solver='liblinear', verbose=True)"
      ],
      "execution_count": 45,
      "outputs": []
    },
    {
      "cell_type": "code",
      "metadata": {
        "id": "rbgxghlW3AnL",
        "colab": {
          "base_uri": "https://localhost:8080/"
        },
        "outputId": "0c778829-a9b4-44ca-d84e-f9509a351483"
      },
      "source": [
        "X_transformed_and_selected = selector.transform(X_transformed)\n",
        "cls.fit(X_transformed_and_selected, labels)"
      ],
      "execution_count": 46,
      "outputs": [
        {
          "output_type": "stream",
          "name": "stdout",
          "text": [
            "[LibLinear]"
          ]
        },
        {
          "output_type": "execute_result",
          "data": {
            "text/plain": [
              "LogisticRegression(solver='liblinear', verbose=True)"
            ]
          },
          "metadata": {},
          "execution_count": 46
        }
      ]
    },
    {
      "cell_type": "code",
      "metadata": {
        "id": "-5rsanfy3Anl",
        "colab": {
          "base_uri": "https://localhost:8080/"
        },
        "outputId": "549564d8-57e2-4fa3-f627-586af28005ed"
      },
      "source": [
        "classes_list = list(cls.classes_)\n",
        "print(classes_list)"
      ],
      "execution_count": 47,
      "outputs": [
        {
          "output_type": "stream",
          "name": "stdout",
          "text": [
            "['negative', 'neutral', 'positive']\n"
          ]
        }
      ]
    },
    {
      "cell_type": "code",
      "metadata": {
        "id": "AV7UgtCR2J44"
      },
      "source": [
        "# удаляем нейтральные твиты для последующего рассчёта F1-меры\n",
        "texts_for_testing = [texts_test[i] for i in range(len(texts_test)) if labels_test[i] != 'neutral']\n",
        "labels_for_testing = [l for l in labels_test if l != 'neutral']"
      ],
      "execution_count": 48,
      "outputs": []
    },
    {
      "cell_type": "code",
      "metadata": {
        "id": "7xING6JB3AoE"
      },
      "source": [
        "from sklearn.pipeline import Pipeline"
      ],
      "execution_count": 49,
      "outputs": []
    },
    {
      "cell_type": "code",
      "metadata": {
        "id": "aYhXAKBd3AoQ"
      },
      "source": [
        "pipeline_for_se = Pipeline(\n",
        "    [\n",
        "        ('vectorizer', vectorizer),\n",
        "        ('tfidf', transformer),\n",
        "        ('selector', selector),\n",
        "        ('final_classifier', cls)\n",
        "    ]\n",
        ")"
      ],
      "execution_count": 50,
      "outputs": []
    },
    {
      "cell_type": "code",
      "metadata": {
        "id": "6WrREaqR3Aoi"
      },
      "source": [
        "from sklearn.metrics import roc_curve\n",
        "import numpy as np"
      ],
      "execution_count": 51,
      "outputs": []
    },
    {
      "cell_type": "code",
      "metadata": {
        "id": "neF6YaI43Aor"
      },
      "source": [
        "probabilities = pipeline_for_se.predict_proba(texts_for_testing)"
      ],
      "execution_count": 52,
      "outputs": []
    },
    {
      "cell_type": "code",
      "metadata": {
        "id": "N9_U60_Z3Ao1"
      },
      "source": [
        "y_true_positives = list(map(lambda it: 1 if it == 'positive' else 0, labels_for_testing))\n",
        "y_score_positives = probabilities[:, classes_list.index('positive')]"
      ],
      "execution_count": 53,
      "outputs": []
    },
    {
      "cell_type": "code",
      "metadata": {
        "id": "zQgLkmmJ3Ao_"
      },
      "source": [
        "fpr_positives, tpr_positives, _, = roc_curve(y_true_positives, y_score_positives)"
      ],
      "execution_count": 54,
      "outputs": []
    },
    {
      "cell_type": "code",
      "metadata": {
        "id": "YLVCijyv3ApJ"
      },
      "source": [
        "y_true_negatives = list(map(lambda it: 1 if it == 'negative' else 0, labels_for_testing))\n",
        "y_score_negatives = probabilities[:, classes_list.index('negative')]\n",
        "fpr_negatives, tpr_negatives, _, = roc_curve(y_true_negatives, y_score_negatives)"
      ],
      "execution_count": 55,
      "outputs": []
    },
    {
      "cell_type": "code",
      "metadata": {
        "id": "xmMC82b43Apb"
      },
      "source": [
        "# y_true_neutrals = list(map(lambda it: 1 if it == 'neutral' else 0, labels_for_testing))\n",
        "# y_score_neutrals = probabilities[:, classes_list.index('neutral')]\n",
        "# fpr_neutrals, tpr_neutrals, _, = roc_curve(y_true_neutrals, y_score_neutrals)"
      ],
      "execution_count": 56,
      "outputs": []
    },
    {
      "cell_type": "code",
      "metadata": {
        "id": "RAclBVn63AqJ",
        "colab": {
          "base_uri": "https://localhost:8080/",
          "height": 0
        },
        "outputId": "e096b0a0-6935-4901-965a-d40c7a58b5c1"
      },
      "source": [
        "import matplotlib.pyplot as plt\n",
        "plt.figure(1)\n",
        "plt.plot([0, 1], [0, 1], 'k--')\n",
        "plt.plot(fpr_positives, tpr_positives, label='Positive Sentiment')\n",
        "plt.plot(fpr_negatives, tpr_negatives, label='Negative Sentiment')\n",
        "# plt.plot(fpr_neutrals, tpr_neutrals, label='Neutral Sentiment')\n",
        "plt.xlabel('False positive rate')\n",
        "plt.ylabel('True positive rate')\n",
        "plt.title('ROC curve')\n",
        "plt.legend(loc='best')\n",
        "plt.show()"
      ],
      "execution_count": 57,
      "outputs": [
        {
          "output_type": "display_data",
          "data": {
            "image/png": "[encoded data removed]",
            "text/plain": [
              "<Figure size 432x288 with 1 Axes>"
            ]
          },
          "metadata": {
            "needs_background": "light"
          }
        }
      ]
    },
    {
      "cell_type": "code",
      "metadata": {
        "id": "9VXpmg2p3AqS",
        "colab": {
          "base_uri": "https://localhost:8080/"
        },
        "outputId": "67932f92-aebb-4edf-aa05-d1ce430625d3"
      },
      "source": [
        "from sklearn.metrics import f1_score\n",
        "predicted_labels = pipeline_for_se.predict(texts_for_testing)\n",
        "print('F1-micro = {0:.6f}'.format(f1_score(labels_for_testing, predicted_labels, average='micro')))\n",
        "print('F1-macro = {0:.6f}'.format(f1_score(labels_for_testing, predicted_labels, average='macro')))"
      ],
      "execution_count": 58,
      "outputs": [
        {
          "output_type": "stream",
          "name": "stdout",
          "text": [
            "F1-micro = 0.284651\n",
            "F1-macro = 0.265223\n"
          ]
        }
      ]
    },
    {
      "cell_type": "code",
      "metadata": {
        "id": "CnubGC2n3Aqa",
        "colab": {
          "base_uri": "https://localhost:8080/"
        },
        "outputId": "e0f9a7cd-efca-4341-d1e3-a4edc6559e9e"
      },
      "source": [
        "from sklearn.metrics import classification_report\n",
        "print(classification_report(labels_for_testing, predicted_labels, digits=6))"
      ],
      "execution_count": 59,
      "outputs": [
        {
          "output_type": "stream",
          "name": "stdout",
          "text": [
            "              precision    recall  f1-score   support\n",
            "\n",
            "    negative   0.904059  0.319426  0.472062       767\n",
            "     neutral   0.000000  0.000000  0.000000         0\n",
            "    positive   0.884058  0.198052  0.323607       308\n",
            "\n",
            "    accuracy                       0.284651      1075\n",
            "   macro avg   0.596039  0.172493  0.265223      1075\n",
            "weighted avg   0.898329  0.284651  0.429528      1075\n",
            "\n"
          ]
        },
        {
          "output_type": "stream",
          "name": "stderr",
          "text": [
            "/usr/local/lib/python3.7/dist-packages/sklearn/metrics/_classification.py:1308: UndefinedMetricWarning: Recall and F-score are ill-defined and being set to 0.0 in labels with no true samples. Use `zero_division` parameter to control this behavior.\n",
            "  _warn_prf(average, modifier, msg_start, len(result))\n",
            "/usr/local/lib/python3.7/dist-packages/sklearn/metrics/_classification.py:1308: UndefinedMetricWarning: Recall and F-score are ill-defined and being set to 0.0 in labels with no true samples. Use `zero_division` parameter to control this behavior.\n",
            "  _warn_prf(average, modifier, msg_start, len(result))\n",
            "/usr/local/lib/python3.7/dist-packages/sklearn/metrics/_classification.py:1308: UndefinedMetricWarning: Recall and F-score are ill-defined and being set to 0.0 in labels with no true samples. Use `zero_division` parameter to control this behavior.\n",
            "  _warn_prf(average, modifier, msg_start, len(result))\n"
          ]
        }
      ]
    },
    {
      "cell_type": "markdown",
      "metadata": {
        "id": "ndY7_Hs6h-KN"
      },
      "source": [
        "# gCV + LogRegr"
      ]
    },
    {
      "cell_type": "code",
      "metadata": {
        "id": "QQNMMpwn3Aql"
      },
      "source": [
        "from sklearn.model_selection import GridSearchCV\n",
        "from sklearn.metrics import make_scorer\n",
        "f1_macro_scorer = make_scorer(f1_score, average='macro')\n",
        "gcv_lr = GridSearchCV(\n",
        "    estimator=LogisticRegression(solver='liblinear'),\n",
        "    param_grid={'C': [1e-2, 1e-1, 1, 1e+1, 1e+2, 1e+3], 'penalty': ['l1', 'l2', 'elasticnet']},\n",
        "    scoring=f1_macro_scorer,\n",
        "    n_jobs=-1,\n",
        ")"
      ],
      "execution_count": 60,
      "outputs": []
    },
    {
      "cell_type": "code",
      "metadata": {
        "id": "SeTxxFZ23Aqu",
        "colab": {
          "base_uri": "https://localhost:8080/"
        },
        "outputId": "48f02348-aa08-4016-ecef-1b88ae76535d"
      },
      "source": [
        "gcv_lr_tp1 = time.time()\n",
        "gcv_lr.fit(X_transformed_and_selected, labels)\n",
        "gcv_lr_tp2 = time.time()\n",
        "print(f'Time needed for search: {gcv_lr_tp2 - gcv_lr_tp1}s')"
      ],
      "execution_count": 61,
      "outputs": [
        {
          "output_type": "stream",
          "name": "stdout",
          "text": [
            "Time needed for search: 6.260038137435913s\n"
          ]
        },
        {
          "output_type": "stream",
          "name": "stderr",
          "text": [
            "/usr/local/lib/python3.7/dist-packages/sklearn/model_selection/_validation.py:372: FitFailedWarning: \n",
            "30 fits failed out of a total of 90.\n",
            "The score on these train-test partitions for these parameters will be set to nan.\n",
            "If these failures are not expected, you can try to debug them by setting error_score='raise'.\n",
            "\n",
            "Below are more details about the failures:\n",
            "--------------------------------------------------------------------------------\n",
            "30 fits failed with the following error:\n",
            "Traceback (most recent call last):\n",
            "  File \"/usr/local/lib/python3.7/dist-packages/sklearn/model_selection/_validation.py\", line 681, in _fit_and_score\n",
            "    estimator.fit(X_train, y_train, **fit_params)\n",
            "  File \"/usr/local/lib/python3.7/dist-packages/sklearn/linear_model/_logistic.py\", line 1461, in fit\n",
            "    solver = _check_solver(self.solver, self.penalty, self.dual)\n",
            "  File \"/usr/local/lib/python3.7/dist-packages/sklearn/linear_model/_logistic.py\", line 459, in _check_solver\n",
            "    solver\n",
            "ValueError: Only 'saga' solver supports elasticnet penalty, got solver=liblinear.\n",
            "\n",
            "  warnings.warn(some_fits_failed_message, FitFailedWarning)\n",
            "/usr/local/lib/python3.7/dist-packages/sklearn/model_selection/_search.py:972: UserWarning: One or more of the test scores are non-finite: [0.28401475 0.28401475        nan 0.42171814 0.4236853         nan\n",
            " 0.58127174 0.52277775        nan 0.65700825 0.64393502        nan\n",
            " 0.65562478 0.66758531        nan 0.65151395 0.66166083        nan]\n",
            "  category=UserWarning,\n"
          ]
        }
      ]
    },
    {
      "cell_type": "code",
      "metadata": {
        "id": "k8YZJ11T3Aq3",
        "colab": {
          "base_uri": "https://localhost:8080/"
        },
        "outputId": "4b2d9645-6777-48f1-89d0-29facc81931c"
      },
      "source": [
        "gcv_lr_bp = gcv_lr.best_params_\n",
        "print(gcv_lr_bp)"
      ],
      "execution_count": 62,
      "outputs": [
        {
          "output_type": "stream",
          "name": "stdout",
          "text": [
            "{'C': 100.0, 'penalty': 'l2'}\n"
          ]
        }
      ]
    },
    {
      "cell_type": "code",
      "metadata": {
        "id": "kGdkcuar3ArA"
      },
      "source": [
        "bcls_gcv_lr = LogisticRegression(\n",
        "                                 solver='liblinear', \n",
        "                                 verbose=True, \n",
        "                                 C=gcv_lr_bp['C'], \n",
        "                                 penalty=gcv_lr_bp['penalty']\n",
        "                                )"
      ],
      "execution_count": 63,
      "outputs": []
    },
    {
      "cell_type": "code",
      "metadata": {
        "id": "mbZPs8m66_wv",
        "colab": {
          "base_uri": "https://localhost:8080/"
        },
        "outputId": "4db0875c-a7f5-4e90-a70a-ab862c448ee8"
      },
      "source": [
        "gcv_lr_tp3 = time.time()\n",
        "bcls_gcv_lr.fit(X_transformed_and_selected, labels)\n",
        "gcv_lr_tp4 = time.time()\n",
        "print(f'Time needed for computation: {gcv_lr_tp4 - gcv_lr_tp3}s')"
      ],
      "execution_count": 64,
      "outputs": [
        {
          "output_type": "stream",
          "name": "stdout",
          "text": [
            "[LibLinear]Time needed for computation: 0.16365718841552734s\n"
          ]
        }
      ]
    },
    {
      "cell_type": "code",
      "metadata": {
        "id": "8DkwlELZ3ArJ"
      },
      "source": [
        "best_pipeline_for_se = Pipeline(\n",
        "    [\n",
        "        ('vectorizer', vectorizer),\n",
        "        ('tfidf', transformer),\n",
        "        ('selector', selector),\n",
        "        ('final_classifier', bcls_gcv_lr)\n",
        "    ]\n",
        ")"
      ],
      "execution_count": 65,
      "outputs": []
    },
    {
      "cell_type": "code",
      "metadata": {
        "id": "Vi5OtXBa3ArR"
      },
      "source": [
        "probabilities = best_pipeline_for_se.predict_proba(texts_for_testing)\n",
        "\n",
        "y_true_positives = list(map(lambda it: 1 if it == 'positive' else 0, labels_for_testing))\n",
        "y_score_positives = probabilities[:, classes_list.index('positive')]\n",
        "fpr_positives, tpr_positives, _, = roc_curve(y_true_positives, y_score_positives)\n",
        "\n",
        "y_true_negatives = list(map(lambda it: 1 if it == 'negative' else 0, labels_for_testing))\n",
        "y_score_negatives = probabilities[:, classes_list.index('negative')]\n",
        "fpr_negatives, tpr_negatives, _, = roc_curve(y_true_negatives, y_score_negatives)\n",
        "\n",
        "# y_true_neutrals = list(map(lambda it: 1 if it == 'neutral' else 0, labels_for_testing))\n",
        "# y_score_neutrals = probabilities[:, classes_list.index('neutral')]\n",
        "# fpr_neutrals, tpr_neutrals, _, = roc_curve(y_true_neutrals, y_score_neutrals)"
      ],
      "execution_count": 66,
      "outputs": []
    },
    {
      "cell_type": "code",
      "metadata": {
        "id": "4fmMWhuJ3ArY",
        "colab": {
          "base_uri": "https://localhost:8080/",
          "height": 295
        },
        "outputId": "7bf85755-b5b0-45e6-f564-534fea15e6dd"
      },
      "source": [
        "plt.figure(2)\n",
        "plt.plot([0, 1], [0, 1], 'k--')\n",
        "plt.plot(fpr_positives, tpr_positives, label='Positive Sentiment')\n",
        "plt.plot(fpr_negatives, tpr_negatives, label='Negative Sentiment')\n",
        "# plt.plot(fpr_neutrals, tpr_neutrals, label='Neutral Sentiment')\n",
        "plt.xlabel('False positive rate')\n",
        "plt.ylabel('True positive rate')\n",
        "plt.title('ROC curve')\n",
        "plt.legend(loc='best')\n",
        "plt.show()"
      ],
      "execution_count": 67,
      "outputs": [
        {
          "output_type": "display_data",
          "data": {
            "image/png": "[encoded data removed]",
            "text/plain": [
              "<Figure size 432x288 with 1 Axes>"
            ]
          },
          "metadata": {
            "needs_background": "light"
          }
        }
      ]
    },
    {
      "cell_type": "code",
      "metadata": {
        "id": "nszIVJ6B3Arh",
        "colab": {
          "base_uri": "https://localhost:8080/"
        },
        "outputId": "2ce0a2a6-a0c6-43ae-b57b-b3595352a319"
      },
      "source": [
        "predicted_labels = best_pipeline_for_se.predict(texts_for_testing)\n",
        "fmi_gcv_lr = f1_score(labels_for_testing, predicted_labels, average='micro')\n",
        "fma_gcv_lr = f1_score(labels_for_testing, predicted_labels, average='macro')\n",
        "print('F1-micro = {0:.6f}'.format(fmi_gcv_lr))\n",
        "print('F1-macro = {0:.6f}'.format(fma_gcv_lr))"
      ],
      "execution_count": 68,
      "outputs": [
        {
          "output_type": "stream",
          "name": "stdout",
          "text": [
            "F1-micro = 0.458605\n",
            "F1-macro = 0.370266\n"
          ]
        }
      ]
    },
    {
      "cell_type": "code",
      "metadata": {
        "id": "0xTP-OMd735q",
        "colab": {
          "base_uri": "https://localhost:8080/"
        },
        "outputId": "9466b687-b6c9-46e8-8584-f91d22d67614"
      },
      "source": [
        "clsrep_gcv_lr = classification_report(labels_for_testing, predicted_labels, digits=6)"
      ],
      "execution_count": 69,
      "outputs": [
        {
          "output_type": "stream",
          "name": "stderr",
          "text": [
            "/usr/local/lib/python3.7/dist-packages/sklearn/metrics/_classification.py:1308: UndefinedMetricWarning: Recall and F-score are ill-defined and being set to 0.0 in labels with no true samples. Use `zero_division` parameter to control this behavior.\n",
            "  _warn_prf(average, modifier, msg_start, len(result))\n",
            "/usr/local/lib/python3.7/dist-packages/sklearn/metrics/_classification.py:1308: UndefinedMetricWarning: Recall and F-score are ill-defined and being set to 0.0 in labels with no true samples. Use `zero_division` parameter to control this behavior.\n",
            "  _warn_prf(average, modifier, msg_start, len(result))\n",
            "/usr/local/lib/python3.7/dist-packages/sklearn/metrics/_classification.py:1308: UndefinedMetricWarning: Recall and F-score are ill-defined and being set to 0.0 in labels with no true samples. Use `zero_division` parameter to control this behavior.\n",
            "  _warn_prf(average, modifier, msg_start, len(result))\n"
          ]
        }
      ]
    },
    {
      "cell_type": "code",
      "metadata": {
        "id": "XJD9M5gN3Arr",
        "colab": {
          "base_uri": "https://localhost:8080/"
        },
        "outputId": "a632df8c-f5b6-48df-90f2-d6adb940141a"
      },
      "source": [
        "print(clsrep_gcv_lr)"
      ],
      "execution_count": 70,
      "outputs": [
        {
          "output_type": "stream",
          "name": "stdout",
          "text": [
            "              precision    recall  f1-score   support\n",
            "\n",
            "    negative   0.843478  0.505867  0.632437       767\n",
            "     neutral   0.000000  0.000000  0.000000         0\n",
            "    positive   0.801527  0.340909  0.478360       308\n",
            "\n",
            "    accuracy                       0.458605      1075\n",
            "   macro avg   0.548335  0.282259  0.370266      1075\n",
            "weighted avg   0.831459  0.458605  0.588292      1075\n",
            "\n"
          ]
        }
      ]
    },
    {
      "cell_type": "markdown",
      "metadata": {
        "id": "1LvOiBOqA3HZ"
      },
      "source": [
        "# gCV + SGDC "
      ]
    },
    {
      "cell_type": "code",
      "metadata": {
        "id": "fTGkSbcZA45l"
      },
      "source": [
        "from sklearn.linear_model import SGDClassifier"
      ],
      "execution_count": 71,
      "outputs": []
    },
    {
      "cell_type": "code",
      "metadata": {
        "id": "_ppiipGcA46U"
      },
      "source": [
        "gcv_sgdc = GridSearchCV(\n",
        "    estimator=SGDClassifier(loss='log'),\n",
        "    param_grid={\n",
        "                'alpha': [1e-4, 1e-3, 1e-2, 1e-1, 1], \n",
        "                'penalty': ['l1', 'l2', 'elasticnet']\n",
        "                },\n",
        "    scoring=f1_macro_scorer,\n",
        "    n_jobs=-1\n",
        ")"
      ],
      "execution_count": 83,
      "outputs": []
    },
    {
      "cell_type": "code",
      "metadata": {
        "id": "9fKKeYtkA47B"
      },
      "source": [
        "gcv_sgdc_tp1 = time.time()\n",
        "gcv_sgdc.fit(X_transformed_and_selected, labels)\n",
        "gcv_sgdc_tp2 = time.time()"
      ],
      "execution_count": 84,
      "outputs": []
    },
    {
      "cell_type": "code",
      "metadata": {
        "id": "0LOmZcgOA47j",
        "colab": {
          "base_uri": "https://localhost:8080/"
        },
        "outputId": "22efcf87-d8d1-4f95-c1a1-09da7bf583d1"
      },
      "source": [
        "print(f'Time needed for search: {gcv_sgdc_tp2 - gcv_sgdc_tp1}s')\n",
        "gcv_sgdc_bp = gcv_sgdc.best_params_\n",
        "print(gcv_sgdc_bp)"
      ],
      "execution_count": 85,
      "outputs": [
        {
          "output_type": "stream",
          "name": "stdout",
          "text": [
            "Time needed for search: 4.006702661514282s\n",
            "{'alpha': 0.0001, 'penalty': 'l1'}\n"
          ]
        }
      ]
    },
    {
      "cell_type": "code",
      "metadata": {
        "id": "GCjXVnQGA48A"
      },
      "source": [
        "bcls_gcv_sgdc = SGDClassifier( \n",
        "                     loss='log',\n",
        "                     penalty=gcv_sgdc_bp['penalty'],\n",
        "                     alpha=gcv_sgdc_bp['alpha'],\n",
        "                     max_iter=1000\n",
        "                    )"
      ],
      "execution_count": 86,
      "outputs": []
    },
    {
      "cell_type": "code",
      "metadata": {
        "id": "rHrpOtMNA48g"
      },
      "source": [
        "gcv_sgdc_tp3 = time.time()\n",
        "bcls_gcv_sgdc.fit(X_transformed_and_selected, labels)\n",
        "gcv_sgdc_tp4 = time.time()"
      ],
      "execution_count": 87,
      "outputs": []
    },
    {
      "cell_type": "code",
      "metadata": {
        "id": "AKui0lYCA487",
        "colab": {
          "base_uri": "https://localhost:8080/"
        },
        "outputId": "b37b5fd6-d623-477e-a8c3-2b2aa4ce0f67"
      },
      "source": [
        "print(f'Time needed for computations: {gcv_sgdc_tp4 - gcv_sgdc_tp3}s')"
      ],
      "execution_count": 89,
      "outputs": [
        {
          "output_type": "stream",
          "name": "stdout",
          "text": [
            "Time needed for computations: 0.09301304817199707s\n"
          ]
        }
      ]
    },
    {
      "cell_type": "code",
      "metadata": {
        "id": "a5u-AnAIA49Z"
      },
      "source": [
        "sgdc_pipeline_for_se = Pipeline(\n",
        "    [\n",
        "        ('vectorizer', vectorizer),\n",
        "        ('tfidf', transformer),\n",
        "        ('selector', selector),\n",
        "        ('final_classifier', bcls_gcv_sgdc)\n",
        "    ]\n",
        ")"
      ],
      "execution_count": 88,
      "outputs": []
    },
    {
      "cell_type": "code",
      "metadata": {
        "id": "zH-2ERK4A49z"
      },
      "source": [
        "probabilities = sgdc_pipeline_for_se.predict_proba(texts_for_testing)\n",
        "\n",
        "y_true_positives = list(map(lambda it: 1 if it == 'positive' else 0, labels_for_testing))\n",
        "y_score_positives = probabilities[:, classes_list.index('positive')]\n",
        "fpr_positives, tpr_positives, _, = roc_curve(y_true_positives, y_score_positives)\n",
        "\n",
        "y_true_negatives = list(map(lambda it: 1 if it == 'negative' else 0, labels_for_testing))\n",
        "y_score_negatives = probabilities[:, classes_list.index('negative')]\n",
        "fpr_negatives, tpr_negatives, _, = roc_curve(y_true_negatives, y_score_negatives)\n",
        "\n",
        "# y_true_neutrals = list(map(lambda it: 1 if it == 'neutral' else 0, labels_for_testing))\n",
        "# y_score_neutrals = probabilities[:, classes_list.index('neutral')]\n",
        "# fpr_neutrals, tpr_neutrals, _, = roc_curve(y_true_neutrals, y_score_neutrals)"
      ],
      "execution_count": 90,
      "outputs": []
    },
    {
      "cell_type": "code",
      "metadata": {
        "id": "MprP2DsdA4-K",
        "colab": {
          "base_uri": "https://localhost:8080/",
          "height": 295
        },
        "outputId": "958a7b72-1876-4055-dd15-b15e92d21176"
      },
      "source": [
        "plt.figure(4)\n",
        "plt.plot([0, 1], [0, 1], 'k--')\n",
        "plt.plot(fpr_positives, tpr_positives, label='Positive Sentiment')\n",
        "plt.plot(fpr_negatives, tpr_negatives, label='Negative Sentiment')\n",
        "# plt.plot(fpr_neutrals, tpr_neutrals, label='Neutral Sentiment')\n",
        "plt.xlabel('False positive rate')\n",
        "plt.ylabel('True positive rate')\n",
        "plt.title('ROC curve')\n",
        "plt.legend(loc='best')\n",
        "plt.show()"
      ],
      "execution_count": 91,
      "outputs": [
        {
          "output_type": "display_data",
          "data": {
            "image/png": "[encoded data removed]",
            "text/plain": [
              "<Figure size 432x288 with 1 Axes>"
            ]
          },
          "metadata": {
            "needs_background": "light"
          }
        }
      ]
    },
    {
      "cell_type": "code",
      "metadata": {
        "id": "EfP84R5tA4-k",
        "colab": {
          "base_uri": "https://localhost:8080/"
        },
        "outputId": "57a116a6-29c7-4243-908d-1a543a7d1285"
      },
      "source": [
        "predicted_labels = sgdc_pipeline_for_se.predict(texts_for_testing)\n",
        "fmi_gcv_sgdc = f1_score(labels_for_testing, predicted_labels, average='micro')\n",
        "fma_gcv_sgdc = f1_score(labels_for_testing, predicted_labels, average='macro')\n",
        "print('F1-micro = {0:.6f}'.format(fmi_gcv_sgdc))\n",
        "print('F1-macro = {0:.6f}'.format(fma_gcv_sgdc))"
      ],
      "execution_count": 92,
      "outputs": [
        {
          "output_type": "stream",
          "name": "stdout",
          "text": [
            "F1-micro = 0.315349\n",
            "F1-macro = 0.294059\n"
          ]
        }
      ]
    },
    {
      "cell_type": "code",
      "metadata": {
        "id": "vusV9pqvA4-8",
        "colab": {
          "base_uri": "https://localhost:8080/"
        },
        "outputId": "f5fbf0e9-e836-44c2-e3b6-cded289c743f"
      },
      "source": [
        "clsrep_gcv_sgdc = classification_report(labels_for_testing, predicted_labels, digits=6)\n",
        "print(clsrep_gcv_sgdc)"
      ],
      "execution_count": 93,
      "outputs": [
        {
          "output_type": "stream",
          "name": "stdout",
          "text": [
            "              precision    recall  f1-score   support\n",
            "\n",
            "    negative   0.906574  0.341591  0.496212       767\n",
            "     neutral   0.000000  0.000000  0.000000         0\n",
            "    positive   0.846154  0.250000  0.385965       308\n",
            "\n",
            "    accuracy                       0.315349      1075\n",
            "   macro avg   0.584243  0.197197  0.294059      1075\n",
            "weighted avg   0.889263  0.315349  0.464625      1075\n",
            "\n"
          ]
        },
        {
          "output_type": "stream",
          "name": "stderr",
          "text": [
            "/usr/local/lib/python3.7/dist-packages/sklearn/metrics/_classification.py:1308: UndefinedMetricWarning: Recall and F-score are ill-defined and being set to 0.0 in labels with no true samples. Use `zero_division` parameter to control this behavior.\n",
            "  _warn_prf(average, modifier, msg_start, len(result))\n",
            "/usr/local/lib/python3.7/dist-packages/sklearn/metrics/_classification.py:1308: UndefinedMetricWarning: Recall and F-score are ill-defined and being set to 0.0 in labels with no true samples. Use `zero_division` parameter to control this behavior.\n",
            "  _warn_prf(average, modifier, msg_start, len(result))\n",
            "/usr/local/lib/python3.7/dist-packages/sklearn/metrics/_classification.py:1308: UndefinedMetricWarning: Recall and F-score are ill-defined and being set to 0.0 in labels with no true samples. Use `zero_division` parameter to control this behavior.\n",
            "  _warn_prf(average, modifier, msg_start, len(result))\n"
          ]
        }
      ]
    },
    {
      "cell_type": "markdown",
      "metadata": {
        "id": "DuFpqZ7ajNfi"
      },
      "source": [
        "# bCV + LogRegr"
      ]
    },
    {
      "cell_type": "code",
      "metadata": {
        "id": "WWU98vzu3Ar3",
        "colab": {
          "base_uri": "https://localhost:8080/"
        },
        "collapsed": true,
        "outputId": "b309d611-ec6d-4166-ab70-0c44294dc6db"
      },
      "source": [
        "%pip install scikit-optimize\n",
        "from skopt import BayesSearchCV\n",
        "from skopt.space import Categorical, Integer, Real"
      ],
      "execution_count": 94,
      "outputs": [
        {
          "output_type": "stream",
          "name": "stdout",
          "text": [
            "Collecting scikit-optimize\n",
            "  Downloading scikit_optimize-0.9.0-py2.py3-none-any.whl (100 kB)\n",
            "\u001b[?25l\r\u001b[K     |███▎                            | 10 kB 22.3 MB/s eta 0:00:01\r\u001b[K     |██████▌                         | 20 kB 27.2 MB/s eta 0:00:01\r\u001b[K     |█████████▉                      | 30 kB 12.2 MB/s eta 0:00:01\r\u001b[K     |█████████████                   | 40 kB 9.5 MB/s eta 0:00:01\r\u001b[K     |████████████████▍               | 51 kB 5.6 MB/s eta 0:00:01\r\u001b[K     |███████████████████▋            | 61 kB 5.8 MB/s eta 0:00:01\r\u001b[K     |██████████████████████▉         | 71 kB 5.0 MB/s eta 0:00:01\r\u001b[K     |██████████████████████████▏     | 81 kB 5.5 MB/s eta 0:00:01\r\u001b[K     |█████████████████████████████▍  | 92 kB 5.5 MB/s eta 0:00:01\r\u001b[K     |████████████████████████████████| 100 kB 3.6 MB/s \n",
            "\u001b[?25hCollecting pyaml>=16.9\n",
            "  Downloading pyaml-21.10.1-py2.py3-none-any.whl (24 kB)\n",
            "Requirement already satisfied: numpy>=1.13.3 in /usr/local/lib/python3.7/dist-packages (from scikit-optimize) (1.19.5)\n",
            "Requirement already satisfied: joblib>=0.11 in /usr/local/lib/python3.7/dist-packages (from scikit-optimize) (1.1.0)\n",
            "Requirement already satisfied: scipy>=0.19.1 in /usr/local/lib/python3.7/dist-packages (from scikit-optimize) (1.4.1)\n",
            "Requirement already satisfied: scikit-learn>=0.20.0 in /usr/local/lib/python3.7/dist-packages (from scikit-optimize) (1.0.1)\n",
            "Requirement already satisfied: PyYAML in /usr/local/lib/python3.7/dist-packages (from pyaml>=16.9->scikit-optimize) (3.13)\n",
            "Requirement already satisfied: threadpoolctl>=2.0.0 in /usr/local/lib/python3.7/dist-packages (from scikit-learn>=0.20.0->scikit-optimize) (3.0.0)\n",
            "Installing collected packages: pyaml, scikit-optimize\n",
            "Successfully installed pyaml-21.10.1 scikit-optimize-0.9.0\n"
          ]
        }
      ]
    },
    {
      "cell_type": "code",
      "metadata": {
        "id": "e5GB1A_scs17"
      },
      "source": [
        "bcv_lr = BayesSearchCV(\n",
        "    LogisticRegression(solver='liblinear'), \n",
        "    { \n",
        "    'penalty': ['l1','l2'],\n",
        "    'C': (1, 100, 'log-uniform'),\n",
        "    'fit_intercept': [True, False]\n",
        "},\n",
        "    n_iter = 32,\n",
        "    scoring=f1_macro_scorer,\n",
        "    random_state=0\n",
        ")\n"
      ],
      "execution_count": 95,
      "outputs": []
    },
    {
      "cell_type": "code",
      "metadata": {
        "id": "Q2jqtSA_hPQh",
        "colab": {
          "base_uri": "https://localhost:8080/"
        },
        "outputId": "4a63a0f0-ee6f-4220-be9a-88476fddd0ab"
      },
      "source": [
        "bcv_lr_tp1 = time.time()\n",
        "bcv_lr.fit(X_transformed_and_selected, labels)\n",
        "bcv_lr_tp2 = time.time()"
      ],
      "execution_count": 96,
      "outputs": [
        {
          "output_type": "stream",
          "name": "stderr",
          "text": [
            "/usr/local/lib/python3.7/dist-packages/skopt/optimizer/optimizer.py:449: UserWarning: The objective has been evaluated at this point before.\n",
            "  warnings.warn(\"The objective has been evaluated \"\n"
          ]
        }
      ]
    },
    {
      "cell_type": "code",
      "metadata": {
        "id": "i7nYQRGmhMMk",
        "colab": {
          "base_uri": "https://localhost:8080/"
        },
        "outputId": "c06ff7c2-4ce6-42d7-b9fc-0f2b946fc7d7"
      },
      "source": [
        "print(f'Time needed for search: {bcv_lr_tp2 - bcv_lr_tp1}s')\n",
        "bcv_lr_bp = bcv_lr.best_params_\n",
        "print(bcv_lr_bp)"
      ],
      "execution_count": 97,
      "outputs": [
        {
          "output_type": "stream",
          "name": "stdout",
          "text": [
            "Time needed for search: 51.99661087989807s\n",
            "OrderedDict([('C', 75), ('fit_intercept', True), ('penalty', 'l2')])\n"
          ]
        }
      ]
    },
    {
      "cell_type": "code",
      "metadata": {
        "id": "MewoAqNJrhXN",
        "colab": {
          "base_uri": "https://localhost:8080/"
        },
        "outputId": "2bab7998-9e7e-4d0c-ccde-219927052c5a"
      },
      "source": [
        "bcls_bcv_lr = LogisticRegression(\n",
        "                                 solver='liblinear', \n",
        "                                 verbose=True, \n",
        "                                 C=bcv_lr_bp['C'], \n",
        "                                 penalty=bcv_lr_bp['penalty']\n",
        "                                 )\n",
        "bcv_lr_tp3 = time.time()\n",
        "bcls_bcv_lr.fit(X_transformed_and_selected, labels)\n",
        "bcv_lr_tp4 = time.time()\n",
        "print('Time needed for computations: ', bcv_lr_tp4 - bcv_lr_tp3)"
      ],
      "execution_count": 98,
      "outputs": [
        {
          "output_type": "stream",
          "name": "stdout",
          "text": [
            "[LibLinear]Time needed for computations:  0.15207529067993164\n"
          ]
        }
      ]
    },
    {
      "cell_type": "code",
      "metadata": {
        "id": "PDFoSZNvsPq1"
      },
      "source": [
        "rand_pipeline_for_se = Pipeline(\n",
        "    [\n",
        "        ('vectorizer', vectorizer),\n",
        "        ('tfidf', transformer),\n",
        "        ('selector', selector),\n",
        "        ('final_classifier', bcls_bcv_lr)\n",
        "    ]\n",
        ")"
      ],
      "execution_count": 99,
      "outputs": []
    },
    {
      "cell_type": "code",
      "metadata": {
        "id": "cH4bO8pKsPr1"
      },
      "source": [
        "probabilities = rand_pipeline_for_se.predict_proba(texts_for_testing)\n",
        "\n",
        "y_true_positives = list(map(lambda it: 1 if it == 'positive' else 0, labels_for_testing))\n",
        "y_score_positives = probabilities[:, classes_list.index('positive')]\n",
        "fpr_positives, tpr_positives, _, = roc_curve(y_true_positives, y_score_positives)\n",
        "\n",
        "y_true_negatives = list(map(lambda it: 1 if it == 'negative' else 0, labels_for_testing))\n",
        "y_score_negatives = probabilities[:, classes_list.index('negative')]\n",
        "fpr_negatives, tpr_negatives, _, = roc_curve(y_true_negatives, y_score_negatives)\n",
        "\n",
        "# y_true_neutrals = list(map(lambda it: 1 if it == 'neutral' else 0, labels_for_testing))\n",
        "# y_score_neutrals = probabilities[:, classes_list.index('neutral')]\n",
        "# fpr_neutrals, tpr_neutrals, _, = roc_curve(y_true_neutrals, y_score_neutrals)"
      ],
      "execution_count": 100,
      "outputs": []
    },
    {
      "cell_type": "code",
      "metadata": {
        "id": "-8T45I9vsPsd",
        "colab": {
          "base_uri": "https://localhost:8080/",
          "height": 295
        },
        "outputId": "7658e2ba-2d57-4bdd-9dc9-e3a27b869312"
      },
      "source": [
        "plt.figure(3)\n",
        "plt.plot([0, 1], [0, 1], 'k--')\n",
        "plt.plot(fpr_positives, tpr_positives, label='Positive Sentiment')\n",
        "plt.plot(fpr_negatives, tpr_negatives, label='Negative Sentiment')\n",
        "# plt.plot(fpr_neutrals, tpr_neutrals, label='Neutral Sentiment')\n",
        "plt.xlabel('False positive rate')\n",
        "plt.ylabel('True positive rate')\n",
        "plt.title('ROC curve')\n",
        "plt.legend(loc='best')\n",
        "plt.show()"
      ],
      "execution_count": 101,
      "outputs": [
        {
          "output_type": "display_data",
          "data": {
            "image/png": "[encoded data removed]",
            "text/plain": [
              "<Figure size 432x288 with 1 Axes>"
            ]
          },
          "metadata": {
            "needs_background": "light"
          }
        }
      ]
    },
    {
      "cell_type": "code",
      "metadata": {
        "id": "prEV81HPsPs9",
        "colab": {
          "base_uri": "https://localhost:8080/"
        },
        "outputId": "4907607c-e708-45c3-dc9f-837c90848fd9"
      },
      "source": [
        "predicted_labels = rand_pipeline_for_se.predict(texts_for_testing)\n",
        "fmi_bcv_lr = f1_score(labels_for_testing, predicted_labels, average='micro')\n",
        "fma_bcv_lr = f1_score(labels_for_testing, predicted_labels, average='macro')\n",
        "print('F1-micro = {0:.6f}'.format(fmi_bcv_lr))\n",
        "print('F1-macro = {0:.6f}'.format(fma_bcv_lr))"
      ],
      "execution_count": 102,
      "outputs": [
        {
          "output_type": "stream",
          "name": "stdout",
          "text": [
            "F1-micro = 0.461395\n",
            "F1-macro = 0.371124\n"
          ]
        }
      ]
    },
    {
      "cell_type": "code",
      "metadata": {
        "id": "PqkwLQK5sPtd",
        "colab": {
          "base_uri": "https://localhost:8080/"
        },
        "outputId": "9de93a3b-46a3-4d3b-9ecf-5a8fba48e571"
      },
      "source": [
        "clsrep_bcv_lr = classification_report(labels_for_testing, predicted_labels, digits=6)\n",
        "print(clsrep_bcv_lr)"
      ],
      "execution_count": 103,
      "outputs": [
        {
          "output_type": "stream",
          "name": "stdout",
          "text": [
            "              precision    recall  f1-score   support\n",
            "\n",
            "    negative   0.846652  0.511082  0.637398       767\n",
            "     neutral   0.000000  0.000000  0.000000         0\n",
            "    positive   0.806202  0.337662  0.475973       308\n",
            "\n",
            "    accuracy                       0.461395      1075\n",
            "   macro avg   0.550951  0.282915  0.371124      1075\n",
            "weighted avg   0.835063  0.461395  0.591148      1075\n",
            "\n"
          ]
        },
        {
          "output_type": "stream",
          "name": "stderr",
          "text": [
            "/usr/local/lib/python3.7/dist-packages/sklearn/metrics/_classification.py:1308: UndefinedMetricWarning: Recall and F-score are ill-defined and being set to 0.0 in labels with no true samples. Use `zero_division` parameter to control this behavior.\n",
            "  _warn_prf(average, modifier, msg_start, len(result))\n",
            "/usr/local/lib/python3.7/dist-packages/sklearn/metrics/_classification.py:1308: UndefinedMetricWarning: Recall and F-score are ill-defined and being set to 0.0 in labels with no true samples. Use `zero_division` parameter to control this behavior.\n",
            "  _warn_prf(average, modifier, msg_start, len(result))\n",
            "/usr/local/lib/python3.7/dist-packages/sklearn/metrics/_classification.py:1308: UndefinedMetricWarning: Recall and F-score are ill-defined and being set to 0.0 in labels with no true samples. Use `zero_division` parameter to control this behavior.\n",
            "  _warn_prf(average, modifier, msg_start, len(result))\n"
          ]
        }
      ]
    },
    {
      "cell_type": "markdown",
      "metadata": {
        "id": "iqGoxmwXjXe2"
      },
      "source": [
        "# bCV + SGDC"
      ]
    },
    {
      "cell_type": "code",
      "metadata": {
        "id": "ZHpBYh1ep9OG"
      },
      "source": [
        "from sklearn.linear_model import SGDClassifier"
      ],
      "execution_count": 104,
      "outputs": []
    },
    {
      "cell_type": "code",
      "metadata": {
        "id": "wKzxabpJ2-91"
      },
      "source": [
        "bcv_sgdc = BayesSearchCV(\n",
        "    SGDClassifier(loss='log'),\n",
        "    {\n",
        "                'alpha': [1e-4, 1e-3, 1e-2, 1e-1, 1], \n",
        "                'penalty': ['l1', 'l2', 'elasticnet']\n",
        "                },\n",
        "    n_iter = 100,\n",
        "    scoring=f1_macro_scorer\n",
        ")"
      ],
      "execution_count": 105,
      "outputs": []
    },
    {
      "cell_type": "code",
      "metadata": {
        "id": "k-80-pKx4Ew9",
        "colab": {
          "base_uri": "https://localhost:8080/"
        },
        "collapsed": true,
        "outputId": "afcf26c5-ff8f-4344-d34a-e632016d2a2e"
      },
      "source": [
        "bcv_sgdc_tp1 = time.time()\n",
        "bcv_sgdc.fit(X_transformed_and_selected, labels)\n",
        "bcv_sgdc_tp2 = time.time()"
      ],
      "execution_count": 106,
      "outputs": [
        {
          "output_type": "stream",
          "name": "stderr",
          "text": [
            "/usr/local/lib/python3.7/dist-packages/skopt/optimizer/optimizer.py:449: UserWarning: The objective has been evaluated at this point before.\n",
            "  warnings.warn(\"The objective has been evaluated \"\n",
            "/usr/local/lib/python3.7/dist-packages/skopt/optimizer/optimizer.py:449: UserWarning: The objective has been evaluated at this point before.\n",
            "  warnings.warn(\"The objective has been evaluated \"\n",
            "/usr/local/lib/python3.7/dist-packages/skopt/optimizer/optimizer.py:449: UserWarning: The objective has been evaluated at this point before.\n",
            "  warnings.warn(\"The objective has been evaluated \"\n",
            "/usr/local/lib/python3.7/dist-packages/skopt/optimizer/optimizer.py:449: UserWarning: The objective has been evaluated at this point before.\n",
            "  warnings.warn(\"The objective has been evaluated \"\n",
            "/usr/local/lib/python3.7/dist-packages/skopt/optimizer/optimizer.py:449: UserWarning: The objective has been evaluated at this point before.\n",
            "  warnings.warn(\"The objective has been evaluated \"\n",
            "/usr/local/lib/python3.7/dist-packages/skopt/optimizer/optimizer.py:449: UserWarning: The objective has been evaluated at this point before.\n",
            "  warnings.warn(\"The objective has been evaluated \"\n",
            "/usr/local/lib/python3.7/dist-packages/skopt/optimizer/optimizer.py:449: UserWarning: The objective has been evaluated at this point before.\n",
            "  warnings.warn(\"The objective has been evaluated \"\n",
            "/usr/local/lib/python3.7/dist-packages/skopt/optimizer/optimizer.py:449: UserWarning: The objective has been evaluated at this point before.\n",
            "  warnings.warn(\"The objective has been evaluated \"\n",
            "/usr/local/lib/python3.7/dist-packages/skopt/optimizer/optimizer.py:449: UserWarning: The objective has been evaluated at this point before.\n",
            "  warnings.warn(\"The objective has been evaluated \"\n",
            "/usr/local/lib/python3.7/dist-packages/skopt/optimizer/optimizer.py:449: UserWarning: The objective has been evaluated at this point before.\n",
            "  warnings.warn(\"The objective has been evaluated \"\n",
            "/usr/local/lib/python3.7/dist-packages/skopt/optimizer/optimizer.py:449: UserWarning: The objective has been evaluated at this point before.\n",
            "  warnings.warn(\"The objective has been evaluated \"\n",
            "/usr/local/lib/python3.7/dist-packages/skopt/optimizer/optimizer.py:449: UserWarning: The objective has been evaluated at this point before.\n",
            "  warnings.warn(\"The objective has been evaluated \"\n",
            "/usr/local/lib/python3.7/dist-packages/skopt/optimizer/optimizer.py:449: UserWarning: The objective has been evaluated at this point before.\n",
            "  warnings.warn(\"The objective has been evaluated \"\n",
            "/usr/local/lib/python3.7/dist-packages/skopt/optimizer/optimizer.py:449: UserWarning: The objective has been evaluated at this point before.\n",
            "  warnings.warn(\"The objective has been evaluated \"\n",
            "/usr/local/lib/python3.7/dist-packages/skopt/optimizer/optimizer.py:449: UserWarning: The objective has been evaluated at this point before.\n",
            "  warnings.warn(\"The objective has been evaluated \"\n",
            "/usr/local/lib/python3.7/dist-packages/skopt/optimizer/optimizer.py:449: UserWarning: The objective has been evaluated at this point before.\n",
            "  warnings.warn(\"The objective has been evaluated \"\n",
            "/usr/local/lib/python3.7/dist-packages/skopt/optimizer/optimizer.py:449: UserWarning: The objective has been evaluated at this point before.\n",
            "  warnings.warn(\"The objective has been evaluated \"\n",
            "/usr/local/lib/python3.7/dist-packages/skopt/optimizer/optimizer.py:449: UserWarning: The objective has been evaluated at this point before.\n",
            "  warnings.warn(\"The objective has been evaluated \"\n",
            "/usr/local/lib/python3.7/dist-packages/skopt/optimizer/optimizer.py:449: UserWarning: The objective has been evaluated at this point before.\n",
            "  warnings.warn(\"The objective has been evaluated \"\n",
            "/usr/local/lib/python3.7/dist-packages/skopt/optimizer/optimizer.py:449: UserWarning: The objective has been evaluated at this point before.\n",
            "  warnings.warn(\"The objective has been evaluated \"\n",
            "/usr/local/lib/python3.7/dist-packages/skopt/optimizer/optimizer.py:449: UserWarning: The objective has been evaluated at this point before.\n",
            "  warnings.warn(\"The objective has been evaluated \"\n",
            "/usr/local/lib/python3.7/dist-packages/skopt/optimizer/optimizer.py:449: UserWarning: The objective has been evaluated at this point before.\n",
            "  warnings.warn(\"The objective has been evaluated \"\n",
            "/usr/local/lib/python3.7/dist-packages/skopt/optimizer/optimizer.py:449: UserWarning: The objective has been evaluated at this point before.\n",
            "  warnings.warn(\"The objective has been evaluated \"\n",
            "/usr/local/lib/python3.7/dist-packages/skopt/optimizer/optimizer.py:449: UserWarning: The objective has been evaluated at this point before.\n",
            "  warnings.warn(\"The objective has been evaluated \"\n",
            "/usr/local/lib/python3.7/dist-packages/skopt/optimizer/optimizer.py:449: UserWarning: The objective has been evaluated at this point before.\n",
            "  warnings.warn(\"The objective has been evaluated \"\n",
            "/usr/local/lib/python3.7/dist-packages/skopt/optimizer/optimizer.py:449: UserWarning: The objective has been evaluated at this point before.\n",
            "  warnings.warn(\"The objective has been evaluated \"\n",
            "/usr/local/lib/python3.7/dist-packages/skopt/optimizer/optimizer.py:449: UserWarning: The objective has been evaluated at this point before.\n",
            "  warnings.warn(\"The objective has been evaluated \"\n",
            "/usr/local/lib/python3.7/dist-packages/skopt/optimizer/optimizer.py:449: UserWarning: The objective has been evaluated at this point before.\n",
            "  warnings.warn(\"The objective has been evaluated \"\n",
            "/usr/local/lib/python3.7/dist-packages/skopt/optimizer/optimizer.py:449: UserWarning: The objective has been evaluated at this point before.\n",
            "  warnings.warn(\"The objective has been evaluated \"\n",
            "/usr/local/lib/python3.7/dist-packages/skopt/optimizer/optimizer.py:449: UserWarning: The objective has been evaluated at this point before.\n",
            "  warnings.warn(\"The objective has been evaluated \"\n",
            "/usr/local/lib/python3.7/dist-packages/skopt/optimizer/optimizer.py:449: UserWarning: The objective has been evaluated at this point before.\n",
            "  warnings.warn(\"The objective has been evaluated \"\n",
            "/usr/local/lib/python3.7/dist-packages/skopt/optimizer/optimizer.py:449: UserWarning: The objective has been evaluated at this point before.\n",
            "  warnings.warn(\"The objective has been evaluated \"\n",
            "/usr/local/lib/python3.7/dist-packages/skopt/optimizer/optimizer.py:449: UserWarning: The objective has been evaluated at this point before.\n",
            "  warnings.warn(\"The objective has been evaluated \"\n",
            "/usr/local/lib/python3.7/dist-packages/skopt/optimizer/optimizer.py:449: UserWarning: The objective has been evaluated at this point before.\n",
            "  warnings.warn(\"The objective has been evaluated \"\n",
            "/usr/local/lib/python3.7/dist-packages/skopt/optimizer/optimizer.py:449: UserWarning: The objective has been evaluated at this point before.\n",
            "  warnings.warn(\"The objective has been evaluated \"\n",
            "/usr/local/lib/python3.7/dist-packages/skopt/optimizer/optimizer.py:449: UserWarning: The objective has been evaluated at this point before.\n",
            "  warnings.warn(\"The objective has been evaluated \"\n",
            "/usr/local/lib/python3.7/dist-packages/skopt/optimizer/optimizer.py:449: UserWarning: The objective has been evaluated at this point before.\n",
            "  warnings.warn(\"The objective has been evaluated \"\n",
            "/usr/local/lib/python3.7/dist-packages/skopt/optimizer/optimizer.py:449: UserWarning: The objective has been evaluated at this point before.\n",
            "  warnings.warn(\"The objective has been evaluated \"\n",
            "/usr/local/lib/python3.7/dist-packages/skopt/optimizer/optimizer.py:449: UserWarning: The objective has been evaluated at this point before.\n",
            "  warnings.warn(\"The objective has been evaluated \"\n",
            "/usr/local/lib/python3.7/dist-packages/skopt/optimizer/optimizer.py:449: UserWarning: The objective has been evaluated at this point before.\n",
            "  warnings.warn(\"The objective has been evaluated \"\n",
            "/usr/local/lib/python3.7/dist-packages/skopt/optimizer/optimizer.py:449: UserWarning: The objective has been evaluated at this point before.\n",
            "  warnings.warn(\"The objective has been evaluated \"\n",
            "/usr/local/lib/python3.7/dist-packages/skopt/optimizer/optimizer.py:449: UserWarning: The objective has been evaluated at this point before.\n",
            "  warnings.warn(\"The objective has been evaluated \"\n",
            "/usr/local/lib/python3.7/dist-packages/skopt/optimizer/optimizer.py:449: UserWarning: The objective has been evaluated at this point before.\n",
            "  warnings.warn(\"The objective has been evaluated \"\n",
            "/usr/local/lib/python3.7/dist-packages/skopt/optimizer/optimizer.py:449: UserWarning: The objective has been evaluated at this point before.\n",
            "  warnings.warn(\"The objective has been evaluated \"\n",
            "/usr/local/lib/python3.7/dist-packages/skopt/optimizer/optimizer.py:449: UserWarning: The objective has been evaluated at this point before.\n",
            "  warnings.warn(\"The objective has been evaluated \"\n",
            "/usr/local/lib/python3.7/dist-packages/skopt/optimizer/optimizer.py:449: UserWarning: The objective has been evaluated at this point before.\n",
            "  warnings.warn(\"The objective has been evaluated \"\n",
            "/usr/local/lib/python3.7/dist-packages/skopt/optimizer/optimizer.py:449: UserWarning: The objective has been evaluated at this point before.\n",
            "  warnings.warn(\"The objective has been evaluated \"\n",
            "/usr/local/lib/python3.7/dist-packages/skopt/optimizer/optimizer.py:449: UserWarning: The objective has been evaluated at this point before.\n",
            "  warnings.warn(\"The objective has been evaluated \"\n",
            "/usr/local/lib/python3.7/dist-packages/skopt/optimizer/optimizer.py:449: UserWarning: The objective has been evaluated at this point before.\n",
            "  warnings.warn(\"The objective has been evaluated \"\n",
            "/usr/local/lib/python3.7/dist-packages/skopt/optimizer/optimizer.py:449: UserWarning: The objective has been evaluated at this point before.\n",
            "  warnings.warn(\"The objective has been evaluated \"\n",
            "/usr/local/lib/python3.7/dist-packages/skopt/optimizer/optimizer.py:449: UserWarning: The objective has been evaluated at this point before.\n",
            "  warnings.warn(\"The objective has been evaluated \"\n",
            "/usr/local/lib/python3.7/dist-packages/skopt/optimizer/optimizer.py:449: UserWarning: The objective has been evaluated at this point before.\n",
            "  warnings.warn(\"The objective has been evaluated \"\n",
            "/usr/local/lib/python3.7/dist-packages/skopt/optimizer/optimizer.py:449: UserWarning: The objective has been evaluated at this point before.\n",
            "  warnings.warn(\"The objective has been evaluated \"\n",
            "/usr/local/lib/python3.7/dist-packages/skopt/optimizer/optimizer.py:449: UserWarning: The objective has been evaluated at this point before.\n",
            "  warnings.warn(\"The objective has been evaluated \"\n",
            "/usr/local/lib/python3.7/dist-packages/skopt/optimizer/optimizer.py:449: UserWarning: The objective has been evaluated at this point before.\n",
            "  warnings.warn(\"The objective has been evaluated \"\n",
            "/usr/local/lib/python3.7/dist-packages/skopt/optimizer/optimizer.py:449: UserWarning: The objective has been evaluated at this point before.\n",
            "  warnings.warn(\"The objective has been evaluated \"\n",
            "/usr/local/lib/python3.7/dist-packages/skopt/optimizer/optimizer.py:449: UserWarning: The objective has been evaluated at this point before.\n",
            "  warnings.warn(\"The objective has been evaluated \"\n",
            "/usr/local/lib/python3.7/dist-packages/skopt/optimizer/optimizer.py:449: UserWarning: The objective has been evaluated at this point before.\n",
            "  warnings.warn(\"The objective has been evaluated \"\n",
            "/usr/local/lib/python3.7/dist-packages/skopt/optimizer/optimizer.py:449: UserWarning: The objective has been evaluated at this point before.\n",
            "  warnings.warn(\"The objective has been evaluated \"\n",
            "/usr/local/lib/python3.7/dist-packages/skopt/optimizer/optimizer.py:449: UserWarning: The objective has been evaluated at this point before.\n",
            "  warnings.warn(\"The objective has been evaluated \"\n",
            "/usr/local/lib/python3.7/dist-packages/skopt/optimizer/optimizer.py:449: UserWarning: The objective has been evaluated at this point before.\n",
            "  warnings.warn(\"The objective has been evaluated \"\n",
            "/usr/local/lib/python3.7/dist-packages/skopt/optimizer/optimizer.py:449: UserWarning: The objective has been evaluated at this point before.\n",
            "  warnings.warn(\"The objective has been evaluated \"\n",
            "/usr/local/lib/python3.7/dist-packages/skopt/optimizer/optimizer.py:449: UserWarning: The objective has been evaluated at this point before.\n",
            "  warnings.warn(\"The objective has been evaluated \"\n",
            "/usr/local/lib/python3.7/dist-packages/skopt/optimizer/optimizer.py:449: UserWarning: The objective has been evaluated at this point before.\n",
            "  warnings.warn(\"The objective has been evaluated \"\n",
            "/usr/local/lib/python3.7/dist-packages/skopt/optimizer/optimizer.py:449: UserWarning: The objective has been evaluated at this point before.\n",
            "  warnings.warn(\"The objective has been evaluated \"\n",
            "/usr/local/lib/python3.7/dist-packages/skopt/optimizer/optimizer.py:449: UserWarning: The objective has been evaluated at this point before.\n",
            "  warnings.warn(\"The objective has been evaluated \"\n",
            "/usr/local/lib/python3.7/dist-packages/skopt/optimizer/optimizer.py:449: UserWarning: The objective has been evaluated at this point before.\n",
            "  warnings.warn(\"The objective has been evaluated \"\n",
            "/usr/local/lib/python3.7/dist-packages/skopt/optimizer/optimizer.py:449: UserWarning: The objective has been evaluated at this point before.\n",
            "  warnings.warn(\"The objective has been evaluated \"\n",
            "/usr/local/lib/python3.7/dist-packages/skopt/optimizer/optimizer.py:449: UserWarning: The objective has been evaluated at this point before.\n",
            "  warnings.warn(\"The objective has been evaluated \"\n",
            "/usr/local/lib/python3.7/dist-packages/skopt/optimizer/optimizer.py:449: UserWarning: The objective has been evaluated at this point before.\n",
            "  warnings.warn(\"The objective has been evaluated \"\n",
            "/usr/local/lib/python3.7/dist-packages/skopt/optimizer/optimizer.py:449: UserWarning: The objective has been evaluated at this point before.\n",
            "  warnings.warn(\"The objective has been evaluated \"\n",
            "/usr/local/lib/python3.7/dist-packages/skopt/optimizer/optimizer.py:449: UserWarning: The objective has been evaluated at this point before.\n",
            "  warnings.warn(\"The objective has been evaluated \"\n",
            "/usr/local/lib/python3.7/dist-packages/skopt/optimizer/optimizer.py:449: UserWarning: The objective has been evaluated at this point before.\n",
            "  warnings.warn(\"The objective has been evaluated \"\n",
            "/usr/local/lib/python3.7/dist-packages/skopt/optimizer/optimizer.py:449: UserWarning: The objective has been evaluated at this point before.\n",
            "  warnings.warn(\"The objective has been evaluated \"\n",
            "/usr/local/lib/python3.7/dist-packages/skopt/optimizer/optimizer.py:449: UserWarning: The objective has been evaluated at this point before.\n",
            "  warnings.warn(\"The objective has been evaluated \"\n",
            "/usr/local/lib/python3.7/dist-packages/skopt/optimizer/optimizer.py:449: UserWarning: The objective has been evaluated at this point before.\n",
            "  warnings.warn(\"The objective has been evaluated \"\n",
            "/usr/local/lib/python3.7/dist-packages/skopt/optimizer/optimizer.py:449: UserWarning: The objective has been evaluated at this point before.\n",
            "  warnings.warn(\"The objective has been evaluated \"\n",
            "/usr/local/lib/python3.7/dist-packages/skopt/optimizer/optimizer.py:449: UserWarning: The objective has been evaluated at this point before.\n",
            "  warnings.warn(\"The objective has been evaluated \"\n",
            "/usr/local/lib/python3.7/dist-packages/skopt/optimizer/optimizer.py:449: UserWarning: The objective has been evaluated at this point before.\n",
            "  warnings.warn(\"The objective has been evaluated \"\n",
            "/usr/local/lib/python3.7/dist-packages/skopt/optimizer/optimizer.py:449: UserWarning: The objective has been evaluated at this point before.\n",
            "  warnings.warn(\"The objective has been evaluated \"\n",
            "/usr/local/lib/python3.7/dist-packages/skopt/optimizer/optimizer.py:449: UserWarning: The objective has been evaluated at this point before.\n",
            "  warnings.warn(\"The objective has been evaluated \"\n",
            "/usr/local/lib/python3.7/dist-packages/skopt/optimizer/optimizer.py:449: UserWarning: The objective has been evaluated at this point before.\n",
            "  warnings.warn(\"The objective has been evaluated \"\n"
          ]
        }
      ]
    },
    {
      "cell_type": "code",
      "metadata": {
        "id": "G4TaxxGW4G3h",
        "colab": {
          "base_uri": "https://localhost:8080/"
        },
        "outputId": "5858a0c2-4cbc-4b64-fc94-6356c8a01d83"
      },
      "source": [
        "print(f'Time needed for search: {bcv_sgdc_tp2 - bcv_sgdc_tp1}s')\n",
        "bcv_sgdc_bp = bcv_sgdc.best_params_\n",
        "print(bcv_sgdc_bp)"
      ],
      "execution_count": 107,
      "outputs": [
        {
          "output_type": "stream",
          "name": "stdout",
          "text": [
            "Time needed for search: 273.56990456581116s\n",
            "OrderedDict([('alpha', 0.0001), ('penalty', 'l1')])\n"
          ]
        }
      ]
    },
    {
      "cell_type": "code",
      "metadata": {
        "id": "MAlJFVX2wvfi"
      },
      "source": [
        "bcls_bcv_sgdc = SGDClassifier( \n",
        "                     loss='log',\n",
        "                     penalty=bcv_sgdc_bp['penalty'],\n",
        "                     alpha=bcv_sgdc_bp['alpha'],\n",
        "                     max_iter=1000\n",
        "                    )"
      ],
      "execution_count": 108,
      "outputs": []
    },
    {
      "cell_type": "code",
      "metadata": {
        "id": "8lR-xBh-xRqU"
      },
      "source": [
        "bcv_sgdc_tp3 = time.time()\n",
        "bcls_bcv_sgdc.fit(X_transformed_and_selected, labels)\n",
        "bcv_sgdc_tp4 = time.time()"
      ],
      "execution_count": 109,
      "outputs": []
    },
    {
      "cell_type": "code",
      "metadata": {
        "id": "K1-_8awAxlxo",
        "colab": {
          "base_uri": "https://localhost:8080/"
        },
        "outputId": "54dd9dcd-31f3-42b0-a78a-a592baf64aec"
      },
      "source": [
        "print(f'Time needed for computations: {bcv_sgdc_tp4 - bcv_sgdc_tp3}s')"
      ],
      "execution_count": 110,
      "outputs": [
        {
          "output_type": "stream",
          "name": "stdout",
          "text": [
            "Time needed for computations: 0.06177949905395508s\n"
          ]
        }
      ]
    },
    {
      "cell_type": "code",
      "metadata": {
        "id": "3QqNn4X2yTS5"
      },
      "source": [
        "sgdc_pipeline_for_se = Pipeline(\n",
        "    [\n",
        "        ('vectorizer', vectorizer),\n",
        "        ('tfidf', transformer),\n",
        "        ('selector', selector),\n",
        "        ('final_classifier', bcls_bcv_sgdc)\n",
        "    ]\n",
        ")"
      ],
      "execution_count": 111,
      "outputs": []
    },
    {
      "cell_type": "code",
      "metadata": {
        "id": "wv53glKgyTUA"
      },
      "source": [
        "probabilities = sgdc_pipeline_for_se.predict_proba(texts_for_testing)\n",
        "\n",
        "y_true_positives = list(map(lambda it: 1 if it == 'positive' else 0, labels_for_testing))\n",
        "y_score_positives = probabilities[:, classes_list.index('positive')]\n",
        "fpr_positives, tpr_positives, _, = roc_curve(y_true_positives, y_score_positives)\n",
        "\n",
        "y_true_negatives = list(map(lambda it: 1 if it == 'negative' else 0, labels_for_testing))\n",
        "y_score_negatives = probabilities[:, classes_list.index('negative')]\n",
        "fpr_negatives, tpr_negatives, _, = roc_curve(y_true_negatives, y_score_negatives)\n",
        "\n",
        "# y_true_neutrals = list(map(lambda it: 1 if it == 'neutral' else 0, labels_for_testing))\n",
        "# y_score_neutrals = probabilities[:, classes_list.index('neutral')]\n",
        "# fpr_neutrals, tpr_neutrals, _, = roc_curve(y_true_neutrals, y_score_neutrals)"
      ],
      "execution_count": 112,
      "outputs": []
    },
    {
      "cell_type": "code",
      "metadata": {
        "id": "KflXi6loyTUn",
        "colab": {
          "base_uri": "https://localhost:8080/",
          "height": 0
        },
        "outputId": "779dd013-ca0b-4b9f-b0c5-9c9c680c2463"
      },
      "source": [
        "plt.figure(4)\n",
        "plt.plot([0, 1], [0, 1], 'k--')\n",
        "plt.plot(fpr_positives, tpr_positives, label='Positive Sentiment')\n",
        "plt.plot(fpr_negatives, tpr_negatives, label='Negative Sentiment')\n",
        "# plt.plot(fpr_neutrals, tpr_neutrals, label='Neutral Sentiment')\n",
        "plt.xlabel('False positive rate')\n",
        "plt.ylabel('True positive rate')\n",
        "plt.title('ROC curve')\n",
        "plt.legend(loc='best')\n",
        "plt.show()"
      ],
      "execution_count": 113,
      "outputs": [
        {
          "output_type": "display_data",
          "data": {
            "image/png": "[encoded data removed]",
            "text/plain": [
              "<Figure size 432x288 with 1 Axes>"
            ]
          },
          "metadata": {
            "needs_background": "light"
          }
        }
      ]
    },
    {
      "cell_type": "code",
      "metadata": {
        "id": "zBaI1ws3yTVK",
        "colab": {
          "base_uri": "https://localhost:8080/"
        },
        "outputId": "0d86fdec-cf42-4dd7-ed9d-74846129ad3f"
      },
      "source": [
        "predicted_labels = sgdc_pipeline_for_se.predict(texts_for_testing)\n",
        "fmi_bcv_sgdc = f1_score(labels_for_testing, predicted_labels, average='micro')\n",
        "fma_bcv_sgdc = f1_score(labels_for_testing, predicted_labels, average='macro')\n",
        "print('F1-micro = {0:.6f}'.format(fmi_bcv_sgdc))\n",
        "print('F1-macro = {0:.6f}'.format(fma_bcv_sgdc))"
      ],
      "execution_count": 114,
      "outputs": [
        {
          "output_type": "stream",
          "name": "stdout",
          "text": [
            "F1-micro = 0.320000\n",
            "F1-macro = 0.302740\n"
          ]
        }
      ]
    },
    {
      "cell_type": "code",
      "metadata": {
        "id": "DeVNOBaoyTVm",
        "colab": {
          "base_uri": "https://localhost:8080/"
        },
        "outputId": "821b89f0-ba67-452c-e6b4-7eec1ed42abb"
      },
      "source": [
        "clsrep_bcv_sgdc = classification_report(labels_for_testing, predicted_labels, digits=6)\n",
        "print(clsrep_bcv_sgdc)"
      ],
      "execution_count": 115,
      "outputs": [
        {
          "output_type": "stream",
          "name": "stdout",
          "text": [
            "              precision    recall  f1-score   support\n",
            "\n",
            "    negative   0.896194  0.337679  0.490530       767\n",
            "     neutral   0.000000  0.000000  0.000000         0\n",
            "    positive   0.858586  0.275974  0.417690       308\n",
            "\n",
            "    accuracy                       0.320000      1075\n",
            "   macro avg   0.584927  0.204551  0.302740      1075\n",
            "weighted avg   0.885419  0.320000  0.469661      1075\n",
            "\n"
          ]
        },
        {
          "output_type": "stream",
          "name": "stderr",
          "text": [
            "/usr/local/lib/python3.7/dist-packages/sklearn/metrics/_classification.py:1308: UndefinedMetricWarning: Recall and F-score are ill-defined and being set to 0.0 in labels with no true samples. Use `zero_division` parameter to control this behavior.\n",
            "  _warn_prf(average, modifier, msg_start, len(result))\n",
            "/usr/local/lib/python3.7/dist-packages/sklearn/metrics/_classification.py:1308: UndefinedMetricWarning: Recall and F-score are ill-defined and being set to 0.0 in labels with no true samples. Use `zero_division` parameter to control this behavior.\n",
            "  _warn_prf(average, modifier, msg_start, len(result))\n",
            "/usr/local/lib/python3.7/dist-packages/sklearn/metrics/_classification.py:1308: UndefinedMetricWarning: Recall and F-score are ill-defined and being set to 0.0 in labels with no true samples. Use `zero_division` parameter to control this behavior.\n",
            "  _warn_prf(average, modifier, msg_start, len(result))\n"
          ]
        }
      ]
    },
    {
      "cell_type": "markdown",
      "metadata": {
        "id": "pGKjgVe4Ck3F"
      },
      "source": [
        "# Выводы"
      ]
    },
    {
      "cell_type": "code",
      "metadata": {
        "id": "x3FqMFQTCo9c",
        "colab": {
          "base_uri": "https://localhost:8080/"
        },
        "outputId": "e0c86e0f-f855-411c-960a-9497b2337576"
      },
      "source": [
        "scheme = '--- {}\\nSearch time: {}\\nComputation time: {}\\nF1-micro = {}\\nF1-macro = {}\\nReport:\\n{}\\n' \n",
        "print(scheme.format('gCV + LogReg', gcv_lr_tp2-gcv_lr_tp1, gcv_lr_tp4-gcv_lr_tp3, fmi_gcv_lr, fma_gcv_lr, clsrep_gcv_lr))\n",
        "print(scheme.format('gCV + SGDC', gcv_sgdc_tp2-gcv_sgdc_tp1, gcv_sgdc_tp4-gcv_sgdc_tp3, fmi_gcv_sgdc, fma_gcv_sgdc, clsrep_gcv_sgdc))\n",
        "print(scheme.format('bCV + LogReg', bcv_lr_tp2-bcv_lr_tp1, bcv_lr_tp4-bcv_lr_tp3, fmi_bcv_lr, fma_bcv_lr, clsrep_bcv_lr))\n",
        "print(scheme.format('bCV + SGDC', bcv_sgdc_tp2-bcv_sgdc_tp1, bcv_sgdc_tp4-bcv_sgdc_tp3, fmi_bcv_sgdc, fma_bcv_sgdc, clsrep_bcv_sgdc))"
      ],
      "execution_count": 116,
      "outputs": [
        {
          "output_type": "stream",
          "name": "stdout",
          "text": [
            "--- gCV + LogReg\n",
            "Search time: 6.260038137435913\n",
            "Computation time: 0.16365718841552734\n",
            "F1-micro = 0.45860465116279064\n",
            "F1-macro = 0.3702655822332126\n",
            "Report:\n",
            "              precision    recall  f1-score   support\n",
            "\n",
            "    negative   0.843478  0.505867  0.632437       767\n",
            "     neutral   0.000000  0.000000  0.000000         0\n",
            "    positive   0.801527  0.340909  0.478360       308\n",
            "\n",
            "    accuracy                       0.458605      1075\n",
            "   macro avg   0.548335  0.282259  0.370266      1075\n",
            "weighted avg   0.831459  0.458605  0.588292      1075\n",
            "\n",
            "\n",
            "--- gCV + SGDC\n",
            "Search time: 4.006702661514282\n",
            "Computation time: 0.09301304817199707\n",
            "F1-micro = 0.31534883720930235\n",
            "F1-macro = 0.2940590111642743\n",
            "Report:\n",
            "              precision    recall  f1-score   support\n",
            "\n",
            "    negative   0.906574  0.341591  0.496212       767\n",
            "     neutral   0.000000  0.000000  0.000000         0\n",
            "    positive   0.846154  0.250000  0.385965       308\n",
            "\n",
            "    accuracy                       0.315349      1075\n",
            "   macro avg   0.584243  0.197197  0.294059      1075\n",
            "weighted avg   0.889263  0.315349  0.464625      1075\n",
            "\n",
            "\n",
            "--- bCV + LogReg\n",
            "Search time: 51.99661087989807\n",
            "Computation time: 0.15207529067993164\n",
            "F1-micro = 0.4613953488372093\n",
            "F1-macro = 0.3711236380098355\n",
            "Report:\n",
            "              precision    recall  f1-score   support\n",
            "\n",
            "    negative   0.846652  0.511082  0.637398       767\n",
            "     neutral   0.000000  0.000000  0.000000         0\n",
            "    positive   0.806202  0.337662  0.475973       308\n",
            "\n",
            "    accuracy                       0.461395      1075\n",
            "   macro avg   0.550951  0.282915  0.371124      1075\n",
            "weighted avg   0.835063  0.461395  0.591148      1075\n",
            "\n",
            "\n",
            "--- bCV + SGDC\n",
            "Search time: 273.56990456581116\n",
            "Computation time: 0.06177949905395508\n",
            "F1-micro = 0.32\n",
            "F1-macro = 0.30274024024024027\n",
            "Report:\n",
            "              precision    recall  f1-score   support\n",
            "\n",
            "    negative   0.896194  0.337679  0.490530       767\n",
            "     neutral   0.000000  0.000000  0.000000         0\n",
            "    positive   0.858586  0.275974  0.417690       308\n",
            "\n",
            "    accuracy                       0.320000      1075\n",
            "   macro avg   0.584927  0.204551  0.302740      1075\n",
            "weighted avg   0.885419  0.320000  0.469661      1075\n",
            "\n",
            "\n"
          ]
        }
      ]
    },
    {
      "cell_type": "markdown",
      "metadata": {
        "id": "-KPMKa8tP6q7"
      },
      "source": [
        "~ Выводы ~\n",
        "По полученным результататм выходит, что\n",
        "- регрессия всегда лучше SGDC\n",
        "- качественной разницы между алгоритмами перебора (сетка и байес) нет\n",
        "- по времени выигрывает перебор по сетке"
      ]
    }
  ]
}